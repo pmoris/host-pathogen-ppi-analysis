{
 "cells": [
  {
   "cell_type": "markdown",
   "metadata": {
    "toc": true
   },
   "source": [
    "<h1>Table of Contents<span class=\"tocSkip\"></span></h1>\n",
    "<div class=\"toc\"><ul class=\"toc-item\"><li><span><a href=\"#Pairwise-association-mining\" data-toc-modified-id=\"Pairwise-association-mining-1\"><span class=\"toc-item-num\">1&nbsp;&nbsp;</span>Pairwise association mining</a></span><ul class=\"toc-item\"><li><span><a href=\"#Sets-or-lists-of-annotation-terms-per-protein\" data-toc-modified-id=\"Sets-or-lists-of-annotation-terms-per-protein-1.1\"><span class=\"toc-item-num\">1.1&nbsp;&nbsp;</span>Sets or lists of annotation terms per protein</a></span></li><li><span><a href=\"#Generating-all-possible-pairwise-combinations-(that-are-present)\" data-toc-modified-id=\"Generating-all-possible-pairwise-combinations-(that-are-present)-1.2\"><span class=\"toc-item-num\">1.2&nbsp;&nbsp;</span>Generating all possible pairwise combinations (that are present)</a></span></li><li><span><a href=\"#Create-all-possible-pairs-=>-high-memory-usage-and-unnecessary-pairs!\" data-toc-modified-id=\"Create-all-possible-pairs-=>-high-memory-usage-and-unnecessary-pairs!-1.3\"><span class=\"toc-item-num\">1.3&nbsp;&nbsp;</span>Create all possible pairs =&gt; high memory usage and unnecessary pairs!</a></span></li><li><span><a href=\"#Merging-annotations\" data-toc-modified-id=\"Merging-annotations-1.4\"><span class=\"toc-item-num\">1.4&nbsp;&nbsp;</span>Merging annotations</a></span></li><li><span><a href=\"#Propagate-pairs\" data-toc-modified-id=\"Propagate-pairs-1.5\"><span class=\"toc-item-num\">1.5&nbsp;&nbsp;</span>Propagate pairs</a></span><ul class=\"toc-item\"><li><span><a href=\"#Store-propagated-pairs-as-sets\" data-toc-modified-id=\"Store-propagated-pairs-as-sets-1.5.1\"><span class=\"toc-item-num\">1.5.1&nbsp;&nbsp;</span>Store propagated pairs as sets</a></span></li><li><span><a href=\"#Store-propagated-pairs-as-lists\" data-toc-modified-id=\"Store-propagated-pairs-as-lists-1.5.2\"><span class=\"toc-item-num\">1.5.2&nbsp;&nbsp;</span>Store propagated pairs as lists</a></span></li><li><span><a href=\"#Store-propagated-pairs-as-sorted-lists\" data-toc-modified-id=\"Store-propagated-pairs-as-sorted-lists-1.5.3\"><span class=\"toc-item-num\">1.5.3&nbsp;&nbsp;</span>Store propagated pairs as sorted lists</a></span></li><li><span><a href=\"#Propagated-pairs-dictionary-memory-requirements\" data-toc-modified-id=\"Propagated-pairs-dictionary-memory-requirements-1.5.4\"><span class=\"toc-item-num\">1.5.4&nbsp;&nbsp;</span>Propagated pairs dictionary memory requirements</a></span></li></ul></li><li><span><a href=\"#Pairwise-assoc\" data-toc-modified-id=\"Pairwise-assoc-1.6\"><span class=\"toc-item-num\">1.6&nbsp;&nbsp;</span>Pairwise assoc</a></span><ul class=\"toc-item\"><li><span><a href=\"#1-pre-compute-propagated-pairs\" data-toc-modified-id=\"1-pre-compute-propagated-pairs-1.6.1\"><span class=\"toc-item-num\">1.6.1&nbsp;&nbsp;</span>1 pre-compute propagated pairs</a></span><ul class=\"toc-item\"><li><span><a href=\"#Pre-computer-+-pairwise_dict-with-sets-+-no-convert-to-set-during-loop\" data-toc-modified-id=\"Pre-computer-+-pairwise_dict-with-sets-+-no-convert-to-set-during-loop-1.6.1.1\"><span class=\"toc-item-num\">1.6.1.1&nbsp;&nbsp;</span>Pre-computer + pairwise_dict with sets + no convert to set during loop</a></span></li><li><span><a href=\"#Pre-computer-+-pairwise_dict-with-lists-+-convert-to-set-during-loop\" data-toc-modified-id=\"Pre-computer-+-pairwise_dict-with-lists-+-convert-to-set-during-loop-1.6.1.2\"><span class=\"toc-item-num\">1.6.1.2&nbsp;&nbsp;</span>Pre-computer + pairwise_dict with lists + convert to set during loop</a></span></li></ul></li><li><span><a href=\"#3-on-the-fly-calculation-of-propagated-pairs\" data-toc-modified-id=\"3-on-the-fly-calculation-of-propagated-pairs-1.6.2\"><span class=\"toc-item-num\">1.6.2&nbsp;&nbsp;</span>3 on the fly calculation of propagated pairs</a></span></li><li><span><a href=\"#Generator\" data-toc-modified-id=\"Generator-1.6.3\"><span class=\"toc-item-num\">1.6.3&nbsp;&nbsp;</span>Generator</a></span></li></ul></li><li><span><a href=\"#Effect-of-conditional-inside-versus-outside-loops\" data-toc-modified-id=\"Effect-of-conditional-inside-versus-outside-loops-1.7\"><span class=\"toc-item-num\">1.7&nbsp;&nbsp;</span>Effect of conditional inside versus outside loops</a></span></li></ul></li></ul></div>"
   ]
  },
  {
   "cell_type": "markdown",
   "metadata": {},
   "source": [
    "# Pairwise association mining"
   ]
  },
  {
   "cell_type": "code",
   "execution_count": 1,
   "metadata": {},
   "outputs": [
    {
     "data": {
      "text/plain": [
       "'/media/pieter/DATA/Wetenschap/Doctoraat/projects/host-pathogen-ppi-analysis'"
      ]
     },
     "execution_count": 1,
     "metadata": {},
     "output_type": "execute_result"
    }
   ],
   "source": [
    "import ast\n",
    "import numpy as np\n",
    "import pandas as pd\n",
    "import itertools\n",
    "import sys\n",
    "\n",
    "from pathlib import Path\n",
    "\n",
    "from goscripts import obo_tools\n",
    "from phppipy.mining import pairwise\n",
    "\n",
    "import os\n",
    "os.chdir('/media/pieter/DATA/Wetenschap/Doctoraat/projects/host-pathogen-ppi-analysis')\n",
    "os.getcwd()"
   ]
  },
  {
   "cell_type": "code",
   "execution_count": 2,
   "metadata": {},
   "outputs": [],
   "source": [
    "# https://goshippo.com/blog/measure-real-size-any-python-object/\n",
    "\n",
    "def get_size(obj, seen=None):\n",
    "    \"\"\"Recursively finds size of objects\"\"\"\n",
    "    size = sys.getsizeof(obj)\n",
    "    if seen is None:\n",
    "        seen = set()\n",
    "    obj_id = id(obj)\n",
    "    if obj_id in seen:\n",
    "        return 0\n",
    "    # Important mark as seen *before* entering recursion to gracefully handle\n",
    "    # self-referential objects\n",
    "    seen.add(obj_id)\n",
    "    if isinstance(obj, dict):\n",
    "        size += sum([get_size(v, seen) for v in obj.values()])\n",
    "        size += sum([get_size(k, seen) for k in obj.keys()])\n",
    "    elif hasattr(obj, '__dict__'):\n",
    "        size += get_size(obj.__dict__, seen)\n",
    "    elif hasattr(obj, '__iter__') and not isinstance(obj, (str, bytes, bytearray)):\n",
    "        size += sum([get_size(i, seen) for i in obj])\n",
    "    return size"
   ]
  },
  {
   "cell_type": "code",
   "execution_count": 3,
   "metadata": {},
   "outputs": [
    {
     "name": "stdout",
     "output_type": "stream",
     "text": [
      "PPIs were imported from data/interim/35237/ppi_data/ppi-annotations.tsv\n",
      "\n"
     ]
    }
   ],
   "source": [
    "input_file = \"data/interim//35237/ppi_data/ppi-annotations.tsv\"\n",
    "obo_file = \"data/raw/go_data/go.obo\"\n",
    "\n",
    "ppi_file = Path(input_file)\n",
    "ppi_df = pd.read_csv(ppi_file, sep='\\t', header=0)\n",
    "print('PPIs were imported from {}\\n'.format(ppi_file))"
   ]
  },
  {
   "cell_type": "code",
   "execution_count": 4,
   "metadata": {},
   "outputs": [],
   "source": [
    "for i in ['GO_xref_A', 'GO_xref_B', 'interpro_xref_A', 'interpro_xref_B']:\n",
    "    ppi_df.loc[~ppi_df[i].isnull(), i] = ppi_df.loc[~ppi_df[i].isnull(),\n",
    "                                                    i].map(ast.literal_eval)\n",
    "    \n",
    "merged_annotations_A = pairwise.merge_annotations(\n",
    "    ppi_df, ['GO_xref_A', 'interpro_xref_A'])\n",
    "labeled_merged_annotations_A = pairwise.add_hp_label(merged_annotations_A, 'h')\n",
    "ppi_df['annotations_A'] = labeled_merged_annotations_A\n",
    "\n",
    "merged_annotations_B = pairwise.merge_annotations(\n",
    "    ppi_df, ['GO_xref_B', 'interpro_xref_B'])\n",
    "labeled_merged_annotations_B = pairwise.add_hp_label(merged_annotations_B, 'p')\n",
    "ppi_df['annotations_B'] = labeled_merged_annotations_B"
   ]
  },
  {
   "cell_type": "code",
   "execution_count": 5,
   "metadata": {},
   "outputs": [
    {
     "data": {
      "text/plain": [
       "Index(['aliases_A', 'aliases_B', 'alt_identifiers_A', 'alt_identifiers_B',\n",
       "       'author', 'confidence_score', 'detection_method', 'display_id_A',\n",
       "       'display_id_B', 'interaction_identifiers', 'interaction_type', 'origin',\n",
       "       'pathogen', 'publication', 'source_database_ids', 'taxid_A', 'taxid_B',\n",
       "       'xref_A', 'xref_B', 'taxid_name_A', 'taxid_name_B',\n",
       "       'xref_partners_sorted', 'GO_xref_A', 'GO_xref_B', 'interpro_xref_A',\n",
       "       'interpro_xref_B', 'annotations_A', 'annotations_B'],\n",
       "      dtype='object')"
      ]
     },
     "execution_count": 5,
     "metadata": {},
     "output_type": "execute_result"
    }
   ],
   "source": [
    "ppi_df.columns"
   ]
  },
  {
   "cell_type": "code",
   "execution_count": 6,
   "metadata": {},
   "outputs": [
    {
     "name": "stdout",
     "output_type": "stream",
     "text": [
      "Retrieved 47179 GO terms from /media/pieter/DATA/Wetenschap/Doctoraat/projects/host-pathogen-ppi-analysis/data/raw/go_data/go.obo \n",
      "\n",
      "Adding secondary GO identifiers...\n",
      "\n"
     ]
    }
   ],
   "source": [
    "# create GO dictionary for propagation\n",
    "obo_path = Path(obo_file)\n",
    "go_dict = obo_tools.importOBO(obo_path, ignore_part_of=False)\n",
    "obo_tools.buildGOtree(\n",
    "    go_dict, root_nodes=['GO:0008150', 'GO:0005575', 'GO:0003674'])"
   ]
  },
  {
   "cell_type": "code",
   "execution_count": 7,
   "metadata": {},
   "outputs": [],
   "source": [
    "columns = ['annotations_A', 'annotations_B']\n",
    "column_A = columns[0]\n",
    "column_B = columns[1]"
   ]
  },
  {
   "cell_type": "markdown",
   "metadata": {},
   "source": [
    "## Sets or lists of annotation terms per protein"
   ]
  },
  {
   "cell_type": "markdown",
   "metadata": {},
   "source": [
    "Almost a 10x difference in size of sets compared to lists."
   ]
  },
  {
   "cell_type": "code",
   "execution_count": 8,
   "metadata": {
    "scrolled": false
   },
   "outputs": [
    {
     "data": {
      "text/plain": [
       "27436061"
      ]
     },
     "execution_count": 8,
     "metadata": {},
     "output_type": "execute_result"
    }
   ],
   "source": [
    "get_size(ppi_df['annotations_A'])"
   ]
  },
  {
   "cell_type": "code",
   "execution_count": 9,
   "metadata": {},
   "outputs": [
    {
     "data": {
      "text/plain": [
       "5521869"
      ]
     },
     "execution_count": 9,
     "metadata": {},
     "output_type": "execute_result"
    }
   ],
   "source": [
    "get_size(ppi_df['annotations_A'].map(list))"
   ]
  },
  {
   "cell_type": "code",
   "execution_count": 10,
   "metadata": {
    "scrolled": true
   },
   "outputs": [
    {
     "data": {
      "text/plain": [
       "23373395"
      ]
     },
     "execution_count": 10,
     "metadata": {},
     "output_type": "execute_result"
    }
   ],
   "source": [
    "get_size(ppi_df['GO_xref_A'])"
   ]
  },
  {
   "cell_type": "code",
   "execution_count": 11,
   "metadata": {},
   "outputs": [
    {
     "name": "stdout",
     "output_type": "stream",
     "text": [
      "20.2 ms ± 2.77 ms per loop (mean ± std. dev. of 7 runs, 10 loops each)\n",
      "21.6 ms ± 4.25 ms per loop (mean ± std. dev. of 7 runs, 10 loops each)\n"
     ]
    }
   ],
   "source": [
    "%timeit ppi_df['GO_xref_A'].map(list)\n",
    "%timeit ppi_df['GO_xref_A'].apply(list)"
   ]
  },
  {
   "cell_type": "code",
   "execution_count": 12,
   "metadata": {},
   "outputs": [
    {
     "data": {
      "text/plain": [
       "4918089"
      ]
     },
     "execution_count": 12,
     "metadata": {},
     "output_type": "execute_result"
    }
   ],
   "source": [
    "get_size(ppi_df['GO_xref_A'].map(list))"
   ]
  },
  {
   "cell_type": "markdown",
   "metadata": {},
   "source": [
    "## Generating all possible pairwise combinations (that are present)"
   ]
  },
  {
   "cell_type": "markdown",
   "metadata": {},
   "source": [
    "The cartesian product cannot contain duplicates of the form `(GO:0016197, GO:0055036) vs (GO:0055036, GO:0016197)`. \n",
    "\n",
    "Consequently, calling `set()` on the `itertools.product()` output is not required. A sort can optionally be preformed to equalise different rows.\n",
    "\n",
    "Storing sets inside a pandas dataframe increases the memory requirements, so a list is prefered."
   ]
  },
  {
   "cell_type": "code",
   "execution_count": 13,
   "metadata": {
    "scrolled": true
   },
   "outputs": [
    {
     "data": {
      "text/plain": [
       "True"
      ]
     },
     "execution_count": 13,
     "metadata": {},
     "output_type": "execute_result"
    }
   ],
   "source": [
    "all(ppi_df[columns].apply(lambda x: sorted(list(set([i for i in itertools.product(x[column_A], x[column_B])]))),axis=1) == ppi_df[columns].apply(lambda x: sorted(list([i for i in itertools.product(x[column_A], x[column_B])])),axis=1))"
   ]
  },
  {
   "cell_type": "code",
   "execution_count": 14,
   "metadata": {},
   "outputs": [
    {
     "data": {
      "text/plain": [
       "226787095"
      ]
     },
     "execution_count": 14,
     "metadata": {},
     "output_type": "execute_result"
    }
   ],
   "source": [
    "get_size(ppi_df[columns].apply(lambda x: set([i for i in itertools.product(x[column_A], x[column_B])]),axis=1))"
   ]
  },
  {
   "cell_type": "code",
   "execution_count": 15,
   "metadata": {},
   "outputs": [
    {
     "data": {
      "text/plain": [
       "37543503"
      ]
     },
     "execution_count": 15,
     "metadata": {},
     "output_type": "execute_result"
    }
   ],
   "source": [
    "get_size(ppi_df[columns].apply(lambda x: [i for i in itertools.product(x[column_A], x[column_B])],axis=1))"
   ]
  },
  {
   "cell_type": "markdown",
   "metadata": {},
   "source": [
    "Sorting has a considerable time impact."
   ]
  },
  {
   "cell_type": "code",
   "execution_count": 16,
   "metadata": {},
   "outputs": [
    {
     "name": "stdout",
     "output_type": "stream",
     "text": [
      "867 ms ± 91.4 ms per loop (mean ± std. dev. of 7 runs, 1 loop each)\n"
     ]
    }
   ],
   "source": [
    "%timeit ppi_df[columns].apply(lambda x: [i for i in itertools.product(x[column_A], x[column_B])],axis=1)"
   ]
  },
  {
   "cell_type": "code",
   "execution_count": 17,
   "metadata": {},
   "outputs": [
    {
     "name": "stdout",
     "output_type": "stream",
     "text": [
      "2.44 s ± 476 ms per loop (mean ± std. dev. of 7 runs, 1 loop each)\n"
     ]
    }
   ],
   "source": [
    "%timeit ppi_df[columns].apply(lambda x: sorted([i for i in itertools.product(x[column_A], x[column_B])]),axis=1)"
   ]
  },
  {
   "cell_type": "markdown",
   "metadata": {},
   "source": [
    "The cartesian product operates equally fast on lists and sets of annotation terms (likely due to the limited size per row)."
   ]
  },
  {
   "cell_type": "code",
   "execution_count": 18,
   "metadata": {},
   "outputs": [
    {
     "name": "stdout",
     "output_type": "stream",
     "text": [
      "1.23 s ± 88.6 ms per loop (mean ± std. dev. of 7 runs, 1 loop each)\n",
      "1.17 s ± 62.1 ms per loop (mean ± std. dev. of 7 runs, 1 loop each)\n"
     ]
    }
   ],
   "source": [
    "ppi_df['annotations_A_list'] = ppi_df['annotations_A'].map(list)\n",
    "ppi_df['annotations_B_list'] = ppi_df['annotations_B'].map(list)\n",
    "%timeit ppi_df[columns].apply(lambda x: set([i for i in itertools.product(x[column_A], x[column_B])]),axis=1)\n",
    "%timeit ppi_df[['annotations_A_list', 'annotations_B_list']].apply(lambda x: set([i for i in itertools.product(x['annotations_A_list'], x['annotations_B_list'])]),axis=1)"
   ]
  },
  {
   "cell_type": "code",
   "execution_count": 19,
   "metadata": {
    "scrolled": true
   },
   "outputs": [
    {
     "data": {
      "text/plain": [
       "{'h@GO:0000166',\n",
       " 'h@GO:0003723',\n",
       " 'h@GO:0005515',\n",
       " 'h@GO:0005524',\n",
       " 'h@GO:0005737',\n",
       " 'h@GO:0005829',\n",
       " 'h@GO:0005832',\n",
       " 'h@GO:0005874',\n",
       " 'h@GO:0006457',\n",
       " 'h@GO:0006458',\n",
       " 'h@GO:0032212',\n",
       " 'h@GO:0050821',\n",
       " 'h@GO:0051082',\n",
       " 'h@GO:0061077',\n",
       " 'h@GO:0070062',\n",
       " 'h@GO:0071987',\n",
       " 'h@GO:1904851',\n",
       " 'h@GO:1904871',\n",
       " 'h@GO:1904874',\n",
       " 'h@IPR002194',\n",
       " 'h@IPR002423',\n",
       " 'h@IPR012722',\n",
       " 'h@IPR017998',\n",
       " 'h@IPR027409',\n",
       " 'h@IPR027410',\n",
       " 'h@IPR027413'}"
      ]
     },
     "execution_count": 19,
     "metadata": {},
     "output_type": "execute_result"
    }
   ],
   "source": [
    "ppi_df['annotations_A'][0]"
   ]
  },
  {
   "cell_type": "code",
   "execution_count": 20,
   "metadata": {
    "scrolled": true
   },
   "outputs": [
    {
     "data": {
      "text/plain": [
       "['h@GO:0005524',\n",
       " 'h@GO:0070062',\n",
       " 'h@GO:0005737',\n",
       " 'h@IPR027413',\n",
       " 'h@IPR027410',\n",
       " 'h@IPR017998',\n",
       " 'h@GO:0005832',\n",
       " 'h@GO:0006457',\n",
       " 'h@GO:1904874',\n",
       " 'h@GO:1904851',\n",
       " 'h@GO:0003723',\n",
       " 'h@IPR002423',\n",
       " 'h@GO:0050821',\n",
       " 'h@GO:0000166',\n",
       " 'h@GO:0071987',\n",
       " 'h@GO:0005874',\n",
       " 'h@GO:0051082',\n",
       " 'h@GO:0061077',\n",
       " 'h@GO:0006458',\n",
       " 'h@GO:0005829',\n",
       " 'h@IPR002194',\n",
       " 'h@IPR027409',\n",
       " 'h@GO:0032212',\n",
       " 'h@GO:1904871',\n",
       " 'h@GO:0005515',\n",
       " 'h@IPR012722']"
      ]
     },
     "execution_count": 20,
     "metadata": {},
     "output_type": "execute_result"
    }
   ],
   "source": [
    "ppi_df['annotations_A_list'][0]"
   ]
  },
  {
   "cell_type": "code",
   "execution_count": 21,
   "metadata": {
    "scrolled": true
   },
   "outputs": [
    {
     "data": {
      "text/plain": [
       "[('h@GO:0005524', 'p@GO:0016021'),\n",
       " ('h@GO:0005524', 'p@GO:0016020'),\n",
       " ('h@GO:0005524', 'p@IPR036157'),\n",
       " ('h@GO:0005524', 'p@IPR029054'),\n",
       " ('h@GO:0070062', 'p@GO:0016021'),\n",
       " ('h@GO:0070062', 'p@GO:0016020'),\n",
       " ('h@GO:0070062', 'p@IPR036157'),\n",
       " ('h@GO:0070062', 'p@IPR029054'),\n",
       " ('h@GO:0005737', 'p@GO:0016021'),\n",
       " ('h@GO:0005737', 'p@GO:0016020'),\n",
       " ('h@GO:0005737', 'p@IPR036157'),\n",
       " ('h@GO:0005737', 'p@IPR029054'),\n",
       " ('h@IPR027413', 'p@GO:0016021'),\n",
       " ('h@IPR027413', 'p@GO:0016020'),\n",
       " ('h@IPR027413', 'p@IPR036157'),\n",
       " ('h@IPR027413', 'p@IPR029054'),\n",
       " ('h@IPR027410', 'p@GO:0016021'),\n",
       " ('h@IPR027410', 'p@GO:0016020'),\n",
       " ('h@IPR027410', 'p@IPR036157'),\n",
       " ('h@IPR027410', 'p@IPR029054'),\n",
       " ('h@IPR017998', 'p@GO:0016021'),\n",
       " ('h@IPR017998', 'p@GO:0016020'),\n",
       " ('h@IPR017998', 'p@IPR036157'),\n",
       " ('h@IPR017998', 'p@IPR029054'),\n",
       " ('h@GO:0005832', 'p@GO:0016021'),\n",
       " ('h@GO:0005832', 'p@GO:0016020'),\n",
       " ('h@GO:0005832', 'p@IPR036157'),\n",
       " ('h@GO:0005832', 'p@IPR029054'),\n",
       " ('h@GO:0006457', 'p@GO:0016021'),\n",
       " ('h@GO:0006457', 'p@GO:0016020'),\n",
       " ('h@GO:0006457', 'p@IPR036157'),\n",
       " ('h@GO:0006457', 'p@IPR029054'),\n",
       " ('h@GO:1904874', 'p@GO:0016021'),\n",
       " ('h@GO:1904874', 'p@GO:0016020'),\n",
       " ('h@GO:1904874', 'p@IPR036157'),\n",
       " ('h@GO:1904874', 'p@IPR029054'),\n",
       " ('h@GO:1904851', 'p@GO:0016021'),\n",
       " ('h@GO:1904851', 'p@GO:0016020'),\n",
       " ('h@GO:1904851', 'p@IPR036157'),\n",
       " ('h@GO:1904851', 'p@IPR029054'),\n",
       " ('h@GO:0003723', 'p@GO:0016021'),\n",
       " ('h@GO:0003723', 'p@GO:0016020'),\n",
       " ('h@GO:0003723', 'p@IPR036157'),\n",
       " ('h@GO:0003723', 'p@IPR029054'),\n",
       " ('h@IPR002423', 'p@GO:0016021'),\n",
       " ('h@IPR002423', 'p@GO:0016020'),\n",
       " ('h@IPR002423', 'p@IPR036157'),\n",
       " ('h@IPR002423', 'p@IPR029054'),\n",
       " ('h@GO:0050821', 'p@GO:0016021'),\n",
       " ('h@GO:0050821', 'p@GO:0016020'),\n",
       " ('h@GO:0050821', 'p@IPR036157'),\n",
       " ('h@GO:0050821', 'p@IPR029054'),\n",
       " ('h@GO:0000166', 'p@GO:0016021'),\n",
       " ('h@GO:0000166', 'p@GO:0016020'),\n",
       " ('h@GO:0000166', 'p@IPR036157'),\n",
       " ('h@GO:0000166', 'p@IPR029054'),\n",
       " ('h@GO:0071987', 'p@GO:0016021'),\n",
       " ('h@GO:0071987', 'p@GO:0016020'),\n",
       " ('h@GO:0071987', 'p@IPR036157'),\n",
       " ('h@GO:0071987', 'p@IPR029054'),\n",
       " ('h@GO:0005874', 'p@GO:0016021'),\n",
       " ('h@GO:0005874', 'p@GO:0016020'),\n",
       " ('h@GO:0005874', 'p@IPR036157'),\n",
       " ('h@GO:0005874', 'p@IPR029054'),\n",
       " ('h@GO:0051082', 'p@GO:0016021'),\n",
       " ('h@GO:0051082', 'p@GO:0016020'),\n",
       " ('h@GO:0051082', 'p@IPR036157'),\n",
       " ('h@GO:0051082', 'p@IPR029054'),\n",
       " ('h@GO:0061077', 'p@GO:0016021'),\n",
       " ('h@GO:0061077', 'p@GO:0016020'),\n",
       " ('h@GO:0061077', 'p@IPR036157'),\n",
       " ('h@GO:0061077', 'p@IPR029054'),\n",
       " ('h@GO:0006458', 'p@GO:0016021'),\n",
       " ('h@GO:0006458', 'p@GO:0016020'),\n",
       " ('h@GO:0006458', 'p@IPR036157'),\n",
       " ('h@GO:0006458', 'p@IPR029054'),\n",
       " ('h@GO:0005829', 'p@GO:0016021'),\n",
       " ('h@GO:0005829', 'p@GO:0016020'),\n",
       " ('h@GO:0005829', 'p@IPR036157'),\n",
       " ('h@GO:0005829', 'p@IPR029054'),\n",
       " ('h@IPR002194', 'p@GO:0016021'),\n",
       " ('h@IPR002194', 'p@GO:0016020'),\n",
       " ('h@IPR002194', 'p@IPR036157'),\n",
       " ('h@IPR002194', 'p@IPR029054'),\n",
       " ('h@IPR027409', 'p@GO:0016021'),\n",
       " ('h@IPR027409', 'p@GO:0016020'),\n",
       " ('h@IPR027409', 'p@IPR036157'),\n",
       " ('h@IPR027409', 'p@IPR029054'),\n",
       " ('h@GO:0032212', 'p@GO:0016021'),\n",
       " ('h@GO:0032212', 'p@GO:0016020'),\n",
       " ('h@GO:0032212', 'p@IPR036157'),\n",
       " ('h@GO:0032212', 'p@IPR029054'),\n",
       " ('h@GO:1904871', 'p@GO:0016021'),\n",
       " ('h@GO:1904871', 'p@GO:0016020'),\n",
       " ('h@GO:1904871', 'p@IPR036157'),\n",
       " ('h@GO:1904871', 'p@IPR029054'),\n",
       " ('h@GO:0005515', 'p@GO:0016021'),\n",
       " ('h@GO:0005515', 'p@GO:0016020'),\n",
       " ('h@GO:0005515', 'p@IPR036157'),\n",
       " ('h@GO:0005515', 'p@IPR029054'),\n",
       " ('h@IPR012722', 'p@GO:0016021'),\n",
       " ('h@IPR012722', 'p@GO:0016020'),\n",
       " ('h@IPR012722', 'p@IPR036157'),\n",
       " ('h@IPR012722', 'p@IPR029054')]"
      ]
     },
     "execution_count": 21,
     "metadata": {},
     "output_type": "execute_result"
    }
   ],
   "source": [
    "list(itertools.product(ppi_df['annotations_A_list'][0], ppi_df['annotations_B_list'][0]))"
   ]
  },
  {
   "cell_type": "code",
   "execution_count": 22,
   "metadata": {},
   "outputs": [
    {
     "data": {
      "text/plain": [
       "['annotations_A', 'annotations_B']"
      ]
     },
     "execution_count": 22,
     "metadata": {},
     "output_type": "execute_result"
    }
   ],
   "source": [
    "columns"
   ]
  },
  {
   "cell_type": "markdown",
   "metadata": {},
   "source": [
    "Not calling `set()` on the final result also gives a (very) small speedup."
   ]
  },
  {
   "cell_type": "code",
   "execution_count": 23,
   "metadata": {},
   "outputs": [
    {
     "name": "stdout",
     "output_type": "stream",
     "text": [
      "1.18 s ± 126 ms per loop (mean ± std. dev. of 7 runs, 1 loop each)\n",
      "876 ms ± 67.3 ms per loop (mean ± std. dev. of 7 runs, 1 loop each)\n"
     ]
    }
   ],
   "source": [
    "%timeit ppi_df[columns].apply(lambda x: set([i for i in itertools.product(x[column_A], x[column_B])]),axis=1)\n",
    "%timeit ppi_df[columns].apply(lambda x: [i for i in itertools.product(x[column_A], x[column_B])],axis=1)"
   ]
  },
  {
   "cell_type": "code",
   "execution_count": 24,
   "metadata": {},
   "outputs": [],
   "source": [
    "ppi_df['annotation_pairs_set'] = ppi_df[columns].apply(lambda x: set([i for i in itertools.product(x[column_A], x[column_B])]),axis=1)\n",
    "ppi_df['annotation_pairs'] = ppi_df[columns].apply(lambda x: [i for i in itertools.product(x[column_A], x[column_B])],axis=1)"
   ]
  },
  {
   "cell_type": "code",
   "execution_count": 25,
   "metadata": {
    "scrolled": true
   },
   "outputs": [
    {
     "data": {
      "text/plain": [
       "0        [(h@GO:0005524, p@GO:0016021), (h@GO:0005524, ...\n",
       "1        [(h@GO:0006924, p@GO:0006351), (h@GO:0006924, ...\n",
       "2        [(h@GO:0006272, p@GO:0034214), (h@GO:0006272, ...\n",
       "3        [(h@IPR000504, p@GO:0006355), (h@IPR000504, p@...\n",
       "4        [(h@GO:0070062, p@GO:0006414), (h@GO:0070062, ...\n",
       "5        [(h@GO:0070062, p@GO:0006355), (h@GO:0070062, ...\n",
       "6        [(h@GO:0003677, p@GO:0032508), (h@GO:0003677, ...\n",
       "7        [(h@GO:0003677, p@GO:0032508), (h@GO:0003677, ...\n",
       "8        [(h@GO:0003677, p@GO:0034214), (h@GO:0003677, ...\n",
       "9        [(h@GO:0005737, p@GO:0032508), (h@GO:0005737, ...\n",
       "10       [(h@GO:0003677, p@GO:0034214), (h@GO:0003677, ...\n",
       "11       [(h@GO:0003684, p@GO:0003688), (h@GO:0003684, ...\n",
       "12       [(h@GO:0006272, p@GO:0003688), (h@GO:0006272, ...\n",
       "13       [(h@GO:0030866, p@GO:0039548), (h@GO:0030866, ...\n",
       "14       [(h@IPR000387, p@GO:0039548), (h@IPR000387, p@...\n",
       "15       [(h@GO:0000976, p@GO:0003688), (h@GO:0000976, ...\n",
       "16       [(h@GO:0005737, p@IPR038575), (h@GO:0005737, p...\n",
       "17       [(h@GO:0003700, p@GO:0030683), (h@GO:0003700, ...\n",
       "18       [(h@GO:0006366, p@GO:0006351), (h@GO:0006366, ...\n",
       "19       [(h@GO:0006366, p@GO:0030683), (h@GO:0006366, ...\n",
       "20       [(h@GO:0016020, p@IPR011207), (h@GO:0016020, p...\n",
       "21       [(h@GO:0016020, p@IPR011207), (h@GO:0016020, p...\n",
       "22       [(h@GO:2000271, p@IPR011207), (h@GO:2000271, p...\n",
       "23       [(h@GO:0005694, p@GO:0003688), (h@GO:0005694, ...\n",
       "24       [(h@GO:0005694, p@GO:0003688), (h@GO:0005694, ...\n",
       "25       [(h@GO:0003700, p@GO:0003688), (h@GO:0003700, ...\n",
       "26       [(h@GO:0005737, p@GO:0016021), (h@GO:0005737, ...\n",
       "27       [(h@GO:0005694, p@GO:0016021), (h@GO:0005694, ...\n",
       "28       [(h@GO:0003674, p@GO:0016021), (h@GO:0003674, ...\n",
       "29       [(h@GO:0005524, p@GO:0039548), (h@GO:0005524, ...\n",
       "                               ...                        \n",
       "14655    [(h@IPR000571, p@IPR004290), (h@GO:0046872, p@...\n",
       "14656    [(h@GO:0005737, p@IPR004289), (h@GO:0050421, p...\n",
       "14657                                                   []\n",
       "14658    [(h@GO:0005524, p@GO:0006355), (h@GO:0005524, ...\n",
       "14659    [(h@GO:0005737, p@GO:0006355), (h@GO:0005737, ...\n",
       "14660    [(h@GO:0030176, p@GO:0075606), (h@GO:0030176, ...\n",
       "14661    [(h@IPR014001, p@GO:0042025), (h@IPR014001, p@...\n",
       "14662    [(h@IPR003006, p@GO:0039548), (h@IPR003006, p@...\n",
       "14663    [(h@IPR002379, p@GO:0016021), (h@IPR002379, p@...\n",
       "14664    [(h@GO:0001937, p@GO:0016791), (h@GO:0001937, ...\n",
       "14665    [(h@GO:0070062, p@GO:0016021), (h@GO:0070062, ...\n",
       "14666                                                   []\n",
       "14667                                                   []\n",
       "14668    [(h@GO:0005622, p@IPR007611), (h@GO:0005622, p...\n",
       "14669    [(h@IPR004127, p@GO:0075606), (h@IPR004127, p@...\n",
       "14670    [(h@GO:0043398, p@GO:0042025), (h@GO:0043398, ...\n",
       "14671    [(h@GO:0003677, p@IPR007611), (h@GO:0003677, p...\n",
       "14672    [(h@GO:0005737, p@GO:0006351), (h@GO:0005737, ...\n",
       "14673    [(h@GO:0070062, p@IPR007611), (h@GO:0070062, p...\n",
       "14674    [(h@GO:0016020, p@GO:0006355), (h@GO:0016020, ...\n",
       "14675    [(h@GO:0015485, p@IPR004999), (h@GO:0015485, p...\n",
       "14676                                                   []\n",
       "14677    [(h@GO:0006303, p@GO:0075606), (h@GO:0006303, ...\n",
       "14678    [(h@IPR019166, p@GO:0006355), (h@IPR019166, p@...\n",
       "14679                                                   []\n",
       "14680    [(h@GO:0005615, p@GO:0044204), (h@GO:0005615, ...\n",
       "14681    [(h@GO:0005737, p@GO:0006351), (h@GO:0005737, ...\n",
       "14682    [(h@GO:0000122, p@GO:0075606), (h@GO:0000122, ...\n",
       "14683    [(h@GO:0005737, p@GO:0006351), (h@GO:0005737, ...\n",
       "14684    [(h@GO:1903003, p@GO:0042025), (h@GO:1903003, ...\n",
       "Name: annotation_pairs, Length: 14685, dtype: object"
      ]
     },
     "execution_count": 25,
     "metadata": {},
     "output_type": "execute_result"
    }
   ],
   "source": [
    "ppi_df['annotation_pairs']"
   ]
  },
  {
   "cell_type": "markdown",
   "metadata": {},
   "source": [
    "Add all present annotation term tuples to one list.\n",
    "\n",
    "This code must join all tuples across all rows and remove duplicates."
   ]
  },
  {
   "cell_type": "code",
   "execution_count": 26,
   "metadata": {},
   "outputs": [
    {
     "name": "stdout",
     "output_type": "stream",
     "text": [
      "796 ms ± 61 ms per loop (mean ± std. dev. of 7 runs, 1 loop each)\n"
     ]
    }
   ],
   "source": [
    "%timeit set(itertools.chain.from_iterable(ppi_df['annotation_pairs']))"
   ]
  },
  {
   "cell_type": "code",
   "execution_count": 27,
   "metadata": {},
   "outputs": [
    {
     "name": "stdout",
     "output_type": "stream",
     "text": [
      "801 ms ± 66.4 ms per loop (mean ± std. dev. of 7 runs, 1 loop each)\n"
     ]
    }
   ],
   "source": [
    "%timeit set(itertools.chain.from_iterable(ppi_df['annotation_pairs'].values))"
   ]
  },
  {
   "cell_type": "code",
   "execution_count": 28,
   "metadata": {},
   "outputs": [
    {
     "name": "stdout",
     "output_type": "stream",
     "text": [
      "777 ms ± 68.6 ms per loop (mean ± std. dev. of 7 runs, 1 loop each)\n"
     ]
    }
   ],
   "source": [
    "%timeit set().union(*ppi_df['annotation_pairs'])"
   ]
  },
  {
   "cell_type": "markdown",
   "metadata": {},
   "source": [
    "The `union(*column)` operation will always result in the same set, regardless of initial order (as long as the tuples themselves are sorted h@-p@)."
   ]
  },
  {
   "cell_type": "code",
   "execution_count": 29,
   "metadata": {
    "scrolled": true
   },
   "outputs": [
    {
     "name": "stdout",
     "output_type": "stream",
     "text": [
      "[('h@GO:0005524', 'p@GO:0016021'), ('h@GO:0005524', 'p@GO:0016020'), ('h@GO:0005524', 'p@IPR036157'), ('h@GO:0005524', 'p@IPR029054'), ('h@GO:0070062', 'p@GO:0016021'), ('h@GO:0070062', 'p@GO:0016020'), ('h@GO:0070062', 'p@IPR036157'), ('h@GO:0070062', 'p@IPR029054'), ('h@GO:0005737', 'p@GO:0016021'), ('h@GO:0005737', 'p@GO:0016020'), ('h@GO:0005737', 'p@IPR036157'), ('h@GO:0005737', 'p@IPR029054'), ('h@IPR027413', 'p@GO:0016021'), ('h@IPR027413', 'p@GO:0016020'), ('h@IPR027413', 'p@IPR036157'), ('h@IPR027413', 'p@IPR029054'), ('h@IPR027410', 'p@GO:0016021'), ('h@IPR027410', 'p@GO:0016020'), ('h@IPR027410', 'p@IPR036157'), ('h@IPR027410', 'p@IPR029054'), ('h@IPR017998', 'p@GO:0016021'), ('h@IPR017998', 'p@GO:0016020'), ('h@IPR017998', 'p@IPR036157'), ('h@IPR017998', 'p@IPR029054'), ('h@GO:0005832', 'p@GO:0016021'), ('h@GO:0005832', 'p@GO:0016020'), ('h@GO:0005832', 'p@IPR036157'), ('h@GO:0005832', 'p@IPR029054'), ('h@GO:0006457', 'p@GO:0016021'), ('h@GO:0006457', 'p@GO:0016020'), ('h@GO:0006457', 'p@IPR036157'), ('h@GO:0006457', 'p@IPR029054'), ('h@GO:1904874', 'p@GO:0016021'), ('h@GO:1904874', 'p@GO:0016020'), ('h@GO:1904874', 'p@IPR036157'), ('h@GO:1904874', 'p@IPR029054'), ('h@GO:1904851', 'p@GO:0016021'), ('h@GO:1904851', 'p@GO:0016020'), ('h@GO:1904851', 'p@IPR036157'), ('h@GO:1904851', 'p@IPR029054'), ('h@GO:0003723', 'p@GO:0016021'), ('h@GO:0003723', 'p@GO:0016020'), ('h@GO:0003723', 'p@IPR036157'), ('h@GO:0003723', 'p@IPR029054'), ('h@IPR002423', 'p@GO:0016021'), ('h@IPR002423', 'p@GO:0016020'), ('h@IPR002423', 'p@IPR036157'), ('h@IPR002423', 'p@IPR029054'), ('h@GO:0050821', 'p@GO:0016021'), ('h@GO:0050821', 'p@GO:0016020'), ('h@GO:0050821', 'p@IPR036157'), ('h@GO:0050821', 'p@IPR029054'), ('h@GO:0000166', 'p@GO:0016021'), ('h@GO:0000166', 'p@GO:0016020'), ('h@GO:0000166', 'p@IPR036157'), ('h@GO:0000166', 'p@IPR029054'), ('h@GO:0071987', 'p@GO:0016021'), ('h@GO:0071987', 'p@GO:0016020'), ('h@GO:0071987', 'p@IPR036157'), ('h@GO:0071987', 'p@IPR029054'), ('h@GO:0005874', 'p@GO:0016021'), ('h@GO:0005874', 'p@GO:0016020'), ('h@GO:0005874', 'p@IPR036157'), ('h@GO:0005874', 'p@IPR029054'), ('h@GO:0051082', 'p@GO:0016021'), ('h@GO:0051082', 'p@GO:0016020'), ('h@GO:0051082', 'p@IPR036157'), ('h@GO:0051082', 'p@IPR029054'), ('h@GO:0061077', 'p@GO:0016021'), ('h@GO:0061077', 'p@GO:0016020'), ('h@GO:0061077', 'p@IPR036157'), ('h@GO:0061077', 'p@IPR029054'), ('h@GO:0006458', 'p@GO:0016021'), ('h@GO:0006458', 'p@GO:0016020'), ('h@GO:0006458', 'p@IPR036157'), ('h@GO:0006458', 'p@IPR029054'), ('h@GO:0005829', 'p@GO:0016021'), ('h@GO:0005829', 'p@GO:0016020'), ('h@GO:0005829', 'p@IPR036157'), ('h@GO:0005829', 'p@IPR029054'), ('h@IPR002194', 'p@GO:0016021'), ('h@IPR002194', 'p@GO:0016020'), ('h@IPR002194', 'p@IPR036157'), ('h@IPR002194', 'p@IPR029054'), ('h@IPR027409', 'p@GO:0016021'), ('h@IPR027409', 'p@GO:0016020'), ('h@IPR027409', 'p@IPR036157'), ('h@IPR027409', 'p@IPR029054'), ('h@GO:0032212', 'p@GO:0016021'), ('h@GO:0032212', 'p@GO:0016020'), ('h@GO:0032212', 'p@IPR036157'), ('h@GO:0032212', 'p@IPR029054'), ('h@GO:1904871', 'p@GO:0016021'), ('h@GO:1904871', 'p@GO:0016020'), ('h@GO:1904871', 'p@IPR036157'), ('h@GO:1904871', 'p@IPR029054'), ('h@GO:0005515', 'p@GO:0016021'), ('h@GO:0005515', 'p@GO:0016020'), ('h@GO:0005515', 'p@IPR036157'), ('h@GO:0005515', 'p@IPR029054'), ('h@IPR012722', 'p@GO:0016021'), ('h@IPR012722', 'p@GO:0016020'), ('h@IPR012722', 'p@IPR036157'), ('h@IPR012722', 'p@IPR029054')]\n"
     ]
    }
   ],
   "source": [
    "a = ppi_df.loc[0:10, 'annotation_pairs'].copy()\n",
    "a.loc[1] = a.loc[0]\n",
    "print(a.loc[0])"
   ]
  },
  {
   "cell_type": "code",
   "execution_count": 30,
   "metadata": {},
   "outputs": [],
   "source": [
    "b = set().union(*a)"
   ]
  },
  {
   "cell_type": "code",
   "execution_count": 31,
   "metadata": {},
   "outputs": [
    {
     "data": {
      "text/plain": [
       "3242"
      ]
     },
     "execution_count": 31,
     "metadata": {},
     "output_type": "execute_result"
    }
   ],
   "source": [
    "len(b)"
   ]
  },
  {
   "cell_type": "code",
   "execution_count": 32,
   "metadata": {},
   "outputs": [
    {
     "name": "stdout",
     "output_type": "stream",
     "text": [
      "[('h@IPR012722', 'p@IPR029054'), ('h@IPR012722', 'p@IPR036157'), ('h@IPR012722', 'p@GO:0016020'), ('h@IPR012722', 'p@GO:0016021'), ('h@GO:0005515', 'p@IPR029054'), ('h@GO:0005515', 'p@IPR036157'), ('h@GO:0005515', 'p@GO:0016020'), ('h@GO:0005515', 'p@GO:0016021'), ('h@GO:1904871', 'p@IPR029054'), ('h@GO:1904871', 'p@IPR036157'), ('h@GO:1904871', 'p@GO:0016020'), ('h@GO:1904871', 'p@GO:0016021'), ('h@GO:0032212', 'p@IPR029054'), ('h@GO:0032212', 'p@IPR036157'), ('h@GO:0032212', 'p@GO:0016020'), ('h@GO:0032212', 'p@GO:0016021'), ('h@IPR027409', 'p@IPR029054'), ('h@IPR027409', 'p@IPR036157'), ('h@IPR027409', 'p@GO:0016020'), ('h@IPR027409', 'p@GO:0016021'), ('h@IPR002194', 'p@IPR029054'), ('h@IPR002194', 'p@IPR036157'), ('h@IPR002194', 'p@GO:0016020'), ('h@IPR002194', 'p@GO:0016021'), ('h@GO:0005829', 'p@IPR029054'), ('h@GO:0005829', 'p@IPR036157'), ('h@GO:0005829', 'p@GO:0016020'), ('h@GO:0005829', 'p@GO:0016021'), ('h@GO:0006458', 'p@IPR029054'), ('h@GO:0006458', 'p@IPR036157'), ('h@GO:0006458', 'p@GO:0016020'), ('h@GO:0006458', 'p@GO:0016021'), ('h@GO:0061077', 'p@IPR029054'), ('h@GO:0061077', 'p@IPR036157'), ('h@GO:0061077', 'p@GO:0016020'), ('h@GO:0061077', 'p@GO:0016021'), ('h@GO:0051082', 'p@IPR029054'), ('h@GO:0051082', 'p@IPR036157'), ('h@GO:0051082', 'p@GO:0016020'), ('h@GO:0051082', 'p@GO:0016021'), ('h@GO:0005874', 'p@IPR029054'), ('h@GO:0005874', 'p@IPR036157'), ('h@GO:0005874', 'p@GO:0016020'), ('h@GO:0005874', 'p@GO:0016021'), ('h@GO:0071987', 'p@IPR029054'), ('h@GO:0071987', 'p@IPR036157'), ('h@GO:0071987', 'p@GO:0016020'), ('h@GO:0071987', 'p@GO:0016021'), ('h@GO:0000166', 'p@IPR029054'), ('h@GO:0000166', 'p@IPR036157'), ('h@GO:0000166', 'p@GO:0016020'), ('h@GO:0000166', 'p@GO:0016021'), ('h@GO:0050821', 'p@IPR029054'), ('h@GO:0050821', 'p@IPR036157'), ('h@GO:0050821', 'p@GO:0016020'), ('h@GO:0050821', 'p@GO:0016021'), ('h@IPR002423', 'p@IPR029054'), ('h@IPR002423', 'p@IPR036157'), ('h@IPR002423', 'p@GO:0016020'), ('h@IPR002423', 'p@GO:0016021'), ('h@GO:0003723', 'p@IPR029054'), ('h@GO:0003723', 'p@IPR036157'), ('h@GO:0003723', 'p@GO:0016020'), ('h@GO:0003723', 'p@GO:0016021'), ('h@GO:1904851', 'p@IPR029054'), ('h@GO:1904851', 'p@IPR036157'), ('h@GO:1904851', 'p@GO:0016020'), ('h@GO:1904851', 'p@GO:0016021'), ('h@GO:1904874', 'p@IPR029054'), ('h@GO:1904874', 'p@IPR036157'), ('h@GO:1904874', 'p@GO:0016020'), ('h@GO:1904874', 'p@GO:0016021'), ('h@GO:0006457', 'p@IPR029054'), ('h@GO:0006457', 'p@IPR036157'), ('h@GO:0006457', 'p@GO:0016020'), ('h@GO:0006457', 'p@GO:0016021'), ('h@GO:0005832', 'p@IPR029054'), ('h@GO:0005832', 'p@IPR036157'), ('h@GO:0005832', 'p@GO:0016020'), ('h@GO:0005832', 'p@GO:0016021'), ('h@IPR017998', 'p@IPR029054'), ('h@IPR017998', 'p@IPR036157'), ('h@IPR017998', 'p@GO:0016020'), ('h@IPR017998', 'p@GO:0016021'), ('h@IPR027410', 'p@IPR029054'), ('h@IPR027410', 'p@IPR036157'), ('h@IPR027410', 'p@GO:0016020'), ('h@IPR027410', 'p@GO:0016021'), ('h@IPR027413', 'p@IPR029054'), ('h@IPR027413', 'p@IPR036157'), ('h@IPR027413', 'p@GO:0016020'), ('h@IPR027413', 'p@GO:0016021'), ('h@GO:0005737', 'p@IPR029054'), ('h@GO:0005737', 'p@IPR036157'), ('h@GO:0005737', 'p@GO:0016020'), ('h@GO:0005737', 'p@GO:0016021'), ('h@GO:0070062', 'p@IPR029054'), ('h@GO:0070062', 'p@IPR036157'), ('h@GO:0070062', 'p@GO:0016020'), ('h@GO:0070062', 'p@GO:0016021'), ('h@GO:0005524', 'p@IPR029054'), ('h@GO:0005524', 'p@IPR036157'), ('h@GO:0005524', 'p@GO:0016020'), ('h@GO:0005524', 'p@GO:0016021')]\n"
     ]
    }
   ],
   "source": [
    "a2 = ppi_df.loc[0:10, 'annotation_pairs'].copy()\n",
    "a2.loc[1] = a2.loc[0]\n",
    "a2.loc[0] = a2.loc[0][::-1]\n",
    "print(a2.loc[0])"
   ]
  },
  {
   "cell_type": "code",
   "execution_count": 33,
   "metadata": {},
   "outputs": [],
   "source": [
    "b2 = set().union(*a2)"
   ]
  },
  {
   "cell_type": "code",
   "execution_count": 34,
   "metadata": {},
   "outputs": [
    {
     "data": {
      "text/plain": [
       "3242"
      ]
     },
     "execution_count": 34,
     "metadata": {},
     "output_type": "execute_result"
    }
   ],
   "source": [
    "len(b2)"
   ]
  },
  {
   "cell_type": "markdown",
   "metadata": {},
   "source": [
    "Comparing the `union` method on lists vs sets."
   ]
  },
  {
   "cell_type": "code",
   "execution_count": 35,
   "metadata": {
    "scrolled": true
   },
   "outputs": [
    {
     "name": "stdout",
     "output_type": "stream",
     "text": [
      "801 ms ± 76.1 ms per loop (mean ± std. dev. of 7 runs, 1 loop each)\n"
     ]
    }
   ],
   "source": [
    "%timeit set().union(*ppi_df['annotation_pairs_set'])"
   ]
  },
  {
   "cell_type": "code",
   "execution_count": 36,
   "metadata": {},
   "outputs": [],
   "source": [
    "pairs = set().union(*ppi_df['annotation_pairs'])\n",
    "pairs_set = set().union(*ppi_df['annotation_pairs_set'])"
   ]
  },
  {
   "cell_type": "code",
   "execution_count": 37,
   "metadata": {},
   "outputs": [
    {
     "data": {
      "text/plain": [
       "[('h@IPR001382', 'p@GO:0039526'),\n",
       " ('h@IPR000266', 'p@GO:0030683'),\n",
       " ('h@GO:0030425', 'p@IPR036915'),\n",
       " ('h@GO:0007267', 'p@IPR003470'),\n",
       " ('h@IPR014401', 'p@GO:0005515'),\n",
       " ('h@GO:0098815', 'p@GO:0030430'),\n",
       " ('h@IPR008123', 'p@GO:0005515'),\n",
       " ('h@IPR033124', 'p@GO:0030430'),\n",
       " ('h@IPR036457', 'p@GO:0003688'),\n",
       " ('h@GO:0086064', 'p@GO:0039686')]"
      ]
     },
     "execution_count": 37,
     "metadata": {},
     "output_type": "execute_result"
    }
   ],
   "source": [
    "list(pairs)[0:10]"
   ]
  },
  {
   "cell_type": "code",
   "execution_count": 38,
   "metadata": {},
   "outputs": [
    {
     "data": {
      "text/plain": [
       "[('h@IPR001382', 'p@GO:0039526'),\n",
       " ('h@IPR000266', 'p@GO:0030683'),\n",
       " ('h@GO:0030425', 'p@IPR036915'),\n",
       " ('h@GO:0007267', 'p@IPR003470'),\n",
       " ('h@IPR014401', 'p@GO:0005515'),\n",
       " ('h@GO:0098815', 'p@GO:0030430'),\n",
       " ('h@IPR008123', 'p@GO:0005515'),\n",
       " ('h@IPR033124', 'p@GO:0030430'),\n",
       " ('h@IPR036457', 'p@GO:0003688'),\n",
       " ('h@GO:0086064', 'p@GO:0039686')]"
      ]
     },
     "execution_count": 38,
     "metadata": {},
     "output_type": "execute_result"
    }
   ],
   "source": [
    "list(pairs_set)[0:10]"
   ]
  },
  {
   "cell_type": "markdown",
   "metadata": {},
   "source": [
    "This `union` method seems to work fine on lists (instead of sets)."
   ]
  },
  {
   "cell_type": "code",
   "execution_count": 39,
   "metadata": {},
   "outputs": [
    {
     "data": {
      "text/plain": [
       "True"
      ]
     },
     "execution_count": 39,
     "metadata": {},
     "output_type": "execute_result"
    }
   ],
   "source": [
    "sorted(pairs) == sorted(list(pairs_set))"
   ]
  },
  {
   "cell_type": "code",
   "execution_count": 40,
   "metadata": {},
   "outputs": [
    {
     "data": {
      "text/plain": [
       "783261"
      ]
     },
     "execution_count": 40,
     "metadata": {},
     "output_type": "execute_result"
    }
   ],
   "source": [
    "len(pairs)"
   ]
  },
  {
   "cell_type": "code",
   "execution_count": 41,
   "metadata": {},
   "outputs": [
    {
     "data": {
      "text/plain": [
       "33554656"
      ]
     },
     "execution_count": 41,
     "metadata": {},
     "output_type": "execute_result"
    }
   ],
   "source": [
    "sys.getsizeof(pairs) "
   ]
  },
  {
   "cell_type": "code",
   "execution_count": 42,
   "metadata": {},
   "outputs": [
    {
     "data": {
      "text/plain": [
       "96488097"
      ]
     },
     "execution_count": 42,
     "metadata": {},
     "output_type": "execute_result"
    }
   ],
   "source": [
    "get_size(pairs)"
   ]
  },
  {
   "cell_type": "code",
   "execution_count": 43,
   "metadata": {},
   "outputs": [
    {
     "data": {
      "text/plain": [
       "7049456"
      ]
     },
     "execution_count": 43,
     "metadata": {},
     "output_type": "execute_result"
    }
   ],
   "source": [
    "sys.getsizeof(list(pairs)) "
   ]
  },
  {
   "cell_type": "code",
   "execution_count": 44,
   "metadata": {},
   "outputs": [
    {
     "data": {
      "text/plain": [
       "69982897"
      ]
     },
     "execution_count": 44,
     "metadata": {},
     "output_type": "execute_result"
    }
   ],
   "source": [
    "get_size(list(pairs))"
   ]
  },
  {
   "cell_type": "code",
   "execution_count": 45,
   "metadata": {},
   "outputs": [
    {
     "data": {
      "text/plain": [
       "75193056"
      ]
     },
     "execution_count": 45,
     "metadata": {},
     "output_type": "execute_result"
    }
   ],
   "source": [
    "np.array(list(pairs)).nbytes"
   ]
  },
  {
   "cell_type": "code",
   "execution_count": 46,
   "metadata": {},
   "outputs": [
    {
     "data": {
      "text/plain": [
       "75193168"
      ]
     },
     "execution_count": 46,
     "metadata": {},
     "output_type": "execute_result"
    }
   ],
   "source": [
    "sys.getsizeof(np.array(list(pairs)))"
   ]
  },
  {
   "cell_type": "code",
   "execution_count": 47,
   "metadata": {
    "scrolled": true
   },
   "outputs": [
    {
     "data": {
      "text/plain": [
       "75193737"
      ]
     },
     "execution_count": 47,
     "metadata": {},
     "output_type": "execute_result"
    }
   ],
   "source": [
    "get_size(np.array(list(pairs)))"
   ]
  },
  {
   "cell_type": "markdown",
   "metadata": {},
   "source": [
    "## Create all possible pairs => high memory usage and unnecessary pairs!"
   ]
  },
  {
   "cell_type": "code",
   "execution_count": null,
   "metadata": {},
   "outputs": [],
   "source": [
    "%timit list(itertools.combinations(set().union(*ppi_df[columns].values.ravel('K')), 2))"
   ]
  },
  {
   "cell_type": "code",
   "execution_count": null,
   "metadata": {
    "scrolled": false
   },
   "outputs": [],
   "source": [
    "pairs_all = list(itertools.combinations(set().union(*ppi_df[columns].values.ravel('K')), 2))"
   ]
  },
  {
   "cell_type": "code",
   "execution_count": 17,
   "metadata": {},
   "outputs": [
    {
     "data": {
      "text/plain": [
       "61654960"
      ]
     },
     "execution_count": 17,
     "metadata": {},
     "output_type": "execute_result"
    }
   ],
   "source": [
    "len(pairs_all)"
   ]
  },
  {
   "cell_type": "code",
   "execution_count": 20,
   "metadata": {},
   "outputs": [
    {
     "data": {
      "text/plain": [
       "509119928"
      ]
     },
     "execution_count": 20,
     "metadata": {},
     "output_type": "execute_result"
    }
   ],
   "source": [
    "sys.getsizeof(pairs_all) "
   ]
  },
  {
   "cell_type": "code",
   "execution_count": 21,
   "metadata": {},
   "outputs": [],
   "source": [
    "del pairs_all"
   ]
  },
  {
   "cell_type": "code",
   "execution_count": 47,
   "metadata": {
    "scrolled": true
   },
   "outputs": [
    {
     "data": {
      "text/plain": [
       "('GO:0000209', 'GO:0060326')"
      ]
     },
     "execution_count": 47,
     "metadata": {},
     "output_type": "execute_result"
    }
   ],
   "source": [
    "list(pairs)[0]"
   ]
  },
  {
   "cell_type": "markdown",
   "metadata": {},
   "source": [
    "## Merging annotations"
   ]
  },
  {
   "cell_type": "code",
   "execution_count": 48,
   "metadata": {
    "scrolled": true
   },
   "outputs": [
    {
     "data": {
      "text/html": [
       "<div>\n",
       "<style scoped>\n",
       "    .dataframe tbody tr th:only-of-type {\n",
       "        vertical-align: middle;\n",
       "    }\n",
       "\n",
       "    .dataframe tbody tr th {\n",
       "        vertical-align: top;\n",
       "    }\n",
       "\n",
       "    .dataframe thead th {\n",
       "        text-align: right;\n",
       "    }\n",
       "</style>\n",
       "<table border=\"1\" class=\"dataframe\">\n",
       "  <thead>\n",
       "    <tr style=\"text-align: right;\">\n",
       "      <th></th>\n",
       "      <th>annotations_A</th>\n",
       "      <th>annotations_B</th>\n",
       "    </tr>\n",
       "  </thead>\n",
       "  <tbody>\n",
       "    <tr>\n",
       "      <th>0</th>\n",
       "      <td>{h@GO:0005524, h@GO:0070062, h@GO:0005737, h@I...</td>\n",
       "      <td>{p@GO:0016021, p@GO:0016020, p@IPR036157, p@IP...</td>\n",
       "    </tr>\n",
       "    <tr>\n",
       "      <th>1</th>\n",
       "      <td>{h@GO:0006924, h@IPR022773, h@GO:0005737, h@GO...</td>\n",
       "      <td>{p@GO:0006351, p@GO:0039650, p@GO:0039503, p@G...</td>\n",
       "    </tr>\n",
       "    <tr>\n",
       "      <th>2</th>\n",
       "      <td>{h@GO:0006272, h@GO:0006303, h@IPR012337, h@GO...</td>\n",
       "      <td>{p@GO:0034214, p@GO:0003677, p@GO:0006260, p@G...</td>\n",
       "    </tr>\n",
       "    <tr>\n",
       "      <th>3</th>\n",
       "      <td>{h@IPR000504, h@GO:0005737, h@GO:0045727, h@GO...</td>\n",
       "      <td>{p@GO:0006355, p@IPR007031, p@GO:0006351, p@GO...</td>\n",
       "    </tr>\n",
       "    <tr>\n",
       "      <th>4</th>\n",
       "      <td>{h@GO:0070062, h@GO:0005737, h@GO:0016020, h@I...</td>\n",
       "      <td>{p@GO:0006414, p@GO:0030430, p@GO:0006355, p@G...</td>\n",
       "    </tr>\n",
       "    <tr>\n",
       "      <th>5</th>\n",
       "      <td>{h@GO:0070062, h@GO:0005737, h@GO:0016020, h@I...</td>\n",
       "      <td>{p@GO:0006355, p@IPR007031, p@GO:0006351, p@GO...</td>\n",
       "    </tr>\n",
       "    <tr>\n",
       "      <th>6</th>\n",
       "      <td>{h@GO:0003677, h@GO:0045444, h@GO:0065004, h@G...</td>\n",
       "      <td>{p@GO:0032508, p@IPR016393, p@GO:0016787, p@IP...</td>\n",
       "    </tr>\n",
       "    <tr>\n",
       "      <th>7</th>\n",
       "      <td>{h@GO:0003677, h@GO:0045893, h@GO:0061665, h@G...</td>\n",
       "      <td>{p@GO:0032508, p@IPR016393, p@GO:0016787, p@IP...</td>\n",
       "    </tr>\n",
       "    <tr>\n",
       "      <th>8</th>\n",
       "      <td>{h@GO:0003677, h@GO:0045444, h@GO:0065004, h@G...</td>\n",
       "      <td>{p@GO:0034214, p@GO:0003677, p@GO:0006260, p@G...</td>\n",
       "    </tr>\n",
       "    <tr>\n",
       "      <th>9</th>\n",
       "      <td>{h@GO:0005737, h@GO:0016020, h@GO:0005642, h@G...</td>\n",
       "      <td>{p@GO:0032508, p@IPR016393, p@GO:0016787, p@IP...</td>\n",
       "    </tr>\n",
       "    <tr>\n",
       "      <th>10</th>\n",
       "      <td>{h@GO:0003677, h@GO:0045893, h@GO:0061665, h@G...</td>\n",
       "      <td>{p@GO:0034214, p@GO:0003677, p@GO:0006260, p@G...</td>\n",
       "    </tr>\n",
       "    <tr>\n",
       "      <th>11</th>\n",
       "      <td>{h@GO:0003684, h@GO:0003677, h@IPR013955, h@GO...</td>\n",
       "      <td>{p@GO:0003688, p@GO:0006351, p@GO:0039503, p@G...</td>\n",
       "    </tr>\n",
       "    <tr>\n",
       "      <th>12</th>\n",
       "      <td>{h@GO:0006272, h@GO:0006303, h@IPR012337, h@GO...</td>\n",
       "      <td>{p@GO:0003688, p@GO:0006351, p@GO:0039503, p@G...</td>\n",
       "    </tr>\n",
       "    <tr>\n",
       "      <th>13</th>\n",
       "      <td>{h@GO:0030866, h@GO:0016020, h@GO:0009898, h@G...</td>\n",
       "      <td>{p@GO:0039548, p@IPR038575, p@GO:0030430, p@GO...</td>\n",
       "    </tr>\n",
       "    <tr>\n",
       "      <th>14</th>\n",
       "      <td>{h@IPR000387, h@GO:0005737, h@GO:0016020, h@GO...</td>\n",
       "      <td>{p@GO:0039548, p@IPR038575, p@GO:0030430, p@GO...</td>\n",
       "    </tr>\n",
       "    <tr>\n",
       "      <th>15</th>\n",
       "      <td>{h@GO:0000976, h@GO:0005737, h@GO:0003700, h@G...</td>\n",
       "      <td>{p@GO:0003688, p@GO:0006351, p@GO:0039503, p@G...</td>\n",
       "    </tr>\n",
       "    <tr>\n",
       "      <th>16</th>\n",
       "      <td>{h@GO:0005737, h@GO:0006936, h@IPR017305, h@GO...</td>\n",
       "      <td>{p@IPR038575, p@GO:0030430, p@GO:0030683, p@GO...</td>\n",
       "    </tr>\n",
       "    <tr>\n",
       "      <th>17</th>\n",
       "      <td>{h@GO:0003700, h@GO:0006325, h@GO:0045893, h@G...</td>\n",
       "      <td>{p@GO:0030683, p@GO:0006355, p@GO:0039648, p@G...</td>\n",
       "    </tr>\n",
       "    <tr>\n",
       "      <th>18</th>\n",
       "      <td>{h@GO:0006366, h@GO:0003677, h@GO:0007050, h@G...</td>\n",
       "      <td>{p@GO:0006351, p@GO:0039650, p@GO:0039503, p@G...</td>\n",
       "    </tr>\n",
       "    <tr>\n",
       "      <th>19</th>\n",
       "      <td>{h@GO:0006366, h@GO:0003677, h@GO:0007050, h@G...</td>\n",
       "      <td>{p@GO:0030683, p@GO:0030430, p@GO:0006355, p@I...</td>\n",
       "    </tr>\n",
       "    <tr>\n",
       "      <th>20</th>\n",
       "      <td>{h@GO:0016020, h@GO:0031018, h@GO:0010332, h@G...</td>\n",
       "      <td>{p@IPR011207, p@IPR021119, p@GO:0019050, p@IPR...</td>\n",
       "    </tr>\n",
       "    <tr>\n",
       "      <th>21</th>\n",
       "      <td>{h@GO:0016020, h@GO:0005757, h@GO:0001777, h@G...</td>\n",
       "      <td>{p@IPR011207, p@IPR021119, p@GO:0019050, p@IPR...</td>\n",
       "    </tr>\n",
       "    <tr>\n",
       "      <th>22</th>\n",
       "      <td>{h@GO:2000271, h@IPR015040, h@GO:0005737, h@GO...</td>\n",
       "      <td>{p@IPR011207, p@IPR021119, p@GO:0019050, p@IPR...</td>\n",
       "    </tr>\n",
       "    <tr>\n",
       "      <th>23</th>\n",
       "      <td>{h@GO:0005694, h@GO:0005524, h@GO:0016020, h@G...</td>\n",
       "      <td>{p@GO:0003688, p@GO:0006351, p@GO:0039503, p@G...</td>\n",
       "    </tr>\n",
       "    <tr>\n",
       "      <th>24</th>\n",
       "      <td>{h@GO:0005694, h@IPR015943, h@IPR017986, h@GO:...</td>\n",
       "      <td>{p@GO:0003688, p@GO:0006351, p@GO:0039503, p@G...</td>\n",
       "    </tr>\n",
       "    <tr>\n",
       "      <th>25</th>\n",
       "      <td>{h@GO:0003700, h@GO:0006325, h@GO:0045893, h@G...</td>\n",
       "      <td>{p@GO:0003688, p@GO:0006351, p@GO:0039503, p@G...</td>\n",
       "    </tr>\n",
       "    <tr>\n",
       "      <th>26</th>\n",
       "      <td>{h@GO:0005737, h@GO:0008286, h@GO:0005634, h@G...</td>\n",
       "      <td>{p@GO:0016021, p@IPR003354, p@GO:0033644, p@GO...</td>\n",
       "    </tr>\n",
       "    <tr>\n",
       "      <th>27</th>\n",
       "      <td>{h@GO:0005694, h@GO:0048156, h@GO:0031698, h@G...</td>\n",
       "      <td>{p@GO:0016021, p@IPR003354, p@GO:0033644, p@GO...</td>\n",
       "    </tr>\n",
       "    <tr>\n",
       "      <th>28</th>\n",
       "      <td>{h@GO:0003674, h@GO:0045121, h@GO:0060561, h@G...</td>\n",
       "      <td>{p@GO:0016021, p@IPR003354, p@GO:0033644, p@GO...</td>\n",
       "    </tr>\n",
       "    <tr>\n",
       "      <th>29</th>\n",
       "      <td>{h@GO:0005524, h@GO:0005737, h@GO:0016020, h@I...</td>\n",
       "      <td>{p@GO:0039548, p@IPR038575, p@GO:0030430, p@GO...</td>\n",
       "    </tr>\n",
       "    <tr>\n",
       "      <th>...</th>\n",
       "      <td>...</td>\n",
       "      <td>...</td>\n",
       "    </tr>\n",
       "    <tr>\n",
       "      <th>14655</th>\n",
       "      <td>{h@IPR000571, h@GO:0046872, h@IPR027417, h@IPR...</td>\n",
       "      <td>{p@IPR004290}</td>\n",
       "    </tr>\n",
       "    <tr>\n",
       "      <th>14656</th>\n",
       "      <td>{h@GO:0005737, h@GO:0050421, h@IPR000644, h@GO...</td>\n",
       "      <td>{p@IPR004289}</td>\n",
       "    </tr>\n",
       "    <tr>\n",
       "      <th>14657</th>\n",
       "      <td>{h@GO:0005622, h@IPR010911, h@GO:0017137, h@GO...</td>\n",
       "      <td>{}</td>\n",
       "    </tr>\n",
       "    <tr>\n",
       "      <th>14658</th>\n",
       "      <td>{h@GO:0005524, h@GO:0005737, h@GO:0019870, h@G...</td>\n",
       "      <td>{p@GO:0006355, p@IPR004998}</td>\n",
       "    </tr>\n",
       "    <tr>\n",
       "      <th>14659</th>\n",
       "      <td>{h@GO:0005737, h@GO:0016020, h@IPR015943, h@IP...</td>\n",
       "      <td>{p@GO:0006355, p@IPR004998}</td>\n",
       "    </tr>\n",
       "    <tr>\n",
       "      <th>14660</th>\n",
       "      <td>{h@GO:0030176, h@GO:0070062, h@GO:0016020, h@G...</td>\n",
       "      <td>{p@GO:0075606, p@GO:0075521, p@GO:0003677, p@G...</td>\n",
       "    </tr>\n",
       "    <tr>\n",
       "      <th>14661</th>\n",
       "      <td>{h@IPR014001, h@GO:0005524, h@GO:0000166, h@GO...</td>\n",
       "      <td>{p@GO:0042025, p@GO:0019031, p@IPR002597, p@GO...</td>\n",
       "    </tr>\n",
       "    <tr>\n",
       "      <th>14662</th>\n",
       "      <td>{h@IPR003006, h@IPR003597, h@IPR036179, h@IPR0...</td>\n",
       "      <td>{p@GO:0039548, p@GO:0030683, p@GO:0039525, p@I...</td>\n",
       "    </tr>\n",
       "    <tr>\n",
       "      <th>14663</th>\n",
       "      <td>{h@IPR002379, h@GO:0016020, h@IPR020537, h@IPR...</td>\n",
       "      <td>{p@GO:0016021, p@GO:0044175, p@GO:0044167, p@G...</td>\n",
       "    </tr>\n",
       "    <tr>\n",
       "      <th>14664</th>\n",
       "      <td>{h@GO:0001937, h@GO:0070106, h@GO:0003700, h@G...</td>\n",
       "      <td>{p@GO:0016791, p@GO:0004725, p@IPR024950, p@IP...</td>\n",
       "    </tr>\n",
       "    <tr>\n",
       "      <th>14665</th>\n",
       "      <td>{h@GO:0070062, h@GO:0005737, h@GO:0016020, h@G...</td>\n",
       "      <td>{p@GO:0016021, p@GO:0039504, p@GO:0030683, p@G...</td>\n",
       "    </tr>\n",
       "    <tr>\n",
       "      <th>14666</th>\n",
       "      <td>{}</td>\n",
       "      <td>{p@GO:0039548, p@IPR038575, p@GO:0030430, p@GO...</td>\n",
       "    </tr>\n",
       "    <tr>\n",
       "      <th>14667</th>\n",
       "      <td>{}</td>\n",
       "      <td>{p@GO:0039548, p@IPR038575, p@GO:0030430, p@GO...</td>\n",
       "    </tr>\n",
       "    <tr>\n",
       "      <th>14668</th>\n",
       "      <td>{h@GO:0005622, h@GO:0072332, h@GO:0003723, h@G...</td>\n",
       "      <td>{p@IPR007611, p@GO:0019068}</td>\n",
       "    </tr>\n",
       "    <tr>\n",
       "      <th>14669</th>\n",
       "      <td>{h@IPR004127, h@GO:0005737, h@IPR011599, h@GO:...</td>\n",
       "      <td>{p@GO:0075606, p@GO:0075521, p@GO:0003677, p@G...</td>\n",
       "    </tr>\n",
       "    <tr>\n",
       "      <th>14670</th>\n",
       "      <td>{h@GO:0043398, h@GO:0005524, h@GO:0005737, h@G...</td>\n",
       "      <td>{p@GO:0042025, p@GO:0019031, p@IPR002597, p@GO...</td>\n",
       "    </tr>\n",
       "    <tr>\n",
       "      <th>14671</th>\n",
       "      <td>{h@GO:0003677, h@GO:0000981, h@IPR037518, h@IP...</td>\n",
       "      <td>{p@IPR007611, p@GO:0019068}</td>\n",
       "    </tr>\n",
       "    <tr>\n",
       "      <th>14672</th>\n",
       "      <td>{h@GO:0005737, h@GO:0016020, h@IPR011008, h@GO...</td>\n",
       "      <td>{p@GO:0006351, p@IPR005030, p@GO:0016032, p@GO...</td>\n",
       "    </tr>\n",
       "    <tr>\n",
       "      <th>14673</th>\n",
       "      <td>{h@GO:0070062, h@GO:0005737, h@GO:0016020, h@G...</td>\n",
       "      <td>{p@IPR007611, p@GO:0019068}</td>\n",
       "    </tr>\n",
       "    <tr>\n",
       "      <th>14674</th>\n",
       "      <td>{h@GO:0016020, h@GO:0032233, h@GO:0001664, h@G...</td>\n",
       "      <td>{p@GO:0006355, p@IPR004998}</td>\n",
       "    </tr>\n",
       "    <tr>\n",
       "      <th>14675</th>\n",
       "      <td>{h@GO:0015485, h@GO:0018158, h@GO:0045723, h@G...</td>\n",
       "      <td>{p@IPR004999, p@GO:0003677, p@GO:0019069}</td>\n",
       "    </tr>\n",
       "    <tr>\n",
       "      <th>14676</th>\n",
       "      <td>{}</td>\n",
       "      <td>{p@GO:0006351, p@GO:0039650, p@GO:0039503, p@G...</td>\n",
       "    </tr>\n",
       "    <tr>\n",
       "      <th>14677</th>\n",
       "      <td>{h@GO:0006303, h@GO:0005737, h@GO:0006325, h@G...</td>\n",
       "      <td>{p@GO:0075606, p@GO:0075521, p@GO:0003677, p@G...</td>\n",
       "    </tr>\n",
       "    <tr>\n",
       "      <th>14678</th>\n",
       "      <td>{h@IPR019166, h@GO:0016020, h@GO:0005743, h@GO...</td>\n",
       "      <td>{p@GO:0006355, p@IPR004998}</td>\n",
       "    </tr>\n",
       "    <tr>\n",
       "      <th>14679</th>\n",
       "      <td>{}</td>\n",
       "      <td>{p@GO:0030683, p@GO:0030430, p@IPR038575, p@GO...</td>\n",
       "    </tr>\n",
       "    <tr>\n",
       "      <th>14680</th>\n",
       "      <td>{h@GO:0005615, h@GO:0070062, h@IPR037941, h@IP...</td>\n",
       "      <td>{p@GO:0044204, p@GO:0006351, p@GO:0060153, p@I...</td>\n",
       "    </tr>\n",
       "    <tr>\n",
       "      <th>14681</th>\n",
       "      <td>{h@GO:0005737, h@GO:0007050, h@GO:0042326, h@G...</td>\n",
       "      <td>{p@GO:0006351, p@IPR005030, p@GO:0016032, p@GO...</td>\n",
       "    </tr>\n",
       "    <tr>\n",
       "      <th>14682</th>\n",
       "      <td>{h@GO:0000122, h@GO:0005737, h@GO:0001078, h@I...</td>\n",
       "      <td>{p@GO:0075606, p@GO:0075521, p@GO:0003677, p@G...</td>\n",
       "    </tr>\n",
       "    <tr>\n",
       "      <th>14683</th>\n",
       "      <td>{h@GO:0005737, h@GO:0016020, h@GO:0008135, h@I...</td>\n",
       "      <td>{p@GO:0006351, p@IPR005030, p@GO:0016032, p@GO...</td>\n",
       "    </tr>\n",
       "    <tr>\n",
       "      <th>14684</th>\n",
       "      <td>{h@GO:1903003, h@GO:0005737, h@GO:0005634, h@G...</td>\n",
       "      <td>{p@GO:0042025, p@GO:0019031, p@IPR002597, p@GO...</td>\n",
       "    </tr>\n",
       "  </tbody>\n",
       "</table>\n",
       "<p>14685 rows × 2 columns</p>\n",
       "</div>"
      ],
      "text/plain": [
       "                                           annotations_A  \\\n",
       "0      {h@GO:0005524, h@GO:0070062, h@GO:0005737, h@I...   \n",
       "1      {h@GO:0006924, h@IPR022773, h@GO:0005737, h@GO...   \n",
       "2      {h@GO:0006272, h@GO:0006303, h@IPR012337, h@GO...   \n",
       "3      {h@IPR000504, h@GO:0005737, h@GO:0045727, h@GO...   \n",
       "4      {h@GO:0070062, h@GO:0005737, h@GO:0016020, h@I...   \n",
       "5      {h@GO:0070062, h@GO:0005737, h@GO:0016020, h@I...   \n",
       "6      {h@GO:0003677, h@GO:0045444, h@GO:0065004, h@G...   \n",
       "7      {h@GO:0003677, h@GO:0045893, h@GO:0061665, h@G...   \n",
       "8      {h@GO:0003677, h@GO:0045444, h@GO:0065004, h@G...   \n",
       "9      {h@GO:0005737, h@GO:0016020, h@GO:0005642, h@G...   \n",
       "10     {h@GO:0003677, h@GO:0045893, h@GO:0061665, h@G...   \n",
       "11     {h@GO:0003684, h@GO:0003677, h@IPR013955, h@GO...   \n",
       "12     {h@GO:0006272, h@GO:0006303, h@IPR012337, h@GO...   \n",
       "13     {h@GO:0030866, h@GO:0016020, h@GO:0009898, h@G...   \n",
       "14     {h@IPR000387, h@GO:0005737, h@GO:0016020, h@GO...   \n",
       "15     {h@GO:0000976, h@GO:0005737, h@GO:0003700, h@G...   \n",
       "16     {h@GO:0005737, h@GO:0006936, h@IPR017305, h@GO...   \n",
       "17     {h@GO:0003700, h@GO:0006325, h@GO:0045893, h@G...   \n",
       "18     {h@GO:0006366, h@GO:0003677, h@GO:0007050, h@G...   \n",
       "19     {h@GO:0006366, h@GO:0003677, h@GO:0007050, h@G...   \n",
       "20     {h@GO:0016020, h@GO:0031018, h@GO:0010332, h@G...   \n",
       "21     {h@GO:0016020, h@GO:0005757, h@GO:0001777, h@G...   \n",
       "22     {h@GO:2000271, h@IPR015040, h@GO:0005737, h@GO...   \n",
       "23     {h@GO:0005694, h@GO:0005524, h@GO:0016020, h@G...   \n",
       "24     {h@GO:0005694, h@IPR015943, h@IPR017986, h@GO:...   \n",
       "25     {h@GO:0003700, h@GO:0006325, h@GO:0045893, h@G...   \n",
       "26     {h@GO:0005737, h@GO:0008286, h@GO:0005634, h@G...   \n",
       "27     {h@GO:0005694, h@GO:0048156, h@GO:0031698, h@G...   \n",
       "28     {h@GO:0003674, h@GO:0045121, h@GO:0060561, h@G...   \n",
       "29     {h@GO:0005524, h@GO:0005737, h@GO:0016020, h@I...   \n",
       "...                                                  ...   \n",
       "14655  {h@IPR000571, h@GO:0046872, h@IPR027417, h@IPR...   \n",
       "14656  {h@GO:0005737, h@GO:0050421, h@IPR000644, h@GO...   \n",
       "14657  {h@GO:0005622, h@IPR010911, h@GO:0017137, h@GO...   \n",
       "14658  {h@GO:0005524, h@GO:0005737, h@GO:0019870, h@G...   \n",
       "14659  {h@GO:0005737, h@GO:0016020, h@IPR015943, h@IP...   \n",
       "14660  {h@GO:0030176, h@GO:0070062, h@GO:0016020, h@G...   \n",
       "14661  {h@IPR014001, h@GO:0005524, h@GO:0000166, h@GO...   \n",
       "14662  {h@IPR003006, h@IPR003597, h@IPR036179, h@IPR0...   \n",
       "14663  {h@IPR002379, h@GO:0016020, h@IPR020537, h@IPR...   \n",
       "14664  {h@GO:0001937, h@GO:0070106, h@GO:0003700, h@G...   \n",
       "14665  {h@GO:0070062, h@GO:0005737, h@GO:0016020, h@G...   \n",
       "14666                                                 {}   \n",
       "14667                                                 {}   \n",
       "14668  {h@GO:0005622, h@GO:0072332, h@GO:0003723, h@G...   \n",
       "14669  {h@IPR004127, h@GO:0005737, h@IPR011599, h@GO:...   \n",
       "14670  {h@GO:0043398, h@GO:0005524, h@GO:0005737, h@G...   \n",
       "14671  {h@GO:0003677, h@GO:0000981, h@IPR037518, h@IP...   \n",
       "14672  {h@GO:0005737, h@GO:0016020, h@IPR011008, h@GO...   \n",
       "14673  {h@GO:0070062, h@GO:0005737, h@GO:0016020, h@G...   \n",
       "14674  {h@GO:0016020, h@GO:0032233, h@GO:0001664, h@G...   \n",
       "14675  {h@GO:0015485, h@GO:0018158, h@GO:0045723, h@G...   \n",
       "14676                                                 {}   \n",
       "14677  {h@GO:0006303, h@GO:0005737, h@GO:0006325, h@G...   \n",
       "14678  {h@IPR019166, h@GO:0016020, h@GO:0005743, h@GO...   \n",
       "14679                                                 {}   \n",
       "14680  {h@GO:0005615, h@GO:0070062, h@IPR037941, h@IP...   \n",
       "14681  {h@GO:0005737, h@GO:0007050, h@GO:0042326, h@G...   \n",
       "14682  {h@GO:0000122, h@GO:0005737, h@GO:0001078, h@I...   \n",
       "14683  {h@GO:0005737, h@GO:0016020, h@GO:0008135, h@I...   \n",
       "14684  {h@GO:1903003, h@GO:0005737, h@GO:0005634, h@G...   \n",
       "\n",
       "                                           annotations_B  \n",
       "0      {p@GO:0016021, p@GO:0016020, p@IPR036157, p@IP...  \n",
       "1      {p@GO:0006351, p@GO:0039650, p@GO:0039503, p@G...  \n",
       "2      {p@GO:0034214, p@GO:0003677, p@GO:0006260, p@G...  \n",
       "3      {p@GO:0006355, p@IPR007031, p@GO:0006351, p@GO...  \n",
       "4      {p@GO:0006414, p@GO:0030430, p@GO:0006355, p@G...  \n",
       "5      {p@GO:0006355, p@IPR007031, p@GO:0006351, p@GO...  \n",
       "6      {p@GO:0032508, p@IPR016393, p@GO:0016787, p@IP...  \n",
       "7      {p@GO:0032508, p@IPR016393, p@GO:0016787, p@IP...  \n",
       "8      {p@GO:0034214, p@GO:0003677, p@GO:0006260, p@G...  \n",
       "9      {p@GO:0032508, p@IPR016393, p@GO:0016787, p@IP...  \n",
       "10     {p@GO:0034214, p@GO:0003677, p@GO:0006260, p@G...  \n",
       "11     {p@GO:0003688, p@GO:0006351, p@GO:0039503, p@G...  \n",
       "12     {p@GO:0003688, p@GO:0006351, p@GO:0039503, p@G...  \n",
       "13     {p@GO:0039548, p@IPR038575, p@GO:0030430, p@GO...  \n",
       "14     {p@GO:0039548, p@IPR038575, p@GO:0030430, p@GO...  \n",
       "15     {p@GO:0003688, p@GO:0006351, p@GO:0039503, p@G...  \n",
       "16     {p@IPR038575, p@GO:0030430, p@GO:0030683, p@GO...  \n",
       "17     {p@GO:0030683, p@GO:0006355, p@GO:0039648, p@G...  \n",
       "18     {p@GO:0006351, p@GO:0039650, p@GO:0039503, p@G...  \n",
       "19     {p@GO:0030683, p@GO:0030430, p@GO:0006355, p@I...  \n",
       "20     {p@IPR011207, p@IPR021119, p@GO:0019050, p@IPR...  \n",
       "21     {p@IPR011207, p@IPR021119, p@GO:0019050, p@IPR...  \n",
       "22     {p@IPR011207, p@IPR021119, p@GO:0019050, p@IPR...  \n",
       "23     {p@GO:0003688, p@GO:0006351, p@GO:0039503, p@G...  \n",
       "24     {p@GO:0003688, p@GO:0006351, p@GO:0039503, p@G...  \n",
       "25     {p@GO:0003688, p@GO:0006351, p@GO:0039503, p@G...  \n",
       "26     {p@GO:0016021, p@IPR003354, p@GO:0033644, p@GO...  \n",
       "27     {p@GO:0016021, p@IPR003354, p@GO:0033644, p@GO...  \n",
       "28     {p@GO:0016021, p@IPR003354, p@GO:0033644, p@GO...  \n",
       "29     {p@GO:0039548, p@IPR038575, p@GO:0030430, p@GO...  \n",
       "...                                                  ...  \n",
       "14655                                      {p@IPR004290}  \n",
       "14656                                      {p@IPR004289}  \n",
       "14657                                                 {}  \n",
       "14658                        {p@GO:0006355, p@IPR004998}  \n",
       "14659                        {p@GO:0006355, p@IPR004998}  \n",
       "14660  {p@GO:0075606, p@GO:0075521, p@GO:0003677, p@G...  \n",
       "14661  {p@GO:0042025, p@GO:0019031, p@IPR002597, p@GO...  \n",
       "14662  {p@GO:0039548, p@GO:0030683, p@GO:0039525, p@I...  \n",
       "14663  {p@GO:0016021, p@GO:0044175, p@GO:0044167, p@G...  \n",
       "14664  {p@GO:0016791, p@GO:0004725, p@IPR024950, p@IP...  \n",
       "14665  {p@GO:0016021, p@GO:0039504, p@GO:0030683, p@G...  \n",
       "14666  {p@GO:0039548, p@IPR038575, p@GO:0030430, p@GO...  \n",
       "14667  {p@GO:0039548, p@IPR038575, p@GO:0030430, p@GO...  \n",
       "14668                        {p@IPR007611, p@GO:0019068}  \n",
       "14669  {p@GO:0075606, p@GO:0075521, p@GO:0003677, p@G...  \n",
       "14670  {p@GO:0042025, p@GO:0019031, p@IPR002597, p@GO...  \n",
       "14671                        {p@IPR007611, p@GO:0019068}  \n",
       "14672  {p@GO:0006351, p@IPR005030, p@GO:0016032, p@GO...  \n",
       "14673                        {p@IPR007611, p@GO:0019068}  \n",
       "14674                        {p@GO:0006355, p@IPR004998}  \n",
       "14675          {p@IPR004999, p@GO:0003677, p@GO:0019069}  \n",
       "14676  {p@GO:0006351, p@GO:0039650, p@GO:0039503, p@G...  \n",
       "14677  {p@GO:0075606, p@GO:0075521, p@GO:0003677, p@G...  \n",
       "14678                        {p@GO:0006355, p@IPR004998}  \n",
       "14679  {p@GO:0030683, p@GO:0030430, p@IPR038575, p@GO...  \n",
       "14680  {p@GO:0044204, p@GO:0006351, p@GO:0060153, p@I...  \n",
       "14681  {p@GO:0006351, p@IPR005030, p@GO:0016032, p@GO...  \n",
       "14682  {p@GO:0075606, p@GO:0075521, p@GO:0003677, p@G...  \n",
       "14683  {p@GO:0006351, p@IPR005030, p@GO:0016032, p@GO...  \n",
       "14684  {p@GO:0042025, p@GO:0019031, p@IPR002597, p@GO...  \n",
       "\n",
       "[14685 rows x 2 columns]"
      ]
     },
     "execution_count": 48,
     "metadata": {},
     "output_type": "execute_result"
    }
   ],
   "source": [
    "ppi_df[columns]"
   ]
  },
  {
   "cell_type": "code",
   "execution_count": 49,
   "metadata": {},
   "outputs": [
    {
     "name": "stdout",
     "output_type": "stream",
     "text": [
      "266 ms ± 30 ms per loop (mean ± std. dev. of 7 runs, 1 loop each)\n"
     ]
    }
   ],
   "source": [
    "%timeit ppi_df[columns].apply(lambda x: set().union(*x), axis=1)"
   ]
  },
  {
   "cell_type": "code",
   "execution_count": 50,
   "metadata": {
    "scrolled": true
   },
   "outputs": [
    {
     "data": {
      "text/plain": [
       "{'h@GO:0000166',\n",
       " 'h@GO:0003723',\n",
       " 'h@GO:0005515',\n",
       " 'h@GO:0005524',\n",
       " 'h@GO:0005737',\n",
       " 'h@GO:0005829',\n",
       " 'h@GO:0005832',\n",
       " 'h@GO:0005874',\n",
       " 'h@GO:0006457',\n",
       " 'h@GO:0006458',\n",
       " 'h@GO:0032212',\n",
       " 'h@GO:0050821',\n",
       " 'h@GO:0051082',\n",
       " 'h@GO:0061077',\n",
       " 'h@GO:0070062',\n",
       " 'h@GO:0071987',\n",
       " 'h@GO:1904851',\n",
       " 'h@GO:1904871',\n",
       " 'h@GO:1904874',\n",
       " 'h@IPR002194',\n",
       " 'h@IPR002423',\n",
       " 'h@IPR012722',\n",
       " 'h@IPR017998',\n",
       " 'h@IPR027409',\n",
       " 'h@IPR027410',\n",
       " 'h@IPR027413',\n",
       " 'p@GO:0016020',\n",
       " 'p@GO:0016021',\n",
       " 'p@IPR029054',\n",
       " 'p@IPR036157'}"
      ]
     },
     "execution_count": 50,
     "metadata": {},
     "output_type": "execute_result"
    }
   ],
   "source": [
    "ppi_df[columns].apply(lambda x: set().union(*x), axis=1).loc[0]"
   ]
  },
  {
   "cell_type": "code",
   "execution_count": 58,
   "metadata": {},
   "outputs": [],
   "source": [
    "merged_annotations = pairwise.merge_annotations(ppi_df, columns)"
   ]
  },
  {
   "cell_type": "code",
   "execution_count": 52,
   "metadata": {
    "scrolled": true
   },
   "outputs": [
    {
     "data": {
      "text/plain": [
       "{'h@GO:0000166',\n",
       " 'h@GO:0003723',\n",
       " 'h@GO:0005515',\n",
       " 'h@GO:0005524',\n",
       " 'h@GO:0005737',\n",
       " 'h@GO:0005829',\n",
       " 'h@GO:0005832',\n",
       " 'h@GO:0005874',\n",
       " 'h@GO:0006457',\n",
       " 'h@GO:0006458',\n",
       " 'h@GO:0032212',\n",
       " 'h@GO:0050821',\n",
       " 'h@GO:0051082',\n",
       " 'h@GO:0061077',\n",
       " 'h@GO:0070062',\n",
       " 'h@GO:0071987',\n",
       " 'h@GO:1904851',\n",
       " 'h@GO:1904871',\n",
       " 'h@GO:1904874',\n",
       " 'h@IPR002194',\n",
       " 'h@IPR002423',\n",
       " 'h@IPR012722',\n",
       " 'h@IPR017998',\n",
       " 'h@IPR027409',\n",
       " 'h@IPR027410',\n",
       " 'h@IPR027413',\n",
       " 'p@GO:0016020',\n",
       " 'p@GO:0016021',\n",
       " 'p@IPR029054',\n",
       " 'p@IPR036157'}"
      ]
     },
     "execution_count": 52,
     "metadata": {},
     "output_type": "execute_result"
    }
   ],
   "source": [
    "merged_annotations[0]"
   ]
  },
  {
   "cell_type": "code",
   "execution_count": 53,
   "metadata": {},
   "outputs": [
    {
     "data": {
      "text/plain": [
       "26553111"
      ]
     },
     "execution_count": 53,
     "metadata": {},
     "output_type": "execute_result"
    }
   ],
   "source": [
    "get_size(merged_annotations)"
   ]
  },
  {
   "cell_type": "code",
   "execution_count": 54,
   "metadata": {},
   "outputs": [
    {
     "data": {
      "text/plain": [
       "7363991"
      ]
     },
     "execution_count": 54,
     "metadata": {},
     "output_type": "execute_result"
    }
   ],
   "source": [
    "get_size(merged_annotations.map(list))"
   ]
  },
  {
   "cell_type": "markdown",
   "metadata": {},
   "source": [
    "go_dict recursive_children already supplies a set, so no need to convert this back."
   ]
  },
  {
   "cell_type": "code",
   "execution_count": 55,
   "metadata": {
    "scrolled": true
   },
   "outputs": [
    {
     "data": {
      "text/plain": [
       "{'GO:0000235',\n",
       " 'GO:0005827',\n",
       " 'GO:0005828',\n",
       " 'GO:0005876',\n",
       " 'GO:0005879',\n",
       " 'GO:0005880',\n",
       " 'GO:0005881',\n",
       " 'GO:0010005',\n",
       " 'GO:0020025',\n",
       " 'GO:0033289',\n",
       " 'GO:0035371',\n",
       " 'GO:0036449',\n",
       " 'GO:0055028',\n",
       " 'GO:0061673',\n",
       " 'GO:0097649',\n",
       " 'GO:0097650',\n",
       " 'GO:1901588',\n",
       " 'GO:1903754',\n",
       " 'GO:1904511',\n",
       " 'GO:1905721',\n",
       " 'GO:1905759',\n",
       " 'GO:1905760',\n",
       " 'GO:1990498',\n",
       " 'GO:1990537',\n",
       " 'GO:1990574',\n",
       " 'GO:1990719',\n",
       " 'GO:1990720',\n",
       " 'GO:1990752',\n",
       " 'GO:1990941'}"
      ]
     },
     "execution_count": 55,
     "metadata": {},
     "output_type": "execute_result"
    }
   ],
   "source": [
    "go_dict['GO:0005874'].recursive_children"
   ]
  },
  {
   "cell_type": "markdown",
   "metadata": {},
   "source": [
    "## Propagate pairs"
   ]
  },
  {
   "cell_type": "markdown",
   "metadata": {},
   "source": [
    "Store propagated pairs as lists."
   ]
  },
  {
   "cell_type": "code",
   "execution_count": 58,
   "metadata": {},
   "outputs": [
    {
     "name": "stdout",
     "output_type": "stream",
     "text": [
      "123 ms ± 2.82 ms per loop (mean ± std. dev. of 7 runs, 10 loops each)\n",
      "148 ms ± 17.4 ms per loop (mean ± std. dev. of 7 runs, 10 loops each)\n"
     ]
    }
   ],
   "source": [
    "%timeit [len(pair) for pair in pairs]\n",
    "%timeit [len(pair) for pair in list(pairs)]"
   ]
  },
  {
   "cell_type": "code",
   "execution_count": 57,
   "metadata": {},
   "outputs": [
    {
     "name": "stdout",
     "output_type": "stream",
     "text": [
      "125 ms ± 9.31 ms per loop (mean ± std. dev. of 7 runs, 10 loops each)\n"
     ]
    }
   ],
   "source": [
    "%timeit for pair in list(pairs)[:1000]:    pairwise._propagate_pair(pair, go_dict)"
   ]
  },
  {
   "cell_type": "markdown",
   "metadata": {},
   "source": [
    "### Store propagated pairs as sets"
   ]
  },
  {
   "cell_type": "code",
   "execution_count": 49,
   "metadata": {},
   "outputs": [],
   "source": [
    "def _propagate_pair_set(pair, go_dict):\n",
    "    # create empty list to store the propagated (child) annotations for the two parent annotations in the pair (in same order as original pair)\n",
    "    propagated_pair = []\n",
    "    # for both annotations in the pair, propagate through GO hierarchy\n",
    "    for term in pair:\n",
    "        # only for GO terms, not IPR\n",
    "        if 'GO' in term:\n",
    "            prefix = term[:2]\n",
    "            go_object = go_dict.get(term[2:])\n",
    "            # append original annotation if it can't be found in GO dict\n",
    "            if not go_object:\n",
    "                propagated_pair.append({term})\n",
    "            else:\n",
    "                # store all child terms of parent term in a list\n",
    "                child_terms = [\n",
    "                    prefix + i for i in go_object.recursive_children\n",
    "                ]\n",
    "                # add parent term itself and remove duplicates\n",
    "                propagation_set = set(child_terms) | set([term])\n",
    "                # add propagated annotations to storage list\n",
    "                propagated_pair.append(propagation_set)\n",
    "        else:\n",
    "            # store original term if it's not a GO term\n",
    "            propagated_pair.append({term})\n",
    "\n",
    "    # convert the length-2 list of annotation lists (1 for each parent annotation) to a tuple and store in dictionary\n",
    "    # e.g. ('h@GO:0060384', 'p@GO:0016787') -> (['h@GO:0098546', 'h@GO:0030553', 'h@GO:0035438', 'h@GO:0030552', 'h@GO:0061507'], ['h@GO:0098546', 'h@GO:0030553', 'h@GO:0035438', 'h@GO:0030552', 'h@GO:0061507'])\n",
    "    return tuple(propagated_pair)"
   ]
  },
  {
   "cell_type": "code",
   "execution_count": 62,
   "metadata": {},
   "outputs": [
    {
     "name": "stdout",
     "output_type": "stream",
     "text": [
      "77.6 ms ± 1.76 ms per loop (mean ± std. dev. of 7 runs, 10 loops each)\n"
     ]
    }
   ],
   "source": [
    "%timeit for pair in list(pairs)[:1000]:    _propagate_pair_set(pair, go_dict)"
   ]
  },
  {
   "cell_type": "markdown",
   "metadata": {},
   "source": [
    "### Store propagated pairs as lists"
   ]
  },
  {
   "cell_type": "code",
   "execution_count": 50,
   "metadata": {},
   "outputs": [],
   "source": [
    "def _propagate_pair_list1(pair, go_dict):\n",
    "    # create empty list to store the propagated (child) annotations for the two parent annotations in the pair (in same order as original pair)\n",
    "    propagated_pair = []\n",
    "    # for both annotations in the pair, propagate through GO hierarchy\n",
    "    for term in pair:\n",
    "        # only for GO terms, not IPR\n",
    "        if 'GO' in term:\n",
    "            prefix = term[:2]\n",
    "            go_object = go_dict.get(term[2:])\n",
    "            # append original annotation if it can't be found in GO dict\n",
    "            if not go_object:\n",
    "                propagated_pair.append([term])\n",
    "            else:\n",
    "                # store all child terms of parent term in a list\n",
    "                child_terms = [\n",
    "                    prefix + i for i in go_object.recursive_children\n",
    "                ]\n",
    "                # add parent term\n",
    "                child_terms.append(term)\n",
    "                # remove duplicates, convert to list and sort\n",
    "                propagation_list = list(set(child_terms))\n",
    "                # add propagated annotations to storage list\n",
    "                propagated_pair.append(propagation_list)\n",
    "        else:\n",
    "            # store original term if it's not a GO term\n",
    "            propagated_pair.append([term])\n",
    "\n",
    "    # convert the length-2 list of annotation lists (1 for each parent annotation) to a tuple and store in dictionary\n",
    "    # e.g. ('h@GO:0060384', 'p@GO:0016787') -> (['h@GO:0098546', 'h@GO:0030553', 'h@GO:0035438', 'h@GO:0030552', 'h@GO:0061507'], ['h@GO:0098546', 'h@GO:0030553', 'h@GO:0035438', 'h@GO:0030552', 'h@GO:0061507'])\n",
    "    return tuple(propagated_pair)"
   ]
  },
  {
   "cell_type": "code",
   "execution_count": 64,
   "metadata": {},
   "outputs": [
    {
     "name": "stdout",
     "output_type": "stream",
     "text": [
      "73.1 ms ± 1.09 ms per loop (mean ± std. dev. of 7 runs, 10 loops each)\n"
     ]
    }
   ],
   "source": [
    "%timeit for pair in list(pairs)[:1000]:    _propagate_pair_list1(pair, go_dict)"
   ]
  },
  {
   "cell_type": "markdown",
   "metadata": {},
   "source": [
    "### Store propagated pairs as sorted lists"
   ]
  },
  {
   "cell_type": "code",
   "execution_count": 51,
   "metadata": {},
   "outputs": [],
   "source": [
    "def _propagate_pair_list2(pair, go_dict):\n",
    "    # create empty list to store the propagated (child) annotations for the two parent annotations in the pair (in same order as original pair)\n",
    "    propagated_pair = []\n",
    "    # for both annotations in the pair, propagate through GO hierarchy\n",
    "    for term in pair:\n",
    "        # only for GO terms, not IPR\n",
    "        if 'GO' in term:\n",
    "            prefix = term[:2]\n",
    "            go_object = go_dict.get(term[2:])\n",
    "            # append original annotation if it can't be found in GO dict\n",
    "            if not go_object:\n",
    "                propagated_pair.append([term])\n",
    "            else:\n",
    "                # store all child terms of parent term in a list\n",
    "                child_terms = [\n",
    "                    prefix + i for i in go_object.recursive_children\n",
    "                ]\n",
    "                # add parent term\n",
    "                child_terms.append(term)\n",
    "                # remove duplicates, convert to list and sort\n",
    "                propagation_list = sorted(set(child_terms))\n",
    "                # add propagated annotations to storage list\n",
    "                propagated_pair.append(propagation_list)\n",
    "        else:\n",
    "            # store original term if it's not a GO term\n",
    "            propagated_pair.append([term])\n",
    "\n",
    "    # convert the length-2 list of annotation lists (1 for each parent annotation) to a tuple and store in dictionary\n",
    "    # e.g. ('h@GO:0060384', 'p@GO:0016787') -> (['h@GO:0098546', 'h@GO:0030553', 'h@GO:0035438', 'h@GO:0030552', 'h@GO:0061507'], ['h@GO:0098546', 'h@GO:0030553', 'h@GO:0035438', 'h@GO:0030552', 'h@GO:0061507'])\n",
    "    return tuple(propagated_pair)"
   ]
  },
  {
   "cell_type": "code",
   "execution_count": 66,
   "metadata": {
    "scrolled": true
   },
   "outputs": [
    {
     "name": "stdout",
     "output_type": "stream",
     "text": [
      "121 ms ± 7.68 ms per loop (mean ± std. dev. of 7 runs, 10 loops each)\n"
     ]
    }
   ],
   "source": [
    "%timeit for pair in list(pairs)[:1000]:    _propagate_pair_list2(pair, go_dict)"
   ]
  },
  {
   "cell_type": "markdown",
   "metadata": {},
   "source": [
    "### Propagated pairs dictionary memory requirements"
   ]
  },
  {
   "cell_type": "markdown",
   "metadata": {},
   "source": [
    "The propagated dict can take up to 11-25 GB of RAM when it is structured as a dictionary of tuples pointing to sets."
   ]
  },
  {
   "cell_type": "code",
   "execution_count": 52,
   "metadata": {},
   "outputs": [],
   "source": [
    "def _propagate_pairs_set(pairs, go_dict):\n",
    "    # create empty dictionary to store the two sets of propagated annotations\n",
    "    propagated_pairs = {}\n",
    "    # propagated_pairs = []\n",
    "\n",
    "    # loop through sets of annotation pairs\n",
    "    for pair in list(pairs):\n",
    "        # create empty list to store the propagated (child) annotations for the two parent annotations in the pair (in same order as original pair)\n",
    "        new_pair = []\n",
    "        # for both annotations in the pair, propagate through GO hierarchy\n",
    "        for term in pair:\n",
    "            # only for GO terms, not IPR\n",
    "            if 'GO' in term:\n",
    "                prefix = term[:2]\n",
    "                go_object = go_dict.get(term[2:])\n",
    "                # append original annotation if it can't be found in GO dict\n",
    "                if not go_object:\n",
    "                    # store original term if no GO info available\n",
    "                    new_pair.append({term})\n",
    "                else:\n",
    "                    # store all child terms of parent term in a list\n",
    "                    child_terms = [\n",
    "                        prefix + i for i in go_object.recursive_children\n",
    "                    ]\n",
    "                    # add parent term itself and remove duplicates\n",
    "                    propagation_set = set(child_terms) | set([term])\n",
    "                    # add propagated annotations to storage list\n",
    "                    new_pair.append(propagation_set)\n",
    "            else:\n",
    "                # store original term if it's not a GO term\n",
    "                new_pair.append({term})\n",
    "\n",
    "        # convert the length-2 list of annotation lists (1 for each parent annotation) to a tuple and store in dictionary\n",
    "        # e.g. ('h@GO:0060384', 'p@GO:0016787') -> ({'h@GO:0098546', 'h@GO:0030553', 'h@GO:0035438', 'h@GO:0030552', 'h@GO:0061507'}, {'h@GO:0098546', 'h@GO:0030553', 'h@GO:0035438', 'h@GO:0030552', 'h@GO:0061507'})\n",
    "        propagated_pairs[pair] = tuple(new_pair)\n",
    "\n",
    "    return propagated_pairs"
   ]
  },
  {
   "cell_type": "code",
   "execution_count": 53,
   "metadata": {},
   "outputs": [
    {
     "name": "stdout",
     "output_type": "stream",
     "text": [
      "3168777\n",
      "24819.794417970003\n"
     ]
    }
   ],
   "source": [
    "pairs_dict = _propagate_pairs_set(list(pairs)[:100], go_dict)\n",
    "print(get_size(pairs_dict))\n",
    "print(len(pairs) * get_size(pairs_dict) / 100 / 10**6)"
   ]
  },
  {
   "cell_type": "code",
   "execution_count": 87,
   "metadata": {},
   "outputs": [
    {
     "name": "stdout",
     "output_type": "stream",
     "text": [
      "2166206902\n",
      "16967.05384267422\n"
     ]
    }
   ],
   "source": [
    "pairs_dict = _propagate_pairs_set(list(pairs)[:100000], go_dict)\n",
    "print(get_size(pairs_dict))\n",
    "print(len(pairs) * get_size(pairs_dict) / 100000 / 10**6)"
   ]
  },
  {
   "cell_type": "markdown",
   "metadata": {},
   "source": [
    "Previous values...due to random order inside pairs set?"
   ]
  },
  {
   "cell_type": "code",
   "execution_count": 120,
   "metadata": {},
   "outputs": [
    {
     "name": "stdout",
     "output_type": "stream",
     "text": [
      "1452605\n",
      "11377.68844905\n"
     ]
    }
   ],
   "source": [
    "pairs_dict = pairwise._propagate_pairs(list(pairs)[:100], go_dict)\n",
    "print(get_size(pairs_dict))\n",
    "print(len(pairs) * get_size(pairs_dict) / 100 / 10**6)"
   ]
  },
  {
   "cell_type": "code",
   "execution_count": 123,
   "metadata": {},
   "outputs": [
    {
     "name": "stdout",
     "output_type": "stream",
     "text": [
      "2192436790\n",
      "17172.5023257219\n"
     ]
    }
   ],
   "source": [
    "pairs_dict = _propagate_pairs_set(list(pairs)[:100000], go_dict)\n",
    "print(get_size(pairs_dict))\n",
    "print(len(pairs) * get_size(pairs_dict) / 100000 / 10**6)"
   ]
  },
  {
   "cell_type": "code",
   "execution_count": 112,
   "metadata": {
    "scrolled": true
   },
   "outputs": [
    {
     "data": {
      "text/plain": [
       "70411"
      ]
     },
     "execution_count": 112,
     "metadata": {},
     "output_type": "execute_result"
    }
   ],
   "source": [
    "get_size(pairs_dict[(('h@GO:0006911', 'p@GO:0006355'))])"
   ]
  },
  {
   "cell_type": "markdown",
   "metadata": {},
   "source": [
    "A set takes almost double the memory of a list."
   ]
  },
  {
   "cell_type": "code",
   "execution_count": 60,
   "metadata": {},
   "outputs": [
    {
     "data": {
      "text/plain": [
       "3851"
      ]
     },
     "execution_count": 60,
     "metadata": {},
     "output_type": "execute_result"
    }
   ],
   "source": [
    "get_size({'h@GO:0000166', 'h@GO:0003723', 'h@GO:0005515', 'h@GO:0005524', 'h@GO:0005737', 'h@GO:0005829', 'h@GO:0005832', 'h@GO:0005874', 'h@GO:0006457', 'h@GO:0006458', 'h@GO:0032212', 'h@GO:0050821', 'h@GO:0051082', 'h@GO:0061077', 'h@GO:0070062', 'h@GO:0071987', 'h@GO:1904851', 'h@GO:1904871', 'h@GO:1904874', 'h@IPR002194', 'h@IPR002423', 'h@IPR012722', 'h@IPR017998', 'h@IPR027409', 'h@IPR027410', 'h@IPR027413'\n",
    "         })"
   ]
  },
  {
   "cell_type": "code",
   "execution_count": 59,
   "metadata": {},
   "outputs": [
    {
     "data": {
      "text/plain": [
       "1923"
      ]
     },
     "execution_count": 59,
     "metadata": {},
     "output_type": "execute_result"
    }
   ],
   "source": [
    "get_size(list({'h@GO:0000166', 'h@GO:0003723', 'h@GO:0005515', 'h@GO:0005524', 'h@GO:0005737', 'h@GO:0005829', 'h@GO:0005832', 'h@GO:0005874', 'h@GO:0006457', 'h@GO:0006458', 'h@GO:0032212', 'h@GO:0050821', 'h@GO:0051082', 'h@GO:0061077', 'h@GO:0070062', 'h@GO:0071987', 'h@GO:1904851', 'h@GO:1904871', 'h@GO:1904874', 'h@IPR002194', 'h@IPR002423', 'h@IPR012722', 'h@IPR017998', 'h@IPR027409', 'h@IPR027410', 'h@IPR027413'\n",
    "         }))"
   ]
  },
  {
   "cell_type": "code",
   "execution_count": 54,
   "metadata": {},
   "outputs": [],
   "source": [
    "def _propagate_pairs_list(pairs, go_dict):\n",
    "    # create empty dictionary to store the two sets of propagated annotations\n",
    "    propagated_pairs = {}\n",
    "    # propagated_pairs = []\n",
    "\n",
    "    # loop through sets of annotation pairs\n",
    "    for pair in list(pairs):\n",
    "        # create empty list to store the propagated (child) annotations for the two parent annotations in the pair (in same order as original pair)\n",
    "        new_pair = []\n",
    "        # for both annotations in the pair, propagate through GO hierarchy\n",
    "        for term in pair:\n",
    "            # only for GO terms, not IPR\n",
    "            if 'GO' in term:\n",
    "                prefix = term[:2]\n",
    "                go_object = go_dict.get(term[2:])\n",
    "                # append original annotation if it can't be found in GO dict\n",
    "                if not go_object:\n",
    "                    # store original term if no GO info available\n",
    "                    new_pair.append([term])\n",
    "                else:\n",
    "                    # store all child terms of parent term in a list\n",
    "                    child_terms = [\n",
    "                        prefix + i for i in go_object.recursive_children\n",
    "                    ]\n",
    "                    # add parent term itself and remove duplicates\n",
    "                    propagation_set = list(set(child_terms) | set([term]))\n",
    "                    # add propagated annotations to storage list\n",
    "                    new_pair.append(propagation_set)\n",
    "            else:\n",
    "                # store original term if it's not a GO term\n",
    "                new_pair.append([term])\n",
    "\n",
    "        # convert the length-2 list of annotation lists (1 for each parent annotation) to a tuple and store in dictionary\n",
    "        # e.g. ('h@GO:0060384', 'p@GO:0016787') -> ({'h@GO:0098546', 'h@GO:0030553', 'h@GO:0035438', 'h@GO:0030552', 'h@GO:0061507'}, {'h@GO:0098546', 'h@GO:0030553', 'h@GO:0035438', 'h@GO:0030552', 'h@GO:0061507'})\n",
    "        propagated_pairs[pair] = tuple(new_pair)\n",
    "\n",
    "    return propagated_pairs"
   ]
  },
  {
   "cell_type": "code",
   "execution_count": 55,
   "metadata": {},
   "outputs": [
    {
     "name": "stdout",
     "output_type": "stream",
     "text": [
      "1963849\n",
      "15382.06331589\n"
     ]
    }
   ],
   "source": [
    "pairs_dict = _propagate_pairs_list(list(pairs)[:100], go_dict)\n",
    "print(get_size(pairs_dict))\n",
    "print(len(pairs) * get_size(pairs_dict) / 100 / 10**6)"
   ]
  },
  {
   "cell_type": "code",
   "execution_count": 62,
   "metadata": {},
   "outputs": [
    {
     "name": "stdout",
     "output_type": "stream",
     "text": [
      "1364941334\n",
      "10691.05314210174\n"
     ]
    }
   ],
   "source": [
    "pairs_dict = _propagate_pairs_list(list(pairs)[:100000], go_dict)\n",
    "print(get_size(pairs_dict))\n",
    "print(len(pairs) * get_size(pairs_dict) / 100000 / 10**6)"
   ]
  },
  {
   "cell_type": "code",
   "execution_count": 63,
   "metadata": {},
   "outputs": [],
   "source": [
    "del pairs_dict"
   ]
  },
  {
   "cell_type": "markdown",
   "metadata": {},
   "source": [
    "**Conclusion: storing the propagated pairs as lists is a major reduction in size, however, doing this forces a `set()` operation to take place during the pairwise association mining procedure.**"
   ]
  },
  {
   "cell_type": "markdown",
   "metadata": {},
   "source": [
    "## Pairwise assoc\n",
    "Comparing the performance of pairwise association mining when\n",
    "\n",
    "1. pre-computing the list of propagated pairs\n",
    "2. computing the list as an iterator\n",
    "3. computing the propagated pair on the fly inside the loop\n",
    "4. Using set objects as input\n",
    "5. Converting list objects to sets inside the loop"
   ]
  },
  {
   "cell_type": "markdown",
   "metadata": {},
   "source": [
    "### 1 pre-compute propagated pairs"
   ]
  },
  {
   "cell_type": "markdown",
   "metadata": {},
   "source": [
    "#### Pre-computer + pairwise_dict with sets + no convert to set during loop"
   ]
  },
  {
   "cell_type": "code",
   "execution_count": 56,
   "metadata": {},
   "outputs": [],
   "source": [
    "def count_presences_propagated(pair_prop, interaction_dataframe, column_A,\n",
    "                               column_B, merged_annotations):\n",
    "    set_A = pair_prop[0]\n",
    "    set_B = pair_prop[1]\n",
    "\n",
    "    pair_count = np.sum(\n",
    "        merged_annotations.map(\n",
    "            lambda x: not x.isdisjoint(set_A) and not x.isdisjoint(set_B)\n",
    "        ))\n",
    "    label_one_count_exclusive = np.sum(interaction_dataframe[column_A].map(\n",
    "        lambda x: not x.isdisjoint(set_A)\n",
    "    ) & interaction_dataframe[column_B].map(\n",
    "        lambda x: x.isdisjoint(set_B)))\n",
    "    label_two_count_exclusive = np.sum(interaction_dataframe[column_A].map(\n",
    "        lambda x: x.isdisjoint(set_A)\n",
    "    ) & interaction_dataframe[column_B].map(\n",
    "        lambda x: not x.isdisjoint(set_B)))\n",
    "    label_one_count = np.sum(\n",
    "        merged_annotations.apply(lambda x: not x.isdisjoint(set_A)))\n",
    "    label_two_count = np.sum(\n",
    "        merged_annotations.apply(lambda x: not x.isdisjoint(set_B)))\n",
    "    absent_count = np.sum(\n",
    "        merged_annotations.map(lambda x: x.isdisjoint(set_A)) &\n",
    "        merged_annotations.map(lambda x: x.isdisjoint(set_B)))\n",
    "    total_count = interaction_dataframe.shape[0]\n",
    "    return pair_count, label_one_count_exclusive, label_two_count_exclusive, label_one_count, label_two_count, absent_count, total_count"
   ]
  },
  {
   "cell_type": "code",
   "execution_count": 59,
   "metadata": {},
   "outputs": [
    {
     "name": "stdout",
     "output_type": "stream",
     "text": [
      "7.17 s ± 421 ms per loop (mean ± std. dev. of 7 runs, 1 loop each)\n"
     ]
    }
   ],
   "source": [
    "%%timeit\n",
    "results_dict = {'pmi': {},'G': {},'chi2': {},'fisher': {},'phi': {},'min_count': {},'counts': {},'depth': {}}\n",
    "pairs_dict = _propagate_pairs_set(list(pairs)[:100], go_dict)\n",
    "counter = 0\n",
    "for pair, propagated_pair in pairs_dict.items():\n",
    "    counter += 1\n",
    "    if counter % 10000 == 0:\n",
    "        print('Processed {} lines out of {}'.format(\n",
    "            counter, len(pairs)))\n",
    "    # convert lists of annotations to sets in order to speed up comparisons\n",
    "    propagated_pair = list(set(i) for i in propagated_pair)\n",
    "    pair_count, label_one_count_exclusive, label_two_count_exclusive, label_one_count, label_two_count, absent_count, total_count = count_presences_propagated(\n",
    "        propagated_pair, ppi_df, column_A, column_B,\n",
    "        merged_annotations)\n",
    "    pairwise._calc_assoc_measures(pair, results_dict, pair_count, label_one_count_exclusive, label_two_count_exclusive, label_one_count, label_two_count, absent_count, total_count, go_dict)"
   ]
  },
  {
   "cell_type": "markdown",
   "metadata": {},
   "source": [
    "#### Pre-computer + pairwise_dict with lists + convert to set during loop"
   ]
  },
  {
   "cell_type": "code",
   "execution_count": 92,
   "metadata": {},
   "outputs": [],
   "source": [
    "def count_presences_propagated(pair_prop, interaction_dataframe, column_A,\n",
    "                               column_B, merged_annotations):\n",
    "    set_A = set(pair_prop[0])\n",
    "    set_B = set(pair_prop[1])\n",
    "\n",
    "    pair_count = np.sum(\n",
    "        merged_annotations.map(\n",
    "            lambda x: not x.isdisjoint(set_A) and not x.isdisjoint(set_B)\n",
    "        ))\n",
    "    label_one_count_exclusive = np.sum(interaction_dataframe[column_A].map(\n",
    "        lambda x: not x.isdisjoint(set_A)\n",
    "    ) & interaction_dataframe[column_B].map(\n",
    "        lambda x: x.isdisjoint(set_B)))\n",
    "    label_two_count_exclusive = np.sum(interaction_dataframe[column_A].map(\n",
    "        lambda x: x.isdisjoint(set_A)\n",
    "    ) & interaction_dataframe[column_B].map(\n",
    "        lambda x: not x.isdisjoint(set_B)))\n",
    "    label_one_count = np.sum(\n",
    "        merged_annotations.apply(lambda x: not x.isdisjoint(set_A)))\n",
    "    label_two_count = np.sum(\n",
    "        merged_annotations.apply(lambda x: not x.isdisjoint(set_B)))\n",
    "    absent_count = np.sum(\n",
    "        merged_annotations.map(lambda x: x.isdisjoint(set_A)) &\n",
    "        merged_annotations.map(lambda x: x.isdisjoint(set_B)))\n",
    "    total_count = interaction_dataframe.shape[0]\n",
    "    return pair_count, label_one_count_exclusive, label_two_count_exclusive, label_one_count, label_two_count, absent_count, total_count"
   ]
  },
  {
   "cell_type": "code",
   "execution_count": 67,
   "metadata": {},
   "outputs": [
    {
     "name": "stdout",
     "output_type": "stream",
     "text": [
      "7.35 s ± 260 ms per loop (mean ± std. dev. of 7 runs, 1 loop each)\n"
     ]
    }
   ],
   "source": [
    "%%timeit\n",
    "results_dict = {'pmi': {},'G': {},'chi2': {},'fisher': {},'phi': {},'min_count': {},'counts': {},'depth': {}}\n",
    "pairs_dict = _propagate_pairs_list(list(pairs)[:100], go_dict)\n",
    "counter = 0\n",
    "for pair, propagated_pair in pairs_dict.items():\n",
    "    counter += 1\n",
    "    if counter % 10000 == 0:\n",
    "        print('Processed {} lines out of {}'.format(\n",
    "            counter, len(pairs)))\n",
    "    # convert lists of annotations to sets in order to speed up comparisons\n",
    "#     propagated_pair = list(set(i) for i in propagated_pair)\n",
    "    pair_count, label_one_count_exclusive, label_two_count_exclusive, label_one_count, label_two_count, absent_count, total_count = count_presences_propagated(\n",
    "        propagated_pair, ppi_df, column_A, column_B,\n",
    "        merged_annotations)\n",
    "    pairwise._calc_assoc_measures(pair, results_dict, pair_count, label_one_count_exclusive, label_two_count_exclusive, label_one_count, label_two_count, absent_count, total_count, go_dict)"
   ]
  },
  {
   "cell_type": "markdown",
   "metadata": {},
   "source": [
    "**There's next to no additional cost to converting lists to sets inside the mining function, so it is better to store lists inside the propagated dictionary to reduce memory requirements.**"
   ]
  },
  {
   "cell_type": "code",
   "execution_count": 65,
   "metadata": {},
   "outputs": [
    {
     "name": "stdout",
     "output_type": "stream",
     "text": [
      "1min 12s ± 3.95 s per loop (mean ± std. dev. of 7 runs, 1 loop each)\n"
     ]
    }
   ],
   "source": [
    "%%timeit\n",
    "results_dict = {'pmi': {},'G': {},'chi2': {},'fisher': {},'phi': {},'min_count': {},'counts': {},'depth': {}}\n",
    "pairs_dict = _propagate_pairs_list(list(pairs)[:1000], go_dict)\n",
    "counter = 0\n",
    "for pair, propagated_pair in pairs_dict.items():\n",
    "    counter += 1\n",
    "    if counter % 10000 == 0:\n",
    "        print('Processed {} lines out of {}'.format(\n",
    "            counter, len(pairs)))\n",
    "    # convert lists of annotations to sets in order to speed up comparisons\n",
    "    propagated_pair = list(set(i) for i in propagated_pair)\n",
    "    pair_count, label_one_count_exclusive, label_two_count_exclusive, label_one_count, label_two_count, absent_count, total_count = count_presences_propagated(\n",
    "        propagated_pair, ppi_df, column_A, column_B,\n",
    "        merged_annotations)\n",
    "    pairwise._calc_assoc_measures(pair, results_dict, pair_count, label_one_count_exclusive, label_two_count_exclusive, label_one_count, label_two_count, absent_count, total_count, go_dict)"
   ]
  },
  {
   "cell_type": "markdown",
   "metadata": {},
   "source": [
    "**Splitting up the generation and mining loop.**"
   ]
  },
  {
   "cell_type": "code",
   "execution_count": 74,
   "metadata": {},
   "outputs": [
    {
     "name": "stdout",
     "output_type": "stream",
     "text": [
      "126 ms ± 8.28 ms per loop (mean ± std. dev. of 7 runs, 10 loops each)\n"
     ]
    }
   ],
   "source": [
    "%%timeit\n",
    "pairs_dict = _propagate_pairs_list(list(pairs)[:1000], go_dict)"
   ]
  },
  {
   "cell_type": "code",
   "execution_count": 75,
   "metadata": {},
   "outputs": [
    {
     "name": "stdout",
     "output_type": "stream",
     "text": [
      "7.06 s ± 269 ms per loop (mean ± std. dev. of 7 runs, 1 loop each)\n"
     ]
    }
   ],
   "source": [
    "%%timeit\n",
    "results_dict = {'pmi': {},'G': {},'chi2': {},'fisher': {},'phi': {},'min_count': {},'counts': {},'depth': {}}\n",
    "counter = 0\n",
    "for pair, propagated_pair in pairs_dict.items():\n",
    "    counter += 1\n",
    "    if counter % 10000 == 0:\n",
    "        print('Processed {} lines out of {}'.format(\n",
    "            counter, len(pairs)))\n",
    "    # convert lists of annotations to sets in order to speed up comparisons\n",
    "    propagated_pair = list(set(i) for i in propagated_pair)\n",
    "    pair_count, label_one_count_exclusive, label_two_count_exclusive, label_one_count, label_two_count, absent_count, total_count = count_presences_propagated(\n",
    "        propagated_pair, ppi_df, column_A, column_B,\n",
    "        merged_annotations)\n",
    "    pairwise._calc_assoc_measures(pair, results_dict, pair_count, label_one_count_exclusive, label_two_count_exclusive, label_one_count, label_two_count, absent_count, total_count, go_dict)"
   ]
  },
  {
   "cell_type": "markdown",
   "metadata": {},
   "source": [
    "**More detailed profiling of time spent during function...**"
   ]
  },
  {
   "cell_type": "code",
   "execution_count": 62,
   "metadata": {},
   "outputs": [
    {
     "name": "stdout",
     "output_type": "stream",
     "text": [
      " "
     ]
    }
   ],
   "source": [
    "%%prun\n",
    "results_dict = {'pmi': {},'G': {},'chi2': {},'fisher': {},'phi': {},'min_count': {},'counts': {},'depth': {}}\n",
    "pairs_dict = _propagate_pairs_list(list(pairs)[:1000], go_dict)\n",
    "counter = 0\n",
    "for pair, propagated_pair in pairs_dict.items():\n",
    "    counter += 1\n",
    "    if counter % 10000 == 0:\n",
    "        print('Processed {} lines out of {}'.format(\n",
    "            counter, len(pairs)))\n",
    "    # convert lists of annotations to sets in order to speed up comparisons\n",
    "    propagated_pair = list(set(i) for i in propagated_pair)\n",
    "    pair_count, label_one_count_exclusive, label_two_count_exclusive, label_one_count, label_two_count, absent_count, total_count = count_presences_propagated(\n",
    "        propagated_pair, ppi_df, column_A, column_B,\n",
    "        merged_annotations)\n",
    "    pairwise._calc_assoc_measures(pair, results_dict, pair_count, label_one_count_exclusive, label_two_count_exclusive, label_one_count, label_two_count, absent_count, total_count, go_dict)"
   ]
  },
  {
   "cell_type": "code",
   "execution_count": 64,
   "metadata": {},
   "outputs": [],
   "source": [
    "%load_ext line_profiler\n",
    "%load_ext heat"
   ]
  },
  {
   "cell_type": "code",
   "execution_count": 68,
   "metadata": {},
   "outputs": [],
   "source": [
    "def fast(pairs, go_dict, ppi_df, column_A, column_B, merged_annotations):\n",
    "    results_dict = {'pmi': {},'G': {},'chi2': {},'fisher': {},'phi': {},'min_count': {},'counts': {},'depth': {}}\n",
    "    pairs_dict = _propagate_pairs_list(list(pairs)[:1000], go_dict)\n",
    "    counter = 0\n",
    "    for pair, propagated_pair in pairs_dict.items():\n",
    "        counter += 1\n",
    "        if counter % 10000 == 0:\n",
    "            print('Processed {} lines out of {}'.format(\n",
    "                counter, len(pairs)))\n",
    "        # convert lists of annotations to sets in order to speed up comparisons\n",
    "#         propagated_pair = list(set(i) for i in propagated_pair)\n",
    "        pair_count, label_one_count_exclusive, label_two_count_exclusive, label_one_count, label_two_count, absent_count, total_count = count_presences_propagated(\n",
    "            propagated_pair, ppi_df, column_A, column_B,\n",
    "            merged_annotations)\n",
    "        pairwise._calc_assoc_measures(pair, results_dict, pair_count, label_one_count_exclusive, label_two_count_exclusive, label_one_count, label_two_count, absent_count, total_count, go_dict)\n",
    "%lprun -f fast fast(pairs, go_dict, ppi_df, column_A, column_B, merged_annotations)"
   ]
  },
  {
   "cell_type": "markdown",
   "metadata": {},
   "source": [
    "```\n",
    "Timer unit: 1e-06 s\n",
    "\n",
    "Total time: 91.7701 s\n",
    "File: <ipython-input-68-d38c677a9b5a>\n",
    "Function: fast at line 1\n",
    "\n",
    "Line #      Hits         Time  Per Hit   % Time  Line Contents\n",
    "==============================================================\n",
    "     1                                           def fast(pairs, go_dict, ppi_df, column_A, column_B, merged_annotations):\n",
    "     2         1          2.0      2.0      0.0      results_dict = {'pmi': {},'G': {},'chi2': {},'fisher': {},'phi': {},'min_count': {},'counts': {},'depth': {}}\n",
    "     3         1     154876.0 154876.0      0.2      pairs_dict = _propagate_pairs_list(list(pairs)[:1000], go_dict)\n",
    "     4         1          2.0      2.0      0.0      counter = 0\n",
    "     5      1001       2223.0      2.2      0.0      for pair, propagated_pair in pairs_dict.items():\n",
    "     6      1000        832.0      0.8      0.0          counter += 1\n",
    "     7      1000        939.0      0.9      0.0          if counter % 10000 == 0:\n",
    "     8                                                       print('Processed {} lines out of {}'.format(\n",
    "     9                                                           counter, len(pairs)))\n",
    "    10                                                   # convert lists of annotations to sets in order to speed up comparisons\n",
    "    11                                           #         propagated_pair = list(set(i) for i in propagated_pair)\n",
    "    12      1000        885.0      0.9      0.0          pair_count, label_one_count_exclusive, label_two_count_exclusive, label_one_count, label_two_count, absent_count, total_count = count_presences_propagated(\n",
    "    13      1000        701.0      0.7      0.0              propagated_pair, ppi_df, column_A, column_B,\n",
    "    14      1000   88386176.0  88386.2     96.3              merged_annotations)\n",
    "    15      1000    3223449.0   3223.4      3.5          pairwise._calc_assoc_measures(pair, results_dict, pair_count, label_one_count_exclusive, label_two_count_exclusive, label_one_count, label_two_count, absent_count, total_count, go_dict)\n",
    "    \n",
    "```\n",
    "\n",
    "---\n",
    "Old version still converted the propagated pair sets to list, which is no longer required.\n",
    "\n",
    "```\n",
    "Timer unit: 1e-06 s\n",
    "\n",
    "Total time: 95.401 s\n",
    "File: <ipython-input-65-09a22af8a058>\n",
    "Function: fast at line 1\n",
    "\n",
    "Line #      Hits         Time  Per Hit   % Time  Line Contents\n",
    "==============================================================\n",
    "     1                                           def fast(pairs, go_dict, ppi_df, column_A, column_B, merged_annotations):\n",
    "     2         1          2.0      2.0      0.0      results_dict = {'pmi': {},'G': {},'chi2': {},'fisher': {},'phi': {},'min_count': {},'counts': {},'depth': {}}\n",
    "     3         1     169316.0 169316.0      0.2      pairs_dict = _propagate_pairs_list(list(pairs)[:1000], go_dict)\n",
    "     4         1          2.0      2.0      0.0      counter = 0\n",
    "     5      1001       8571.0      8.6      0.0      for pair, propagated_pair in pairs_dict.items():\n",
    "     6      1000       1013.0      1.0      0.0          counter += 1\n",
    "     7      1000       1125.0      1.1      0.0          if counter % 10000 == 0:\n",
    "     8                                                       print('Processed {} lines out of {}'.format(\n",
    "     9                                                           counter, len(pairs)))\n",
    "    10                                                   # convert lists of annotations to sets in order to speed up comparisons\n",
    "    11      1000      22910.0     22.9      0.0          propagated_pair = list(set(i) for i in propagated_pair)\n",
    "    12      1000       1061.0      1.1      0.0          pair_count, label_one_count_exclusive, label_two_count_exclusive, label_one_count, label_two_count, absent_count, total_count = count_presences_propagated(\n",
    "    13      1000        730.0      0.7      0.0              propagated_pair, ppi_df, column_A, column_B,\n",
    "    14      1000   91837815.0  91837.8     96.3              merged_annotations)\n",
    "    15      1000    3358479.0   3358.5      3.5          pairwise._calc_assoc_measures(pair, results_dict, pair_count, label_one_count_exclusive, label_two_count_exclusive, label_one_count, label_two_count, absent_count, total_count, go_dict)\n",
    "    ```"
   ]
  },
  {
   "cell_type": "markdown",
   "metadata": {},
   "source": [
    "### 3 on the fly calculation of propagated pairs"
   ]
  },
  {
   "cell_type": "markdown",
   "metadata": {},
   "source": [
    "On the fly propagation is an order of magnitude slower! \n",
    "\n",
    "7.06 s ± 269 ms per loop (mean ± std. dev. of 7 runs, 1 loop each)\n",
    "\n",
    "versus\n",
    "\n",
    "1 minute!\n",
    "\n",
    "However, if the separate propagation step is counted, the difference vanishes:\n",
    "\n",
    "1min 12s ± 3.95 s per loop (mean ± std. dev. of 7 runs, 1 loop each)"
   ]
  },
  {
   "cell_type": "code",
   "execution_count": 71,
   "metadata": {
    "scrolled": false
   },
   "outputs": [
    {
     "name": "stdout",
     "output_type": "stream",
     "text": [
      "1min 9s ± 2.45 s per loop (mean ± std. dev. of 7 runs, 1 loop each)\n"
     ]
    }
   ],
   "source": [
    "%%timeit\n",
    "results_dict = {'pmi': {},'G': {},'chi2': {},'fisher': {},'phi': {},'min_count': {},'counts': {},'depth': {}}\n",
    "counter = 0\n",
    "for pair in list(pairs)[:1000]:\n",
    "        propagated_pair = _propagate_pair_list1(pair, go_dict)\n",
    "        counter += 1\n",
    "        if counter % 10000 == 0:\n",
    "            print('Processed {} lines out of {}'.format(\n",
    "                counter, len(pairs)))\n",
    "        propagated_pair = list(set(i) for i in propagated_pair)\n",
    "        pair_count, label_one_count_exclusive, label_two_count_exclusive, label_one_count, label_two_count, absent_count, total_count = count_presences_propagated(\n",
    "            propagated_pair, ppi_df, column_A, column_B,\n",
    "            merged_annotations)\n",
    "\n",
    "        pairwise._calc_assoc_measures(pair, results_dict, pair_count, label_one_count_exclusive, label_two_count_exclusive, label_one_count, label_two_count, absent_count, total_count, go_dict)"
   ]
  },
  {
   "cell_type": "code",
   "execution_count": 73,
   "metadata": {},
   "outputs": [],
   "source": [
    "def mem(pairs, go_dict, ppi_df, column_A, column_B, merged_annotations):\n",
    "    results_dict = {'pmi': {},'G': {},'chi2': {},'fisher': {},'phi': {},'min_count': {},'counts': {},'depth': {}}\n",
    "    counter = 0\n",
    "    for pair in list(pairs)[:1000]:\n",
    "            propagated_pair = _propagate_pair_list1(pair, go_dict)\n",
    "            counter += 1\n",
    "            if counter % 10000 == 0:\n",
    "                print('Processed {} lines out of {}'.format(\n",
    "                    counter, len(pairs)))\n",
    "            propagated_pair = list(set(i) for i in propagated_pair)\n",
    "            pair_count, label_one_count_exclusive, label_two_count_exclusive, label_one_count, label_two_count, absent_count, total_count = count_presences_propagated(\n",
    "                propagated_pair, ppi_df, column_A, column_B,\n",
    "                merged_annotations)\n",
    "\n",
    "            pairwise._calc_assoc_measures(pair, results_dict, pair_count, label_one_count_exclusive, label_two_count_exclusive, label_one_count, label_two_count, absent_count, total_count, go_dict)\n",
    "%lprun -f mem mem(pairs, go_dict, ppi_df, column_A, column_B, merged_annotations)"
   ]
  },
  {
   "cell_type": "markdown",
   "metadata": {},
   "source": [
    "```\n",
    "Timer unit: 1e-06 s\n",
    "\n",
    "Total time: 97.6505 s\n",
    "File: <ipython-input-73-ed576d8dea15>\n",
    "Function: mem at line 1\n",
    "\n",
    "Line #      Hits         Time  Per Hit   % Time  Line Contents\n",
    "==============================================================\n",
    "     1                                           def mem(pairs, go_dict, ppi_df, column_A, column_B, merged_annotations):\n",
    "     2         1          3.0      3.0      0.0      results_dict = {'pmi': {},'G': {},'chi2': {},'fisher': {},'phi': {},'min_count': {},'counts': {},'depth': {}}\n",
    "     3         1          2.0      2.0      0.0      counter = 0\n",
    "     4      1001      56425.0     56.4      0.1      for pair in list(pairs)[:1000]:\n",
    "     5      1000     114686.0    114.7      0.1              propagated_pair = _propagate_pair_list1(pair, go_dict)\n",
    "     6      1000       1170.0      1.2      0.0              counter += 1\n",
    "     7      1000       1101.0      1.1      0.0              if counter % 10000 == 0:\n",
    "     8                                                           print('Processed {} lines out of {}'.format(\n",
    "     9                                                               counter, len(pairs)))\n",
    "    10      1000      11713.0     11.7      0.0              propagated_pair = list(set(i) for i in propagated_pair)\n",
    "    11      1000        883.0      0.9      0.0              pair_count, label_one_count_exclusive, label_two_count_exclusive, label_one_count, label_two_count, absent_count, total_count = count_presences_propagated(\n",
    "    12      1000        762.0      0.8      0.0                  propagated_pair, ppi_df, column_A, column_B,\n",
    "    13      1000   94003924.0  94003.9     96.3                  merged_annotations)\n",
    "    14                                           \n",
    "    15      1000    3459817.0   3459.8      3.5              pairwise._calc_assoc_measures(pair, results_dict, pair_count, label_one_count_exclusive, label_two_count_exclusive, label_one_count, label_two_count, absent_count, total_count, go_dict)\n",
    "```"
   ]
  },
  {
   "cell_type": "markdown",
   "metadata": {},
   "source": [
    "### Generator"
   ]
  },
  {
   "cell_type": "markdown",
   "metadata": {},
   "source": [
    "A generator is equall fast as the other two options, but it doesn't store the object in memory. Clear winner."
   ]
  },
  {
   "cell_type": "code",
   "execution_count": 88,
   "metadata": {},
   "outputs": [],
   "source": [
    "def prop_iterator(pairs, go_dict):\n",
    "    # loop through sets of annotation pairs\n",
    "    for pair in pairs:\n",
    "        propagated_pair = _propagate_pair_list1(pair, go_dict)\n",
    "        yield pair, tuple(propagated_pair)"
   ]
  },
  {
   "cell_type": "code",
   "execution_count": 97,
   "metadata": {},
   "outputs": [
    {
     "name": "stdout",
     "output_type": "stream",
     "text": [
      "('h@IPR001382', 'p@GO:0039526') (['h@IPR001382'], ['p@GO:0039651', 'p@GO:0039650', 'p@GO:0039526', 'p@GO:0019050', 'p@GO:0019051'])\n",
      "('h@IPR000266', 'p@GO:0030683') (['h@IPR000266'], ['p@GO:0039504', 'p@GO:0039591', 'p@GO:0039503', 'p@GO:0039537', 'p@GO:0039723', 'p@GO:0039539', 'p@GO:0039722', 'p@GO:0039502', 'p@GO:0039672', 'p@GO:0039548', 'p@GO:0030683', 'p@GO:0039673', 'p@GO:0039580', 'p@GO:0039699', 'p@GO:0039574', 'p@GO:0046774', 'p@GO:0039557', 'p@GO:0039588', 'p@GO:0039724', 'p@GO:0039505', 'p@GO:0039579', 'p@GO:0039671', 'p@GO:0039545', 'p@GO:0039573', 'p@GO:0046776', 'p@GO:0039540', 'p@GO:0039538', 'p@GO:0039560', 'p@GO:0039554'])\n"
     ]
    }
   ],
   "source": [
    "for pair, propagated_pair in prop_iterator(list(pairs)[:2], go_dict):\n",
    "    print(pair, propagated_pair)"
   ]
  },
  {
   "cell_type": "code",
   "execution_count": 96,
   "metadata": {},
   "outputs": [
    {
     "name": "stdout",
     "output_type": "stream",
     "text": [
      "1min 5s ± 1.53 s per loop (mean ± std. dev. of 7 runs, 1 loop each)\n"
     ]
    }
   ],
   "source": [
    "%%timeit\n",
    "results_dict = {'pmi': {},'G': {},'chi2': {},'fisher': {},'phi': {},'min_count': {},'counts': {},'depth': {}}\n",
    "counter = 0\n",
    "for pair, propagated_pair in prop_iterator(list(pairs)[:1000], go_dict):\n",
    "    counter += 1\n",
    "    if counter % 10000 == 0:\n",
    "        print('Processed {} lines out of {}'.format(\n",
    "            counter, len(pairs)))\n",
    "    # convert lists of annotations to sets in order to speed up comparisons\n",
    "    propagated_pair = list(set(i) for i in propagated_pair)\n",
    "    pair_count, label_one_count_exclusive, label_two_count_exclusive, label_one_count, label_two_count, absent_count, total_count = count_presences_propagated(\n",
    "        propagated_pair, ppi_df, column_A, column_B,\n",
    "        merged_annotations)\n",
    "    pairwise._calc_assoc_measures(pair, results_dict, pair_count, label_one_count_exclusive, label_two_count_exclusive, label_one_count, label_two_count, absent_count, total_count, go_dict)"
   ]
  },
  {
   "cell_type": "code",
   "execution_count": 98,
   "metadata": {},
   "outputs": [
    {
     "data": {
      "text/plain": [
       "{'pmi': {('h@IPR001382', 'p@GO:0039526'): 1.2298782593312223,\n",
       "  ('h@IPR000266', 'p@GO:0030683'): 0.4171676644147274,\n",
       "  ('h@GO:0030425', 'p@IPR036915'): 0.8424079086838426,\n",
       "  ('h@GO:0007267', 'p@IPR003470'): 0.5390360128749159,\n",
       "  ('h@IPR014401', 'p@GO:0005515'): 0.4738220338312717},\n",
       " 'G': {('h@IPR001382', 'p@GO:0039526'): {'G': 0.6964506858863668,\n",
       "   'p-value': 0.4039788914325656,\n",
       "   'df': 1,\n",
       "   'exp': array([[4.26353422e-01, 2.08657365e+03],\n",
       "          [2.57364658e+00, 1.25954264e+04]])},\n",
       "  ('h@IPR000266', 'p@GO:0030683'): {'G': 0.228019408326126,\n",
       "   'p-value': 0.6329963119819196,\n",
       "   'df': 1,\n",
       "   'exp': array([[1.49778686e+00, 4.39750221e+03],\n",
       "          [3.50221314e+00, 1.02824978e+04]])},\n",
       "  ('h@GO:0030425', 'p@IPR036915'): {'G': 0.5996225730576674,\n",
       "   'p-value': 0.4387220677981275,\n",
       "   'df': 1,\n",
       "   'exp': array([[1.11542390e+00, 2.48845761e+01],\n",
       "          [6.28884576e+02, 1.40301154e+04]])},\n",
       "  ('h@GO:0007267', 'p@IPR003470'): {'G': 0.3956444220808353,\n",
       "   'p-value': 0.5293472753277543,\n",
       "   'df': 1,\n",
       "   'exp': array([[2.06469186e+00, 3.79353081e+01],\n",
       "          [7.55935308e+02, 1.38890647e+04]])},\n",
       "  ('h@IPR014401', 'p@GO:0005515'): {'G': 0.48987388961574774,\n",
       "   'p-value': 0.48398356478782945,\n",
       "   'df': 1,\n",
       "   'exp': array([[2.16016343e+00, 5.28483984e+03],\n",
       "          [3.83983657e+00, 9.39416016e+03]])}},\n",
       " 'chi2': {('h@IPR001382', 'p@GO:0039526'): {'chi2': 0.014831889145744782,\n",
       "   'p-value': 0.9030683088141507,\n",
       "   'df': 1,\n",
       "   'exp': array([[4.26353422e-01, 2.08657365e+03],\n",
       "          [2.57364658e+00, 1.25954264e+04]])},\n",
       "  ('h@IPR000266', 'p@GO:0030683'): {'chi2': 4.670293034420388e-06,\n",
       "   'p-value': 0.9982757041263477,\n",
       "   'df': 1,\n",
       "   'exp': array([[1.49778686e+00, 4.39750221e+03],\n",
       "          [3.50221314e+00, 1.02824978e+04]])},\n",
       "  ('h@GO:0030425', 'p@IPR036915'): {'chi2': 0.13878334086201455,\n",
       "   'p-value': 0.709493544257194,\n",
       "   'df': 1,\n",
       "   'exp': array([[1.11542390e+00, 2.48845761e+01],\n",
       "          [6.28884576e+02, 1.40301154e+04]])},\n",
       "  ('h@GO:0007267', 'p@IPR003470'): {'chi2': 0.09703742772091815,\n",
       "   'p-value': 0.7554142258404931,\n",
       "   'df': 1,\n",
       "   'exp': array([[2.06469186e+00, 3.79353081e+01],\n",
       "          [7.55935308e+02, 1.38890647e+04]])},\n",
       "  ('h@IPR014401', 'p@GO:0005515'): {'chi2': 0.0835736940236678,\n",
       "   'p-value': 0.772511624534294,\n",
       "   'df': 1,\n",
       "   'exp': array([[2.16016343e+00, 5.28483984e+03],\n",
       "          [3.83983657e+00, 9.39416016e+03]])}},\n",
       " 'fisher': {('h@IPR001382', 'p@GO:0039526'): {'oddsration': 3.019175455417066,\n",
       "   'p-value': 0.3686527983761095},\n",
       "  ('h@IPR000266', 'p@GO:0030683'): {'oddsration': 1.5590933212038511,\n",
       "   'p-value': 0.6394357183970597},\n",
       "  ('h@GO:0030425', 'p@IPR036915'): {'oddsration': 1.8618630573248407,\n",
       "   'p-value': 0.30752071360844574},\n",
       "  ('h@GO:0007267', 'p@IPR003470'): {'oddsration': 1.4916771075711472,\n",
       "   'p-value': 0.4609390292154896},\n",
       "  ('h@IPR014401', 'p@GO:0005515'): {'oddsration': 1.778009084027252,\n",
       "   'p-value': 0.6737938467990303}},\n",
       " 'phi': {},\n",
       " 'min_count': {('h@IPR001382', 'p@GO:0039526'): 1,\n",
       "  ('h@IPR000266', 'p@GO:0030683'): 2,\n",
       "  ('h@GO:0030425', 'p@IPR036915'): 2,\n",
       "  ('h@GO:0007267', 'p@IPR003470'): 3,\n",
       "  ('h@IPR014401', 'p@GO:0005515'): 3},\n",
       " 'counts': {('h@IPR001382', 'p@GO:0039526'): {'pair_count': 1,\n",
       "   'label_one_count_exclusive': 2,\n",
       "   'label_two_count_exclusive': 2086,\n",
       "   'label_one_count': 3,\n",
       "   'label_two_count': 2087,\n",
       "   'absent_count': 12596,\n",
       "   'total_count': 14685},\n",
       "  ('h@IPR000266', 'p@GO:0030683'): {'pair_count': 2,\n",
       "   'label_one_count_exclusive': 3,\n",
       "   'label_two_count_exclusive': 4397,\n",
       "   'label_one_count': 5,\n",
       "   'label_two_count': 4399,\n",
       "   'absent_count': 10283,\n",
       "   'total_count': 14685},\n",
       "  ('h@GO:0030425', 'p@IPR036915'): {'pair_count': 2,\n",
       "   'label_one_count_exclusive': 628,\n",
       "   'label_two_count_exclusive': 24,\n",
       "   'label_one_count': 630,\n",
       "   'label_two_count': 26,\n",
       "   'absent_count': 14031,\n",
       "   'total_count': 14685},\n",
       "  ('h@GO:0007267', 'p@IPR003470'): {'pair_count': 3,\n",
       "   'label_one_count_exclusive': 755,\n",
       "   'label_two_count_exclusive': 37,\n",
       "   'label_one_count': 758,\n",
       "   'label_two_count': 40,\n",
       "   'absent_count': 13890,\n",
       "   'total_count': 14685},\n",
       "  ('h@IPR014401', 'p@GO:0005515'): {'pair_count': 3,\n",
       "   'label_one_count_exclusive': 3,\n",
       "   'label_two_count_exclusive': 5284,\n",
       "   'label_one_count': 6,\n",
       "   'label_two_count': 5287,\n",
       "   'absent_count': 9395,\n",
       "   'total_count': 14685}},\n",
       " 'depth': {('h@IPR001382', 'p@GO:0039526'): {'protein_A': None,\n",
       "   'protein_B': 7},\n",
       "  ('h@IPR000266', 'p@GO:0030683'): {'protein_A': None, 'protein_B': 6},\n",
       "  ('h@GO:0030425', 'p@IPR036915'): {'protein_A': 4, 'protein_B': None},\n",
       "  ('h@GO:0007267', 'p@IPR003470'): {'protein_A': 2, 'protein_B': None},\n",
       "  ('h@IPR014401', 'p@GO:0005515'): {'protein_A': None, 'protein_B': 2}}}"
      ]
     },
     "execution_count": 98,
     "metadata": {},
     "output_type": "execute_result"
    }
   ],
   "source": [
    "results_dict"
   ]
  },
  {
   "cell_type": "markdown",
   "metadata": {},
   "source": [
    "## Effect of conditional inside versus outside loops"
   ]
  },
  {
   "cell_type": "markdown",
   "metadata": {},
   "source": [
    "Barely any effect at all."
   ]
  },
  {
   "cell_type": "code",
   "execution_count": 99,
   "metadata": {},
   "outputs": [],
   "source": [
    "prop = True\n",
    "fast = True"
   ]
  },
  {
   "cell_type": "code",
   "execution_count": 101,
   "metadata": {},
   "outputs": [
    {
     "name": "stdout",
     "output_type": "stream",
     "text": [
      "1min 4s ± 4.14 s per loop (mean ± std. dev. of 7 runs, 1 loop each)\n"
     ]
    }
   ],
   "source": [
    "%%timeit\n",
    "results_dict = {'pmi': {},'G': {},'chi2': {},'fisher': {},'phi': {},'min_count': {},'counts': {},'depth': {}}\n",
    "counter = 0\n",
    "for pair, propagated_pair in prop_iterator(list(pairs)[:1000], go_dict):\n",
    "    if prop:\n",
    "        if fast:\n",
    "            counter += 1\n",
    "            if counter % 10000 == 0:\n",
    "                print('Processed {} lines out of {}'.format(\n",
    "                    counter, len(pairs)))\n",
    "            # convert lists of annotations to sets in order to speed up comparisons\n",
    "            propagated_pair = list(set(i) for i in propagated_pair)\n",
    "            pair_count, label_one_count_exclusive, label_two_count_exclusive, label_one_count, label_two_count, absent_count, total_count = count_presences_propagated(\n",
    "                propagated_pair, ppi_df, column_A, column_B,\n",
    "                merged_annotations)\n",
    "            pairwise._calc_assoc_measures(pair, results_dict, pair_count, label_one_count_exclusive, label_two_count_exclusive, label_one_count, label_two_count, absent_count, total_count, go_dict)\n",
    "        else:\n",
    "            counter += 1\n",
    "            if counter % 10000 == 0:\n",
    "                print('Processed {} lines out of {}'.format(\n",
    "                    counter, len(pairs)))\n",
    "            # convert lists of annotations to sets in order to speed up comparisons\n",
    "            propagated_pair = list(set(i) for i in propagated_pair)\n",
    "            pair_count, label_one_count_exclusive, label_two_count_exclusive, label_one_count, label_two_count, absent_count, total_count = count_presences_propagated(\n",
    "                propagated_pair, ppi_df, column_A, column_B,\n",
    "                merged_annotations)\n",
    "            pairwise._calc_assoc_measures(pair, results_dict, pair_count, label_one_count_exclusive, label_two_count_exclusive, label_one_count, label_two_count, absent_count, total_count, go_dict)\n",
    "    else:\n",
    "        counter += 1\n",
    "        if counter % 10000 == 0:\n",
    "            print('Processed {} lines out of {}'.format(\n",
    "                counter, len(pairs)))\n",
    "        # convert lists of annotations to sets in order to speed up comparisons\n",
    "        propagated_pair = list(set(i) for i in propagated_pair)\n",
    "        pair_count, label_one_count_exclusive, label_two_count_exclusive, label_one_count, label_two_count, absent_count, total_count = count_presences_propagated(\n",
    "            propagated_pair, ppi_df, column_A, column_B,\n",
    "            merged_annotations)\n",
    "        pairwise._calc_assoc_measures(pair, results_dict, pair_count, label_one_count_exclusive, label_two_count_exclusive, label_one_count, label_two_count, absent_count, total_count, go_dict)\n"
   ]
  }
 ],
 "metadata": {
  "hide_input": false,
  "kernelspec": {
   "display_name": "Python [conda env:hpi]",
   "language": "python",
   "name": "conda-env-hpi-py"
  },
  "language_info": {
   "codemirror_mode": {
    "name": "ipython",
    "version": 3
   },
   "file_extension": ".py",
   "mimetype": "text/x-python",
   "name": "python",
   "nbconvert_exporter": "python",
   "pygments_lexer": "ipython3",
   "version": "3.6.8"
  },
  "toc": {
   "base_numbering": 1,
   "nav_menu": {},
   "number_sections": true,
   "sideBar": true,
   "skip_h1_title": false,
   "title_cell": "Table of Contents",
   "title_sidebar": "Contents",
   "toc_cell": true,
   "toc_position": {},
   "toc_section_display": true,
   "toc_window_display": true
  },
  "varInspector": {
   "cols": {
    "lenName": 16,
    "lenType": 16,
    "lenVar": 40
   },
   "kernels_config": {
    "python": {
     "delete_cmd_postfix": "",
     "delete_cmd_prefix": "del ",
     "library": "var_list.py",
     "varRefreshCmd": "print(var_dic_list())"
    },
    "r": {
     "delete_cmd_postfix": ") ",
     "delete_cmd_prefix": "rm(",
     "library": "var_list.r",
     "varRefreshCmd": "cat(var_dic_list()) "
    }
   },
   "types_to_exclude": [
    "module",
    "function",
    "builtin_function_or_method",
    "instance",
    "_Feature"
   ],
   "window_display": false
  }
 },
 "nbformat": 4,
 "nbformat_minor": 2
}
