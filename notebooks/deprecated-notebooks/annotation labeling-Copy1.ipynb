{
 "cells": [
  {
   "cell_type": "code",
   "execution_count": 1,
   "metadata": {},
   "outputs": [],
   "source": [
    "import argparse\n",
    "import numpy as np\n",
    "import pandas as pd\n",
    "\n",
    "from pathlib import Path\n",
    "\n",
    "from goscripts import obo_tools\n",
    "from goscripts import gaf_parser\n",
    "\n",
    "from phppipy.dataprep import taxonid\n",
    "from phppipy.ppi_tools import id_mapper\n",
    "from phppipy.ppi_tools import label_interpro\n",
    "from phppipy.ppi_tools import label_go\n",
    "from phppipy.ppi_tools import ppi_filter"
   ]
  },
  {
   "cell_type": "code",
   "execution_count": 2,
   "metadata": {},
   "outputs": [
    {
     "name": "stdout",
     "output_type": "stream",
     "text": [
      "Retrieved 47179 GO terms from /media/pieter/DATA/Wetenschap/Doctoraat/projects/host-pathogen-ppi-analysis/data/raw/go_data/go.obo \n",
      "\n",
      "Adding secondary GO identifiers...\n",
      "\n"
     ]
    }
   ],
   "source": [
    "obo_path = Path('/media/pieter/DATA/Wetenschap/Doctoraat/projects/host-pathogen-ppi-analysis/data/raw/go_data/go.obo')\n",
    "go_dict = obo_tools.importOBO(obo_path, ignore_part_of=False)"
   ]
  },
  {
   "cell_type": "code",
   "execution_count": 3,
   "metadata": {},
   "outputs": [],
   "source": [
    "obo_tools.buildGOtree(go_dict, root_nodes=['GO:0008150', 'GO:0005575', 'GO:0003674'])"
   ]
  },
  {
   "cell_type": "code",
   "execution_count": 4,
   "metadata": {
    "scrolled": true
   },
   "outputs": [
    {
     "name": "stdout",
     "output_type": "stream",
     "text": [
      "PPIs were imported from /media/pieter/DATA/Wetenschap/Doctoraat/projects/host-pathogen-ppi-analysis/data/interim/10292/ppi_data/ppi-filter-remap.tsv\n",
      "\n",
      "Retrieved 2995 annotated (background filtered) Uniprot AC's from /media/pieter/DATA/Wetenschap/Doctoraat/projects/host-pathogen-ppi-analysis/data/interim/10292/go_data/goa_uniprot.gaf\n",
      "\n"
     ]
    }
   ],
   "source": [
    "ppi_file = Path('/media/pieter/DATA/Wetenschap/Doctoraat/projects/host-pathogen-ppi-analysis/data/interim/10292/ppi_data/ppi-filter-remap.tsv')\n",
    "ppi_df = pd.read_csv(ppi_file, sep='\\t', header=0)\n",
    "print('PPIs were imported from {}\\n'.format(ppi_file))\n",
    "protein_set = set(ppi_df.xref_A.append(ppi_df.xref_B, ignore_index=True).str.extract('^.*:(\\w*)-?', expand=False).unique())\n",
    "\n",
    "gaf_path = Path('/media/pieter/DATA/Wetenschap/Doctoraat/projects/host-pathogen-ppi-analysis/data/interim/10292/go_data/goa_uniprot.gaf')\n",
    "gaf_dict = gaf_parser.importGAF(gaf_path, protein_set)"
   ]
  },
  {
   "cell_type": "code",
   "execution_count": 5,
   "metadata": {
    "scrolled": true
   },
   "outputs": [
    {
     "name": "stdout",
     "output_type": "stream",
     "text": [
      "Retrieved 2995 annotated (background filtered) Uniprot AC's from /media/pieter/DATA/Wetenschap/Doctoraat/projects/host-pathogen-ppi-analysis/data/interim/all/go_data/goa_uniprot.gaf\n",
      "\n"
     ]
    }
   ],
   "source": [
    "gaf_path = Path('/media/pieter/DATA/Wetenschap/Doctoraat/projects/host-pathogen-ppi-analysis/data/interim/all/go_data/goa_uniprot.gaf')\n",
    "gaf_dict2 = gaf_parser.importGAF(gaf_path, protein_set)"
   ]
  },
  {
   "cell_type": "code",
   "execution_count": 6,
   "metadata": {},
   "outputs": [
    {
     "data": {
      "text/plain": [
       "set()"
      ]
     },
     "execution_count": 6,
     "metadata": {},
     "output_type": "execute_result"
    }
   ],
   "source": [
    "{key for key in gaf_dict if key not in gaf_dict2}"
   ]
  },
  {
   "cell_type": "code",
   "execution_count": 7,
   "metadata": {},
   "outputs": [
    {
     "data": {
      "text/plain": [
       "0            {IPR000198, IPR036865, IPR008936, IPR001251}\n",
       "1                                  {IPR029199, IPR026667}\n",
       "2                       {IPR011992, IPR018247, IPR002048}\n",
       "3       {IPR034769, IPR035979, IPR034772, IPR012677, I...\n",
       "4       {IPR028889, IPR016024, IPR001394, IPR038765, I...\n",
       "5                                             {IPR004882}\n",
       "6            {IPR013026, IPR019734, IPR011990, IPR007192}\n",
       "7            {IPR016024, IPR003890, IPR009818, IPR016021}\n",
       "8            {IPR006594, IPR006595, IPR013144, IPR024964}\n",
       "9                       {IPR000086, IPR015797, IPR016706}\n",
       "10                                            {IPR007854}\n",
       "11                                 {IPR029199, IPR026668}\n",
       "12      {IPR006652, IPR008979, IPR006595, IPR015915, I...\n",
       "13      {IPR011989, IPR016024, IPR025640, IPR035445, I...\n",
       "14      {IPR036028, IPR036871, IPR035558, IPR037426, I...\n",
       "15                                            {IPR031887}\n",
       "16      {IPR036028, IPR036871, IPR035557, IPR001452, I...\n",
       "17           {IPR000719, IPR008271, IPR011009, IPR017441}\n",
       "18           {IPR001940, IPR036034, IPR009003, IPR001478}\n",
       "19      {IPR011108, IPR035639, IPR025069, IPR027075, I...\n",
       "20                      {IPR003131, IPR000210, IPR011333}\n",
       "21      {IPR013144, IPR024964, IPR027714, IPR006595, I...\n",
       "22      {IPR028889, IPR016024, IPR001394, IPR038765, I...\n",
       "23           {IPR015943, IPR001680, IPR017986, IPR036322}\n",
       "24                      {IPR003131, IPR000210, IPR011333}\n",
       "25           {IPR029149, IPR007865, IPR036005, IPR000994}\n",
       "26                      {IPR020789, IPR023580, IPR000268}\n",
       "27                                 {IPR012340, IPR005570}\n",
       "28                                 {IPR009053, IPR004127}\n",
       "29      {IPR011990, IPR001440, IPR013026, IPR019734, I...\n",
       "                              ...                        \n",
       "7721                               {IPR001380, IPR018256}\n",
       "7722         {IPR029048, IPR013126, IPR029047, IPR018181}\n",
       "7723                    {IPR007125, IPR000558, IPR009072}\n",
       "7724                    {IPR000424, IPR011344, IPR012340}\n",
       "7725    {IPR033922, IPR006096, IPR036291, IPR006097, I...\n",
       "7726    {IPR025735, IPR011029, IPR001245, IPR008271, I...\n",
       "7727    {IPR036915, IPR028309, IPR015030, IPR002720, I...\n",
       "7728    {IPR031693, IPR036600, IPR013194, IPR003822, I...\n",
       "7729         {IPR000719, IPR008271, IPR011009, IPR024678}\n",
       "7730                    {IPR027417, IPR036855, IPR000571}\n",
       "7731    {IPR016453, IPR020472, IPR015943, IPR001680, I...\n",
       "7732    {IPR003597, IPR036179, IPR013106, IPR003599, I...\n",
       "7733         {IPR001650, IPR000330, IPR014001, IPR027417}\n",
       "7734                               {IPR036770, IPR020683}\n",
       "7735                               {IPR033182, IPR019166}\n",
       "7736                    {IPR007671, IPR037941, IPR007672}\n",
       "7737         {IPR023313, IPR027230, IPR016135, IPR000608}\n",
       "7738    {IPR001005, IPR017884, IPR033497, IPR037518, I...\n",
       "7739    {IPR000454, IPR020537, IPR038662, IPR035921, I...\n",
       "7740    {IPR001216, IPR036052, IPR001926, IPR000644, I...\n",
       "7741    {IPR003034, IPR036361, IPR023321, IPR004181, I...\n",
       "7742    {IPR036358, IPR038007, IPR008967, IPR037095, I...\n",
       "7743                                                  NaN\n",
       "7744         {IPR027663, IPR000938, IPR036859, IPR022157}\n",
       "7745                                          {IPR000074}\n",
       "7746                               {IPR025607, IPR005485}\n",
       "7747    {IPR028559, IPR001715, IPR017868, IPR036872, I...\n",
       "7748    {IPR033173, IPR034085, IPR011989, IPR016024, I...\n",
       "7749                                          {IPR033372}\n",
       "7750                               {IPR012577, IPR011008}\n",
       "Name: interpro_xref_A, Length: 7751, dtype: object"
      ]
     },
     "execution_count": 7,
     "metadata": {},
     "output_type": "execute_result"
    }
   ],
   "source": [
    "interpro_path = Path('/media/pieter/DATA/Wetenschap/Doctoraat/projects/host-pathogen-ppi-analysis/data/interim/all/interpro/protein2ipr.dat')\n",
    "interpro_dict = label_interpro.create_uniprot2interpro_dict(interpro_path, protein_set)\n",
    "label_interpro.annotate_interpro(ppi_df, interpro_dict)\n",
    "ppi_df.interpro_xref_A"
   ]
  },
  {
   "cell_type": "code",
   "execution_count": 8,
   "metadata": {},
   "outputs": [
    {
     "data": {
      "text/plain": [
       "0       uniprotkb:Q07960\n",
       "1       uniprotkb:Q9Y2W1\n",
       "2       uniprotkb:Q06190\n",
       "3       uniprotkb:Q16630\n",
       "4       uniprotkb:O00507\n",
       "5       uniprotkb:O95232\n",
       "6       uniprotkb:Q9UJX2\n",
       "7       uniprotkb:Q9H074\n",
       "8       uniprotkb:Q9NWU2\n",
       "9       uniprotkb:O43809\n",
       "10      uniprotkb:Q6UN15\n",
       "11      uniprotkb:Q9NYF8\n",
       "12      uniprotkb:Q9UL63\n",
       "13      uniprotkb:O75165\n",
       "14      uniprotkb:Q9Y5X1\n",
       "15      uniprotkb:Q86SQ7\n",
       "16      uniprotkb:Q96RF0\n",
       "17      uniprotkb:Q96PY6\n",
       "18      uniprotkb:O43464\n",
       "19      uniprotkb:Q9P2I0\n",
       "20      uniprotkb:Q8N5Z5\n",
       "21      uniprotkb:Q7L5Y9\n",
       "22      uniprotkb:Q93008\n",
       "23      uniprotkb:Q9C0J8\n",
       "24      uniprotkb:Q14681\n",
       "25      uniprotkb:Q9NQH7\n",
       "26      uniprotkb:P62875\n",
       "27      uniprotkb:P52434\n",
       "28      uniprotkb:O94763\n",
       "29      uniprotkb:Q9H6T3\n",
       "              ...       \n",
       "7721    uniprotkb:A8K4C8\n",
       "7722    uniprotkb:A8K5I0\n",
       "7723    uniprotkb:B2R4S9\n",
       "7724    uniprotkb:A4D1U3\n",
       "7725    uniprotkb:E9KL48\n",
       "7726    uniprotkb:Q13546\n",
       "7727    uniprotkb:P06400\n",
       "7728    uniprotkb:Q96ST3\n",
       "7729    uniprotkb:Q9H4A3\n",
       "7730    uniprotkb:J3QS41\n",
       "7731    uniprotkb:P35606\n",
       "7732    uniprotkb:Q6N094\n",
       "7733    uniprotkb:Q9Y4B4\n",
       "7734    uniprotkb:P42771\n",
       "7735    uniprotkb:Q6UXV4\n",
       "7736    uniprotkb:P49908\n",
       "7737    uniprotkb:P63279\n",
       "7738    uniprotkb:Q5VVJ2\n",
       "7739    uniprotkb:P48201\n",
       "7740    uniprotkb:P35520\n",
       "7741    uniprotkb:O75925\n",
       "7742    uniprotkb:Q06330\n",
       "7743    uniprotkb:Q9NPI7\n",
       "7744    uniprotkb:Q14203\n",
       "7745    uniprotkb:P02647\n",
       "7746    uniprotkb:P46777\n",
       "7747    uniprotkb:P21333\n",
       "7748    uniprotkb:Q92616\n",
       "7749    uniprotkb:Q15025\n",
       "7750    uniprotkb:O75323\n",
       "Name: xref_A, Length: 7751, dtype: object"
      ]
     },
     "execution_count": 8,
     "metadata": {},
     "output_type": "execute_result"
    }
   ],
   "source": [
    "ppi_df.xref_A"
   ]
  },
  {
   "cell_type": "code",
   "execution_count": 9,
   "metadata": {},
   "outputs": [],
   "source": [
    "protein_set = set(ppi_df.xref_A.append(ppi_df.xref_B, ignore_index=True).str.extract('^.*:(\\w*)-?', expand=False).unique())"
   ]
  },
  {
   "cell_type": "code",
   "execution_count": 10,
   "metadata": {},
   "outputs": [],
   "source": [
    "protein_set2 = set(pd.Series(pd.unique(ppi_df[['xref_A','xref_B']].values.ravel('K'))).str.extract('^.*:(\\w*)-?', expand=False))"
   ]
  },
  {
   "cell_type": "code",
   "execution_count": 11,
   "metadata": {},
   "outputs": [
    {
     "data": {
      "text/plain": [
       "True"
      ]
     },
     "execution_count": 11,
     "metadata": {},
     "output_type": "execute_result"
    }
   ],
   "source": [
    "protein_set == protein_set2"
   ]
  },
  {
   "cell_type": "code",
   "execution_count": 12,
   "metadata": {},
   "outputs": [],
   "source": [
    "label_go.annotate_GO(ppi_df, gaf_dict)\n",
    "ppi_df2 = ppi_df.copy()\n",
    "label_go.annotate_GO(ppi_df2, gaf_dict2)"
   ]
  },
  {
   "cell_type": "code",
   "execution_count": 13,
   "metadata": {
    "scrolled": true
   },
   "outputs": [
    {
     "ename": "KeyError",
     "evalue": "\"['xref_A_GO' 'xref_B_GO'] not in index\"",
     "output_type": "error",
     "traceback": [
      "\u001b[0;31m---------------------------------------------------------------------------\u001b[0m",
      "\u001b[0;31mKeyError\u001b[0m                                  Traceback (most recent call last)",
      "\u001b[0;32m<ipython-input-13-1d4831fc8edc>\u001b[0m in \u001b[0;36m<module>\u001b[0;34m()\u001b[0m\n\u001b[0;32m----> 1\u001b[0;31m \u001b[0mall\u001b[0m\u001b[0;34m(\u001b[0m\u001b[0mppi_df\u001b[0m\u001b[0;34m[\u001b[0m\u001b[0;34m[\u001b[0m\u001b[0;34m'xref_A_GO'\u001b[0m\u001b[0;34m,\u001b[0m \u001b[0;34m'xref_B_GO'\u001b[0m\u001b[0;34m]\u001b[0m\u001b[0;34m]\u001b[0m \u001b[0;34m==\u001b[0m \u001b[0mppi_df2\u001b[0m\u001b[0;34m[\u001b[0m\u001b[0;34m[\u001b[0m\u001b[0;34m'xref_A_GO'\u001b[0m\u001b[0;34m,\u001b[0m \u001b[0;34m'xref_B_GO'\u001b[0m\u001b[0;34m]\u001b[0m\u001b[0;34m]\u001b[0m\u001b[0;34m)\u001b[0m\u001b[0;34m\u001b[0m\u001b[0m\n\u001b[0m",
      "\u001b[0;32m~/miniconda3/envs/hpi/lib/python3.6/site-packages/pandas/core/frame.py\u001b[0m in \u001b[0;36m__getitem__\u001b[0;34m(self, key)\u001b[0m\n\u001b[1;32m   2131\u001b[0m         \u001b[0;32mif\u001b[0m \u001b[0misinstance\u001b[0m\u001b[0;34m(\u001b[0m\u001b[0mkey\u001b[0m\u001b[0;34m,\u001b[0m \u001b[0;34m(\u001b[0m\u001b[0mSeries\u001b[0m\u001b[0;34m,\u001b[0m \u001b[0mnp\u001b[0m\u001b[0;34m.\u001b[0m\u001b[0mndarray\u001b[0m\u001b[0;34m,\u001b[0m \u001b[0mIndex\u001b[0m\u001b[0;34m,\u001b[0m \u001b[0mlist\u001b[0m\u001b[0;34m)\u001b[0m\u001b[0;34m)\u001b[0m\u001b[0;34m:\u001b[0m\u001b[0;34m\u001b[0m\u001b[0m\n\u001b[1;32m   2132\u001b[0m             \u001b[0;31m# either boolean or fancy integer index\u001b[0m\u001b[0;34m\u001b[0m\u001b[0;34m\u001b[0m\u001b[0m\n\u001b[0;32m-> 2133\u001b[0;31m             \u001b[0;32mreturn\u001b[0m \u001b[0mself\u001b[0m\u001b[0;34m.\u001b[0m\u001b[0m_getitem_array\u001b[0m\u001b[0;34m(\u001b[0m\u001b[0mkey\u001b[0m\u001b[0;34m)\u001b[0m\u001b[0;34m\u001b[0m\u001b[0m\n\u001b[0m\u001b[1;32m   2134\u001b[0m         \u001b[0;32melif\u001b[0m \u001b[0misinstance\u001b[0m\u001b[0;34m(\u001b[0m\u001b[0mkey\u001b[0m\u001b[0;34m,\u001b[0m \u001b[0mDataFrame\u001b[0m\u001b[0;34m)\u001b[0m\u001b[0;34m:\u001b[0m\u001b[0;34m\u001b[0m\u001b[0m\n\u001b[1;32m   2135\u001b[0m             \u001b[0;32mreturn\u001b[0m \u001b[0mself\u001b[0m\u001b[0;34m.\u001b[0m\u001b[0m_getitem_frame\u001b[0m\u001b[0;34m(\u001b[0m\u001b[0mkey\u001b[0m\u001b[0;34m)\u001b[0m\u001b[0;34m\u001b[0m\u001b[0m\n",
      "\u001b[0;32m~/miniconda3/envs/hpi/lib/python3.6/site-packages/pandas/core/frame.py\u001b[0m in \u001b[0;36m_getitem_array\u001b[0;34m(self, key)\u001b[0m\n\u001b[1;32m   2175\u001b[0m             \u001b[0;32mreturn\u001b[0m \u001b[0mself\u001b[0m\u001b[0;34m.\u001b[0m\u001b[0m_take\u001b[0m\u001b[0;34m(\u001b[0m\u001b[0mindexer\u001b[0m\u001b[0;34m,\u001b[0m \u001b[0maxis\u001b[0m\u001b[0;34m=\u001b[0m\u001b[0;36m0\u001b[0m\u001b[0;34m,\u001b[0m \u001b[0mconvert\u001b[0m\u001b[0;34m=\u001b[0m\u001b[0;32mFalse\u001b[0m\u001b[0;34m)\u001b[0m\u001b[0;34m\u001b[0m\u001b[0m\n\u001b[1;32m   2176\u001b[0m         \u001b[0;32melse\u001b[0m\u001b[0;34m:\u001b[0m\u001b[0;34m\u001b[0m\u001b[0m\n\u001b[0;32m-> 2177\u001b[0;31m             \u001b[0mindexer\u001b[0m \u001b[0;34m=\u001b[0m \u001b[0mself\u001b[0m\u001b[0;34m.\u001b[0m\u001b[0mloc\u001b[0m\u001b[0;34m.\u001b[0m\u001b[0m_convert_to_indexer\u001b[0m\u001b[0;34m(\u001b[0m\u001b[0mkey\u001b[0m\u001b[0;34m,\u001b[0m \u001b[0maxis\u001b[0m\u001b[0;34m=\u001b[0m\u001b[0;36m1\u001b[0m\u001b[0;34m)\u001b[0m\u001b[0;34m\u001b[0m\u001b[0m\n\u001b[0m\u001b[1;32m   2178\u001b[0m             \u001b[0;32mreturn\u001b[0m \u001b[0mself\u001b[0m\u001b[0;34m.\u001b[0m\u001b[0m_take\u001b[0m\u001b[0;34m(\u001b[0m\u001b[0mindexer\u001b[0m\u001b[0;34m,\u001b[0m \u001b[0maxis\u001b[0m\u001b[0;34m=\u001b[0m\u001b[0;36m1\u001b[0m\u001b[0;34m,\u001b[0m \u001b[0mconvert\u001b[0m\u001b[0;34m=\u001b[0m\u001b[0;32mTrue\u001b[0m\u001b[0;34m)\u001b[0m\u001b[0;34m\u001b[0m\u001b[0m\n\u001b[1;32m   2179\u001b[0m \u001b[0;34m\u001b[0m\u001b[0m\n",
      "\u001b[0;32m~/miniconda3/envs/hpi/lib/python3.6/site-packages/pandas/core/indexing.py\u001b[0m in \u001b[0;36m_convert_to_indexer\u001b[0;34m(self, obj, axis, is_setter)\u001b[0m\n\u001b[1;32m   1267\u001b[0m                 \u001b[0;32mif\u001b[0m \u001b[0mmask\u001b[0m\u001b[0;34m.\u001b[0m\u001b[0many\u001b[0m\u001b[0;34m(\u001b[0m\u001b[0;34m)\u001b[0m\u001b[0;34m:\u001b[0m\u001b[0;34m\u001b[0m\u001b[0m\n\u001b[1;32m   1268\u001b[0m                     raise KeyError('{mask} not in index'\n\u001b[0;32m-> 1269\u001b[0;31m                                    .format(mask=objarr[mask]))\n\u001b[0m\u001b[1;32m   1270\u001b[0m \u001b[0;34m\u001b[0m\u001b[0m\n\u001b[1;32m   1271\u001b[0m                 \u001b[0;32mreturn\u001b[0m \u001b[0m_values_from_object\u001b[0m\u001b[0;34m(\u001b[0m\u001b[0mindexer\u001b[0m\u001b[0;34m)\u001b[0m\u001b[0;34m\u001b[0m\u001b[0m\n",
      "\u001b[0;31mKeyError\u001b[0m: \"['xref_A_GO' 'xref_B_GO'] not in index\""
     ]
    }
   ],
   "source": [
    "all(ppi_df[['xref_A_GO', 'xref_B_GO']] == ppi_df2[['xref_A_GO', 'xref_B_GO']])"
   ]
  },
  {
   "cell_type": "code",
   "execution_count": null,
   "metadata": {
    "scrolled": true
   },
   "outputs": [],
   "source": [
    "ppi_df['xref_A'].str.extract('^.*:(\\w*)-?', expand=False).apply(lambda x: gaf_dict.get(x, np.NaN))\n",
    "ppi_df['xref_A'].str.extract('^.*:(\\w*)-?', expand=False).map(gaf_dict)"
   ]
  },
  {
   "cell_type": "code",
   "execution_count": null,
   "metadata": {},
   "outputs": [],
   "source": []
  },
  {
   "cell_type": "code",
   "execution_count": null,
   "metadata": {},
   "outputs": [],
   "source": []
  },
  {
   "cell_type": "code",
   "execution_count": null,
   "metadata": {},
   "outputs": [],
   "source": []
  },
  {
   "cell_type": "code",
   "execution_count": null,
   "metadata": {},
   "outputs": [],
   "source": [
    "import argparse\n",
    "import numpy as np\n",
    "import pandas as pd\n",
    "import sys\n",
    "\n",
    "from pathlib import Path\n",
    "\n",
    "from phppipy.ppi_tools import id_mapper\n",
    "from phppipy.ppi_tools import ppi_import\n",
    "from phppipy.ppi_tools import ppi_filter\n",
    "from phppipy.dataprep import taxonid\n",
    "input_dir = Path('/media/pieter/DATA/Wetenschap/Doctoraat/projects/host-pathogen-ppi-analysis/data/raw/ppi_data')\n",
    "mitab_files = input_dir.glob('*.mitab')\n",
    "ppi_df_list = [ppi_import.read_mi_tab(i) for i in mitab_files if i.is_file()]\n",
    "phisto_files = input_dir.glob('phi*.csv')\n",
    "mi_file = input_dir / 'mi.obo'\n",
    "ppi_df_list.extend(\n",
    "    [ppi_import.read_mitab_phisto(i, mi_file) for i in phisto_files])\n",
    "for i in ppi_df_list:\n",
    "    i['origin'] = i.name\n",
    "ppi_df_all = pd.concat(ppi_df_list, axis=0, join='outer', ignore_index=True)\n",
    "# Merge PPI datasets\n",
    "for i in ppi_df_list:\n",
    "    i['origin'] = i.name\n",
    "ppi_df_all = pd.concat(ppi_df_list, axis=0, join='outer', ignore_index=True)"
   ]
  },
  {
   "cell_type": "code",
   "execution_count": 14,
   "metadata": {},
   "outputs": [
    {
     "ename": "NameError",
     "evalue": "name 'ppi_df_all' is not defined",
     "output_type": "error",
     "traceback": [
      "\u001b[0;31m---------------------------------------------------------------------------\u001b[0m",
      "\u001b[0;31mNameError\u001b[0m                                 Traceback (most recent call last)",
      "\u001b[0;32m<ipython-input-14-312fa423f48d>\u001b[0m in \u001b[0;36m<module>\u001b[0;34m()\u001b[0m\n\u001b[0;32m----> 1\u001b[0;31m \u001b[0mid_mapper\u001b[0m\u001b[0;34m.\u001b[0m\u001b[0mcheck_unique_identifier\u001b[0m\u001b[0;34m(\u001b[0m\u001b[0mppi_df_all\u001b[0m\u001b[0;34m)\u001b[0m\u001b[0;34m\u001b[0m\u001b[0m\n\u001b[0m\u001b[1;32m      2\u001b[0m \u001b[0mid_mapper\u001b[0m\u001b[0;34m.\u001b[0m\u001b[0mmap2uniprot\u001b[0m\u001b[0;34m(\u001b[0m\u001b[0mppi_df_all\u001b[0m\u001b[0;34m,\u001b[0m \u001b[0mPath\u001b[0m\u001b[0;34m(\u001b[0m\u001b[0;34m'/media/pieter/DATA/Wetenschap/Doctoraat/projects/host-pathogen-ppi-analysis/data/interim/all/mapping'\u001b[0m\u001b[0;34m)\u001b[0m\u001b[0;34m,\u001b[0m \u001b[0mreviewed_only\u001b[0m\u001b[0;34m=\u001b[0m\u001b[0;32mTrue\u001b[0m\u001b[0;34m,\u001b[0m \u001b[0mskip_creation\u001b[0m\u001b[0;34m=\u001b[0m\u001b[0;32mTrue\u001b[0m\u001b[0;34m)\u001b[0m\u001b[0;34m\u001b[0m\u001b[0m\n",
      "\u001b[0;31mNameError\u001b[0m: name 'ppi_df_all' is not defined"
     ]
    }
   ],
   "source": [
    "id_mapper.check_unique_identifier(ppi_df_all)\n",
    "id_mapper.map2uniprot(ppi_df_all, Path('/media/pieter/DATA/Wetenschap/Doctoraat/projects/host-pathogen-ppi-analysis/data/interim/all/mapping'), reviewed_only=True, skip_creation=True)"
   ]
  },
  {
   "cell_type": "code",
   "execution_count": null,
   "metadata": {},
   "outputs": [],
   "source": []
  },
  {
   "cell_type": "code",
   "execution_count": null,
   "metadata": {},
   "outputs": [],
   "source": []
  },
  {
   "cell_type": "code",
   "execution_count": null,
   "metadata": {},
   "outputs": [],
   "source": [
    "'uniprotkb:F5H9W9' in ppi_df_all.xref_B.values"
   ]
  },
  {
   "cell_type": "code",
   "execution_count": null,
   "metadata": {},
   "outputs": [],
   "source": []
  },
  {
   "cell_type": "code",
   "execution_count": null,
   "metadata": {},
   "outputs": [],
   "source": []
  },
  {
   "cell_type": "code",
   "execution_count": null,
   "metadata": {},
   "outputs": [],
   "source": []
  },
  {
   "cell_type": "code",
   "execution_count": null,
   "metadata": {},
   "outputs": [],
   "source": []
  },
  {
   "cell_type": "code",
   "execution_count": null,
   "metadata": {},
   "outputs": [],
   "source": []
  },
  {
   "cell_type": "code",
   "execution_count": 15,
   "metadata": {},
   "outputs": [],
   "source": [
    "protein_set = set(ppi_df.xref_A.append(ppi_df.xref_B, ignore_index=True).str.extract('^.*:(\\w*)-?', expand=False).unique())"
   ]
  },
  {
   "cell_type": "code",
   "execution_count": 16,
   "metadata": {},
   "outputs": [],
   "source": [
    "protein_set2 = set(pd.Series(pd.unique(ppi_df[['xref_A','xref_B']].values.ravel('K'))).str.extract('^.*:(\\w*)-?', expand=False))"
   ]
  },
  {
   "cell_type": "code",
   "execution_count": 17,
   "metadata": {},
   "outputs": [
    {
     "data": {
      "text/plain": [
       "True"
      ]
     },
     "execution_count": 17,
     "metadata": {},
     "output_type": "execute_result"
    }
   ],
   "source": [
    "protein_set == protein_set2"
   ]
  },
  {
   "cell_type": "code",
   "execution_count": 18,
   "metadata": {},
   "outputs": [
    {
     "ename": "NameError",
     "evalue": "name 'df_herpes' is not defined",
     "output_type": "error",
     "traceback": [
      "\u001b[0;31m---------------------------------------------------------------------------\u001b[0m",
      "\u001b[0;31mNameError\u001b[0m                                 Traceback (most recent call last)",
      "\u001b[0;32m<ipython-input-18-62ddc71ae7cd>\u001b[0m in \u001b[0;36m<module>\u001b[0;34m()\u001b[0m\n\u001b[0;32m----> 1\u001b[0;31m \u001b[0mlabel_go\u001b[0m\u001b[0;34m.\u001b[0m\u001b[0mannotate_GO\u001b[0m\u001b[0;34m(\u001b[0m\u001b[0mdf_herpes\u001b[0m\u001b[0;34m,\u001b[0m \u001b[0mgaf_dict\u001b[0m\u001b[0;34m)\u001b[0m\u001b[0;34m\u001b[0m\u001b[0m\n\u001b[0m",
      "\u001b[0;31mNameError\u001b[0m: name 'df_herpes' is not defined"
     ]
    }
   ],
   "source": [
    "label_go.annotate_GO(df_herpes, gaf_dict)\n"
   ]
  },
  {
   "cell_type": "code",
   "execution_count": null,
   "metadata": {},
   "outputs": [],
   "source": []
  },
  {
   "cell_type": "code",
   "execution_count": 23,
   "metadata": {},
   "outputs": [
    {
     "data": {
      "text/plain": [
       "interpro_xref_A               {IPR029199, IPR026667}\n",
       "interpro_xref_B    {IPR027417, IPR001889, IPR013672}\n",
       "Name: 1, dtype: object"
      ]
     },
     "execution_count": 23,
     "metadata": {},
     "output_type": "execute_result"
    }
   ],
   "source": [
    "d = ppi_df.loc[1, ['interpro_xref_A','interpro_xref_B']]\n",
    "d"
   ]
  },
  {
   "cell_type": "code",
   "execution_count": 21,
   "metadata": {},
   "outputs": [],
   "source": [
    "ppi_df.loc[ppi_df['interpro_xref_B'].isnull(), 'interpro_xref_B'] = ppi_df.loc[ppi_df['interpro_xref_B'].isnull(), 'interpro_xref_B'].apply(lambda x: set())\n",
    "ppi_df.loc[ppi_df['interpro_xref_A'].isnull(), 'interpro_xref_A'] = ppi_df.loc[ppi_df['interpro_xref_A'].isnull(), 'interpro_xref_A'].apply(lambda x: set())\n",
    "ppi_df.loc[ppi_df['GO_xref_B'].isnull(), 'GO_xref_B'] = ppi_df.loc[ppi_df['GO_xref_B'].isnull(), 'GO_xref_B'].apply(lambda x: set())\n",
    "ppi_df.loc[ppi_df['GO_xref_A'].isnull(), 'GO_xref_A'] = ppi_df.loc[ppi_df['GO_xref_A'].isnull(), 'GO_xref_A'].apply(lambda x: set())\n"
   ]
  },
  {
   "cell_type": "code",
   "execution_count": 24,
   "metadata": {},
   "outputs": [
    {
     "data": {
      "text/plain": [
       "{'IPR001889', 'IPR013672', 'IPR026667', 'IPR027417', 'IPR029199'}"
      ]
     },
     "execution_count": 24,
     "metadata": {},
     "output_type": "execute_result"
    }
   ],
   "source": [
    "set().union(*d)"
   ]
  },
  {
   "cell_type": "code",
   "execution_count": null,
   "metadata": {},
   "outputs": [],
   "source": [
    "ppi_df[['interpro_xref_A','interpro_xref_B']].apply(lambda x: set().union(*x), axis=1)"
   ]
  },
  {
   "cell_type": "code",
   "execution_count": null,
   "metadata": {},
   "outputs": [],
   "source": [
    "import itertools\n",
    "type(list(itertools.combinations('ABC', 2))[0])"
   ]
  },
  {
   "cell_type": "code",
   "execution_count": null,
   "metadata": {},
   "outputs": [],
   "source": [
    "set([tuple(sorted(i)) for i in itertools.product([1,2,3],[2,3])])"
   ]
  },
  {
   "cell_type": "code",
   "execution_count": null,
   "metadata": {},
   "outputs": [],
   "source": [
    "list(((x,y) for x in [1,2,3] for y in [2,3]))"
   ]
  },
  {
   "cell_type": "code",
   "execution_count": null,
   "metadata": {},
   "outputs": [],
   "source": [
    "list((x,y) for x in set([1,2,3]) for y in set([2,3]))"
   ]
  },
  {
   "cell_type": "code",
   "execution_count": null,
   "metadata": {},
   "outputs": [],
   "source": []
  },
  {
   "cell_type": "code",
   "execution_count": null,
   "metadata": {},
   "outputs": [],
   "source": [
    "set().union(*ppi_df[['GO_xref_A',]])"
   ]
  },
  {
   "cell_type": "code",
   "execution_count": null,
   "metadata": {},
   "outputs": [],
   "source": []
  },
  {
   "cell_type": "code",
   "execution_count": null,
   "metadata": {},
   "outputs": [],
   "source": [
    "annotation_set = set().union(*ppi_df['GO_xref_B']) | set().union(*ppi_df['GO_xref_A'])"
   ]
  },
  {
   "cell_type": "code",
   "execution_count": null,
   "metadata": {},
   "outputs": [],
   "source": [
    "'IPR001251' in annotation_set"
   ]
  },
  {
   "cell_type": "code",
   "execution_count": null,
   "metadata": {},
   "outputs": [],
   "source": [
    "annotation_set2 = set().union(*ppi_df[['GO_xref_A', 'GO_xref_B']].values.ravel('K'))"
   ]
  },
  {
   "cell_type": "code",
   "execution_count": null,
   "metadata": {},
   "outputs": [],
   "source": [
    "annotation_set == annotation_set2"
   ]
  },
  {
   "cell_type": "code",
   "execution_count": null,
   "metadata": {},
   "outputs": [],
   "source": []
  },
  {
   "cell_type": "code",
   "execution_count": null,
   "metadata": {},
   "outputs": [],
   "source": []
  },
  {
   "cell_type": "code",
   "execution_count": null,
   "metadata": {},
   "outputs": [],
   "source": []
  },
  {
   "cell_type": "code",
   "execution_count": null,
   "metadata": {},
   "outputs": [],
   "source": [
    "len(list(itertools.combinations(annotation_set, 2)))"
   ]
  },
  {
   "cell_type": "code",
   "execution_count": null,
   "metadata": {},
   "outputs": [],
   "source": [
    "set([tuple(sorted(i)) for i in itertools.product(ppi_df['GO_xref_A'],ppi_df['GO_xref_B'])])"
   ]
  },
  {
   "cell_type": "code",
   "execution_count": null,
   "metadata": {},
   "outputs": [],
   "source": [
    "ppi_df['annotation_pairs'] = ppi_df[['GO_xref_A', 'GO_xref_B']].apply(lambda x:\n",
    "                                         set([tuple(sorted(i)) for i in itertools.product(x['GO_xref_A'],x['GO_xref_B'])]), axis=1)"
   ]
  },
  {
   "cell_type": "code",
   "execution_count": null,
   "metadata": {
    "scrolled": true
   },
   "outputs": [],
   "source": []
  },
  {
   "cell_type": "code",
   "execution_count": null,
   "metadata": {},
   "outputs": [],
   "source": [
    "len(set([j for i in pairs for j in i]))"
   ]
  },
  {
   "cell_type": "code",
   "execution_count": null,
   "metadata": {},
   "outputs": [],
   "source": [
    "len(set().union(*pairs))"
   ]
  },
  {
   "cell_type": "code",
   "execution_count": null,
   "metadata": {},
   "outputs": [],
   "source": [
    "type()"
   ]
  },
  {
   "cell_type": "code",
   "execution_count": null,
   "metadata": {},
   "outputs": [],
   "source": [
    "np.sum(ppi_df['annotation_pairs'].apply(lambda x: ('GO:0016197', 'GO:0055036') in x))"
   ]
  },
  {
   "cell_type": "code",
   "execution_count": null,
   "metadata": {},
   "outputs": [],
   "source": [
    " pairs = set().union(*ppi_df['annotation_pairs'])"
   ]
  },
  {
   "cell_type": "code",
   "execution_count": null,
   "metadata": {},
   "outputs": [],
   "source": [
    "list(pairs)[2][1]"
   ]
  },
  {
   "cell_type": "code",
   "execution_count": null,
   "metadata": {},
   "outputs": [],
   "source": []
  },
  {
   "cell_type": "code",
   "execution_count": null,
   "metadata": {},
   "outputs": [],
   "source": [
    "pairs_set.map(('GO:0016020', 'GO:0048471') in pairs_set)"
   ]
  },
  {
   "cell_type": "code",
   "execution_count": null,
   "metadata": {},
   "outputs": [],
   "source": [
    "pd.Series(list(range(10))).map(str)"
   ]
  },
  {
   "cell_type": "code",
   "execution_count": null,
   "metadata": {
    "scrolled": true
   },
   "outputs": [],
   "source": [
    "ppi_df[['GO_xref_A', 'GO_xref_B']].apply(lambda x: set().union(*x), axis=1)"
   ]
  },
  {
   "cell_type": "code",
   "execution_count": null,
   "metadata": {},
   "outputs": [],
   "source": []
  },
  {
   "cell_type": "code",
   "execution_count": null,
   "metadata": {},
   "outputs": [],
   "source": []
  },
  {
   "cell_type": "code",
   "execution_count": null,
   "metadata": {},
   "outputs": [],
   "source": []
  },
  {
   "cell_type": "code",
   "execution_count": null,
   "metadata": {},
   "outputs": [],
   "source": []
  },
  {
   "cell_type": "code",
   "execution_count": null,
   "metadata": {},
   "outputs": [],
   "source": []
  },
  {
   "cell_type": "code",
   "execution_count": null,
   "metadata": {},
   "outputs": [],
   "source": []
  },
  {
   "cell_type": "code",
   "execution_count": null,
   "metadata": {},
   "outputs": [],
   "source": []
  },
  {
   "cell_type": "code",
   "execution_count": null,
   "metadata": {},
   "outputs": [],
   "source": []
  },
  {
   "cell_type": "code",
   "execution_count": 25,
   "metadata": {},
   "outputs": [],
   "source": [
    "def merge_annotations(interaction_dataframe, columns):\n",
    "    \"\"\"Merges the annotations for a protein-protein interaction.\n",
    "\n",
    "    Given two columns of a protein-protein interaction dataframe, each of\n",
    "    which contains a type of annotation data, this function returns the merged\n",
    "    set of those annotations.\n",
    "\n",
    "    E.g. Column 1: {IPR011333, IPR003131, IPR000210}\n",
    "         Column 2: {GO:0046872}\n",
    "         Result: {GO:0046872, IPR011333, IPR003131, IPR000210}\n",
    "\n",
    "    Parameters\n",
    "    ----------\n",
    "    interaction_dataframe : DataFrame\n",
    "        DataFrame containing protein-protein interactions and annotations.\n",
    "    columns : list\n",
    "        A list of annotation columns to merge. Expects the column contents to\n",
    "        be array-like, not strings.\n",
    "\n",
    "    Returns\n",
    "    -------\n",
    "    pandas Series of sets\n",
    "        Array containing a set of annotations for each interaction (row).\n",
    "    \"\"\"\n",
    "\n",
    "    # replace NaNs with empty sets\n",
    "    for i in columns:\n",
    "        interaction_dataframe.loc[interaction_dataframe[\n",
    "            i].isnull(), i] = interaction_dataframe.loc[interaction_dataframe[\n",
    "                i].isnull(), i].apply(lambda x: set())\n",
    "\n",
    "    # join all sets in each supplied column\n",
    "    # the unpacking operator can accept an array of lists or sets\n",
    "    merged_annotations = interaction_dataframe[columns].apply(\n",
    "        lambda x: set().union(*x), axis=1)\n",
    "\n",
    "    return merged_annotations"
   ]
  },
  {
   "cell_type": "code",
   "execution_count": 27,
   "metadata": {},
   "outputs": [
    {
     "data": {
      "text/plain": [
       "0       {GO:0010008, GO:0070062, IPR036865, GO:0048471...\n",
       "1       {GO:0006351, GO:0070062, GO:0007623, GO:004851...\n",
       "2       {GO:0019888, GO:0006470, GO:0001754, GO:009024...\n",
       "3       {GO:0016607, GO:0035061, GO:1990904, IPR035979...\n",
       "4       {GO:0016787, GO:0016579, GO:0070410, GO:000728...\n",
       "5       {GO:0016607, GO:0005685, GO:0003729, GO:000838...\n",
       "6       {GO:0007049, GO:0000278, IPR011990, GO:0004842...\n",
       "7       {GO:0045727, GO:0048255, GO:0005737, GO:000641...\n",
       "8       {IPR013144, IPR024964, IPR006595, GO:0005634, ...\n",
       "9       {GO:0005815, GO:0005737, GO:1990120, GO:004280...\n",
       "10      {GO:0000398, GO:0006406, GO:0005847, GO:000372...\n",
       "11      {GO:0006351, GO:0043620, GO:0016607, GO:000573...\n",
       "12      {GO:0007160, GO:0042995, IPR006652, IPR008979,...\n",
       "13      {GO:0010008, GO:0043231, GO:0001649, GO:007006...\n",
       "14      {GO:0032461, GO:0031625, GO:0030659, GO:007006...\n",
       "15      {GO:0000086, GO:0035148, GO:0005737, GO:009771...\n",
       "16      {GO:0010008, GO:0007049, GO:0000278, GO:003065...\n",
       "17      {GO:0007049, GO:0042769, GO:0016301, GO:000024...\n",
       "18      {GO:0019742, GO:0060548, GO:0097193, GO:001654...\n",
       "19      {GO:0000398, IPR035639, IPR025069, GO:0003723,...\n",
       "20      {IPR000210, IPR011333, GO:0005737, GO:0043161,...\n",
       "21      {GO:0007049, GO:0015629, GO:0004842, GO:000701...\n",
       "22      {GO:0007049, GO:0044267, GO:0071108, IPR028889...\n",
       "23      {GO:0000398, GO:0006406, GO:0005847, GO:000728...\n",
       "24      {GO:0044877, GO:0051260, IPR011333, IPR000210,...\n",
       "25      {GO:0016787, GO:0008237, IPR029149, GO:0003094...\n",
       "26      {GO:0006351, GO:0000398, GO:0001054, GO:000638...\n",
       "27      {GO:0006351, GO:0000398, GO:0001054, GO:000638...\n",
       "28      {GO:0006351, GO:0009615, GO:0010923, GO:007138...\n",
       "29      {IPR011990, GO:0097255, IPR001440, GO:0005829,...\n",
       "                              ...                        \n",
       "7721    {GO:0005829, GO:0005730, GO:0006412, GO:000578...\n",
       "7722    {IPR013126, IPR029048, IPR029047, GO:0005524, ...\n",
       "7723    {GO:0005615, GO:0000786, GO:0050830, GO:001973...\n",
       "7724    {GO:0003677, GO:0003697, GO:0006260, IPR011344...\n",
       "7725    {IPR033524, GO:0005739, IPR033922, GO:0055114,...\n",
       "7726    {GO:0010008, GO:0070926, GO:0031625, GO:003275...\n",
       "7727    {GO:0031625, GO:0051146, GO:0031134, GO:009771...\n",
       "7728    {GO:0006351, GO:0001103, IPR031693, GO:0016575...\n",
       "7729    {GO:0019870, GO:0016301, GO:0016310, GO:001092...\n",
       "7730        {IPR027417, IPR000571, IPR036855, GO:0046872}\n",
       "7731    {IPR016453, IPR020472, IPR001680, GO:0005737, ...\n",
       "7732    {IPR007110, IPR003006, IPR003597, IPR003599, I...\n",
       "7733    {IPR001650, IPR027417, GO:0000166, GO:0003677,...\n",
       "7734    {GO:0007049, GO:0034393, GO:0005737, GO:004589...\n",
       "7735    {GO:0061617, IPR033182, GO:0002576, GO:0005739...\n",
       "7736    {GO:0040007, GO:0031089, GO:0070062, GO:000561...\n",
       "7737    {GO:0016925, GO:0004842, GO:1990234, GO:000573...\n",
       "7738    {GO:0006351, GO:0008237, IPR001005, IPR033497,...\n",
       "7739    {GO:0005215, GO:0000276, GO:0015991, GO:003196...\n",
       "7740    {GO:0031625, GO:0006535, GO:0072341, GO:000815...\n",
       "7741    {GO:0006351, GO:0016925, GO:0031625, GO:000854...\n",
       "7742    {GO:0003151, GO:0001837, GO:0001525, GO:000631...\n",
       "7743     {GO:0005622, GO:0002039, GO:0072332, GO:0003723}\n",
       "7744    {GO:0000086, GO:0005815, GO:0035371, GO:003111...\n",
       "7745    {GO:0060192, GO:0070062, GO:0050728, GO:004280...\n",
       "7746    {GO:0031625, GO:0000184, GO:0070062, GO:000641...\n",
       "7747    {IPR028559, GO:0070062, GO:0048471, GO:0060271...\n",
       "7748    {GO:0033554, GO:0006412, IPR034085, GO:0005737...\n",
       "7749    {GO:0006412, GO:0043124, GO:1903003, GO:000573...\n",
       "7750    {IPR012577, GO:0005737, GO:2000984, GO:0005739...\n",
       "Length: 7751, dtype: object"
      ]
     },
     "execution_count": 27,
     "metadata": {},
     "output_type": "execute_result"
    }
   ],
   "source": [
    "merged_annotations_A"
   ]
  },
  {
   "cell_type": "code",
   "execution_count": 26,
   "metadata": {
    "scrolled": true
   },
   "outputs": [
    {
     "data": {
      "text/plain": [
       "0       {p@GO:0019012, p@GO:0019031, p@GO:0055036, p@G...\n",
       "1       {p@IPR013672, p@IPR001889, p@IPR027417, p@GO:0...\n",
       "2       {p@IPR013672, p@IPR001889, p@IPR027417, p@GO:0...\n",
       "3       {p@IPR013672, p@IPR001889, p@IPR027417, p@GO:0...\n",
       "4       {p@IPR013672, p@IPR001889, p@IPR027417, p@GO:0...\n",
       "5       {p@IPR013672, p@IPR001889, p@IPR027417, p@GO:0...\n",
       "6       {p@IPR013672, p@IPR001889, p@IPR027417, p@GO:0...\n",
       "7       {p@IPR013672, p@IPR001889, p@IPR027417, p@GO:0...\n",
       "8       {p@IPR013672, p@IPR001889, p@IPR027417, p@GO:0...\n",
       "9       {p@IPR013672, p@IPR001889, p@IPR027417, p@GO:0...\n",
       "10      {p@IPR013672, p@IPR001889, p@IPR027417, p@GO:0...\n",
       "11      {p@IPR013672, p@IPR001889, p@IPR027417, p@GO:0...\n",
       "12      {p@IPR013672, p@IPR001889, p@IPR027417, p@GO:0...\n",
       "13      {p@IPR013672, p@IPR001889, p@IPR027417, p@GO:0...\n",
       "14      {p@IPR013672, p@IPR001889, p@IPR027417, p@GO:0...\n",
       "15      {p@IPR013672, p@IPR001889, p@IPR027417, p@GO:0...\n",
       "16      {p@IPR013672, p@IPR001889, p@IPR027417, p@GO:0...\n",
       "17      {p@IPR013672, p@IPR001889, p@IPR027417, p@GO:0...\n",
       "18      {p@IPR013672, p@IPR001889, p@IPR027417, p@GO:0...\n",
       "19      {p@IPR013672, p@IPR001889, p@IPR027417, p@GO:0...\n",
       "20      {p@IPR013672, p@IPR001889, p@IPR027417, p@GO:0...\n",
       "21      {p@IPR013672, p@IPR001889, p@IPR027417, p@GO:0...\n",
       "22      {p@IPR013672, p@IPR001889, p@IPR027417, p@GO:0...\n",
       "23      {p@IPR013672, p@IPR001889, p@IPR027417, p@GO:0...\n",
       "24      {p@IPR013672, p@IPR001889, p@IPR027417, p@GO:0...\n",
       "25      {p@IPR013672, p@IPR001889, p@IPR027417, p@GO:0...\n",
       "26                            {p@IPR004285, p@GO:0005515}\n",
       "27                            {p@IPR004285, p@GO:0005515}\n",
       "28                            {p@IPR004285, p@GO:0005515}\n",
       "29                            {p@IPR004285, p@GO:0005515}\n",
       "                              ...                        \n",
       "7721    {p@IPR005030, p@GO:0016032, p@GO:0006351, p@GO...\n",
       "7722    {p@IPR005030, p@GO:0016032, p@GO:0006351, p@GO...\n",
       "7723    {p@IPR005030, p@GO:0016032, p@GO:0006351, p@GO...\n",
       "7724    {p@IPR005030, p@GO:0016032, p@GO:0006351, p@GO...\n",
       "7725    {p@IPR005030, p@GO:0016032, p@GO:0006351, p@GO...\n",
       "7726    {p@IPR001875, p@IPR011029, p@GO:0042981, p@GO:...\n",
       "7727    {p@IPR005028, p@GO:0006355, p@GO:0042025, p@IP...\n",
       "7728    {p@GO:0042025, p@GO:0003677, p@IPR037007, p@GO...\n",
       "7729                          {p@GO:0006355, p@IPR004998}\n",
       "7730                                        {p@IPR004290}\n",
       "7731                          {p@GO:0006355, p@IPR004998}\n",
       "7732    {p@GO:0030683, p@GO:0039525, p@GO:0016032, p@G...\n",
       "7733    {p@GO:0019031, p@IPR002597, p@GO:0042025, p@GO...\n",
       "7734    {p@IPR005030, p@GO:0016032, p@GO:0006351, p@GO...\n",
       "7735                          {p@GO:0006355, p@IPR004998}\n",
       "7736    {p@GO:0039645, p@GO:0016032, p@IPR007706, p@GO...\n",
       "7737    {p@GO:0019031, p@IPR002597, p@GO:0042025, p@GO...\n",
       "7738                          {p@GO:0019068, p@IPR007611}\n",
       "7739    {p@GO:0044174, p@GO:0044165, p@GO:0044167, p@G...\n",
       "7740                                        {p@IPR004289}\n",
       "7741    {p@GO:0019031, p@IPR002597, p@GO:0042025, p@GO...\n",
       "7742                         {p@GO:0016020, p@GO:0016021}\n",
       "7743                          {p@GO:0019068, p@IPR007611}\n",
       "7744                          {p@GO:0019068, p@IPR007611}\n",
       "7745            {p@GO:0019069, p@IPR004999, p@GO:0003677}\n",
       "7746                          {p@GO:0019068, p@IPR007611}\n",
       "7747                          {p@GO:0006355, p@IPR004998}\n",
       "7748    {p@IPR005030, p@GO:0016032, p@GO:0006351, p@GO...\n",
       "7749    {p@GO:0019031, p@IPR002597, p@GO:0042025, p@GO...\n",
       "7750    {p@IPR005030, p@GO:0016032, p@GO:0006351, p@GO...\n",
       "Length: 7751, dtype: object"
      ]
     },
     "execution_count": 26,
     "metadata": {},
     "output_type": "execute_result"
    }
   ],
   "source": [
    "merged_annotations_A = merge_annotations(ppi_df, ['GO_xref_A', 'interpro_xref_A'])\n",
    "labeled_merged_annotations_A = merged_annotations_A.map(lambda x: set(['h@' + i for i in x]))\n",
    "ppi_df['labeled_merged_annotations_A'] = labeled_merged_annotations_A\n",
    "merged_annotations_B = merge_annotations(ppi_df, ['GO_xref_B', 'interpro_xref_B'])\n",
    "labeled_merged_annotations_B = merged_annotations_B.map(lambda x: set(['p@' + i for i in x]))\n",
    "ppi_df['labeled_merged_annotations_B'] = labeled_merged_annotations_B\n",
    "labeled_merged_annotations_B"
   ]
  },
  {
   "cell_type": "code",
   "execution_count": null,
   "metadata": {
    "scrolled": true
   },
   "outputs": [],
   "source": [
    "test_df = pd.concat([labeled_merged_annotations_A, labeled_merged_annotations_B], axis=1)\n",
    "test_df"
   ]
  },
  {
   "cell_type": "code",
   "execution_count": null,
   "metadata": {},
   "outputs": [],
   "source": [
    "test_dummies = test_df[0].apply(lambda x: pd.Series([1] * len(x), index=x)).fillna(0, downcast='infer')"
   ]
  },
  {
   "cell_type": "code",
   "execution_count": null,
   "metadata": {},
   "outputs": [],
   "source": [
    "test_dummies = pd.concat([i.apply(lambda x: pd.Series([1] * len(x), index=x)).fillna(0, downcast='infer') for i in [labeled_merged_annotations_A]], axis=1)"
   ]
  },
  {
   "cell_type": "code",
   "execution_count": null,
   "metadata": {},
   "outputs": [],
   "source": [
    "test_dummies"
   ]
  },
  {
   "cell_type": "code",
   "execution_count": null,
   "metadata": {},
   "outputs": [],
   "source": [
    "test_dummies2 = pd.concat([i.apply(lambda x: pd.Series([1] * len(x), index=x)).fillna(0, downcast='infer') for i in [labeled_merged_annotations_B]], axis=1)"
   ]
  },
  {
   "cell_type": "code",
   "execution_count": null,
   "metadata": {},
   "outputs": [],
   "source": [
    "dummies_df = pd.concat([test_dummies, test_dummies2], axis=1)"
   ]
  },
  {
   "cell_type": "code",
   "execution_count": 36,
   "metadata": {},
   "outputs": [],
   "source": [
    "import itertools\n",
    "columns = ['labeled_merged_annotations_A', 'labeled_merged_annotations_B']"
   ]
  },
  {
   "cell_type": "code",
   "execution_count": 37,
   "metadata": {},
   "outputs": [
    {
     "data": {
      "text/plain": [
       "0       {(h@GO:0017137, p@GO:0019012), (h@GO:0005515, ...\n",
       "1       {(h@GO:0008380, p@GO:0071897), (h@GO:0051219, ...\n",
       "2       {(h@GO:0007525, p@GO:0071897), (h@GO:0061053, ...\n",
       "3       {(h@GO:0005737, p@GO:0016740), (h@GO:0098789, ...\n",
       "4       {(h@GO:0036459, p@GO:0009157), (h@GO:0005737, ...\n",
       "5       {(h@GO:0008380, p@GO:0071897), (h@GO:0003729, ...\n",
       "6       {(h@IPR019734, p@GO:0006230), (h@GO:0007080, p...\n",
       "7       {(h@GO:0005737, p@GO:0016740), (h@IPR016024, p...\n",
       "8       {(h@IPR006595, p@GO:0016740), (h@GO:0030054, p...\n",
       "9       {(h@GO:0005737, p@GO:0016740), (h@GO:0098789, ...\n",
       "10      {(h@GO:0098789, p@GO:0009157), (h@GO:0006406, ...\n",
       "11      {(h@GO:0043065, p@GO:0016301), (h@IPR026668, p...\n",
       "12      {(h@IPR010565, p@GO:0016301), (h@GO:0005737, p...\n",
       "13      {(h@GO:0016020, p@GO:0004797), (h@IPR001623, p...\n",
       "14      {(h@GO:0005737, p@GO:0016740), (h@GO:0000278, ...\n",
       "15      {(h@GO:0005737, p@GO:0016740), (h@GO:0007098, ...\n",
       "16      {(h@IPR035703, p@GO:0004797), (h@GO:0000278, p...\n",
       "17      {(h@GO:0018108, p@IPR001889), (h@GO:0005737, p...\n",
       "18      {(h@GO:0016020, p@GO:0004797), (h@IPR001940, p...\n",
       "19      {(h@GO:0006406, p@IPR027417), (h@GO:0005847, p...\n",
       "20      {(h@GO:0005737, p@GO:0016740), (h@GO:0005783, ...\n",
       "21      {(h@GO:0005737, p@GO:0016740), (h@GO:0033033, ...\n",
       "22      {(h@GO:0005737, p@GO:0016740), (h@IPR038765, p...\n",
       "23      {(h@GO:0006406, p@IPR027417), (h@GO:0005847, p...\n",
       "24      {(h@IPR003131, p@GO:0009157), (h@GO:0051260, p...\n",
       "25      {(h@GO:0008237, p@GO:0005524), (h@GO:0005737, ...\n",
       "26      {(h@GO:0005654, p@IPR004285), (h@GO:0045815, p...\n",
       "27      {(h@GO:0005654, p@IPR004285), (h@GO:0045815, p...\n",
       "28      {(h@GO:0005654, p@IPR004285), (h@GO:0010923, p...\n",
       "29      {(h@GO:0005829, p@IPR004285), (h@IPR013026, p@...\n",
       "                              ...                        \n",
       "7721    {(h@GO:0003735, p@GO:0016032), (h@GO:0005840, ...\n",
       "7722    {(h@GO:0005524, p@GO:0005515), (h@GO:0000166, ...\n",
       "7723    {(h@GO:0061844, p@GO:0039695), (h@GO:0003677, ...\n",
       "7724    {(h@GO:0003697, p@GO:0042025), (h@GO:0003677, ...\n",
       "7725    {(h@GO:0016639, p@IPR005030), (h@IPR006096, p@...\n",
       "7726    {(h@GO:0043065, p@IPR011029), (h@GO:0035666, p...\n",
       "7727    {(h@GO:0006469, p@GO:0042025), (h@GO:0006915, ...\n",
       "7728    {(h@GO:0005667, p@GO:0003677), (h@GO:0000785, ...\n",
       "7729    {(h@GO:0019870, p@GO:0006355), (h@GO:0019870, ...\n",
       "7730    {(h@GO:0046872, p@IPR004290), (h@IPR027417, p@...\n",
       "7731    {(h@IPR020472, p@GO:0006355), (h@IPR020472, p@...\n",
       "7732    {(h@IPR003599, p@GO:0039503), (h@IPR013783, p@...\n",
       "7733    {(h@IPR001650, p@IPR002597), (h@GO:0005515, p@...\n",
       "7734    {(h@GO:0035985, p@GO:0042025), (h@GO:0045892, ...\n",
       "7735    {(h@GO:0031093, p@GO:0006355), (h@GO:0031093, ...\n",
       "7736    {(h@GO:0009791, p@GO:0039645), (h@IPR007672, p...\n",
       "7737    {(h@IPR027230, p@GO:0030430), (h@GO:0006511, p...\n",
       "7738    {(h@GO:0045944, p@IPR007611), (h@GO:0006355, p...\n",
       "7739    {(h@GO:0005739, p@GO:0044177), (h@GO:0005741, ...\n",
       "7740    {(h@GO:0031625, p@IPR004289), (h@IPR005857, p@...\n",
       "7741    {(h@GO:0005515, p@GO:0019031), (h@GO:0016740, ...\n",
       "7742    {(h@GO:0001103, p@GO:0016020), (h@GO:0010468, ...\n",
       "7743    {(h@GO:0072332, p@IPR007611), (h@GO:0072332, p...\n",
       "7744    {(h@GO:0003774, p@IPR007611), (h@GO:0005869, p...\n",
       "7745    {(h@GO:0005615, p@IPR004999), (h@GO:0001540, p...\n",
       "7746    {(h@GO:0019843, p@GO:0019068), (h@GO:2000059, ...\n",
       "7747    {(h@GO:0043025, p@IPR004998), (h@GO:0046332, p...\n",
       "7748    {(h@IPR034085, p@GO:0016032), (h@GO:0005844, p...\n",
       "7749    {(h@GO:0005515, p@GO:0019031), (h@GO:0042802, ...\n",
       "7750    {(h@GO:1901843, p@GO:0006351), (h@IPR011008, p...\n",
       "Length: 7751, dtype: object"
      ]
     },
     "execution_count": 37,
     "metadata": {},
     "output_type": "execute_result"
    }
   ],
   "source": [
    "ppi_df[columns].apply(lambda x: set([tuple(sorted(i)) for i in itertools.product(x[columns[0]], x[columns[1]])]), axis=1)"
   ]
  },
  {
   "cell_type": "code",
   "execution_count": null,
   "metadata": {},
   "outputs": [],
   "source": []
  },
  {
   "cell_type": "code",
   "execution_count": null,
   "metadata": {},
   "outputs": [],
   "source": [
    "len(pairs)"
   ]
  },
  {
   "cell_type": "code",
   "execution_count": null,
   "metadata": {},
   "outputs": [],
   "source": [
    "import time"
   ]
  },
  {
   "cell_type": "code",
   "execution_count": null,
   "metadata": {},
   "outputs": [],
   "source": [
    "a = time.time()"
   ]
  },
  {
   "cell_type": "code",
   "execution_count": null,
   "metadata": {},
   "outputs": [],
   "source": [
    "b = time.time()\n",
    "b - a"
   ]
  },
  {
   "cell_type": "code",
   "execution_count": null,
   "metadata": {},
   "outputs": [],
   "source": [
    "import itertools\n",
    "ppi_df['annotation_pairs'] = ppi_df[['labeled_merged_annotations_A', 'labeled_merged_annotations_B']].apply(lambda x:\n",
    "                                         set([tuple(sorted(i)) for i in itertools.product(x['labeled_merged_annotations_A'],x['labeled_merged_annotations_B'])]), axis=1)"
   ]
  },
  {
   "cell_type": "code",
   "execution_count": null,
   "metadata": {},
   "outputs": [],
   "source": [
    "pairs = set().union(*ppi_df['annotation_pairs'])"
   ]
  },
  {
   "cell_type": "code",
   "execution_count": null,
   "metadata": {
    "scrolled": true
   },
   "outputs": [],
   "source": [
    "ppi_df.annotation_pairs"
   ]
  },
  {
   "cell_type": "code",
   "execution_count": null,
   "metadata": {
    "scrolled": true
   },
   "outputs": [],
   "source": [
    "len(pairs)"
   ]
  },
  {
   "cell_type": "code",
   "execution_count": null,
   "metadata": {},
   "outputs": [],
   "source": [
    "annotation_set = set().union(*ppi_df['labeled_merged_annotations_A', 'labeled_merged_annotations_B'].values.ravel('K'))\n",
    "list(itertools.combinations(annotation_set, 2))"
   ]
  },
  {
   "cell_type": "code",
   "execution_count": null,
   "metadata": {},
   "outputs": [],
   "source": []
  },
  {
   "cell_type": "code",
   "execution_count": null,
   "metadata": {},
   "outputs": [],
   "source": []
  },
  {
   "cell_type": "code",
   "execution_count": null,
   "metadata": {},
   "outputs": [],
   "source": []
  },
  {
   "cell_type": "code",
   "execution_count": null,
   "metadata": {},
   "outputs": [],
   "source": []
  },
  {
   "cell_type": "code",
   "execution_count": null,
   "metadata": {},
   "outputs": [],
   "source": []
  },
  {
   "cell_type": "code",
   "execution_count": null,
   "metadata": {},
   "outputs": [],
   "source": [
    "ppi_df.shape[0]"
   ]
  },
  {
   "cell_type": "code",
   "execution_count": null,
   "metadata": {},
   "outputs": [],
   "source": [
    "len(pairs)"
   ]
  },
  {
   "cell_type": "code",
   "execution_count": 29,
   "metadata": {
    "scrolled": true
   },
   "outputs": [
    {
     "data": {
      "text/plain": [
       "0       {p@GO:0019012, p@GO:0019031, p@GO:0055036, p@G...\n",
       "1       {p@IPR013672, p@IPR001889, p@IPR027417, p@GO:0...\n",
       "2       {p@IPR013672, p@IPR001889, p@IPR027417, p@GO:0...\n",
       "3       {p@IPR013672, p@IPR001889, p@IPR027417, p@GO:0...\n",
       "4       {p@IPR013672, p@IPR001889, p@IPR027417, p@GO:0...\n",
       "5       {p@IPR013672, p@IPR001889, p@IPR027417, p@GO:0...\n",
       "6       {p@IPR013672, p@IPR001889, p@IPR027417, p@GO:0...\n",
       "7       {p@IPR013672, p@IPR001889, p@IPR027417, p@GO:0...\n",
       "8       {p@IPR013672, p@IPR001889, p@IPR027417, p@GO:0...\n",
       "9       {p@IPR013672, p@IPR001889, p@IPR027417, p@GO:0...\n",
       "10      {p@IPR013672, p@IPR001889, p@IPR027417, p@GO:0...\n",
       "11      {p@IPR013672, p@IPR001889, p@IPR027417, p@GO:0...\n",
       "12      {p@IPR013672, p@IPR001889, p@IPR027417, p@GO:0...\n",
       "13      {p@IPR013672, p@IPR001889, p@IPR027417, p@GO:0...\n",
       "14      {p@IPR013672, p@IPR001889, p@IPR027417, p@GO:0...\n",
       "15      {p@IPR013672, p@IPR001889, p@IPR027417, p@GO:0...\n",
       "16      {p@IPR013672, p@IPR001889, p@IPR027417, p@GO:0...\n",
       "17      {p@IPR013672, p@IPR001889, p@IPR027417, p@GO:0...\n",
       "18      {p@IPR013672, p@IPR001889, p@IPR027417, p@GO:0...\n",
       "19      {p@IPR013672, p@IPR001889, p@IPR027417, p@GO:0...\n",
       "20      {p@IPR013672, p@IPR001889, p@IPR027417, p@GO:0...\n",
       "21      {p@IPR013672, p@IPR001889, p@IPR027417, p@GO:0...\n",
       "22      {p@IPR013672, p@IPR001889, p@IPR027417, p@GO:0...\n",
       "23      {p@IPR013672, p@IPR001889, p@IPR027417, p@GO:0...\n",
       "24      {p@IPR013672, p@IPR001889, p@IPR027417, p@GO:0...\n",
       "25      {p@IPR013672, p@IPR001889, p@IPR027417, p@GO:0...\n",
       "26                            {p@IPR004285, p@GO:0005515}\n",
       "27                            {p@IPR004285, p@GO:0005515}\n",
       "28                            {p@IPR004285, p@GO:0005515}\n",
       "29                            {p@IPR004285, p@GO:0005515}\n",
       "                              ...                        \n",
       "7721    {p@IPR005030, p@GO:0016032, p@GO:0006351, p@GO...\n",
       "7722    {p@IPR005030, p@GO:0016032, p@GO:0006351, p@GO...\n",
       "7723    {p@IPR005030, p@GO:0016032, p@GO:0006351, p@GO...\n",
       "7724    {p@IPR005030, p@GO:0016032, p@GO:0006351, p@GO...\n",
       "7725    {p@IPR005030, p@GO:0016032, p@GO:0006351, p@GO...\n",
       "7726    {p@IPR001875, p@IPR011029, p@GO:0042981, p@GO:...\n",
       "7727    {p@IPR005028, p@GO:0006355, p@GO:0042025, p@IP...\n",
       "7728    {p@GO:0042025, p@GO:0003677, p@IPR037007, p@GO...\n",
       "7729                          {p@GO:0006355, p@IPR004998}\n",
       "7730                                        {p@IPR004290}\n",
       "7731                          {p@GO:0006355, p@IPR004998}\n",
       "7732    {p@GO:0030683, p@GO:0039525, p@GO:0016032, p@G...\n",
       "7733    {p@GO:0019031, p@IPR002597, p@GO:0042025, p@GO...\n",
       "7734    {p@IPR005030, p@GO:0016032, p@GO:0006351, p@GO...\n",
       "7735                          {p@GO:0006355, p@IPR004998}\n",
       "7736    {p@GO:0039645, p@GO:0016032, p@IPR007706, p@GO...\n",
       "7737    {p@GO:0019031, p@IPR002597, p@GO:0042025, p@GO...\n",
       "7738                          {p@GO:0019068, p@IPR007611}\n",
       "7739    {p@GO:0044174, p@GO:0044165, p@GO:0044167, p@G...\n",
       "7740                                        {p@IPR004289}\n",
       "7741    {p@GO:0019031, p@IPR002597, p@GO:0042025, p@GO...\n",
       "7742                         {p@GO:0016020, p@GO:0016021}\n",
       "7743                          {p@GO:0019068, p@IPR007611}\n",
       "7744                          {p@GO:0019068, p@IPR007611}\n",
       "7745            {p@GO:0019069, p@IPR004999, p@GO:0003677}\n",
       "7746                          {p@GO:0019068, p@IPR007611}\n",
       "7747                          {p@GO:0006355, p@IPR004998}\n",
       "7748    {p@IPR005030, p@GO:0016032, p@GO:0006351, p@GO...\n",
       "7749    {p@GO:0019031, p@IPR002597, p@GO:0042025, p@GO...\n",
       "7750    {p@IPR005030, p@GO:0016032, p@GO:0006351, p@GO...\n",
       "Name: labeled_merged_annotations_B, Length: 7751, dtype: object"
      ]
     },
     "execution_count": 29,
     "metadata": {},
     "output_type": "execute_result"
    }
   ],
   "source": [
    "ppi_df['labeled_merged_annotations_B']"
   ]
  },
  {
   "cell_type": "code",
   "execution_count": 28,
   "metadata": {
    "scrolled": true
   },
   "outputs": [
    {
     "data": {
      "text/plain": [
       "0       {h@GO:0017137, h@GO:2001136, p@GO:0019012, h@G...\n",
       "1       {h@GO:0038023, h@GO:0005654, h@GO:0000381, p@I...\n",
       "2       {h@GO:0006470, p@IPR013672, h@GO:0090263, h@GO...\n",
       "3       {h@GO:0005849, h@GO:0005654, p@IPR013672, h@GO...\n",
       "4       {h@GO:0016787, p@IPR013672, h@GO:0070410, h@GO...\n",
       "5       {h@GO:0005654, p@IPR013672, h@GO:0071004, h@GO...\n",
       "6       {h@GO:0005654, h@GO:0007080, p@IPR013672, h@GO...\n",
       "7       {p@IPR013672, p@GO:0004797, p@GO:0006230, h@IP...\n",
       "8       {h@GO:0005654, p@IPR013672, p@GO:0004797, p@GO...\n",
       "9       {h@GO:0005849, h@GO:0005654, p@IPR013672, h@GO...\n",
       "10      {h@GO:0005654, p@IPR013672, h@GO:0005847, h@GO...\n",
       "11      {h@GO:0005654, p@IPR013672, h@GO:0043065, h@GO...\n",
       "12      {p@IPR013672, h@GO:0001726, h@IPR010565, p@GO:...\n",
       "13      {h@GO:0007032, p@IPR013672, h@GO:0015031, h@IP...\n",
       "14      {h@GO:0045860, p@IPR013672, h@GO:0071933, h@GO...\n",
       "15      {p@IPR013672, h@GO:0005814, h@GO:0005856, p@GO...\n",
       "16      {p@IPR013672, h@GO:0015031, p@GO:0004797, h@GO...\n",
       "17      {h@GO:0032147, p@IPR013672, h@GO:0005856, h@GO...\n",
       "18      {h@GO:0034599, h@GO:0035631, h@GO:0035458, h@G...\n",
       "19      {h@GO:0005654, p@IPR013672, h@GO:0005847, h@IP...\n",
       "20      {h@GO:0032469, p@IPR013672, h@GO:0030030, h@GO...\n",
       "21      {h@GO:0005654, h@GO:0007010, p@IPR013672, h@GO...\n",
       "22      {p@IPR013672, h@GO:0007292, h@GO:0030426, p@GO...\n",
       "23      {h@GO:0005654, p@IPR013672, h@GO:0005847, h@GO...\n",
       "24      {p@IPR013672, h@GO:0097602, p@GO:0006230, h@GO...\n",
       "25      {h@GO:0016787, p@IPR013672, h@GO:0006508, p@GO...\n",
       "26      {h@GO:0005654, h@GO:0045815, h@GO:0060964, h@G...\n",
       "27      {h@GO:0042795, h@GO:0005654, h@GO:0045815, h@G...\n",
       "28      {h@GO:0005654, h@IPR009053, h@GO:0019212, h@GO...\n",
       "29      {h@IPR013026, p@IPR004285, h@IPR011990, h@IPR0...\n",
       "                              ...                        \n",
       "7721    {p@IPR005030, h@GO:0005730, h@GO:0003735, p@GO...\n",
       "7722    {p@GO:0039695, p@GO:0042025, p@GO:0005515, h@G...\n",
       "7723    {h@GO:0005654, h@GO:0003677, p@GO:0039695, h@G...\n",
       "7724    {p@IPR005030, h@GO:0006260, p@GO:0016032, h@IP...\n",
       "7725    {p@GO:0039695, h@GO:0006520, p@GO:0042025, h@G...\n",
       "7726    {h@GO:0012501, h@GO:0043065, h@GO:0010942, h@G...\n",
       "7727    {h@GO:0005654, h@GO:0001558, h@GO:0043433, h@I...\n",
       "7728    {h@GO:0005654, h@GO:0002230, h@GO:0008134, h@G...\n",
       "7729    {h@GO:0032147, h@GO:0030291, h@GO:0030295, h@G...\n",
       "7730    {p@IPR004290, h@GO:0046872, h@IPR000571, h@IPR...\n",
       "7731    {h@GO:0015031, h@GO:0006886, h@IPR001680, h@GO...\n",
       "7732    {p@GO:0030683, p@GO:0019012, h@IPR003006, h@IP...\n",
       "7733    {h@GO:0005634, h@GO:0016787, h@IPR014001, h@GO...\n",
       "7734    {h@GO:0090398, h@GO:0045892, h@GO:0000082, h@G...\n",
       "7735    {h@IPR033182, h@GO:0002576, h@GO:0005576, h@GO...\n",
       "7736    {h@GO:0002576, h@GO:0005576, p@GO:0044204, h@G...\n",
       "7737    {h@GO:0005654, h@GO:0016032, h@GO:0008134, h@G...\n",
       "7738    {h@GO:0042393, h@GO:0005654, h@GO:0016787, h@I...\n",
       "7739    {h@IPR038662, h@GO:0005215, h@GO:0016020, p@GO...\n",
       "7740    {h@IPR005857, h@GO:0030170, h@GO:0006563, h@GO...\n",
       "7741    {h@GO:0005654, h@GO:0008134, h@GO:0000082, p@G...\n",
       "7742    {h@GO:0005654, h@GO:0045596, h@GO:0002437, h@G...\n",
       "7743    {h@GO:0002039, p@GO:0019068, p@IPR007611, h@GO...\n",
       "7744    {h@GO:0005814, h@GO:0005869, h@GO:0005856, h@G...\n",
       "7745    {h@GO:0005319, h@GO:0019433, h@GO:0030139, h@G...\n",
       "7746    {h@GO:0005654, h@IPR005485, h@GO:0000184, h@GO...\n",
       "7747    {h@GO:0005856, h@GO:0043433, h@GO:0008134, h@G...\n",
       "7748    {h@GO:0043022, h@GO:0036003, h@GO:0016020, h@G...\n",
       "7749    {h@GO:0005654, h@GO:0071222, h@GO:0050727, h@G...\n",
       "7750    {p@IPR005030, h@GO:0005887, p@GO:0016032, h@GO...\n",
       "Length: 7751, dtype: object"
      ]
     },
     "execution_count": 28,
     "metadata": {},
     "output_type": "execute_result"
    }
   ],
   "source": [
    "merged_annotations = merge_annotations(ppi_df, ['labeled_merged_annotations_A', 'labeled_merged_annotations_B'])\n",
    "merged_annotations"
   ]
  },
  {
   "cell_type": "code",
   "execution_count": null,
   "metadata": {},
   "outputs": [],
   "source": []
  },
  {
   "cell_type": "code",
   "execution_count": null,
   "metadata": {},
   "outputs": [],
   "source": [
    "a = np.array(['a','b','c'])\n",
    "b = np.array(['a','d'])\n",
    "set(a).isdisjoint(b)\n",
    "# np.intersect1d(a,b) # must be len(0)\n",
    "# np.setdiff1d(b,a) # must be len(2)"
   ]
  },
  {
   "cell_type": "code",
   "execution_count": null,
   "metadata": {},
   "outputs": [],
   "source": [
    "not('a' in a and 'd' in a)"
   ]
  },
  {
   "cell_type": "code",
   "execution_count": null,
   "metadata": {},
   "outputs": [],
   "source": [
    "pair[0]"
   ]
  },
  {
   "cell_type": "code",
   "execution_count": null,
   "metadata": {},
   "outputs": [],
   "source": [
    "merged_annotations.map(lambda x: 'h@GO:0009967' not in x and 'h@GO:0048511' not in x)"
   ]
  },
  {
   "cell_type": "code",
   "execution_count": null,
   "metadata": {},
   "outputs": [],
   "source": [
    "pair = list(pairs)[0]\n",
    "print(pair)\n",
    "presence_mask = ppi_df['annotation_pairs'].apply(lambda x: pair in x)\n",
    "pair_count = np.sum(presence_mask)\n",
    "pair_count2 = np.sum(merged_annotations.map(lambda x: pair[0] in x and pair[1] in x))\n",
    "label_one_count = np.sum(merged_annotations.apply(lambda x: pair[0] in x and pair[1] not in x))\n",
    "label_two_count = np.sum(merged_annotations.apply(lambda x: pair[0] not in x and pair[1] in x))\n",
    "absent_count = np.sum(ppi_df['annotation_pairs'].apply(lambda x: pair not in x))\n",
    "absent_count2 = np.sum(merged_annotations.map(lambda x: pair[0] not in x and pair[1] not in x))"
   ]
  },
  {
   "cell_type": "code",
   "execution_count": null,
   "metadata": {},
   "outputs": [],
   "source": [
    "print(pair_count)\n",
    "print(pair_count2)\n",
    "print(label_one_count)\n",
    "print(label_two_count)\n",
    "print(absent_count)\n",
    "print(absent_count2)\n",
    "print(ppi_df.shape[0])\n",
    "pair_count + label_one_count + label_two_count + absent_count2"
   ]
  },
  {
   "cell_type": "code",
   "execution_count": null,
   "metadata": {
    "scrolled": true
   },
   "outputs": [],
   "source": [
    "dummies_df['p@IPR015164']"
   ]
  },
  {
   "cell_type": "code",
   "execution_count": null,
   "metadata": {},
   "outputs": [],
   "source": [
    "np.histogram2d(dummies_df['h@GO:0045656'], dummies_df['p@IPR015164'], 100)[0]"
   ]
  },
  {
   "cell_type": "code",
   "execution_count": null,
   "metadata": {},
   "outputs": [],
   "source": [
    "xedges = [0, 1, 3, 5]\n",
    "yedges = [0, 2, 3, 4, 6]\n",
    "x = np.random.normal(2, 1, 100)\n",
    "y = np.random.normal(1, 1, 100)\n",
    "H, xedges, yedges = np.histogram2d(x, y, bins=(xedges, yedges))"
   ]
  },
  {
   "cell_type": "code",
   "execution_count": null,
   "metadata": {},
   "outputs": [],
   "source": [
    "H"
   ]
  },
  {
   "cell_type": "code",
   "execution_count": null,
   "metadata": {},
   "outputs": [],
   "source": []
  },
  {
   "cell_type": "code",
   "execution_count": null,
   "metadata": {},
   "outputs": [],
   "source": []
  },
  {
   "cell_type": "code",
   "execution_count": null,
   "metadata": {},
   "outputs": [],
   "source": []
  },
  {
   "cell_type": "code",
   "execution_count": null,
   "metadata": {},
   "outputs": [],
   "source": []
  },
  {
   "cell_type": "code",
   "execution_count": null,
   "metadata": {},
   "outputs": [],
   "source": [
    "from scipy.stats import chi2_contingency\n",
    "obs = np.array([[10, 10, 20], [20, 20, 20]])\n",
    "obs = np.array([[57,87,24], [50, 42, 6,], [42, 22, 5]])\n",
    "obs"
   ]
  },
  {
   "cell_type": "code",
   "execution_count": null,
   "metadata": {},
   "outputs": [],
   "source": [
    "chi2, p, dof, ex = chi2_contingency(obs, correction=False)\n",
    "chi2"
   ]
  },
  {
   "cell_type": "code",
   "execution_count": null,
   "metadata": {},
   "outputs": [],
   "source": [
    "p"
   ]
  },
  {
   "cell_type": "code",
   "execution_count": null,
   "metadata": {},
   "outputs": [],
   "source": [
    "{pair : {'jaccard': {}, 'pmi': {}, 'G': {}, 'chi2': {}} for pair in pairs}[('h@GO:0045656', 'p@IPR015164')]['jaccard']"
   ]
  },
  {
   "cell_type": "code",
   "execution_count": null,
   "metadata": {},
   "outputs": [],
   "source": [
    "import math\n",
    "math.log((1159/50000952) / ((1938/50000952)*(1311/50000952)))\n",
    "\n"
   ]
  },
  {
   "cell_type": "code",
   "execution_count": null,
   "metadata": {},
   "outputs": [],
   "source": [
    "d = { 1:  {'jaccard': 'sdgsd', 'pmi': [1,2], 'G': {}}, 2:  {'jaccard': {}, 'pmi': {}, 'G': {}}}"
   ]
  },
  {
   "cell_type": "code",
   "execution_count": null,
   "metadata": {},
   "outputs": [],
   "source": [
    "pd.DataFrame.from_dict(d, orient='index')"
   ]
  },
  {
   "cell_type": "code",
   "execution_count": null,
   "metadata": {},
   "outputs": [],
   "source": [
    "results_dict = {\n",
    "    # 'jaccard': {},\n",
    "    'pmi': {},\n",
    "    'G': {},\n",
    "    'chi2': {},\n",
    "    'fisher': {},\n",
    "    'phi': {},\n",
    "    'min_count': {}\n",
    "}"
   ]
  },
  {
   "cell_type": "code",
   "execution_count": null,
   "metadata": {},
   "outputs": [],
   "source": [
    "import scipy\n",
    "pair = list(pairs)[0]\n",
    "def _calc_pmi(n11, n1plus, nplus1):\n",
    "    return math.log(n11 / (n1plus * nplus1), 2)\n",
    "\n",
    "\n",
    "def _calc_chi2(n11, n10, n01, n00):\n",
    "    contingency_table = np.array([[n11, n01], [n10, n00]])\n",
    "    chi2, p, df, ex = scipy.stats.chi2_contingency(\n",
    "        contingency_table, correction=False, lambda_=\"pearson\")\n",
    "    d = {'chi2': chi2, 'p-value': p, 'df': df, 'exp': ex}\n",
    "    return d\n",
    "\n",
    "\n",
    "def _calc_G(n11, n10, n01, n00):\n",
    "    contingency_table = np.array([[n11, n01], [n10, n00]])\n",
    "    G, p, df, ex = scipy.stats.chi2_contingency(\n",
    "        contingency_table, correction=False, lambda_=\"log-likelihood\")\n",
    "    d = {'G': G, 'p-value': p, 'df': df, 'exp': ex}\n",
    "    return d\n",
    "\n",
    "\n",
    "def _calc_fisher(n11, n10, n01, n00):\n",
    "    contingency_table = np.array([[n11, n01], [n10, n00]])\n",
    "    oddsratio, p = scipy.stats.fisher_exact(contingency_table)\n",
    "    d = {'oddsration': oddsratio, 'p-value': p}\n",
    "    return d\n",
    "\n",
    "interaction_dataframe = ppi_df\n",
    "presence_mask = interaction_dataframe['annotation_pairs'].apply(\n",
    "        lambda x: pair in x)\n",
    "pair_count = np.sum(presence_mask)\n",
    "\n",
    "# count ppis where only 1 label occurs: P(X | Y') or N10\n",
    "label_one_count_exclusive = np.sum(\n",
    "    merged_annotations.apply(\n",
    "        lambda x: pair[0] in x and pair[1] not in x))\n",
    "label_two_count_exclusive = np.sum(\n",
    "    merged_annotations.apply(\n",
    "        lambda x: pair[0] not in x and pair[1] in x))\n",
    "\n",
    "# count ppis where 1 label occurs, regardless of other label in pair:\n",
    "# P(X) or N1+\n",
    "label_one_count = np.sum(\n",
    "    merged_annotations.apply(lambda x: pair[0] in x))\n",
    "label_two_count = np.sum(\n",
    "    merged_annotations.apply(lambda x: pair[1] in x))\n",
    "\n",
    "# TODO: should b,c label counts count PPIs with 1 occurrence or pairs with 1 occurrence? the former probably\n",
    "# label_one_count = np.sum(pd.Series(list(pairs)).apply(lambda x: pair[0] in x))\n",
    "# label_two_count = np.sum(pd.Series(list(pairs)).apply(lambda x: pair[1] in x))\n",
    "\n",
    "# count ppis lacking either term: P(X',Y') or N00\n",
    "absent_count = np.sum(\n",
    "    merged_annotations.map(\n",
    "        lambda x: pair[0] not in x and pair[1] not in x))\n",
    "total_count = interaction_dataframe.shape[0]\n",
    "\n",
    "# results_dict[pair]['pmi'] = _calc_pmi(pair_count, label_one_count, label_two_count)\n",
    "# results_dict[pair]['chi2'] = _calc_chi2(pair_count, label_one_count_exclusive, label_two_count_exclusive, absent_count)\n",
    "# results_dict[pair]['G'] = _calc_G(pair_count, label_one_count_exclusive, label_two_count_exclusive, absent_count)\n",
    "# results_dict[pair]['fisher'] = _calc_fisher(pair_count, label_one_count_exclusive, label_two_count_exclusive, absent_count)\n",
    "\n",
    "results_dict['pmi'][pair] = _calc_pmi(pair_count, label_one_count,\n",
    "                                      label_two_count)\n",
    "results_dict['chi2'][pair] = _calc_chi2(\n",
    "    pair_count, label_one_count_exclusive, label_two_count_exclusive,\n",
    "    absent_count)\n",
    "results_dict['G'][pair] = _calc_G(\n",
    "    pair_count, label_one_count_exclusive, label_two_count_exclusive,\n",
    "    absent_count)\n",
    "results_dict['fisher'][pair] = _calc_fisher(\n",
    "    pair_count, label_one_count_exclusive, label_two_count_exclusive,\n",
    "    absent_count)\n",
    "\n",
    "results_dict['min_count'][pair] = min([\n",
    "    pair_count, label_one_count_exclusive, label_two_count_exclusive,\n",
    "    absent_count\n",
    "])\n"
   ]
  },
  {
   "cell_type": "code",
   "execution_count": null,
   "metadata": {},
   "outputs": [],
   "source": [
    "pd.DataFrame.from_dict(results_dict['chi2'], orient='index')"
   ]
  },
  {
   "cell_type": "code",
   "execution_count": null,
   "metadata": {},
   "outputs": [],
   "source": [
    "for name, d in results_dict.items():\n",
    "    print(name, pd.DataFrame.from_dict(d, orient='index').add_prefix(name + '_'))"
   ]
  },
  {
   "cell_type": "code",
   "execution_count": null,
   "metadata": {},
   "outputs": [],
   "source": [
    "df_list = [pd.DataFrame.from_dict(d, orient='index').add_prefix(name + '_') for name, d in results_dict.items()]\n",
    "results = pd.concat(df_list, axis=1)"
   ]
  },
  {
   "cell_type": "code",
   "execution_count": null,
   "metadata": {},
   "outputs": [],
   "source": [
    "results"
   ]
  },
  {
   "cell_type": "code",
   "execution_count": null,
   "metadata": {},
   "outputs": [],
   "source": [
    "import statsmodels.stats.multitest\n",
    "p_values = results['G_p-value'].values\n",
    "corrected_p = statsmodels.stats.multitest.multipletests(p_values, alpha=0.05, method='fdr_bh')\n",
    "print(p_values)\n",
    "print(corrected_p)"
   ]
  },
  {
   "cell_type": "code",
   "execution_count": null,
   "metadata": {},
   "outputs": [],
   "source": [
    "results['G_p-value' + '_' + 'fdr'] = corrected_p[1]"
   ]
  },
  {
   "cell_type": "code",
   "execution_count": null,
   "metadata": {},
   "outputs": [],
   "source": [
    "results"
   ]
  },
  {
   "cell_type": "code",
   "execution_count": null,
   "metadata": {},
   "outputs": [],
   "source": []
  },
  {
   "cell_type": "code",
   "execution_count": null,
   "metadata": {},
   "outputs": [],
   "source": [
    "d = {'col1': [1, 2], 'col2': [3, 4]}\n",
    "df = pd.DataFrame(d)\n",
    "df['col3'] = df['col1'].map(lambda x: set([1,22]))"
   ]
  },
  {
   "cell_type": "code",
   "execution_count": null,
   "metadata": {},
   "outputs": [],
   "source": [
    "df"
   ]
  },
  {
   "cell_type": "code",
   "execution_count": null,
   "metadata": {},
   "outputs": [],
   "source": [
    "df.to_csv('/home/pieter/Documents/df-test.tsv', sep='\\t', index=False, header=True)"
   ]
  },
  {
   "cell_type": "code",
   "execution_count": null,
   "metadata": {
    "scrolled": true
   },
   "outputs": [],
   "source": [
    "import ast\n",
    "df_read = pd.read_csv('/home/pieter/Documents/df-test.tsv', sep='\\t', header=0, converters={\"col3\": ast.literal_eval})"
   ]
  },
  {
   "cell_type": "code",
   "execution_count": null,
   "metadata": {},
   "outputs": [],
   "source": [
    "type(df_read.loc[0,'col3'])"
   ]
  },
  {
   "cell_type": "code",
   "execution_count": null,
   "metadata": {},
   "outputs": [],
   "source": [
    "import ast\n",
    "df_read = pd.read_csv('/home/pieter/Documents/df-test.tsv', sep='\\t', header=0)\n",
    "df_read.col3[0]"
   ]
  },
  {
   "cell_type": "code",
   "execution_count": null,
   "metadata": {},
   "outputs": [],
   "source": [
    "df_read.col3.map(ast.literal_eval)"
   ]
  },
  {
   "cell_type": "code",
   "execution_count": null,
   "metadata": {},
   "outputs": [],
   "source": [
    "sci"
   ]
  },
  {
   "cell_type": "code",
   "execution_count": null,
   "metadata": {},
   "outputs": [],
   "source": []
  },
  {
   "cell_type": "code",
   "execution_count": null,
   "metadata": {},
   "outputs": [],
   "source": []
  },
  {
   "cell_type": "code",
   "execution_count": null,
   "metadata": {},
   "outputs": [],
   "source": [
    "new = pd.read_csv('/media/pieter/DATA/Wetenschap/Doctoraat/projects/host-pathogen-ppi-analysis/data/interim/10292/ppi_data/ppi-annotations.tsv', \n",
    "                  sep='\\t', header=0)"
   ]
  },
  {
   "cell_type": "code",
   "execution_count": null,
   "metadata": {},
   "outputs": [],
   "source": [
    "new.head()"
   ]
  },
  {
   "cell_type": "code",
   "execution_count": null,
   "metadata": {},
   "outputs": [],
   "source": []
  },
  {
   "cell_type": "code",
   "execution_count": null,
   "metadata": {},
   "outputs": [],
   "source": []
  },
  {
   "cell_type": "code",
   "execution_count": null,
   "metadata": {},
   "outputs": [],
   "source": [
    "test = ppi_df.GO_xref_A.apply(lambda x: pd.Series([1] * len(x), index=x)).fillna(0, downcast='infer')"
   ]
  },
  {
   "cell_type": "code",
   "execution_count": null,
   "metadata": {},
   "outputs": [],
   "source": [
    "test[test['GO:0000012'] == 1]"
   ]
  },
  {
   "cell_type": "code",
   "execution_count": null,
   "metadata": {
    "scrolled": true
   },
   "outputs": [],
   "source": [
    "ppi_df.GO_xref_A[1143]"
   ]
  },
  {
   "cell_type": "code",
   "execution_count": null,
   "metadata": {},
   "outputs": [],
   "source": [
    "test_df = ppi_df.loc[0:5,['GO_xref_A']].copy()\n",
    "# test_df.loc[1, 'GO_xref_A'] = np.NaN\n",
    "test_df.loc[2, 'GO_xref_A'] = set()\n",
    "test_df"
   ]
  },
  {
   "cell_type": "code",
   "execution_count": null,
   "metadata": {},
   "outputs": [],
   "source": [
    "test_df.GO_xref_A.apply(lambda x: pd.Series([1] * len(x), index=x)).fillna(0, downcast='infer')"
   ]
  },
  {
   "cell_type": "code",
   "execution_count": null,
   "metadata": {},
   "outputs": [],
   "source": [
    "test_df.loc[1].values[0]"
   ]
  },
  {
   "cell_type": "code",
   "execution_count": null,
   "metadata": {},
   "outputs": [],
   "source": [
    "ppi_df.merge"
   ]
  },
  {
   "cell_type": "code",
   "execution_count": null,
   "metadata": {},
   "outputs": [],
   "source": []
  },
  {
   "cell_type": "code",
   "execution_count": null,
   "metadata": {},
   "outputs": [],
   "source": []
  },
  {
   "cell_type": "code",
   "execution_count": null,
   "metadata": {},
   "outputs": [],
   "source": []
  },
  {
   "cell_type": "code",
   "execution_count": null,
   "metadata": {},
   "outputs": [],
   "source": []
  },
  {
   "cell_type": "code",
   "execution_count": null,
   "metadata": {},
   "outputs": [],
   "source": []
  },
  {
   "cell_type": "markdown",
   "metadata": {},
   "source": [
    "# Speed comparison of annotation presence counters"
   ]
  },
  {
   "cell_type": "code",
   "execution_count": 1,
   "metadata": {},
   "outputs": [
    {
     "data": {
      "text/plain": [
       "<module 'phppipy.mining.pairwise' from '/media/pieter/DATA/Wetenschap/Doctoraat/projects/host-pathogen-ppi-analysis/src/phppipy/mining/pairwise.py'>"
      ]
     },
     "execution_count": 1,
     "metadata": {},
     "output_type": "execute_result"
    }
   ],
   "source": [
    "from math import sqrt\n",
    "from joblib import Parallel, delayed\n",
    "\n",
    "import importlib\n",
    "import itertools\n",
    "\n",
    "import scipy\n",
    "\n",
    "import argparse\n",
    "import numpy as np\n",
    "import pandas as pd\n",
    "import ast\n",
    "import math\n",
    "\n",
    "from pathlib import Path\n",
    "\n",
    "from goscripts import obo_tools\n",
    "from goscripts import gaf_parser\n",
    "\n",
    "from phppipy.dataprep import taxonid\n",
    "from phppipy.ppi_tools import id_mapper\n",
    "from phppipy.ppi_tools import label_interpro\n",
    "from phppipy.ppi_tools import label_go\n",
    "from phppipy.ppi_tools import ppi_filter\n",
    "import argparse\n",
    "import numpy as np\n",
    "import pandas as pd\n",
    "import sys\n",
    "\n",
    "from pathlib import Path\n",
    "\n",
    "from phppipy.ppi_tools import id_mapper\n",
    "from phppipy.ppi_tools import ppi_import\n",
    "from phppipy.ppi_tools import ppi_filter\n",
    "from phppipy.dataprep import taxonid\n",
    "\n",
    "sys.path.append('/media/pieter/DATA/Wetenschap/Doctoraat/projects/host-pathogen-ppi-analysis/src')\n",
    "from phppipy.mining import pairwise\n",
    "importlib.reload(pairwise)"
   ]
  },
  {
   "cell_type": "markdown",
   "metadata": {},
   "source": [
    "Label annotations and merge them into 'annotations_A' and 'annotations_B' columns. "
   ]
  },
  {
   "cell_type": "code",
   "execution_count": 2,
   "metadata": {},
   "outputs": [
    {
     "name": "stdout",
     "output_type": "stream",
     "text": [
      "PPIs were imported from /media/pieter/DATA/Wetenschap/Doctoraat/projects/host-pathogen-ppi-analysis/data/interim/10292/ppi_data/ppi-annotations.tsv\n",
      "\n"
     ]
    }
   ],
   "source": [
    "ppi_file = Path('/media/pieter/DATA/Wetenschap/Doctoraat/projects/host-pathogen-ppi-analysis/data/interim/10292/ppi_data/ppi-annotations.tsv')\n",
    "ppi_df = pd.read_csv(\n",
    "    ppi_file,\n",
    "    sep='\\t',\n",
    "    header=0)\n",
    "print('PPIs were imported from {}\\n'.format(ppi_file))\n",
    "\n",
    "for i in ['GO_xref_A', 'GO_xref_B', 'interpro_xref_A', 'interpro_xref_B']:\n",
    "    ppi_df.loc[~ppi_df[i].isnull(), i] = ppi_df.loc[~ppi_df[i].isnull(), i].map(ast.literal_eval)\n",
    "\n",
    "merged_annotations_A = pairwise.merge_annotations(\n",
    "    ppi_df, ['GO_xref_A', 'interpro_xref_A'])\n",
    "labeled_merged_annotations_A = pairwise.add_hp_label(merged_annotations_A, 'h')\n",
    "ppi_df['annotations_A'] = labeled_merged_annotations_A\n",
    "\n",
    "merged_annotations_B = pairwise.merge_annotations(\n",
    "    ppi_df, ['GO_xref_B', 'interpro_xref_B'])\n",
    "labeled_merged_annotations_B = pairwise.add_hp_label(merged_annotations_B, 'p')\n",
    "ppi_df['annotations_B'] = labeled_merged_annotations_B"
   ]
  },
  {
   "cell_type": "markdown",
   "metadata": {},
   "source": [
    "Create pairs of annotations and also a merged set across both proteins"
   ]
  },
  {
   "cell_type": "code",
   "execution_count": 3,
   "metadata": {},
   "outputs": [],
   "source": [
    "interaction_dataframe = ppi_df   # incase name is different due to copying from function definitions\n",
    "columns = ['annotations_A', 'annotations_B']\n",
    "\n",
    "# replace NaNs by empty sets\n",
    "for i in columns:\n",
    "    interaction_dataframe.loc[interaction_dataframe[\n",
    "        i].isnull(), i] = interaction_dataframe.loc[interaction_dataframe[\n",
    "            i].isnull(), i].apply(lambda x: set())\n",
    "    \n",
    "interaction_dataframe['annotation_pairs'] = interaction_dataframe[columns].apply(lambda x: set([tuple(sorted(i)) for i in itertools.product(x[columns[0]], x[columns[1]])]), axis=1)\n",
    "# next, these lists are joined and duplicates are removed\n",
    "pairs = set().union(*interaction_dataframe['annotation_pairs'])\n",
    "\n",
    "# create a set of annotations for each interaction as a whole (i.e. join\n",
    "# labels for the two interacting proteins)\n",
    "merged_annotations = pairwise.merge_annotations(interaction_dataframe, columns)\n",
    "\n",
    "results_dict = {\n",
    "    # 'jaccard': {},\n",
    "    'pmi': {},\n",
    "    'G': {},\n",
    "    'chi2': {},\n",
    "    'fisher': {},\n",
    "    'phi': {},\n",
    "    'min_count': {}\n",
    "}"
   ]
  },
  {
   "cell_type": "code",
   "execution_count": 4,
   "metadata": {
    "scrolled": true
   },
   "outputs": [
    {
     "name": "stdout",
     "output_type": "stream",
     "text": [
      "Creating Gene Ontology dictionaries...\n",
      "Retrieved 47179 GO terms from /media/pieter/DATA/Wetenschap/Doctoraat/projects/host-pathogen-ppi-analysis/data/raw/go_data/go.obo \n",
      "\n",
      "Adding secondary GO identifiers...\n",
      "\n"
     ]
    }
   ],
   "source": [
    "# Create Gene Ontology dictionaries\n",
    "print('Creating Gene Ontology dictionaries...')\n",
    "obo_path = Path('/media/pieter/DATA/Wetenschap/Doctoraat/projects/host-pathogen-ppi-analysis/data/raw/go_data/go.obo')\n",
    "go_dict = obo_tools.importOBO(obo_path, ignore_part_of=False)\n",
    "\n",
    "# TODO: allow selection of GO namespaces\n",
    "obo_tools.buildGOtree(\n",
    "    go_dict, root_nodes=['GO:0008150', 'GO:0005575', 'GO:0003674'])"
   ]
  },
  {
   "cell_type": "markdown",
   "metadata": {},
   "source": [
    "Define pairwise measure functions"
   ]
  },
  {
   "cell_type": "code",
   "execution_count": 5,
   "metadata": {},
   "outputs": [],
   "source": [
    "def _calc_pmi(n11, n1plus, nplus1, nplusplus):\n",
    "    return math.log((n11/nplusplus) /\n",
    "                    ((n1plus/nplusplus) * (nplus1/nplusplus)),\n",
    "                    2)\n",
    "\n",
    "\n",
    "def _calc_chi2(n11, n10, n01, n00):\n",
    "    contingency_table = np.array([[n11, n01], [n10, n00]])\n",
    "    chi2, p, df, ex = scipy.stats.chi2_contingency(\n",
    "        contingency_table, correction=False, lambda_=\"pearson\")\n",
    "    d = {'chi2': chi2, 'p-value': p, 'df': df, 'exp': ex}\n",
    "    return d\n",
    "\n",
    "\n",
    "def _calc_G(n11, n10, n01, n00):\n",
    "    contingency_table = np.array([[n11, n01], [n10, n00]])\n",
    "    G, p, df, ex = scipy.stats.chi2_contingency(\n",
    "        contingency_table, correction=False, lambda_=\"log-likelihood\")\n",
    "    d = {'G': G, 'p-value': p, 'df': df, 'exp': ex}\n",
    "    return d\n",
    "\n",
    "\n",
    "def _calc_fisher(n11, n10, n01, n00):\n",
    "    contingency_table = np.array([[n11, n01], [n10, n00]])\n",
    "    oddsratio, p = scipy.stats.fisher_exact(contingency_table)\n",
    "    d = {'oddsration': oddsratio, 'p-value': p}\n",
    "    return d"
   ]
  },
  {
   "cell_type": "markdown",
   "metadata": {},
   "source": [
    "## Singleton pair approach"
   ]
  },
  {
   "cell_type": "markdown",
   "metadata": {},
   "source": [
    "## Pair is present"
   ]
  },
  {
   "cell_type": "code",
   "execution_count": 13,
   "metadata": {
    "scrolled": false
   },
   "outputs": [
    {
     "name": "stdout",
     "output_type": "stream",
     "text": [
      "CPU times: user 3.61 ms, sys: 0 ns, total: 3.61 ms\n",
      "Wall time: 2.98 ms\n",
      "CPU times: user 113 ms, sys: 0 ns, total: 113 ms\n",
      "Wall time: 113 ms\n",
      "CPU times: user 586 ms, sys: 0 ns, total: 586 ms\n",
      "Wall time: 584 ms\n"
     ]
    },
    {
     "data": {
      "text/plain": [
       "6"
      ]
     },
     "execution_count": 13,
     "metadata": {},
     "output_type": "execute_result"
    }
   ],
   "source": [
    "%time np.sum(interaction_dataframe['annotation_pairs'].apply(lambda x: pair in x))\n",
    "%time np.sum(interaction_dataframe.apply(lambda x: pair[0] in x['annotations_A'] and pair[1] in x['annotations_B'], axis=1))\n",
    "%time np.sum(interaction_dataframe.apply(lambda x: pair in list(itertools.product(x['annotations_A'], x['annotations_B'])), axis=1))"
   ]
  },
  {
   "cell_type": "markdown",
   "metadata": {},
   "source": [
    "## Exactly one label is present"
   ]
  },
  {
   "cell_type": "code",
   "execution_count": 19,
   "metadata": {
    "scrolled": true
   },
   "outputs": [
    {
     "name": "stdout",
     "output_type": "stream",
     "text": [
      "CPU times: user 3.01 ms, sys: 90 µs, total: 3.1 ms\n",
      "Wall time: 2.77 ms\n",
      "CPU times: user 3.14 ms, sys: 8 µs, total: 3.15 ms\n",
      "Wall time: 2.89 ms\n",
      "CPU times: user 6.82 ms, sys: 0 ns, total: 6.82 ms\n",
      "Wall time: 6.19 ms\n",
      "CPU times: user 14.1 ms, sys: 0 ns, total: 14.1 ms\n",
      "Wall time: 13.8 ms\n",
      "CPU times: user 101 ms, sys: 0 ns, total: 101 ms\n",
      "Wall time: 100 ms\n"
     ]
    },
    {
     "data": {
      "text/plain": [
       "29"
      ]
     },
     "execution_count": 19,
     "metadata": {},
     "output_type": "execute_result"
    }
   ],
   "source": [
    "pair = list(pairs)[0]\n",
    "%time  np.sum(merged_annotations.apply(lambda x: pair[0] in x and pair[1] not in x))\n",
    "%time  np.sum(merged_annotations.map(lambda x: pair[0] in x and pair[1] not in x))\n",
    "%time  np.sum(merged_annotations.map(lambda x: pair[0] in x) & merged_annotations.map(lambda x: pair[1] not in x))\n",
    "ppi_df['annotations_A_str'] = ppi_df.annotations_A.map(str)\n",
    "ppi_df['annotations_B_str'] = ppi_df.annotations_B.map(str)\n",
    "%time  np.sum(ppi_df.loc[(ppi_df.annotations_A_str.str.contains(pair[0])) & ~(ppi_df.annotations_A_str.str.contains(pair[0]))])\n",
    "%time  np.sum(ppi_df.apply(lambda x: pair[0] in x['annotations_A'] and pair[1] not in x['annotations_B'], axis=1))"
   ]
  },
  {
   "cell_type": "markdown",
   "metadata": {},
   "source": [
    "## At least one label is present"
   ]
  },
  {
   "cell_type": "code",
   "execution_count": 22,
   "metadata": {},
   "outputs": [
    {
     "name": "stdout",
     "output_type": "stream",
     "text": [
      "CPU times: user 3.76 ms, sys: 0 ns, total: 3.76 ms\n",
      "Wall time: 3.58 ms\n",
      "CPU times: user 3.81 ms, sys: 0 ns, total: 3.81 ms\n",
      "Wall time: 3.3 ms\n",
      "CPU times: user 21.5 ms, sys: 39 µs, total: 21.5 ms\n",
      "Wall time: 20.5 ms\n"
     ]
    },
    {
     "data": {
      "text/plain": [
       "Series([], dtype: float64)"
      ]
     },
     "execution_count": 22,
     "metadata": {},
     "output_type": "execute_result"
    }
   ],
   "source": [
    "pair = list(pairs)[0]\n",
    "%time np.sum(merged_annotations.apply(lambda x: pair[0] in x))\n",
    "%time np.sum(merged_annotations.map(lambda x: pair[0] in x))\n",
    "%time np.sum(ppi_df.loc[(ppi_df.annotations_A_str.str.contains(pair[0]))])"
   ]
  },
  {
   "cell_type": "markdown",
   "metadata": {},
   "source": [
    "## Neither label"
   ]
  },
  {
   "cell_type": "code",
   "execution_count": 68,
   "metadata": {},
   "outputs": [
    {
     "name": "stdout",
     "output_type": "stream",
     "text": [
      "CPU times: user 7.6 ms, sys: 0 ns, total: 7.6 ms\n",
      "Wall time: 7.42 ms\n",
      "CPU times: user 8.44 ms, sys: 11 µs, total: 8.45 ms\n",
      "Wall time: 7.73 ms\n"
     ]
    },
    {
     "data": {
      "text/plain": [
       "4973"
      ]
     },
     "execution_count": 68,
     "metadata": {},
     "output_type": "execute_result"
    }
   ],
   "source": [
    "%time np.sum(merged_annotations.map(lambda x: pair[0] not in x and pair[1] not in x))\n",
    "%time np.sum(merged_annotations.map(lambda x: pair[0] not in x) & merged_annotations.map(lambda x: pair[1] not in x))"
   ]
  },
  {
   "cell_type": "markdown",
   "metadata": {},
   "source": [
    "## Parallelization"
   ]
  },
  {
   "cell_type": "code",
   "execution_count": 90,
   "metadata": {},
   "outputs": [],
   "source": [
    "def count_stuff(pair, interaction_dataframe, pairs_column, merged_annotations):\n",
    "    \n",
    "    # count all ppis where pair occurs\n",
    "    presence_mask = interaction_dataframe[pairs_column].apply(\n",
    "        lambda x: pair in x)\n",
    "    pair_count = np.sum(presence_mask)\n",
    "\n",
    "    # count ppis where only 1 label occurs: P(X | Y') or N10\n",
    "    label_one_count_exclusive = np.sum(\n",
    "        merged_annotations.apply(\n",
    "            lambda x: pair[0] in x and pair[1] not in x))\n",
    "    label_two_count_exclusive = np.sum(\n",
    "        merged_annotations.apply(\n",
    "            lambda x: pair[0] not in x and pair[1] in x))\n",
    "\n",
    "    # count ppis where 1 label occurs, regardless of other label in pair:\n",
    "    # P(X) or N1+\n",
    "    label_one_count = np.sum(\n",
    "        merged_annotations.apply(lambda x: pair[0] in x))\n",
    "    label_two_count = np.sum(\n",
    "        merged_annotations.apply(lambda x: pair[1] in x))\n",
    "\n",
    "    # count ppis lacking either term: P(X',Y') or N00\n",
    "    absent_count = np.sum(\n",
    "        merged_annotations.map(\n",
    "            lambda x: pair[0] not in x and pair[1] not in x))\n",
    "    total_count = interaction_dataframe.shape[0]\n",
    "    \n",
    "#     pmi = _calc_pmi(pair_count, label_one_count, label_two_count, total_count)\n",
    "#     chi2 = _calc_chi2(pair_count, label_one_count_exclusive, label_two_count_exclusive, absent_count)\n",
    "#     G = _calc_G(pair_count, label_one_count_exclusive, label_two_count_exclusive, absent_count)\n",
    "#     fisher = _calc_fisher(pair_count, label_one_count_exclusive, label_two_count_exclusive, absent_count)\n",
    "    \n",
    "#     return (pmi, chi2, G, fisher)"
   ]
  },
  {
   "cell_type": "code",
   "execution_count": 72,
   "metadata": {
    "scrolled": true
   },
   "outputs": [
    {
     "name": "stdout",
     "output_type": "stream",
     "text": [
      "CPU times: user 1min 17s, sys: 6.13 s, total: 1min 23s\n",
      "Wall time: 1min 46s\n",
      "CPU times: user 1.73 s, sys: 61.4 ms, total: 1.79 s\n",
      "Wall time: 1.73 s\n",
      "CPU times: user 1.33 s, sys: 0 ns, total: 1.33 s\n",
      "Wall time: 1.33 s\n"
     ]
    },
    {
     "data": {
      "text/plain": [
       "[None,\n",
       " None,\n",
       " None,\n",
       " None,\n",
       " None,\n",
       " None,\n",
       " None,\n",
       " None,\n",
       " None,\n",
       " None,\n",
       " None,\n",
       " None,\n",
       " None,\n",
       " None,\n",
       " None,\n",
       " None,\n",
       " None,\n",
       " None,\n",
       " None,\n",
       " None,\n",
       " None,\n",
       " None,\n",
       " None,\n",
       " None,\n",
       " None,\n",
       " None,\n",
       " None,\n",
       " None,\n",
       " None,\n",
       " None,\n",
       " None,\n",
       " None,\n",
       " None,\n",
       " None,\n",
       " None,\n",
       " None,\n",
       " None,\n",
       " None,\n",
       " None,\n",
       " None,\n",
       " None,\n",
       " None,\n",
       " None,\n",
       " None,\n",
       " None,\n",
       " None,\n",
       " None,\n",
       " None,\n",
       " None,\n",
       " None,\n",
       " None,\n",
       " None,\n",
       " None,\n",
       " None,\n",
       " None,\n",
       " None,\n",
       " None,\n",
       " None,\n",
       " None,\n",
       " None,\n",
       " None,\n",
       " None,\n",
       " None,\n",
       " None,\n",
       " None,\n",
       " None,\n",
       " None,\n",
       " None,\n",
       " None,\n",
       " None,\n",
       " None,\n",
       " None,\n",
       " None,\n",
       " None,\n",
       " None,\n",
       " None,\n",
       " None,\n",
       " None,\n",
       " None,\n",
       " None,\n",
       " None,\n",
       " None,\n",
       " None,\n",
       " None,\n",
       " None,\n",
       " None,\n",
       " None,\n",
       " None,\n",
       " None,\n",
       " None,\n",
       " None,\n",
       " None,\n",
       " None,\n",
       " None,\n",
       " None,\n",
       " None,\n",
       " None,\n",
       " None,\n",
       " None,\n",
       " None]"
      ]
     },
     "execution_count": 72,
     "metadata": {},
     "output_type": "execute_result"
    }
   ],
   "source": [
    "short_pairs = list(pairs)[0:100]\n",
    "list_pairs = list(pairs)\n",
    "from math import sqrt\n",
    "from joblib import Parallel, delayed\n",
    "%time Parallel(n_jobs=7)(delayed(count_stuff)(i, ppi_df, columns, merged_annotations) for i in short_pairs)\n",
    "%time Parallel(n_jobs=7,backend=\"threading\")(delayed(count_stuff)(i, ppi_df, columns, merged_annotations) for i in short_pairs)\n",
    "%time [count_stuff(i, ppi_df, columns, merged_annotations) for i in short_pairs]"
   ]
  },
  {
   "cell_type": "code",
   "execution_count": 73,
   "metadata": {},
   "outputs": [
    {
     "name": "stdout",
     "output_type": "stream",
     "text": [
      "CPU times: user 13min 15s, sys: 1min 3s, total: 14min 19s\n",
      "Wall time: 18min 4s\n",
      "CPU times: user 17.9 s, sys: 441 ms, total: 18.4 s\n",
      "Wall time: 17 s\n",
      "CPU times: user 13.6 s, sys: 5 ms, total: 13.6 s\n",
      "Wall time: 13.6 s\n"
     ]
    },
    {
     "data": {
      "text/plain": [
       "[None,\n",
       " None,\n",
       " None,\n",
       " None,\n",
       " None,\n",
       " None,\n",
       " None,\n",
       " None,\n",
       " None,\n",
       " None,\n",
       " None,\n",
       " None,\n",
       " None,\n",
       " None,\n",
       " None,\n",
       " None,\n",
       " None,\n",
       " None,\n",
       " None,\n",
       " None,\n",
       " None,\n",
       " None,\n",
       " None,\n",
       " None,\n",
       " None,\n",
       " None,\n",
       " None,\n",
       " None,\n",
       " None,\n",
       " None,\n",
       " None,\n",
       " None,\n",
       " None,\n",
       " None,\n",
       " None,\n",
       " None,\n",
       " None,\n",
       " None,\n",
       " None,\n",
       " None,\n",
       " None,\n",
       " None,\n",
       " None,\n",
       " None,\n",
       " None,\n",
       " None,\n",
       " None,\n",
       " None,\n",
       " None,\n",
       " None,\n",
       " None,\n",
       " None,\n",
       " None,\n",
       " None,\n",
       " None,\n",
       " None,\n",
       " None,\n",
       " None,\n",
       " None,\n",
       " None,\n",
       " None,\n",
       " None,\n",
       " None,\n",
       " None,\n",
       " None,\n",
       " None,\n",
       " None,\n",
       " None,\n",
       " None,\n",
       " None,\n",
       " None,\n",
       " None,\n",
       " None,\n",
       " None,\n",
       " None,\n",
       " None,\n",
       " None,\n",
       " None,\n",
       " None,\n",
       " None,\n",
       " None,\n",
       " None,\n",
       " None,\n",
       " None,\n",
       " None,\n",
       " None,\n",
       " None,\n",
       " None,\n",
       " None,\n",
       " None,\n",
       " None,\n",
       " None,\n",
       " None,\n",
       " None,\n",
       " None,\n",
       " None,\n",
       " None,\n",
       " None,\n",
       " None,\n",
       " None,\n",
       " None,\n",
       " None,\n",
       " None,\n",
       " None,\n",
       " None,\n",
       " None,\n",
       " None,\n",
       " None,\n",
       " None,\n",
       " None,\n",
       " None,\n",
       " None,\n",
       " None,\n",
       " None,\n",
       " None,\n",
       " None,\n",
       " None,\n",
       " None,\n",
       " None,\n",
       " None,\n",
       " None,\n",
       " None,\n",
       " None,\n",
       " None,\n",
       " None,\n",
       " None,\n",
       " None,\n",
       " None,\n",
       " None,\n",
       " None,\n",
       " None,\n",
       " None,\n",
       " None,\n",
       " None,\n",
       " None,\n",
       " None,\n",
       " None,\n",
       " None,\n",
       " None,\n",
       " None,\n",
       " None,\n",
       " None,\n",
       " None,\n",
       " None,\n",
       " None,\n",
       " None,\n",
       " None,\n",
       " None,\n",
       " None,\n",
       " None,\n",
       " None,\n",
       " None,\n",
       " None,\n",
       " None,\n",
       " None,\n",
       " None,\n",
       " None,\n",
       " None,\n",
       " None,\n",
       " None,\n",
       " None,\n",
       " None,\n",
       " None,\n",
       " None,\n",
       " None,\n",
       " None,\n",
       " None,\n",
       " None,\n",
       " None,\n",
       " None,\n",
       " None,\n",
       " None,\n",
       " None,\n",
       " None,\n",
       " None,\n",
       " None,\n",
       " None,\n",
       " None,\n",
       " None,\n",
       " None,\n",
       " None,\n",
       " None,\n",
       " None,\n",
       " None,\n",
       " None,\n",
       " None,\n",
       " None,\n",
       " None,\n",
       " None,\n",
       " None,\n",
       " None,\n",
       " None,\n",
       " None,\n",
       " None,\n",
       " None,\n",
       " None,\n",
       " None,\n",
       " None,\n",
       " None,\n",
       " None,\n",
       " None,\n",
       " None,\n",
       " None,\n",
       " None,\n",
       " None,\n",
       " None,\n",
       " None,\n",
       " None,\n",
       " None,\n",
       " None,\n",
       " None,\n",
       " None,\n",
       " None,\n",
       " None,\n",
       " None,\n",
       " None,\n",
       " None,\n",
       " None,\n",
       " None,\n",
       " None,\n",
       " None,\n",
       " None,\n",
       " None,\n",
       " None,\n",
       " None,\n",
       " None,\n",
       " None,\n",
       " None,\n",
       " None,\n",
       " None,\n",
       " None,\n",
       " None,\n",
       " None,\n",
       " None,\n",
       " None,\n",
       " None,\n",
       " None,\n",
       " None,\n",
       " None,\n",
       " None,\n",
       " None,\n",
       " None,\n",
       " None,\n",
       " None,\n",
       " None,\n",
       " None,\n",
       " None,\n",
       " None,\n",
       " None,\n",
       " None,\n",
       " None,\n",
       " None,\n",
       " None,\n",
       " None,\n",
       " None,\n",
       " None,\n",
       " None,\n",
       " None,\n",
       " None,\n",
       " None,\n",
       " None,\n",
       " None,\n",
       " None,\n",
       " None,\n",
       " None,\n",
       " None,\n",
       " None,\n",
       " None,\n",
       " None,\n",
       " None,\n",
       " None,\n",
       " None,\n",
       " None,\n",
       " None,\n",
       " None,\n",
       " None,\n",
       " None,\n",
       " None,\n",
       " None,\n",
       " None,\n",
       " None,\n",
       " None,\n",
       " None,\n",
       " None,\n",
       " None,\n",
       " None,\n",
       " None,\n",
       " None,\n",
       " None,\n",
       " None,\n",
       " None,\n",
       " None,\n",
       " None,\n",
       " None,\n",
       " None,\n",
       " None,\n",
       " None,\n",
       " None,\n",
       " None,\n",
       " None,\n",
       " None,\n",
       " None,\n",
       " None,\n",
       " None,\n",
       " None,\n",
       " None,\n",
       " None,\n",
       " None,\n",
       " None,\n",
       " None,\n",
       " None,\n",
       " None,\n",
       " None,\n",
       " None,\n",
       " None,\n",
       " None,\n",
       " None,\n",
       " None,\n",
       " None,\n",
       " None,\n",
       " None,\n",
       " None,\n",
       " None,\n",
       " None,\n",
       " None,\n",
       " None,\n",
       " None,\n",
       " None,\n",
       " None,\n",
       " None,\n",
       " None,\n",
       " None,\n",
       " None,\n",
       " None,\n",
       " None,\n",
       " None,\n",
       " None,\n",
       " None,\n",
       " None,\n",
       " None,\n",
       " None,\n",
       " None,\n",
       " None,\n",
       " None,\n",
       " None,\n",
       " None,\n",
       " None,\n",
       " None,\n",
       " None,\n",
       " None,\n",
       " None,\n",
       " None,\n",
       " None,\n",
       " None,\n",
       " None,\n",
       " None,\n",
       " None,\n",
       " None,\n",
       " None,\n",
       " None,\n",
       " None,\n",
       " None,\n",
       " None,\n",
       " None,\n",
       " None,\n",
       " None,\n",
       " None,\n",
       " None,\n",
       " None,\n",
       " None,\n",
       " None,\n",
       " None,\n",
       " None,\n",
       " None,\n",
       " None,\n",
       " None,\n",
       " None,\n",
       " None,\n",
       " None,\n",
       " None,\n",
       " None,\n",
       " None,\n",
       " None,\n",
       " None,\n",
       " None,\n",
       " None,\n",
       " None,\n",
       " None,\n",
       " None,\n",
       " None,\n",
       " None,\n",
       " None,\n",
       " None,\n",
       " None,\n",
       " None,\n",
       " None,\n",
       " None,\n",
       " None,\n",
       " None,\n",
       " None,\n",
       " None,\n",
       " None,\n",
       " None,\n",
       " None,\n",
       " None,\n",
       " None,\n",
       " None,\n",
       " None,\n",
       " None,\n",
       " None,\n",
       " None,\n",
       " None,\n",
       " None,\n",
       " None,\n",
       " None,\n",
       " None,\n",
       " None,\n",
       " None,\n",
       " None,\n",
       " None,\n",
       " None,\n",
       " None,\n",
       " None,\n",
       " None,\n",
       " None,\n",
       " None,\n",
       " None,\n",
       " None,\n",
       " None,\n",
       " None,\n",
       " None,\n",
       " None,\n",
       " None,\n",
       " None,\n",
       " None,\n",
       " None,\n",
       " None,\n",
       " None,\n",
       " None,\n",
       " None,\n",
       " None,\n",
       " None,\n",
       " None,\n",
       " None,\n",
       " None,\n",
       " None,\n",
       " None,\n",
       " None,\n",
       " None,\n",
       " None,\n",
       " None,\n",
       " None,\n",
       " None,\n",
       " None,\n",
       " None,\n",
       " None,\n",
       " None,\n",
       " None,\n",
       " None,\n",
       " None,\n",
       " None,\n",
       " None,\n",
       " None,\n",
       " None,\n",
       " None,\n",
       " None,\n",
       " None,\n",
       " None,\n",
       " None,\n",
       " None,\n",
       " None,\n",
       " None,\n",
       " None,\n",
       " None,\n",
       " None,\n",
       " None,\n",
       " None,\n",
       " None,\n",
       " None,\n",
       " None,\n",
       " None,\n",
       " None,\n",
       " None,\n",
       " None,\n",
       " None,\n",
       " None,\n",
       " None,\n",
       " None,\n",
       " None,\n",
       " None,\n",
       " None,\n",
       " None,\n",
       " None,\n",
       " None,\n",
       " None,\n",
       " None,\n",
       " None,\n",
       " None,\n",
       " None,\n",
       " None,\n",
       " None,\n",
       " None,\n",
       " None,\n",
       " None,\n",
       " None,\n",
       " None,\n",
       " None,\n",
       " None,\n",
       " None,\n",
       " None,\n",
       " None,\n",
       " None,\n",
       " None,\n",
       " None,\n",
       " None,\n",
       " None,\n",
       " None,\n",
       " None,\n",
       " None,\n",
       " None,\n",
       " None,\n",
       " None,\n",
       " None,\n",
       " None,\n",
       " None,\n",
       " None,\n",
       " None,\n",
       " None,\n",
       " None,\n",
       " None,\n",
       " None,\n",
       " None,\n",
       " None,\n",
       " None,\n",
       " None,\n",
       " None,\n",
       " None,\n",
       " None,\n",
       " None,\n",
       " None,\n",
       " None,\n",
       " None,\n",
       " None,\n",
       " None,\n",
       " None,\n",
       " None,\n",
       " None,\n",
       " None,\n",
       " None,\n",
       " None,\n",
       " None,\n",
       " None,\n",
       " None,\n",
       " None,\n",
       " None,\n",
       " None,\n",
       " None,\n",
       " None,\n",
       " None,\n",
       " None,\n",
       " None,\n",
       " None,\n",
       " None,\n",
       " None,\n",
       " None,\n",
       " None,\n",
       " None,\n",
       " None,\n",
       " None,\n",
       " None,\n",
       " None,\n",
       " None,\n",
       " None,\n",
       " None,\n",
       " None,\n",
       " None,\n",
       " None,\n",
       " None,\n",
       " None,\n",
       " None,\n",
       " None,\n",
       " None,\n",
       " None,\n",
       " None,\n",
       " None,\n",
       " None,\n",
       " None,\n",
       " None,\n",
       " None,\n",
       " None,\n",
       " None,\n",
       " None,\n",
       " None,\n",
       " None,\n",
       " None,\n",
       " None,\n",
       " None,\n",
       " None,\n",
       " None,\n",
       " None,\n",
       " None,\n",
       " None,\n",
       " None,\n",
       " None,\n",
       " None,\n",
       " None,\n",
       " None,\n",
       " None,\n",
       " None,\n",
       " None,\n",
       " None,\n",
       " None,\n",
       " None,\n",
       " None,\n",
       " None,\n",
       " None,\n",
       " None,\n",
       " None,\n",
       " None,\n",
       " None,\n",
       " None,\n",
       " None,\n",
       " None,\n",
       " None,\n",
       " None,\n",
       " None,\n",
       " None,\n",
       " None,\n",
       " None,\n",
       " None,\n",
       " None,\n",
       " None,\n",
       " None,\n",
       " None,\n",
       " None,\n",
       " None,\n",
       " None,\n",
       " None,\n",
       " None,\n",
       " None,\n",
       " None,\n",
       " None,\n",
       " None,\n",
       " None,\n",
       " None,\n",
       " None,\n",
       " None,\n",
       " None,\n",
       " None,\n",
       " None,\n",
       " None,\n",
       " None,\n",
       " None,\n",
       " None,\n",
       " None,\n",
       " None,\n",
       " None,\n",
       " None,\n",
       " None,\n",
       " None,\n",
       " None,\n",
       " None,\n",
       " None,\n",
       " None,\n",
       " None,\n",
       " None,\n",
       " None,\n",
       " None,\n",
       " None,\n",
       " None,\n",
       " None,\n",
       " None,\n",
       " None,\n",
       " None,\n",
       " None,\n",
       " None,\n",
       " None,\n",
       " None,\n",
       " None,\n",
       " None,\n",
       " None,\n",
       " None,\n",
       " None,\n",
       " None,\n",
       " None,\n",
       " None,\n",
       " None,\n",
       " None,\n",
       " None,\n",
       " None,\n",
       " None,\n",
       " None,\n",
       " None,\n",
       " None,\n",
       " None,\n",
       " None,\n",
       " None,\n",
       " None,\n",
       " None,\n",
       " None,\n",
       " None,\n",
       " None,\n",
       " None,\n",
       " None,\n",
       " None,\n",
       " None,\n",
       " None,\n",
       " None,\n",
       " None,\n",
       " None,\n",
       " None,\n",
       " None,\n",
       " None,\n",
       " None,\n",
       " None,\n",
       " None,\n",
       " None,\n",
       " None,\n",
       " None,\n",
       " None,\n",
       " None,\n",
       " None,\n",
       " None,\n",
       " None,\n",
       " None,\n",
       " None,\n",
       " None,\n",
       " None,\n",
       " None,\n",
       " None,\n",
       " None,\n",
       " None,\n",
       " None,\n",
       " None,\n",
       " None,\n",
       " None,\n",
       " None,\n",
       " None,\n",
       " None,\n",
       " None,\n",
       " None,\n",
       " None,\n",
       " None,\n",
       " None,\n",
       " None,\n",
       " None,\n",
       " None,\n",
       " None,\n",
       " None,\n",
       " None,\n",
       " None,\n",
       " None,\n",
       " None,\n",
       " None,\n",
       " None,\n",
       " None,\n",
       " None,\n",
       " None,\n",
       " None,\n",
       " None,\n",
       " None,\n",
       " None,\n",
       " None,\n",
       " None,\n",
       " None,\n",
       " None,\n",
       " None,\n",
       " None,\n",
       " None,\n",
       " None,\n",
       " None,\n",
       " None,\n",
       " None,\n",
       " None,\n",
       " None,\n",
       " None,\n",
       " None,\n",
       " None,\n",
       " None,\n",
       " None,\n",
       " None,\n",
       " None,\n",
       " None,\n",
       " None,\n",
       " None,\n",
       " None,\n",
       " None,\n",
       " None,\n",
       " None,\n",
       " None,\n",
       " None,\n",
       " None,\n",
       " None,\n",
       " None,\n",
       " None,\n",
       " None,\n",
       " None,\n",
       " None,\n",
       " None,\n",
       " None,\n",
       " None,\n",
       " None,\n",
       " None,\n",
       " None,\n",
       " None,\n",
       " None,\n",
       " None,\n",
       " None,\n",
       " None,\n",
       " None,\n",
       " None,\n",
       " None,\n",
       " None,\n",
       " None,\n",
       " None,\n",
       " None,\n",
       " None,\n",
       " None,\n",
       " None,\n",
       " None,\n",
       " None,\n",
       " None,\n",
       " None,\n",
       " None,\n",
       " None,\n",
       " None,\n",
       " None,\n",
       " None,\n",
       " None,\n",
       " None,\n",
       " None,\n",
       " None,\n",
       " None,\n",
       " None,\n",
       " None,\n",
       " None,\n",
       " None,\n",
       " None,\n",
       " None,\n",
       " None,\n",
       " None,\n",
       " None,\n",
       " None,\n",
       " None,\n",
       " None,\n",
       " None,\n",
       " None,\n",
       " None,\n",
       " None,\n",
       " None,\n",
       " None,\n",
       " None,\n",
       " None,\n",
       " None,\n",
       " None,\n",
       " None,\n",
       " None,\n",
       " None,\n",
       " None,\n",
       " None,\n",
       " None,\n",
       " None,\n",
       " None,\n",
       " None,\n",
       " None,\n",
       " None,\n",
       " None,\n",
       " None,\n",
       " None,\n",
       " None,\n",
       " None,\n",
       " None,\n",
       " None,\n",
       " None,\n",
       " None,\n",
       " None,\n",
       " None,\n",
       " None,\n",
       " None,\n",
       " None,\n",
       " None,\n",
       " None,\n",
       " None,\n",
       " None,\n",
       " None,\n",
       " None,\n",
       " None,\n",
       " None,\n",
       " None,\n",
       " None,\n",
       " None,\n",
       " None,\n",
       " None,\n",
       " None,\n",
       " None,\n",
       " None,\n",
       " None,\n",
       " None,\n",
       " None,\n",
       " None,\n",
       " None,\n",
       " None,\n",
       " None,\n",
       " None,\n",
       " None,\n",
       " None,\n",
       " None,\n",
       " None,\n",
       " None,\n",
       " None,\n",
       " None,\n",
       " None,\n",
       " None,\n",
       " None,\n",
       " None,\n",
       " None,\n",
       " None,\n",
       " None,\n",
       " None,\n",
       " None,\n",
       " None,\n",
       " None,\n",
       " None,\n",
       " None,\n",
       " None,\n",
       " None,\n",
       " None,\n",
       " None,\n",
       " None,\n",
       " None,\n",
       " None,\n",
       " None,\n",
       " None,\n",
       " None,\n",
       " None,\n",
       " None,\n",
       " None,\n",
       " None,\n",
       " None,\n",
       " None,\n",
       " None,\n",
       " None,\n",
       " None,\n",
       " None,\n",
       " None,\n",
       " None,\n",
       " None,\n",
       " None,\n",
       " None,\n",
       " None,\n",
       " None,\n",
       " None,\n",
       " None,\n",
       " None,\n",
       " None,\n",
       " None,\n",
       " None,\n",
       " None,\n",
       " None,\n",
       " None,\n",
       " None,\n",
       " None,\n",
       " None,\n",
       " None,\n",
       " None,\n",
       " None,\n",
       " None,\n",
       " None,\n",
       " None,\n",
       " None,\n",
       " None,\n",
       " None,\n",
       " None,\n",
       " None,\n",
       " None,\n",
       " None,\n",
       " None,\n",
       " None,\n",
       " None,\n",
       " None,\n",
       " None,\n",
       " None,\n",
       " None,\n",
       " None,\n",
       " None,\n",
       " None,\n",
       " None,\n",
       " None,\n",
       " None,\n",
       " None,\n",
       " None,\n",
       " None,\n",
       " None,\n",
       " None,\n",
       " None,\n",
       " None,\n",
       " None,\n",
       " None,\n",
       " None,\n",
       " None]"
      ]
     },
     "execution_count": 73,
     "metadata": {},
     "output_type": "execute_result"
    }
   ],
   "source": [
    "short_pairs = list(pairs)[0:1000]\n",
    "list_pairs = list(pairs)\n",
    "from math import sqrt\n",
    "from joblib import Parallel, delayed\n",
    "%time Parallel(n_jobs=7)(delayed(count_stuff)(i, ppi_df, columns, merged_annotations) for i in short_pairs)\n",
    "%time Parallel(n_jobs=7,backend=\"threading\")(delayed(count_stuff)(i, ppi_df, columns, merged_annotations) for i in short_pairs)\n",
    "%time [count_stuff(i, ppi_df, columns, merged_annotations) for i in short_pairs]"
   ]
  },
  {
   "cell_type": "code",
   "execution_count": null,
   "metadata": {},
   "outputs": [],
   "source": [
    "# DONT DO THIS - MEMORY ERROR!\n",
    "# short_pairs = list(pairs)[0:1000]\n",
    "# list_pairs = list(pairs)\n",
    "# # df_copies = [ppi_df.copy() for i in range(len(pairs))]\n",
    "# from math import sqrt\n",
    "# from joblib import Parallel, delayed\n",
    "# %time Parallel(n_jobs=7,backend=\"threading\")(delayed(count_stuff)(i, ppi_df, columns, merged_annotations) for i, j in zip(short_pairs, df_copies))\n",
    "# %time [count_stuff(i, ppi_df, columns, merged_annotations) for i, j in zip(short_pairs, df_copies)]"
   ]
  },
  {
   "cell_type": "markdown",
   "metadata": {},
   "source": [
    "# Set-based presence checking"
   ]
  },
  {
   "cell_type": "code",
   "execution_count": 23,
   "metadata": {},
   "outputs": [
    {
     "data": {
      "text/plain": [
       "({'h@GO:0008157',\n",
       "  'h@GO:0019902',\n",
       "  'h@GO:0019903',\n",
       "  'h@GO:0030346',\n",
       "  'h@GO:0051721',\n",
       "  'h@GO:1990634'},\n",
       " {'p@GO:0019034',\n",
       "  'p@GO:0039715',\n",
       "  'p@GO:0039720',\n",
       "  'p@GO:0039721',\n",
       "  'p@GO:0042025',\n",
       "  'p@GO:0044094',\n",
       "  'p@GO:0044095',\n",
       "  'p@GO:0044196',\n",
       "  'p@GO:0044199',\n",
       "  'p@GO:0044200',\n",
       "  'p@GO:0044201',\n",
       "  'p@GO:0044202',\n",
       "  'p@GO:0044203',\n",
       "  'p@GO:0044204',\n",
       "  'p@GO:0046809',\n",
       "  'p@GO:0072495',\n",
       "  'p@GO:0075341'})"
      ]
     },
     "execution_count": 23,
     "metadata": {},
     "output_type": "execute_result"
    }
   ],
   "source": [
    "propagated_pairs = []\n",
    "for pair in list(pairs)[:100]:\n",
    "    new_pair = []\n",
    "    for term in pair:\n",
    "        if 'GO' in term:\n",
    "            prefix = term[:2]\n",
    "            go_object = go_dict.get(term[2:])\n",
    "            if None:\n",
    "                new_pair.append(term)\n",
    "            else:\n",
    "                child_terms = [prefix + i for i in go_object.recursive_children]\n",
    "                propagation_set = set(child_terms) | set([term])\n",
    "                new_pair.append(propagation_set)\n",
    "        else:\n",
    "            new_pair.append({term})\n",
    "    propagated_pairs.append(tuple(new_pair))\n",
    "\n",
    "pair_prop = propagated_pairs[0]\n",
    "pair_prop"
   ]
  },
  {
   "cell_type": "markdown",
   "metadata": {},
   "source": [
    "## Complete pair is present"
   ]
  },
  {
   "cell_type": "code",
   "execution_count": 25,
   "metadata": {},
   "outputs": [
    {
     "name": "stdout",
     "output_type": "stream",
     "text": [
      "CPU times: user 254 ms, sys: 0 ns, total: 254 ms\n",
      "Wall time: 252 ms\n",
      "CPU times: user 108 ms, sys: 0 ns, total: 108 ms\n",
      "Wall time: 108 ms\n",
      "CPU times: user 4.64 ms, sys: 0 ns, total: 4.64 ms\n",
      "Wall time: 4.5 ms\n",
      "CPU times: user 4.09 ms, sys: 0 ns, total: 4.09 ms\n",
      "Wall time: 3.96 ms\n"
     ]
    },
    {
     "data": {
      "text/plain": [
       "46"
      ]
     },
     "execution_count": 25,
     "metadata": {},
     "output_type": "execute_result"
    }
   ],
   "source": [
    "%time np.sum([np.sum(interaction_dataframe['annotation_pairs'].apply(lambda x: i in x)) for i in list(itertools.product(pair_prop[0], pair_prop[1]))])\n",
    "%time np.sum(interaction_dataframe.apply(lambda x: not x['annotations_A'].isdisjoint(pair_prop[0]) and not x['annotations_B'].isdisjoint(pair_prop[1]), axis=1))\n",
    "%time np.sum(merged_annotations.map(lambda x: not x.isdisjoint(pair_prop[0]) and not x.isdisjoint(pair_prop[1])))\n",
    "%time np.sum(merged_annotations.apply(lambda x: not x.isdisjoint(pair_prop[0]) and not x.isdisjoint(pair_prop[1])))"
   ]
  },
  {
   "cell_type": "markdown",
   "metadata": {},
   "source": [
    "## Exactly one label is present"
   ]
  },
  {
   "cell_type": "markdown",
   "metadata": {},
   "source": [
    "No difference between Series.map(), list comprehension of .values array converted to list, list comprehension of values array converted to list and re-numpy-arrayed, or generator expression of .values array."
   ]
  },
  {
   "cell_type": "code",
   "execution_count": 26,
   "metadata": {},
   "outputs": [
    {
     "name": "stdout",
     "output_type": "stream",
     "text": [
      "CPU times: user 3.94 ms, sys: 0 ns, total: 3.94 ms\n",
      "Wall time: 3.82 ms\n",
      "CPU times: user 4.04 ms, sys: 0 ns, total: 4.04 ms\n",
      "Wall time: 3.92 ms\n",
      "CPU times: user 4.31 ms, sys: 0 ns, total: 4.31 ms\n",
      "Wall time: 4.22 ms\n"
     ]
    },
    {
     "data": {
      "text/plain": [
       "7546"
      ]
     },
     "execution_count": 26,
     "metadata": {},
     "output_type": "execute_result"
    }
   ],
   "source": [
    "a = ppi_df.annotations_A.values\n",
    "%time np.sum([i.isdisjoint(pair_prop[0]) for i in a])\n",
    "%time np.sum(np.array([i.isdisjoint(pair_prop[0]) for i in a]))\n",
    "%time np.sum(np.fromiter((i.isdisjoint(pair_prop[0]) for i in a), dtype=bool))\n"
   ]
  },
  {
   "cell_type": "code",
   "execution_count": 27,
   "metadata": {},
   "outputs": [
    {
     "name": "stdout",
     "output_type": "stream",
     "text": [
      "CPU times: user 131 ms, sys: 13 µs, total: 131 ms\n",
      "Wall time: 130 ms\n",
      "CPU times: user 7.05 ms, sys: 0 ns, total: 7.05 ms\n",
      "Wall time: 6.68 ms\n"
     ]
    },
    {
     "data": {
      "text/plain": [
       "159"
      ]
     },
     "execution_count": 27,
     "metadata": {},
     "output_type": "execute_result"
    }
   ],
   "source": [
    "pair_prop = propagated_pairs[0]\n",
    "%time np.sum(ppi_df.apply(lambda x: not x['annotations_A'].isdisjoint(pair_prop[0]) and x['annotations_B'].isdisjoint(pair_prop[1]), axis=1))\n",
    "%time np.sum(ppi_df.annotations_A.map(lambda x: not x.isdisjoint(pair_prop[0])) & ppi_df.annotations_B.map(lambda x: x.isdisjoint(pair_prop[1])))\n",
    "\n",
    "# https://jakevdp.github.io/PythonDataScienceHandbook/02.06-boolean-arrays-and-masks.html"
   ]
  },
  {
   "cell_type": "code",
   "execution_count": 65,
   "metadata": {},
   "outputs": [
    {
     "data": {
      "text/plain": [
       "True"
      ]
     },
     "execution_count": 65,
     "metadata": {},
     "output_type": "execute_result"
    }
   ],
   "source": [
    "# compare methods' output\n",
    "all(ppi_df.annotations_A.map(lambda x: not x.isdisjoint(pair_prop[0])) & ppi_df.annotations_B.map(lambda x: x.isdisjoint(pair_prop[1])) == ppi_df.apply(lambda x: not x['annotations_A'].isdisjoint(pair_prop[0]) and x['annotations_B'].isdisjoint(pair_prop[1]), axis=1))"
   ]
  },
  {
   "cell_type": "markdown",
   "metadata": {},
   "source": [
    "## Atleast one label"
   ]
  },
  {
   "cell_type": "code",
   "execution_count": 59,
   "metadata": {},
   "outputs": [
    {
     "name": "stdout",
     "output_type": "stream",
     "text": [
      "CPU times: user 12.4 ms, sys: 9 µs, total: 12.4 ms\n",
      "Wall time: 10.9 ms\n",
      "CPU times: user 8.36 ms, sys: 9 µs, total: 8.37 ms\n",
      "Wall time: 7.91 ms\n",
      "CPU times: user 5.38 ms, sys: 0 ns, total: 5.38 ms\n",
      "Wall time: 5.05 ms\n"
     ]
    },
    {
     "data": {
      "text/plain": [
       "205"
      ]
     },
     "execution_count": 59,
     "metadata": {},
     "output_type": "execute_result"
    }
   ],
   "source": [
    "%time np.sum(merged_annotations.apply(lambda x: not x.isdisjoint(pair_prop[0])))\n",
    "%time np.sum(merged_annotations.map(lambda x: not x.isdisjoint(pair_prop[0])))\n",
    "%time np.sum(interaction_dataframe[columns[0]].map(lambda x: not x.isdisjoint(pair_prop[0])))"
   ]
  },
  {
   "cell_type": "code",
   "execution_count": 45,
   "metadata": {},
   "outputs": [
    {
     "data": {
      "text/plain": [
       "Int64Index([  41,   44,   68,   89,  141,  162,  245,  251,  271,  474,\n",
       "            ...\n",
       "            7567, 7574, 7576, 7619, 7621, 7627, 7643, 7705, 7706, 7729],\n",
       "           dtype='int64', length=205)"
      ]
     },
     "execution_count": 45,
     "metadata": {},
     "output_type": "execute_result"
    }
   ],
   "source": [
    "merged_annotations.index[merged_annotations.apply(lambda x: not x.isdisjoint(pair_prop[0]))]"
   ]
  },
  {
   "cell_type": "code",
   "execution_count": 47,
   "metadata": {
    "scrolled": true
   },
   "outputs": [
    {
     "data": {
      "text/plain": [
       "{'h@GO:0000164',\n",
       " 'h@GO:0000775',\n",
       " 'h@GO:0000776',\n",
       " 'h@GO:0000777',\n",
       " 'h@GO:0000784',\n",
       " 'h@GO:0003723',\n",
       " 'h@GO:0004721',\n",
       " 'h@GO:0004722',\n",
       " 'h@GO:0005515',\n",
       " 'h@GO:0005521',\n",
       " 'h@GO:0005634',\n",
       " 'h@GO:0005654',\n",
       " 'h@GO:0005694',\n",
       " 'h@GO:0005730',\n",
       " 'h@GO:0005737',\n",
       " 'h@GO:0005739',\n",
       " 'h@GO:0005741',\n",
       " 'h@GO:0005829',\n",
       " 'h@GO:0005925',\n",
       " 'h@GO:0005975',\n",
       " 'h@GO:0005977',\n",
       " 'h@GO:0006470',\n",
       " 'h@GO:0007049',\n",
       " 'h@GO:0008022',\n",
       " 'h@GO:0008157',\n",
       " 'h@GO:0016607',\n",
       " 'h@GO:0016787',\n",
       " 'h@GO:0016791',\n",
       " 'h@GO:0019901',\n",
       " 'h@GO:0019903',\n",
       " 'h@GO:0019904',\n",
       " 'h@GO:0030182',\n",
       " 'h@GO:0030496',\n",
       " 'h@GO:0032154',\n",
       " 'h@GO:0032922',\n",
       " 'h@GO:0032991',\n",
       " 'h@GO:0042752',\n",
       " 'h@GO:0043153',\n",
       " 'h@GO:0043197',\n",
       " 'h@GO:0044877',\n",
       " 'h@GO:0046822',\n",
       " 'h@GO:0046872',\n",
       " 'h@GO:0047485',\n",
       " 'h@GO:0048511',\n",
       " 'h@GO:0051301',\n",
       " 'h@GO:0060252',\n",
       " 'h@GO:0072357',\n",
       " 'h@IPR004843',\n",
       " 'h@IPR006186',\n",
       " 'h@IPR029052',\n",
       " 'h@IPR031675',\n",
       " 'h@IPR037981',\n",
       " 'p@GO:0005515',\n",
       " 'p@IPR006772'}"
      ]
     },
     "execution_count": 47,
     "metadata": {},
     "output_type": "execute_result"
    }
   ],
   "source": [
    "merged_annotations[41]"
   ]
  },
  {
   "cell_type": "code",
   "execution_count": 48,
   "metadata": {
    "scrolled": true
   },
   "outputs": [
    {
     "data": {
      "text/plain": [
       "{'h@GO:0008157', 'h@GO:0019903'}"
      ]
     },
     "execution_count": 48,
     "metadata": {},
     "output_type": "execute_result"
    }
   ],
   "source": [
    "merged_annotations[41] & pair_prop[0]"
   ]
  },
  {
   "cell_type": "markdown",
   "metadata": {},
   "source": [
    "Check if methods give same output"
   ]
  },
  {
   "cell_type": "code",
   "execution_count": 50,
   "metadata": {},
   "outputs": [
    {
     "data": {
      "text/plain": [
       "205"
      ]
     },
     "execution_count": 50,
     "metadata": {},
     "output_type": "execute_result"
    }
   ],
   "source": [
    "np.sum(interaction_dataframe[columns[0]].map(lambda x: not x.isdisjoint(pair_prop[0])))"
   ]
  },
  {
   "cell_type": "code",
   "execution_count": 51,
   "metadata": {},
   "outputs": [
    {
     "data": {
      "text/plain": [
       "205"
      ]
     },
     "execution_count": 51,
     "metadata": {},
     "output_type": "execute_result"
    }
   ],
   "source": [
    "np.sum(merged_annotations.apply(lambda x: not x.isdisjoint(pair_prop[0])))"
   ]
  },
  {
   "cell_type": "markdown",
   "metadata": {},
   "source": [
    "## Neither label is present"
   ]
  },
  {
   "cell_type": "code",
   "execution_count": 85,
   "metadata": {},
   "outputs": [
    {
     "name": "stdout",
     "output_type": "stream",
     "text": [
      "CPU times: user 8.6 ms, sys: 0 ns, total: 8.6 ms\n",
      "Wall time: 7.76 ms\n",
      "CPU times: user 9.75 ms, sys: 3.79 ms, total: 13.5 ms\n",
      "Wall time: 12.8 ms\n",
      "CPU times: user 11.1 ms, sys: 8 µs, total: 11.1 ms\n",
      "Wall time: 10.7 ms\n",
      "CPU times: user 7.3 ms, sys: 0 ns, total: 7.3 ms\n",
      "Wall time: 7.13 ms\n"
     ]
    },
    {
     "data": {
      "text/plain": [
       "4746"
      ]
     },
     "execution_count": 85,
     "metadata": {},
     "output_type": "execute_result"
    }
   ],
   "source": [
    "%time np.sum(merged_annotations.map(lambda x: pair[0] not in x and pair[1] not in x))\n",
    "%time np.sum(merged_annotations.map(lambda x: x.isdisjoint(pair_prop[0]) and x.isdisjoint(pair_prop[1])))\n",
    "%time np.sum(merged_annotations.map(lambda x: x.isdisjoint(pair_prop[0])) & merged_annotations.map(lambda x: x.isdisjoint(pair_prop[1])))\n",
    "%time np.sum(interaction_dataframe[columns[0]].map(lambda x: x.isdisjoint(pair_prop[0])) & interaction_dataframe[columns[1]].map(lambda x: x.isdisjoint(pair_prop[1])))"
   ]
  },
  {
   "cell_type": "markdown",
   "metadata": {},
   "source": [
    "Compare methods output"
   ]
  },
  {
   "cell_type": "code",
   "execution_count": 87,
   "metadata": {},
   "outputs": [
    {
     "data": {
      "text/plain": [
       "True"
      ]
     },
     "execution_count": 87,
     "metadata": {},
     "output_type": "execute_result"
    }
   ],
   "source": [
    "all(merged_annotations.map(lambda x: x.isdisjoint(pair_prop[0])) & merged_annotations.map(lambda x: x.isdisjoint(pair_prop[1])) == interaction_dataframe[columns[0]].map(lambda x: x.isdisjoint(pair_prop[0])) & interaction_dataframe[columns[1]].map(lambda x: x.isdisjoint(pair_prop[1])))"
   ]
  },
  {
   "cell_type": "markdown",
   "metadata": {},
   "source": [
    "## Map is generally (slightly) faster than apply, even for a Series!"
   ]
  },
  {
   "cell_type": "code",
   "execution_count": 54,
   "metadata": {
    "scrolled": false
   },
   "outputs": [
    {
     "name": "stdout",
     "output_type": "stream",
     "text": [
      "CPU times: user 259 µs, sys: 3.98 ms, total: 4.24 ms\n",
      "Wall time: 3.62 ms\n",
      "CPU times: user 4.05 ms, sys: 0 ns, total: 4.05 ms\n",
      "Wall time: 3.87 ms\n"
     ]
    },
    {
     "data": {
      "text/plain": [
       "85"
      ]
     },
     "execution_count": 54,
     "metadata": {},
     "output_type": "execute_result"
    }
   ],
   "source": [
    "%time np.sum(merged_annotations.apply(lambda x: pair[0] in x))\n",
    "%time np.sum(merged_annotations.map(lambda x: pair[0] in x))"
   ]
  },
  {
   "cell_type": "markdown",
   "metadata": {},
   "source": [
    "## Parallellization"
   ]
  },
  {
   "cell_type": "code",
   "execution_count": 93,
   "metadata": {},
   "outputs": [],
   "source": [
    "def count_presences_propagated(pair_prop, interaction_dataframe, column_A,\n",
    "                               column_B, merged_annotations):\n",
    "    \"\"\"\n",
    "    columns must be host, pathogen order\n",
    "    \"\"\"\n",
    "    \"\"\"Comparison of methods\n",
    "\n",
    "    ALL PAIRS\n",
    "    %time np.sum([np.sum(interaction_dataframe['annotation_pairs'].apply(lambda x: i in x)) for i in list(itertools.product(pair_prop[0], pair_prop[1]))])\n",
    "    %time np.sum(interaction_dataframe.apply(lambda x: not x['annotations_A'].isdisjoint(pair_prop[0]) and not x['annotations_B'].isdisjoint(pair_prop[1]), axis=1))\n",
    "    %time np.sum(merged_annotations.map(lambda x: not x.isdisjoint(pair_prop[0]) and not x.isdisjoint(pair_prop[1])))\n",
    "\n",
    "    CPU times: user 138 ms, sys: 30 µs, total: 138 ms\n",
    "    Wall time: 136 ms\n",
    "    CPU times: user 105 ms, sys: 0 ns, total: 105 ms\n",
    "    Wall time: 105 ms\n",
    "    CPU times: user 8.65 ms, sys: 0 ns, total: 8.65 ms\n",
    "    Wall time: 8.46 ms\n",
    "\n",
    "    ONLY 1 LABEL\n",
    "\n",
    "    \"\"\"\n",
    "\n",
    "    # count all ppis where any pair occurs\n",
    "    pair_count = np.sum(\n",
    "        merged_annotations.map(\n",
    "            lambda x: not x.isdisjoint(pair_prop[0]) and not x.isdisjoint(pair_prop[1])\n",
    "        ))\n",
    "\n",
    "    # count ppis where only 1 label occurs: P(X | Y') or N10\n",
    "    label_one_count_exclusive = np.sum(interaction_dataframe[column_A].map(\n",
    "        lambda x: not x.isdisjoint(pair_prop[0])\n",
    "    ) & interaction_dataframe[column_B].map(\n",
    "        lambda x: x.isdisjoint(pair_prop[1])))\n",
    "    label_two_count_exclusive = np.sum(interaction_dataframe[column_A].map(\n",
    "        lambda x: x.isdisjoint(pair_prop[0])\n",
    "    ) & interaction_dataframe[column_B].map(\n",
    "        lambda x: not x.isdisjoint(pair_prop[1])))\n",
    "\n",
    "    # count ppis where 1 label occurs, regardless of other label in pair:\n",
    "    # P(X) or N1+\n",
    "    label_one_count = np.sum(\n",
    "        merged_annotations.apply(lambda x: not x.isdisjoint(pair_prop[0])))\n",
    "    label_two_count = np.sum(\n",
    "        merged_annotations.apply(lambda x: not x.isdisjoint(pair_prop[1])))\n",
    "    # option to not discern between location of label (i.e. host or pathogen)\n",
    "    # in case there would be identical labels in host and pathogen proteins\n",
    "    # label_one_count = np.sum(interaction_dataframe[column_A].map(\n",
    "    #     lambda x: not x.isdisjoint(pair_prop[0])))\n",
    "    # label_two_count = np.sum(interaction_dataframe[column_B].map(\n",
    "    #     lambda x: not x.isdisjoint(pair_prop[1])))\n",
    "\n",
    "    # count ppis lacking either term: P(X',Y') or N00\n",
    "    absent_count = np.sum(\n",
    "        merged_annotations.map(lambda x: x.isdisjoint(pair_prop[0])) &\n",
    "        merged_annotations.map(lambda x: x.isdisjoint(pair_prop[1])))\n",
    "    # option to not discern between location of label (i.e. host or pathogen)\n",
    "    # absent_count = np.sum(interaction_dataframe[column_A].map(\n",
    "    #     lambda x: x.isdisjoint(pair_prop[0])) & interaction_dataframe[column_B]\n",
    "    #                       .map(lambda x: x.isdisjoint(pair_prop[1])))\n",
    "\n",
    "    # total count of terms\n",
    "    total_count = interaction_dataframe.shape[0]\n",
    "\n",
    "    return pair_count, label_one_count_exclusive, label_two_count_exclusive, label_one_count, label_two_count, absent_count, total_count\n"
   ]
  },
  {
   "cell_type": "code",
   "execution_count": 96,
   "metadata": {},
   "outputs": [
    {
     "name": "stdout",
     "output_type": "stream",
     "text": [
      "CPU times: user 1min 12s, sys: 8.45 s, total: 1min 20s\n",
      "Wall time: 1min 24s\n",
      "CPU times: user 4.37 s, sys: 59 ms, total: 4.43 s\n",
      "Wall time: 4.31 s\n",
      "CPU times: user 3.37 s, sys: 0 ns, total: 3.37 s\n",
      "Wall time: 3.37 s\n"
     ]
    },
    {
     "data": {
      "text/plain": [
       "[(46, 159, 2800, 205, 2846, 4746, 7751),\n",
       " (2, 2, 155, 4, 157, 7592, 7751),\n",
       " (1, 69, 63, 70, 64, 7618, 7751),\n",
       " (3, 32, 5, 35, 8, 7711, 7751),\n",
       " (6, 32, 329, 38, 335, 7384, 7751),\n",
       " (1, 9, 99, 10, 100, 7642, 7751),\n",
       " (2, 31, 295, 33, 297, 7423, 7751),\n",
       " (1, 3, 182, 4, 183, 7565, 7751),\n",
       " (1, 5, 159, 6, 160, 7586, 7751),\n",
       " (2, 0, 24, 2, 26, 7725, 7751),\n",
       " (23, 679, 84, 702, 107, 6965, 7751),\n",
       " (25, 114, 1385, 139, 1410, 6227, 7751),\n",
       " (3, 167, 222, 170, 225, 7359, 7751),\n",
       " (97, 658, 429, 755, 526, 6567, 7751),\n",
       " (1, 0, 322, 1, 323, 7428, 7751),\n",
       " (4, 173, 43, 177, 47, 7531, 7751),\n",
       " (1, 2, 297, 3, 298, 7451, 7751),\n",
       " (13, 278, 1094, 291, 1107, 6366, 7751),\n",
       " (3, 75, 376, 78, 379, 7297, 7751),\n",
       " (1, 13, 147, 14, 148, 7590, 7751),\n",
       " (1, 5, 19, 6, 20, 7726, 7751),\n",
       " (3, 46, 376, 49, 379, 7326, 7751),\n",
       " (3, 351, 84, 354, 87, 7313, 7751),\n",
       " (2, 0, 550, 2, 552, 7199, 7751),\n",
       " (2, 9, 77, 11, 79, 7663, 7751),\n",
       " (5, 87, 298, 92, 303, 7361, 7751),\n",
       " (2, 8, 897, 10, 899, 6844, 7751),\n",
       " (2, 18, 285, 20, 287, 7446, 7751),\n",
       " (22, 48, 2793, 70, 2815, 4888, 7751),\n",
       " (1, 40, 357, 41, 358, 7353, 7751),\n",
       " (4, 16, 319, 20, 323, 7412, 7751),\n",
       " (31, 1100, 140, 1131, 171, 6480, 7751),\n",
       " (5, 6, 2284, 11, 2289, 5456, 7751),\n",
       " (58, 73, 1216, 131, 1274, 6404, 7751),\n",
       " (20, 418, 248, 438, 268, 7065, 7751),\n",
       " (2, 1, 1993, 3, 1995, 5755, 7751),\n",
       " (1, 35, 183, 36, 184, 7532, 7751),\n",
       " (3, 224, 134, 227, 137, 7390, 7751),\n",
       " (5, 34, 271, 39, 276, 7441, 7751),\n",
       " (2, 267, 17, 269, 19, 7465, 7751),\n",
       " (9, 95, 493, 104, 502, 7154, 7751),\n",
       " (1, 74, 16, 75, 17, 7660, 7751),\n",
       " (2, 0, 1993, 2, 1995, 5756, 7751),\n",
       " (3, 17, 426, 20, 429, 7305, 7751),\n",
       " (8, 43, 1539, 51, 1547, 6161, 7751),\n",
       " (1, 1, 183, 2, 184, 7566, 7751),\n",
       " (3, 1584, 0, 1587, 3, 6164, 7751),\n",
       " (1, 24, 196, 25, 197, 7530, 7751),\n",
       " (3, 0, 2286, 3, 2289, 5462, 7751),\n",
       " (7, 129, 130, 136, 137, 7485, 7751),\n",
       " (37, 54, 2439, 91, 2476, 5221, 7751),\n",
       " (1, 63, 224, 64, 225, 7463, 7751),\n",
       " (1, 257, 38, 258, 39, 7455, 7751),\n",
       " (4, 33, 1241, 37, 1245, 6473, 7751),\n",
       " (2, 2, 1857, 4, 1859, 5890, 7751),\n",
       " (1, 0, 15, 1, 16, 7735, 7751),\n",
       " (10, 685, 76, 695, 86, 6980, 7751),\n",
       " (2, 211, 68, 213, 70, 7470, 7751),\n",
       " (1, 81, 286, 82, 287, 7383, 7751),\n",
       " (3, 1, 3818, 4, 3821, 3929, 7751),\n",
       " (10, 27, 2836, 37, 2846, 4878, 7751),\n",
       " (2, 14, 244, 16, 246, 7491, 7751),\n",
       " (1, 53, 28, 54, 29, 7669, 7751),\n",
       " (3, 1, 99, 4, 102, 7648, 7751),\n",
       " (1, 4, 274, 5, 275, 7472, 7751),\n",
       " (4, 38, 422, 42, 426, 7287, 7751),\n",
       " (1, 167, 46, 168, 47, 7537, 7751),\n",
       " (2, 26, 47, 28, 49, 7676, 7751),\n",
       " (2, 1, 1857, 3, 1859, 5891, 7751),\n",
       " (1, 15, 15, 16, 16, 7720, 7751),\n",
       " (4, 0, 57, 4, 61, 7690, 7751),\n",
       " (1, 122, 33, 123, 34, 7595, 7751),\n",
       " (4, 287, 82, 291, 86, 7378, 7751),\n",
       " (1, 13, 52, 14, 53, 7685, 7751),\n",
       " (48, 534, 381, 582, 429, 6788, 7751),\n",
       " (2, 48, 249, 50, 251, 7452, 7751),\n",
       " (2, 16, 98, 18, 100, 7635, 7751),\n",
       " (6, 1955, 10, 1961, 16, 5780, 7751),\n",
       " (2, 18, 8, 20, 10, 7723, 7751),\n",
       " (1, 80, 85, 81, 86, 7585, 7751),\n",
       " (1, 2, 1409, 3, 1410, 6339, 7751),\n",
       " (1, 1, 3820, 2, 3821, 3929, 7751),\n",
       " (1, 3, 147, 4, 148, 7600, 7751),\n",
       " (4, 155, 264, 159, 268, 7328, 7751),\n",
       " (23, 180, 1222, 203, 1245, 6326, 7751),\n",
       " (2, 19, 496, 21, 498, 7234, 7751),\n",
       " (2, 0, 47, 2, 49, 7702, 7751),\n",
       " (5, 32, 321, 37, 326, 7393, 7751),\n",
       " (1, 2, 2845, 3, 2846, 4903, 7751),\n",
       " (1, 33, 169, 34, 170, 7548, 7751),\n",
       " (2, 3, 8, 5, 10, 7738, 7751),\n",
       " (1, 4, 147, 5, 148, 7599, 7751),\n",
       " (1, 34, 274, 35, 275, 7442, 7751),\n",
       " (2, 36, 176, 38, 178, 7537, 7751),\n",
       " (8, 13, 2468, 21, 2476, 5262, 7751),\n",
       " (2, 24, 617, 26, 619, 7108, 7751),\n",
       " (3, 11, 96, 14, 99, 7641, 7751),\n",
       " (4, 6, 3817, 10, 3821, 3924, 7751),\n",
       " (2, 4, 1857, 6, 1859, 5888, 7751),\n",
       " (22, 63, 2793, 85, 2815, 4873, 7751)]"
      ]
     },
     "execution_count": 96,
     "metadata": {},
     "output_type": "execute_result"
    }
   ],
   "source": [
    "from joblib import Parallel, delayed\n",
    "short_pairs_prop = list(propagated_pairs)[0:100]\n",
    "columns = ['annotations_A', 'annotations_B']\n",
    "%time Parallel(n_jobs=7)(delayed(count_presences_propagated)(i, ppi_df, 'annotations_A', 'annotations_B', merged_annotations) for i in short_pairs_prop)\n",
    "%time Parallel(n_jobs=7,backend=\"threading\")(delayed(count_presences_propagated)(i, ppi_df, 'annotations_A', 'annotations_B', merged_annotations) for i in short_pairs_prop)\n",
    "%time [count_presences_propagated(i, ppi_df, 'annotations_A', 'annotations_B', merged_annotations) for i in short_pairs_prop]"
   ]
  },
  {
   "cell_type": "code",
   "execution_count": null,
   "metadata": {},
   "outputs": [],
   "source": []
  },
  {
   "cell_type": "code",
   "execution_count": null,
   "metadata": {},
   "outputs": [],
   "source": []
  },
  {
   "cell_type": "code",
   "execution_count": null,
   "metadata": {},
   "outputs": [],
   "source": []
  },
  {
   "cell_type": "code",
   "execution_count": null,
   "metadata": {},
   "outputs": [],
   "source": []
  },
  {
   "cell_type": "code",
   "execution_count": 100,
   "metadata": {},
   "outputs": [
    {
     "data": {
      "text/plain": [
       "'h@GO:0005654'"
      ]
     },
     "execution_count": 100,
     "metadata": {},
     "output_type": "execute_result"
    }
   ],
   "source": []
  },
  {
   "cell_type": "code",
   "execution_count": 109,
   "metadata": {},
   "outputs": [
    {
     "name": "stdout",
     "output_type": "stream",
     "text": [
      "CPU times: user 128 ms, sys: 0 ns, total: 128 ms\n",
      "Wall time: 127 ms\n",
      "CPU times: user 9.78 ms, sys: 0 ns, total: 9.78 ms\n",
      "Wall time: 9.17 ms\n"
     ]
    },
    {
     "data": {
      "text/plain": [
       "2368"
      ]
     },
     "execution_count": 109,
     "metadata": {},
     "output_type": "execute_result"
    }
   ],
   "source": [
    "pair_prop = ({'h@GO:0042382', 'h@GO:0071182', 'h@GO:1990483', 'h@GO:0032221', 'h@GO:0016605', 'h@GO:0061793', 'h@GO:0044545', 'h@GO:0008024', 'h@GO:0015030', 'h@GO:0034967', 'h@GO:0035267', 'h@GO:0090571', 'h@GO:0000438', 'h@GO:0048188', 'h@GO:0070176', 'h@GO:0046695', 'h@GO:0005847', 'h@GO:0000123', 'h@GO:0071178', 'h@GO:0070775', 'h@GO:1990331', 'h@GO:0070449', 'h@GO:0061773', 'h@GO:0071180', 'h@GO:0005673', 'h@GO:0070824', 'h@GO:0016593', 'h@GO:0016604', 'h@GO:1902562', 'h@GO:0070692', 'h@GO:0005666', 'h@GO:0036410', 'h@GO:0035061', 'h@GO:1990512', 'h@GO:0070823', 'h@GO:0034740', 'h@GO:0070776', 'h@GO:0016580', 'h@GO:0000420', 'h@GO:0000508', 'h@GO:0044666', 'h@GO:0070440', 'h@GO:0033255', 'h@GO:0070443', 'h@GO:0090573', 'h@GO:0032044', 'h@GO:0072589', 'h@GO:0070847', 'h@GO:0000443', 'h@GO:0071179', 'h@GO:1990826', 'h@GO:0070439', 'h@GO:0071175', 'h@GO:0070822', 'h@GO:0030869', 'h@GO:0071339', 'h@GO:0000446', 'h@GO:0071819', 'h@GO:0071177', 'h@GO:0043189', 'h@GO:0097504', 'h@GO:0016606', 'h@GO:0042272', 'h@GO:0016591', 'h@GO:0035363', 'h@GO:0016592', 'h@GO:0070556', 'h@GO:0000811', 'h@GO:0000418', 'h@GO:0090574', 'h@GO:0005665', 'h@GO:0043240', 'h@GO:0090572', 'h@GO:0043494', 'h@GO:0005674', 'h@GO:0071821', 'h@GO:0000119', 'h@GO:0090570', 'h@GO:0035062', 'h@GO:0044665', 'h@GO:0071920', 'h@GO:0032039', 'h@GO:0035097', 'h@GO:0071176', 'h@GO:0090568', 'h@GO:0005672', 'h@GO:0070461', 'h@GO:0070722', 'h@GO:0032783', 'h@GO:0072487', 'h@GO:0070210', 'h@GO:0005848', 'h@GO:0070311', 'h@GO:1990713', 'h@GO:1990467', 'h@GO:0071181', 'h@GO:0017054', 'h@GO:0033276', 'h@GO:0000509', 'h@GO:0000124', 'h@GO:0030914', 'h@GO:0071601', 'h@GO:0070691', 'h@GO:0070985', 'h@GO:0005656', 'h@GO:0016581', 'h@GO:0070264', 'h@GO:0070211', 'h@GO:1990468', 'h@GO:0032021', 'h@GO:0033698', 'h@GO:0005671', 'h@GO:0002928', 'h@GO:0071162', 'h@GO:0005677', 'h@GO:0005849', 'h@GO:0032777', 'h@GO:0033100', 'h@GO:0016607', 'h@GO:0000125', 'h@GO:0008023', 'h@GO:0036409', 'h@GO:0005654', 'h@GO:0005675', 'h@GO:1990711', 'h@GO:0044451', 'h@GO:0035101', 'h@GO:0005669', 'h@GO:0000118', 'h@GO:0035098', 'h@GO:0010445', 'h@GO:0031261', 'h@GO:1990251'}, {'p@GO:0017076', 'p@GO:0000166', 'p@GO:0032563', 'p@GO:1902249', 'p@GO:0010181', 'p@GO:0032556', 'p@GO:0097216', 'p@GO:0050656', 'p@GO:0030553', 'p@GO:0032559', 'p@GO:0016208', 'p@GO:0051288', 'p@GO:0070403', 'p@GO:0000774', 'p@GO:0005524', 'p@GO:0035438', 'p@GO:0019003', 'p@GO:0032554', 'p@GO:0070402', 'p@GO:0032562', 'p@GO:0032553', 'p@GO:0032557', 'p@GO:0032555', 'p@GO:0019002', 'p@GO:0070401', 'p@GO:1901640', 'p@GO:0002134', 'p@GO:0070404', 'p@GO:0032566', 'p@GO:0050660', 'p@GO:1901641', 'p@GO:0019103', 'p@GO:0051287', 'p@GO:0005525', 'p@GO:0098546', 'p@GO:0002135', 'p@GO:0032560', 'p@GO:0032567', 'p@GO:0032564', 'p@GO:0008327', 'p@GO:0019001', 'p@GO:0030554', 'p@GO:0030551', 'p@GO:0043531', 'p@GO:0030552', 'p@GO:0071949', 'p@GO:0032558', 'p@GO:0071950', 'p@GO:0032565', 'p@GO:0061507', 'p@GO:0050661', 'p@GO:0032561', 'p@GO:0010429', 'p@GO:0032552', 'p@GO:0010428'})\n",
    "%time np.sum(ppi_df.apply(lambda x: not x['annotations_A'].isdisjoint(pair_prop[0]) and x['annotations_B'].isdisjoint(pair_prop[1]), axis=1))\n",
    "%time np.sum(ppi_df.annotations_A.map(lambda x: not x.isdisjoint(pair_prop[0])) & ppi_df.annotations_B.map(lambda x: x.isdisjoint(pair_prop[1])))"
   ]
  },
  {
   "cell_type": "code",
   "execution_count": null,
   "metadata": {},
   "outputs": [],
   "source": []
  },
  {
   "cell_type": "code",
   "execution_count": 111,
   "metadata": {},
   "outputs": [],
   "source": [
    "def count_presences_propagated(pair_prop, interaction_dataframe, column_A,\n",
    "                               column_B, merged_annotations):\n",
    "    \"\"\"\n",
    "    columns must be host, pathogen order\n",
    "    \"\"\"\n",
    "    \"\"\"Comparison of methods\n",
    "\n",
    "    ALL PAIRS\n",
    "    %time np.sum([np.sum(interaction_dataframe['annotation_pairs'].apply(lambda x: i in x)) for i in list(itertools.product(pair_prop[0], pair_prop[1]))])\n",
    "    %time np.sum(interaction_dataframe.apply(lambda x: not x['annotations_A'].isdisjoint(pair_prop[0]) and not x['annotations_B'].isdisjoint(pair_prop[1]), axis=1))\n",
    "    %time np.sum(merged_annotations.map(lambda x: not x.isdisjoint(pair_prop[0]) and not x.isdisjoint(pair_prop[1])))\n",
    "\n",
    "    CPU times: user 138 ms, sys: 30 µs, total: 138 ms\n",
    "    Wall time: 136 ms\n",
    "    CPU times: user 105 ms, sys: 0 ns, total: 105 ms\n",
    "    Wall time: 105 ms\n",
    "    CPU times: user 8.65 ms, sys: 0 ns, total: 8.65 ms\n",
    "    Wall time: 8.46 ms\n",
    "\n",
    "    ONLY 1 LABEL\n",
    "\n",
    "    \"\"\"\n",
    "\n",
    "    # count all ppis where any pair occurs\n",
    "    pair_count = np.sum(\n",
    "        merged_annotations.map(\n",
    "            lambda x: not x.isdisjoint(pair_prop[0]) and not x.isdisjoint(pair_prop[1])\n",
    "        ))\n",
    "\n",
    "    # count ppis where only 1 label occurs: P(X | Y') or N10\n",
    "    label_one_count_exclusive = np.sum(interaction_dataframe[column_A].map(\n",
    "        lambda x: not x.isdisjoint(pair_prop[0])\n",
    "    ) & interaction_dataframe[column_B].map(\n",
    "        lambda x: x.isdisjoint(pair_prop[1])))\n",
    "    label_two_count_exclusive = np.sum(interaction_dataframe[column_A].map(\n",
    "        lambda x: x.isdisjoint(pair_prop[0])\n",
    "    ) & interaction_dataframe[column_B].map(\n",
    "        lambda x: not x.isdisjoint(pair_prop[1])))\n",
    "\n",
    "    # count ppis where 1 label occurs, regardless of other label in pair:\n",
    "    # P(X) or N1+\n",
    "    label_one_count = np.sum(\n",
    "        merged_annotations.apply(lambda x: not x.isdisjoint(pair_prop[0])))\n",
    "    label_two_count = np.sum(\n",
    "        merged_annotations.apply(lambda x: not x.isdisjoint(pair_prop[1])))\n",
    "    # option to not discern between location of label (i.e. host or pathogen)\n",
    "    # in case there would be identical labels in host and pathogen proteins\n",
    "    # label_one_count = np.sum(interaction_dataframe[column_A].map(\n",
    "    #     lambda x: not x.isdisjoint(pair_prop[0])))\n",
    "    # label_two_count = np.sum(interaction_dataframe[column_B].map(\n",
    "    #     lambda x: not x.isdisjoint(pair_prop[1])))\n",
    "\n",
    "    # count ppis lacking either term: P(X',Y') or N00\n",
    "    absent_count = np.sum(\n",
    "        merged_annotations.map(lambda x: x.isdisjoint(pair_prop[0])) &\n",
    "        merged_annotations.map(lambda x: x.isdisjoint(pair_prop[1])))\n",
    "    # option to not discern between location of label (i.e. host or pathogen)\n",
    "    # absent_count = np.sum(interaction_dataframe[column_A].map(\n",
    "    #     lambda x: x.isdisjoint(pair_prop[0])) & interaction_dataframe[column_B]\n",
    "    #                       .map(lambda x: x.isdisjoint(pair_prop[1])))\n",
    "\n",
    "    # total count of terms\n",
    "    total_count = interaction_dataframe.shape[0]\n",
    "\n",
    "    return pair_count, label_one_count_exclusive, label_two_count_exclusive, label_one_count, label_two_count, absent_count, total_count"
   ]
  },
  {
   "cell_type": "code",
   "execution_count": 113,
   "metadata": {},
   "outputs": [
    {
     "data": {
      "text/plain": [
       "(91, 2368, 212, 2459, 303, 5080, 7751)"
      ]
     },
     "execution_count": 113,
     "metadata": {},
     "output_type": "execute_result"
    }
   ],
   "source": [
    "pair_prop = ({'h@GO:0042382', 'h@GO:0071182', 'h@GO:1990483', 'h@GO:0032221', 'h@GO:0016605', 'h@GO:0061793', 'h@GO:0044545', 'h@GO:0008024', 'h@GO:0015030', 'h@GO:0034967', 'h@GO:0035267', 'h@GO:0090571', 'h@GO:0000438', 'h@GO:0048188', 'h@GO:0070176', 'h@GO:0046695', 'h@GO:0005847', 'h@GO:0000123', 'h@GO:0071178', 'h@GO:0070775', 'h@GO:1990331', 'h@GO:0070449', 'h@GO:0061773', 'h@GO:0071180', 'h@GO:0005673', 'h@GO:0070824', 'h@GO:0016593', 'h@GO:0016604', 'h@GO:1902562', 'h@GO:0070692', 'h@GO:0005666', 'h@GO:0036410', 'h@GO:0035061', 'h@GO:1990512', 'h@GO:0070823', 'h@GO:0034740', 'h@GO:0070776', 'h@GO:0016580', 'h@GO:0000420', 'h@GO:0000508', 'h@GO:0044666', 'h@GO:0070440', 'h@GO:0033255', 'h@GO:0070443', 'h@GO:0090573', 'h@GO:0032044', 'h@GO:0072589', 'h@GO:0070847', 'h@GO:0000443', 'h@GO:0071179', 'h@GO:1990826', 'h@GO:0070439', 'h@GO:0071175', 'h@GO:0070822', 'h@GO:0030869', 'h@GO:0071339', 'h@GO:0000446', 'h@GO:0071819', 'h@GO:0071177', 'h@GO:0043189', 'h@GO:0097504', 'h@GO:0016606', 'h@GO:0042272', 'h@GO:0016591', 'h@GO:0035363', 'h@GO:0016592', 'h@GO:0070556', 'h@GO:0000811', 'h@GO:0000418', 'h@GO:0090574', 'h@GO:0005665', 'h@GO:0043240', 'h@GO:0090572', 'h@GO:0043494', 'h@GO:0005674', 'h@GO:0071821', 'h@GO:0000119', 'h@GO:0090570', 'h@GO:0035062', 'h@GO:0044665', 'h@GO:0071920', 'h@GO:0032039', 'h@GO:0035097', 'h@GO:0071176', 'h@GO:0090568', 'h@GO:0005672', 'h@GO:0070461', 'h@GO:0070722', 'h@GO:0032783', 'h@GO:0072487', 'h@GO:0070210', 'h@GO:0005848', 'h@GO:0070311', 'h@GO:1990713', 'h@GO:1990467', 'h@GO:0071181', 'h@GO:0017054', 'h@GO:0033276', 'h@GO:0000509', 'h@GO:0000124', 'h@GO:0030914', 'h@GO:0071601', 'h@GO:0070691', 'h@GO:0070985', 'h@GO:0005656', 'h@GO:0016581', 'h@GO:0070264', 'h@GO:0070211', 'h@GO:1990468', 'h@GO:0032021', 'h@GO:0033698', 'h@GO:0005671', 'h@GO:0002928', 'h@GO:0071162', 'h@GO:0005677', 'h@GO:0005849', 'h@GO:0032777', 'h@GO:0033100', 'h@GO:0016607', 'h@GO:0000125', 'h@GO:0008023', 'h@GO:0036409', 'h@GO:0005654', 'h@GO:0005675', 'h@GO:1990711', 'h@GO:0044451', 'h@GO:0035101', 'h@GO:0005669', 'h@GO:0000118', 'h@GO:0035098', 'h@GO:0010445', 'h@GO:0031261', 'h@GO:1990251'}, {'p@GO:0017076', 'p@GO:0000166', 'p@GO:0032563', 'p@GO:1902249', 'p@GO:0010181', 'p@GO:0032556', 'p@GO:0097216', 'p@GO:0050656', 'p@GO:0030553', 'p@GO:0032559', 'p@GO:0016208', 'p@GO:0051288', 'p@GO:0070403', 'p@GO:0000774', 'p@GO:0005524', 'p@GO:0035438', 'p@GO:0019003', 'p@GO:0032554', 'p@GO:0070402', 'p@GO:0032562', 'p@GO:0032553', 'p@GO:0032557', 'p@GO:0032555', 'p@GO:0019002', 'p@GO:0070401', 'p@GO:1901640', 'p@GO:0002134', 'p@GO:0070404', 'p@GO:0032566', 'p@GO:0050660', 'p@GO:1901641', 'p@GO:0019103', 'p@GO:0051287', 'p@GO:0005525', 'p@GO:0098546', 'p@GO:0002135', 'p@GO:0032560', 'p@GO:0032567', 'p@GO:0032564', 'p@GO:0008327', 'p@GO:0019001', 'p@GO:0030554', 'p@GO:0030551', 'p@GO:0043531', 'p@GO:0030552', 'p@GO:0071949', 'p@GO:0032558', 'p@GO:0071950', 'p@GO:0032565', 'p@GO:0061507', 'p@GO:0050661', 'p@GO:0032561', 'p@GO:0010429', 'p@GO:0032552', 'p@GO:0010428'})\n",
    "\n",
    "count_presences_propagated(pair_prop, interaction_dataframe, 'annotations_A', 'annotations_B', merged_annotations)"
   ]
  },
  {
   "cell_type": "code",
   "execution_count": null,
   "metadata": {},
   "outputs": [],
   "source": []
  },
  {
   "cell_type": "code",
   "execution_count": null,
   "metadata": {},
   "outputs": [],
   "source": []
  },
  {
   "cell_type": "code",
   "execution_count": 4,
   "metadata": {},
   "outputs": [
    {
     "name": "stdout",
     "output_type": "stream",
     "text": [
      "Creating Gene Ontology dictionaries...\n",
      "Retrieved 47179 GO terms from /media/pieter/DATA/Wetenschap/Doctoraat/projects/host-pathogen-ppi-analysis/data/raw/go_data/go.obo \n",
      "\n",
      "Adding secondary GO identifiers...\n",
      "\n"
     ]
    }
   ],
   "source": [
    "# Create Gene Ontology dictionaries\n",
    "print('Creating Gene Ontology dictionaries...')\n",
    "obo_path = Path('/media/pieter/DATA/Wetenschap/Doctoraat/projects/host-pathogen-ppi-analysis/data/raw/go_data/go.obo')\n",
    "go_dict = obo_tools.importOBO(obo_path, ignore_part_of=False)\n",
    "\n",
    "# TODO: allow selection of GO namespaces\n",
    "obo_tools.buildGOtree(\n",
    "    go_dict, root_nodes=['GO:0008150', 'GO:0005575', 'GO:0003674'])"
   ]
  },
  {
   "cell_type": "code",
   "execution_count": 18,
   "metadata": {
    "scrolled": true
   },
   "outputs": [],
   "source": [
    "pair = ('h@IPR008936', 'p@GO:0016020')\n",
    "new_pair = []\n",
    "for term in pair:\n",
    "    if 'GO' in term:\n",
    "        prefix = term[:2]\n",
    "        go_object = go_dict.get(term[2:])\n",
    "        if None:\n",
    "            new_pair.append(term)\n",
    "        else:\n",
    "            child_terms = [prefix + i for i in go_object.recursive_children]\n",
    "            propagation_set = set(child_terms) | set([term])\n",
    "            new_pair.append(propagation_set)\n",
    "    else:\n",
    "        new_pair.append({term})\n",
    "prop_pair = tuple(new_pair)"
   ]
  },
  {
   "cell_type": "code",
   "execution_count": 19,
   "metadata": {},
   "outputs": [],
   "source": [
    "merged_annotations_A = pairwise.merge_annotations(\n",
    "    ppi_df, ['GO_xref_A', 'interpro_xref_A'])\n",
    "labeled_merged_annotations_A = pairwise.add_hp_label(merged_annotations_A, 'h')\n",
    "ppi_df['annotations_A'] = labeled_merged_annotations_A\n",
    "\n",
    "merged_annotations_B = pairwise.merge_annotations(\n",
    "    ppi_df, ['GO_xref_B', 'interpro_xref_B'])\n",
    "labeled_merged_annotations_B = pairwise.add_hp_label(merged_annotations_B, 'p')\n",
    "ppi_df['annotations_B'] = labeled_merged_annotations_B"
   ]
  },
  {
   "cell_type": "code",
   "execution_count": 20,
   "metadata": {},
   "outputs": [],
   "source": [
    "column_A = 'annotations_A'\n",
    "column_B = 'annotations_B'\n",
    "columns = [column_A, column_B]\n",
    "    # replace NaNs with empty sets\n",
    "for i in columns:\n",
    "    interaction_dataframe.loc[interaction_dataframe[\n",
    "        i].isnull(), i] = interaction_dataframe.loc[interaction_dataframe[\n",
    "            i].isnull(), i].apply(lambda x: set())\n",
    "interaction_dataframe['annotation_pairs'] = interaction_dataframe[columns].apply(\n",
    "        lambda x: set([i for i in itertools.product(x[column_A], x[column_B])]),\n",
    "        axis=1)\n",
    "merged_annotations = pairwise.merge_annotations(interaction_dataframe, columns)"
   ]
  },
  {
   "cell_type": "code",
   "execution_count": 21,
   "metadata": {},
   "outputs": [],
   "source": [
    "pairs_dict = pairwise.propagate_pairs([pair], go_dict)"
   ]
  },
  {
   "cell_type": "code",
   "execution_count": 22,
   "metadata": {
    "scrolled": true
   },
   "outputs": [
    {
     "data": {
      "text/plain": [
       "{('h@IPR008936', 'p@GO:0016020'): ({'h@IPR008936'},\n",
       "  {'p@GO:0035453',\n",
       "   'p@GO:1990702',\n",
       "   'p@GO:0034449',\n",
       "   'p@GO:0016013',\n",
       "   'p@GO:0046691',\n",
       "   'p@GO:0030089',\n",
       "   'p@GO:0030123',\n",
       "   'p@GO:0030085',\n",
       "   'p@GO:0036513',\n",
       "   'p@GO:0033111',\n",
       "   'p@GO:0098892',\n",
       "   'p@GO:0014701',\n",
       "   'p@GO:1990694',\n",
       "   'p@GO:0030937',\n",
       "   'p@GO:0034448',\n",
       "   'p@GO:0031095',\n",
       "   'p@GO:0015008',\n",
       "   'p@GO:0036421',\n",
       "   'p@GO:0032585',\n",
       "   'p@GO:0031676',\n",
       "   'p@GO:0099030',\n",
       "   'p@GO:0055035',\n",
       "   'p@GO:0071130',\n",
       "   'p@GO:0033116',\n",
       "   'p@GO:0097585',\n",
       "   'p@GO:1990332',\n",
       "   'p@GO:0045261',\n",
       "   'p@GO:0070020',\n",
       "   'p@GO:0098929',\n",
       "   'p@GO:0044459',\n",
       "   'p@GO:0008136',\n",
       "   'p@GO:0106084',\n",
       "   'p@GO:0031166',\n",
       "   'p@GO:0031311',\n",
       "   'p@GO:0070719',\n",
       "   'p@GO:0042613',\n",
       "   'p@GO:0031352',\n",
       "   'p@GO:0005745',\n",
       "   'p@GO:0000506',\n",
       "   'p@GO:0017090',\n",
       "   'p@GO:1990695',\n",
       "   'p@GO:0071117',\n",
       "   'p@GO:0098889',\n",
       "   'p@GO:0070110',\n",
       "   'p@GO:1990913',\n",
       "   'p@GO:0000139',\n",
       "   'p@GO:0034272',\n",
       "   'p@GO:0045284',\n",
       "   'p@GO:1990154',\n",
       "   'p@GO:0035355',\n",
       "   'p@GO:0031235',\n",
       "   'p@GO:0033017',\n",
       "   'p@GO:0099058',\n",
       "   'p@GO:0009522',\n",
       "   'p@GO:0098559',\n",
       "   'p@GO:0061779',\n",
       "   'p@GO:0034678',\n",
       "   'p@GO:0110067',\n",
       "   'p@GO:0031234',\n",
       "   'p@GO:0098835',\n",
       "   'p@GO:0070765',\n",
       "   'p@GO:0005774',\n",
       "   'p@GO:0098844',\n",
       "   'p@GO:0070044',\n",
       "   'p@GO:0099056',\n",
       "   'p@GO:1990392',\n",
       "   'p@GO:0061993',\n",
       "   'p@GO:0030658',\n",
       "   'p@GO:0042765',\n",
       "   'p@GO:0005944',\n",
       "   'p@GO:0071189',\n",
       "   'p@GO:0070686',\n",
       "   'p@GO:0070031',\n",
       "   'p@GO:0071053',\n",
       "   'p@GO:0097025',\n",
       "   'p@GO:0046861',\n",
       "   'p@GO:0070821',\n",
       "   'p@GO:0005753',\n",
       "   'p@GO:0016012',\n",
       "   'p@GO:0034707',\n",
       "   'p@GO:0044425',\n",
       "   'p@GO:0110070',\n",
       "   'p@GO:0005886',\n",
       "   'p@GO:0035868',\n",
       "   'p@GO:0030084',\n",
       "   'p@GO:0035867',\n",
       "   'p@GO:0061466',\n",
       "   'p@GO:0045277',\n",
       "   'p@GO:0016323',\n",
       "   'p@GO:0042720',\n",
       "   'p@GO:0071187',\n",
       "   'p@GO:0035449',\n",
       "   'p@GO:0071194',\n",
       "   'p@GO:0035339',\n",
       "   'p@GO:0020018',\n",
       "   'p@GO:1990704',\n",
       "   'p@GO:0031901',\n",
       "   'p@GO:0044285',\n",
       "   'p@GO:0033174',\n",
       "   'p@GO:0002095',\n",
       "   'p@GO:0012508',\n",
       "   'p@GO:0071200',\n",
       "   'p@GO:0016471',\n",
       "   'p@GO:0099169',\n",
       "   'p@GO:0005899',\n",
       "   'p@GO:0071082',\n",
       "   'p@GO:0030671',\n",
       "   'p@GO:1990454',\n",
       "   'p@GO:0030125',\n",
       "   'p@GO:0036420',\n",
       "   'p@GO:0070014',\n",
       "   'p@GO:0071191',\n",
       "   'p@GO:0009783',\n",
       "   'p@GO:0032865',\n",
       "   'p@GO:0045121',\n",
       "   'p@GO:0070620',\n",
       "   'p@GO:0044289',\n",
       "   'p@GO:0031201',\n",
       "   'p@GO:0099243',\n",
       "   'p@GO:0005890',\n",
       "   'p@GO:0002080',\n",
       "   'p@GO:0071102',\n",
       "   'p@GO:0034995',\n",
       "   'p@GO:0046696',\n",
       "   'p@GO:0045274',\n",
       "   'p@GO:0046859',\n",
       "   'p@GO:0010598',\n",
       "   'p@GO:0098951',\n",
       "   'p@GO:0036195',\n",
       "   'p@GO:0031233',\n",
       "   'p@GO:1902937',\n",
       "   'p@GO:0031360',\n",
       "   'p@GO:0045275',\n",
       "   'p@GO:0033000',\n",
       "   'p@GO:0035030',\n",
       "   'p@GO:0099062',\n",
       "   'p@GO:0099144',\n",
       "   'p@GO:0033102',\n",
       "   'p@GO:0008328',\n",
       "   'p@GO:0000157',\n",
       "   'p@GO:0009510',\n",
       "   'p@GO:0005637',\n",
       "   'p@GO:0034098',\n",
       "   'p@GO:0099032',\n",
       "   'p@GO:1903113',\n",
       "   'p@GO:0005765',\n",
       "   'p@GO:0002180',\n",
       "   'p@GO:0045279',\n",
       "   'p@GO:0098567',\n",
       "   'p@GO:0098569',\n",
       "   'p@GO:0044731',\n",
       "   'p@GO:0019866',\n",
       "   'p@GO:0098852',\n",
       "   'p@GO:0099034',\n",
       "   'p@GO:1905103',\n",
       "   'p@GO:0098888',\n",
       "   'p@GO:0031243',\n",
       "   'p@GO:0009898',\n",
       "   'p@GO:0034704',\n",
       "   'p@GO:1990322',\n",
       "   'p@GO:0031165',\n",
       "   'p@GO:0031966',\n",
       "   'p@GO:0071064',\n",
       "   'p@GO:1990425',\n",
       "   'p@GO:0071135',\n",
       "   'p@GO:0009521',\n",
       "   'p@GO:0009527',\n",
       "   'p@GO:0044599',\n",
       "   'p@GO:0009925',\n",
       "   'p@GO:1990612',\n",
       "   'p@GO:0070067',\n",
       "   'p@GO:0043661',\n",
       "   'p@GO:0045264',\n",
       "   'p@GO:0005747',\n",
       "   'p@GO:0030132',\n",
       "   'p@GO:0032588',\n",
       "   'p@GO:0071127',\n",
       "   'p@GO:1990398',\n",
       "   'p@GO:0070047',\n",
       "   'p@GO:0031240',\n",
       "   'p@GO:0044455',\n",
       "   'p@GO:1990746',\n",
       "   'p@GO:0099699',\n",
       "   'p@GO:0070114',\n",
       "   'p@GO:0034045',\n",
       "   'p@GO:0098553',\n",
       "   'p@GO:0061742',\n",
       "   'p@GO:0071067',\n",
       "   'p@GO:0009921',\n",
       "   'p@GO:0071115',\n",
       "   'p@GO:0030876',\n",
       "   'p@GO:0071069',\n",
       "   'p@GO:0034665',\n",
       "   'p@GO:0042734',\n",
       "   'p@GO:0034680',\n",
       "   'p@GO:0017071',\n",
       "   'p@GO:0016342',\n",
       "   'p@GO:0016600',\n",
       "   'p@GO:0055038',\n",
       "   'p@GO:0070355',\n",
       "   'p@GO:0044214',\n",
       "   'p@GO:0070068',\n",
       "   'p@GO:0071198',\n",
       "   'p@GO:0071685',\n",
       "   'p@GO:0005779',\n",
       "   'p@GO:0090689',\n",
       "   'p@GO:0097478',\n",
       "   'p@GO:0009654',\n",
       "   'p@GO:0071197',\n",
       "   'p@GO:0071138',\n",
       "   'p@GO:0009511',\n",
       "   'p@GO:0034686',\n",
       "   'p@GO:0030083',\n",
       "   'p@GO:0045273',\n",
       "   'p@GO:0031359',\n",
       "   'p@GO:0030118',\n",
       "   'p@GO:0033179',\n",
       "   'p@GO:0033181',\n",
       "   'p@GO:0031246',\n",
       "   'p@GO:0034702',\n",
       "   'p@GO:0042824',\n",
       "   'p@GO:0097633',\n",
       "   'p@GO:0097249',\n",
       "   'p@GO:0071079',\n",
       "   'p@GO:0031902',\n",
       "   'p@GO:0030662',\n",
       "   'p@GO:0061202',\n",
       "   'p@GO:0070464',\n",
       "   'p@GO:0032809',\n",
       "   'p@GO:0098753',\n",
       "   'p@GO:0070046',\n",
       "   'p@GO:0035997',\n",
       "   'p@GO:1990873',\n",
       "   'p@GO:0016469',\n",
       "   'p@GO:0098574',\n",
       "   'p@GO:1990327',\n",
       "   'p@GO:0097636',\n",
       "   'p@GO:0055051',\n",
       "   'p@GO:0098805',\n",
       "   'p@GO:0097197',\n",
       "   'p@GO:0005893',\n",
       "   'p@GO:0098588',\n",
       "   'p@GO:0009548',\n",
       "   'p@GO:0060342',\n",
       "   'p@GO:0042622',\n",
       "   'p@GO:0099066',\n",
       "   'p@GO:0031256',\n",
       "   'p@GO:0090740',\n",
       "   'p@GO:0034685',\n",
       "   'p@GO:0030176',\n",
       "   'p@GO:0035579',\n",
       "   'p@GO:0071192',\n",
       "   'p@GO:0009705',\n",
       "   'p@GO:0030868',\n",
       "   'p@GO:0061474',\n",
       "   'p@GO:0070450',\n",
       "   'p@GO:0017059',\n",
       "   'p@GO:0070018',\n",
       "   'p@GO:0019183',\n",
       "   'p@GO:0031315',\n",
       "   'p@GO:0030094',\n",
       "   'p@GO:0044853',\n",
       "   'p@GO:0090534',\n",
       "   'p@GO:1902501',\n",
       "   'p@GO:1990676',\n",
       "   'p@GO:0030906',\n",
       "   'p@GO:0035796',\n",
       "   'p@GO:1903114',\n",
       "   'p@GO:0005741',\n",
       "   'p@GO:0071068',\n",
       "   'p@GO:0033115',\n",
       "   'p@GO:1990199',\n",
       "   'p@GO:0045260',\n",
       "   'p@GO:0009535',\n",
       "   'p@GO:0008250',\n",
       "   'p@GO:0031241',\n",
       "   'p@GO:0030673',\n",
       "   'p@GO:0031300',\n",
       "   'p@GO:0071556',\n",
       "   'p@GO:0099036',\n",
       "   'p@GO:0044280',\n",
       "   'p@GO:0071595',\n",
       "   'p@GO:1990703',\n",
       "   'p@GO:0005742',\n",
       "   'p@GO:0030897',\n",
       "   'p@GO:0030670',\n",
       "   'p@GO:1990914',\n",
       "   'p@GO:0032999',\n",
       "   'p@GO:0031355',\n",
       "   'p@GO:0008305',\n",
       "   'p@GO:0097651',\n",
       "   'p@GO:0045323',\n",
       "   'p@GO:0046611',\n",
       "   'p@GO:0000421',\n",
       "   'p@GO:0098895',\n",
       "   'p@GO:0090533',\n",
       "   'p@GO:0099035',\n",
       "   'p@GO:0071098',\n",
       "   'p@GO:0070515',\n",
       "   'p@GO:0098538',\n",
       "   'p@GO:1990604',\n",
       "   'p@GO:0009655',\n",
       "   'p@GO:0071089',\n",
       "   'p@GO:1990578',\n",
       "   'p@GO:0044453',\n",
       "   'p@GO:0005639',\n",
       "   'p@GO:0070049',\n",
       "   'p@GO:0090498',\n",
       "   'p@GO:1990222',\n",
       "   'p@GO:0099168',\n",
       "   'p@GO:0070766',\n",
       "   'p@GO:0009923',\n",
       "   'p@GO:1902495',\n",
       "   'p@GO:0030121',\n",
       "   'p@GO:0098557',\n",
       "   'p@GO:0071133',\n",
       "   'p@GO:0005780',\n",
       "   'p@GO:0090512',\n",
       "   'p@GO:0071186',\n",
       "   'p@GO:0009539',\n",
       "   'p@GO:0035448',\n",
       "   'p@GO:0030120',\n",
       "   'p@GO:0044298',\n",
       "   'p@GO:0060203',\n",
       "   'p@GO:0032997',\n",
       "   'p@GO:1990406',\n",
       "   'p@GO:0005887',\n",
       "   'p@GO:0030526',\n",
       "   'p@GO:1990621',\n",
       "   'p@GO:0099164',\n",
       "   'p@GO:0031354',\n",
       "   'p@GO:0044284',\n",
       "   'p@GO:0033110',\n",
       "   'p@GO:1990246',\n",
       "   'p@GO:0000136',\n",
       "   'p@GO:0031358',\n",
       "   'p@GO:0071080',\n",
       "   'p@GO:0038139',\n",
       "   'p@GO:0001518',\n",
       "   'p@GO:0070518',\n",
       "   'p@GO:0035000',\n",
       "   'p@GO:0099061',\n",
       "   'p@GO:0045285',\n",
       "   'p@GO:0045320',\n",
       "   'p@GO:0101003',\n",
       "   'p@GO:0044570',\n",
       "   'p@GO:0045280',\n",
       "   'p@GO:1990203',\n",
       "   'p@GO:0031913',\n",
       "   'p@GO:0005942',\n",
       "   'p@GO:0071131',\n",
       "   'p@GO:0098572',\n",
       "   'p@GO:0005579',\n",
       "   'p@GO:1990060',\n",
       "   'p@GO:0036062',\n",
       "   'p@GO:0070022',\n",
       "   'p@GO:0035452',\n",
       "   'p@GO:0032589',\n",
       "   'p@GO:0099240',\n",
       "   'p@GO:0045268',\n",
       "   'p@GO:0033281',\n",
       "   'p@GO:0045092',\n",
       "   'p@GO:0000223',\n",
       "   'p@GO:0070032',\n",
       "   'p@GO:0034681',\n",
       "   'p@GO:0038126',\n",
       "   'p@GO:0099060',\n",
       "   'p@GO:0045272',\n",
       "   'p@GO:0031361',\n",
       "   'p@GO:0031527',\n",
       "   'p@GO:0036405',\n",
       "   'p@GO:0070772',\n",
       "   'p@GO:0031228',\n",
       "   'p@GO:0031307',\n",
       "   'p@GO:0031253',\n",
       "   'p@GO:0031224',\n",
       "   'p@GO:0019867',\n",
       "   'p@GO:1990693',\n",
       "   'p@GO:0017167',\n",
       "   'p@GO:0106103',\n",
       "   'p@GO:0033113',\n",
       "   'p@GO:0010008',\n",
       "   'p@GO:1990851',\n",
       "   'p@GO:0031231',\n",
       "   'p@GO:0034683',\n",
       "   'p@GO:1990677',\n",
       "   'p@GO:0071056',\n",
       "   'p@GO:0071058',\n",
       "   'p@GO:0099146',\n",
       "   'p@GO:1902502',\n",
       "   'p@GO:0009897',\n",
       "   'p@GO:0031257',\n",
       "   'p@GO:0071052',\n",
       "   'p@GO:0016027',\n",
       "   'p@GO:0098956',\n",
       "   'p@GO:0097629',\n",
       "   'p@GO:0098999',\n",
       "   'p@GO:0071740',\n",
       "   'p@GO:0070720',\n",
       "   'p@GO:0035031',\n",
       "   'p@GO:0001533',\n",
       "   'p@GO:0101004',\n",
       "   'p@GO:0098857',\n",
       "   'p@GO:0030667',\n",
       "   'p@GO:0009503',\n",
       "   'p@GO:0030025',\n",
       "   'p@GO:0036020',\n",
       "   'p@GO:0016935',\n",
       "   'p@GO:0098993',\n",
       "   'p@GO:0031260',\n",
       "   'p@GO:0034677',\n",
       "   'p@GO:0042589',\n",
       "   'p@GO:0032587',\n",
       "   'p@GO:0030661',\n",
       "   'p@GO:0002179',\n",
       "   'p@GO:1990196',\n",
       "   'p@GO:1990193',\n",
       "   'p@GO:0031092',\n",
       "   'p@GO:0062011',\n",
       "   'p@GO:0033180',\n",
       "   'p@GO:0005904',\n",
       "   'p@GO:0042650',\n",
       "   'p@GO:0098799',\n",
       "   'p@GO:0098556',\n",
       "   'p@GO:0030660',\n",
       "   'p@GO:0031227',\n",
       "   'p@GO:0098552',\n",
       "   'p@GO:0071085',\n",
       "   'p@GO:0033001',\n",
       "   'p@GO:0071087',\n",
       "   'p@GO:0097630',\n",
       "   'p@GO:0005785',\n",
       "   'p@GO:0071627',\n",
       "   'p@GO:0071183',\n",
       "   'p@GO:1990374',\n",
       "   'p@GO:0016014',\n",
       "   'p@GO:0098592',\n",
       "   'p@GO:0034703',\n",
       "   'p@GO:0036128',\n",
       "   'p@GO:0034674',\n",
       "   'p@GO:0071737',\n",
       "   'p@GO:0099059',\n",
       "   'p@GO:0042570',\n",
       "   'p@GO:0032969',\n",
       "   'p@GO:0009706',\n",
       "   'p@GO:0099617',\n",
       "   'p@GO:0034993',\n",
       "   'p@GO:0012509',\n",
       "   'p@GO:0000835',\n",
       "   'p@GO:0045262',\n",
       "   'p@GO:0090741',\n",
       "   'p@GO:0034997',\n",
       "   'p@GO:0071755',\n",
       "   'p@GO:0038144',\n",
       "   'p@GO:0035450',\n",
       "   'p@GO:0032419',\n",
       "   'p@GO:0032591',\n",
       "   'p@GO:0097203',\n",
       "   'p@GO:0042101',\n",
       "   'p@GO:0071112',\n",
       "   'p@GO:0070769',\n",
       "   'p@GO:0030659',\n",
       "   'p@GO:0089717',\n",
       "   'p@GO:0070520',\n",
       "   'p@GO:0031239',\n",
       "   'p@GO:0016472',\n",
       "   'p@GO:0071747',\n",
       "   'p@GO:0098575',\n",
       "   'p@GO:0005896',\n",
       "   'p@GO:0098803',\n",
       "   'p@GO:0071099',\n",
       "   'p@GO:0071114',\n",
       "   'p@GO:0072536',\n",
       "   'p@GO:0070867',\n",
       "   'p@GO:0031237',\n",
       "   'p@GO:0055036',\n",
       "   'p@GO:0032936',\n",
       "   'p@GO:0070763',\n",
       "   'p@GO:0035454',\n",
       "   'p@GO:1904602',\n",
       "   'p@GO:0016021',\n",
       "   'p@GO:0097002',\n",
       "   'p@GO:0030124',\n",
       "   'p@GO:0031314',\n",
       "   'p@GO:0034684',\n",
       "   'p@GO:0071100',\n",
       "   'p@GO:0045266',\n",
       "   'p@GO:0098944',\n",
       "   'p@GO:0017146',\n",
       "   'p@GO:0000306',\n",
       "   'p@GO:0046612',\n",
       "   'p@GO:0031942',\n",
       "   'p@GO:0098568',\n",
       "   'p@GO:0070021',\n",
       "   'p@GO:0070442',\n",
       "   'p@GO:0031266',\n",
       "   'p@GO:0002081',\n",
       "   'p@GO:0045259',\n",
       "   'p@GO:0031351',\n",
       "   'p@GO:0070724',\n",
       "   'p@GO:0005628',\n",
       "   'p@GO:0097584',\n",
       "   'p@GO:0099057',\n",
       "   'p@GO:0045287',\n",
       "   'p@GO:0005752',\n",
       "   'p@GO:0098894',\n",
       "   'p@GO:0005922',\n",
       "   'p@GO:0042652',\n",
       "   'p@GO:0048787',\n",
       "   'p@GO:0098893',\n",
       "   'p@GO:0000220',\n",
       "   'p@GO:0005784',\n",
       "   'p@GO:0071439',\n",
       "   'p@GO:0042170',\n",
       "   'p@GO:0099167',\n",
       "   'p@GO:0031225',\n",
       "   'p@GO:1990524',\n",
       "   'p@GO:0031356',\n",
       "   'p@GO:0031675',\n",
       "   'p@GO:0016324',\n",
       "   'p@GO:0043541',\n",
       "   'p@GO:0097233',\n",
       "   'p@GO:0098947',\n",
       "   'p@GO:0001405',\n",
       "   'p@GO:0061465',\n",
       "   'p@GO:1902929',\n",
       "   'p@GO:1990389',\n",
       "   'p@GO:0099037',\n",
       "   'p@GO:1903440',\n",
       "   'p@GO:0071136',\n",
       "   'p@GO:0036012',\n",
       "   'p@GO:1904930',\n",
       "   'p@GO:0031090',\n",
       "   'p@GO:0098878',\n",
       "   'p@GO:0071065',\n",
       "   'p@GO:0035577',\n",
       "   'p@GO:0036186',\n",
       "   'p@GO:0043190',\n",
       "   'p@GO:0098826',\n",
       "   'p@GO:0008076',\n",
       "   'p@GO:0071062',\n",
       "   'p@GO:0097232',\n",
       "   'p@GO:0070333',\n",
       "   'p@GO:0000274',\n",
       "   'p@GO:0031088',\n",
       "   'p@GO:0097652',\n",
       "   'p@GO:0036406',\n",
       "   'p@GO:0045258',\n",
       "   'p@GO:0071122',\n",
       "   'p@GO:0071120',\n",
       "   'p@GO:0005943',\n",
       "   'p@GO:0071057',\n",
       "   'p@GO:0031236',\n",
       "   'p@GO:0009538',\n",
       "   'p@GO:0031313',\n",
       "   'p@GO:0031350',\n",
       "   'p@GO:0090688',\n",
       "   'p@GO:0031211',\n",
       "   'p@GO:0098752',\n",
       "   'p@GO:0005757',\n",
       "   'p@GO:0045257',\n",
       "   'p@GO:0032578',\n",
       "   'p@GO:0099634',\n",
       "   'p@GO:0071101',\n",
       "   'p@GO:0033097',\n",
       "   'p@GO:0070436',\n",
       "   'p@GO:0071090',\n",
       "   'p@GO:0061841',\n",
       "   'p@GO:0061455',\n",
       "   'p@GO:0032584',\n",
       "   'p@GO:0016470',\n",
       "   'p@GO:0071193',\n",
       "   'p@GO:0000329',\n",
       "   'p@GO:1990191',\n",
       "   'p@GO:0009782',\n",
       "   'p@GO:0071134',\n",
       "   'p@GO:0098945',\n",
       "   'p@GO:0098802',\n",
       "   'p@GO:0043020',\n",
       "   'p@GO:0045278',\n",
       "   'p@GO:0106094',\n",
       "   'p@GO:0071256',\n",
       "   'p@GO:0034357',\n",
       "   'p@GO:0038141',\n",
       "   'p@GO:0070466',\n",
       "   'p@GO:0016474',\n",
       "   'p@GO:0071575',\n",
       "   'p@GO:0033178',\n",
       "   'p@GO:0097204',\n",
       "   'p@GO:1990075',\n",
       "   'p@GO:1990779',\n",
       "   'p@GO:0000839',\n",
       "   'p@GO:0098674',\n",
       "   'p@GO:0032154',\n",
       "   'p@GO:0071124',\n",
       "   'p@GO:0099147',\n",
       "   'p@GO:0033012',\n",
       "   'p@GO:0030061',\n",
       "   'p@GO:0033177',\n",
       "   'p@GO:0031911',\n",
       "   'p@GO:0030867',\n",
       "   'p@GO:0031903',\n",
       "   'p@GO:0098948',\n",
       "   'p@GO:0061617',\n",
       "   'p@GO:0030936',\n",
       "   'p@GO:0035631',\n",
       "   'p@GO:0030130',\n",
       "   'p@GO:0033282',\n",
       "   'p@GO:0034690',\n",
       "   'p@GO:0099063',\n",
       "   'p@GO:0005897',\n",
       "   'p@GO:0030665',\n",
       "   'p@GO:0046868',\n",
       "   'p@GO:0098548',\n",
       "   'p@GO:0098839',\n",
       "   'p@GO:0098896',\n",
       "   'p@GO:0097524',\n",
       "   'p@GO:0098855',\n",
       "   'p@GO:0036053',\n",
       "   'p@GO:0000836',\n",
       "   'p@GO:0043384',\n",
       "   'p@GO:0071126',\n",
       "   'p@GO:0070029',\n",
       "   'p@GO:0035632',\n",
       "   'p@GO:0071202',\n",
       "   'p@GO:0098950',\n",
       "   'p@GO:0005743',\n",
       "   'p@GO:1990850',\n",
       "   'p@GO:1990662',\n",
       "   'p@GO:0032592',\n",
       "   'p@GO:0098576',\n",
       "   'p@GO:0019738',\n",
       "   'p@GO:0042022',\n",
       "   'p@GO:0031259',\n",
       "   'p@GO:1902509',\n",
       "   'p@GO:0098541',\n",
       "   'p@GO:0098591',\n",
       "   'p@GO:0070017',\n",
       "   'p@GO:0071188',\n",
       "   'p@GO:0030090',\n",
       "   'p@GO:0031164',\n",
       "   'p@GO:0046658',\n",
       "   'p@GO:0042406',\n",
       "   'p@GO:0031316',\n",
       "   'p@GO:0070250',\n",
       "   'p@GO:0098562',\n",
       "   'p@GO:0036266',\n",
       "   'p@GO:0031306',\n",
       "   'p@GO:0099007',\n",
       "   'p@GO:1990780',\n",
       "   'p@GO:0009279',\n",
       "   'p@GO:0071084',\n",
       "   'p@GO:0000276',\n",
       "   'p@GO:0005744',\n",
       "   'p@GO:1990712',\n",
       "   'p@GO:0032580',\n",
       "   'p@GO:0035451',\n",
       "   'p@GO:0099012',\n",
       "   'p@GO:0071092',\n",
       "   'p@GO:0097582',\n",
       "   'p@GO:1990270',\n",
       "   'p@GO:0033118',\n",
       "   'p@GO:1903103',\n",
       "   'p@GO:0070045',\n",
       "   'p@GO:0005600',\n",
       "   'p@GO:0034998',\n",
       "   'p@GO:0038125',\n",
       "   'p@GO:0009707',\n",
       "   'p@GO:0005751',\n",
       "   'p@GO:0031528',\n",
       "   'p@GO:0097658',\n",
       "   'p@GO:0009523',\n",
       "   'p@GO:0030173',\n",
       "   'p@GO:0071078',\n",
       "   'p@GO:0000148',\n",
       "   'p@GO:0045256',\n",
       "   'p@GO:0009319',\n",
       "   'p@GO:0034691',\n",
       "   'p@GO:0033573',\n",
       "   'p@GO:0071458',\n",
       "   'p@GO:0034706',\n",
       "   'p@GO:0045276',\n",
       "   'p@GO:0098897',\n",
       "   'p@GO:0031302',\n",
       "   'p@GO:0071083',\n",
       "   'p@GO:0031244',\n",
       "   'p@GO:0044695',\n",
       "   'p@GO:0070771',\n",
       "   'p@GO:0099400',\n",
       "   'p@GO:0031004',\n",
       "   'p@GO:0034662',\n",
       "   'p@GO:0009546',\n",
       "   'p@GO:0014702',\n",
       "   'p@GO:0070048',\n",
       "   'p@GO:0030966',\n",
       "   'p@GO:0032127',\n",
       "   'p@GO:1902500',\n",
       "   'p@GO:0071054',\n",
       "   'p@GO:0071129',\n",
       "   'p@GO:0098547',\n",
       "   'p@GO:0070356',\n",
       "   'p@GO:0042383',\n",
       "   'p@GO:0038142',\n",
       "   'p@GO:1990629',\n",
       "   'p@GO:0005901',\n",
       "   'p@GO:0008087',\n",
       "   'p@GO:0140221',\n",
       "   'p@GO:0071093',\n",
       "   'p@GO:0030666',\n",
       "   'p@GO:0098563',\n",
       "   'p@GO:1990184',\n",
       "   'p@GO:0034999',\n",
       "   'p@GO:0034705',\n",
       "   'p@GO:0045288',\n",
       "   'p@GO:0031258',\n",
       "   'p@GO:0030093',\n",
       "   'p@GO:0098949',\n",
       "   'p@GO:0070770',\n",
       "   'p@GO:0070057',\n",
       "   'p@GO:0071091',\n",
       "   'p@GO:0012510',\n",
       "   'p@GO:0009362',\n",
       "   'p@GO:0098554',\n",
       "   'p@GO:0038143',\n",
       "   'p@GO:0098891',\n",
       "   'p@GO:0070024',\n",
       "   'p@GO:0034688',\n",
       "   'p@GO:0042584',\n",
       "   'p@GO:0098590',\n",
       "   'p@GO:0099033',\n",
       "   'p@GO:0036502',\n",
       "   'p@GO:0034689',\n",
       "   'p@GO:0099166',\n",
       "   'p@GO:0005892',\n",
       "   'p@GO:0001401',\n",
       "   'p@GO:0070019',\n",
       "   'p@GO:0071196',\n",
       "   'p@GO:0070554',\n",
       "   'p@GO:0070112',\n",
       "   'p@GO:0046930',\n",
       "   'p@GO:0070465',\n",
       "   'p@GO:0099401',\n",
       "   'p@GO:0000813',\n",
       "   'p@GO:1990195',\n",
       "   'p@GO:0031357',\n",
       "   'p@GO:0071061',\n",
       "   'p@GO:0031229',\n",
       "   'p@GO:0098540',\n",
       "   'p@GO:0098954',\n",
       "   'p@GO:0009324',\n",
       "   'p@GO:0030905',\n",
       "   'p@GO:0034426',\n",
       "   'p@GO:0020017',\n",
       "   'p@GO:0030096',\n",
       "   'p@GO:0097634',\n",
       "   'p@GO:0031520',\n",
       "   'p@GO:1990701',\n",
       "   'p@GO:0005895',\n",
       "   'p@GO:0019815',\n",
       "   'p@GO:0042611',\n",
       "   'p@GO:0000222',\n",
       "   'p@GO:0043594',\n",
       "   'p@GO:0009656',\n",
       "   'p@GO:1990063',\n",
       "   'p@GO:0030117',\n",
       "   'p@GO:0070521',\n",
       "   'p@GO:0071086',\n",
       "   'p@GO:0005748',\n",
       "   'p@GO:0030131',\n",
       "   'p@GO:1990490',\n",
       "   'p@GO:0032937',\n",
       "   'p@GO:0032998',\n",
       "   'p@GO:0032002',\n",
       "   'p@GO:0034424',\n",
       "   'p@GO:0036418',\n",
       "   'p@GO:1990759',\n",
       "   'p@GO:0098551',\n",
       "   'p@GO:0099064',\n",
       "   'p@GO:0098936',\n",
       "   'p@GO:0106083',\n",
       "   'p@GO:0030904',\n",
       "   'p@GO:0098570',\n",
       "   'p@GO:0030672',\n",
       "   'p@GO:0071095',\n",
       "   'p@GO:0099031',\n",
       "   'p@GO:1990281',\n",
       "   'p@GO:0010009',\n",
       "   'p@GO:0030129',\n",
       "   'p@GO:0000275',\n",
       "   'p@GO:0071060',\n",
       "   'p@GO:0098666',\n",
       "   'p@GO:0098558',\n",
       "   'p@GO:1990566',\n",
       "   'p@GO:0046862',\n",
       "   'p@GO:0045265',\n",
       "   'p@GO:0070357',\n",
       "   'p@GO:0032478',\n",
       "   'p@GO:0016473',\n",
       "   'p@GO:0043191',\n",
       "   'p@GO:0033163',\n",
       "   'p@GO:0070437',\n",
       "   'p@GO:0033106',\n",
       "   'p@GO:0031308',\n",
       "   'p@GO:0033101',\n",
       "   'p@GO:0033162',\n",
       "   'p@GO:0098807',\n",
       "   'p@GO:0098571',\n",
       "   'p@GO:0097631',\n",
       "   'p@GO:0071128',\n",
       "   'p@GO:0031303',\n",
       "   'p@GO:0036013',\n",
       "   'p@GO:0071190',\n",
       "   'p@GO:0005898',\n",
       "   'p@GO:0070113',\n",
       "   'p@GO:0071059',\n",
       "   'p@GO:0033098',\n",
       "   'p@GO:0032398',\n",
       "   'p@GO:0016327',\n",
       "   'p@GO:0016599',\n",
       "   'p@GO:0098675',\n",
       "   'p@GO:0098922',\n",
       "   'p@GO:0031979',\n",
       "   'p@GO:0099027',\n",
       "   'p@GO:0031910',\n",
       "   'p@GO:0034673',\n",
       "   'p@GO:0070065',\n",
       "   'p@GO:0010006',\n",
       "   'p@GO:0016516',\n",
       "   'p@GO:0030390',\n",
       "   'p@GO:0005746',\n",
       "   'p@GO:0031968',\n",
       "   'p@GO:0031230',\n",
       "   'p@GO:0098804',\n",
       "   'p@GO:0070558',\n",
       "   'p@GO:0002079',\n",
       "   'p@GO:0060171',\n",
       "   'p@GO:0042105',\n",
       "   'p@GO:0071055',\n",
       "   'p@GO:0031238',\n",
       "   'p@GO:0033176',\n",
       "   'p@GO:0042612',\n",
       "   'p@GO:0005905',\n",
       "   'p@GO:0097234',\n",
       "   'p@GO:0042721',\n",
       "   'p@GO:0046610',\n",
       "   'p@GO:0098797',\n",
       "   'p@GO:0071096',\n",
       "   'p@GO:0036419',\n",
       "   'p@GO:0019898',\n",
       "   'p@GO:0099025',\n",
       "   'p@GO:0098550',\n",
       "   'p@GO:1990674',\n",
       "   'p@GO:0070469',\n",
       "   'p@GO:0097583',\n",
       "   'p@GO:0044841',\n",
       "   'p@GO:0045271',\n",
       "   'p@GO:0005894',\n",
       "   'p@GO:0098890',\n",
       "   'p@GO:0071628',\n",
       "   'p@GO:0098560',\n",
       "   'p@GO:0030095',\n",
       "   'p@GO:0030122',\n",
       "   'p@GO:0005754',\n",
       "   'p@GO:0098539',\n",
       "   'p@GO:0038197',\n",
       "   'p@GO:0035866',\n",
       "   'p@GO:0070618',\n",
       "   'p@GO:0038037',\n",
       "   'p@GO:0098565',\n",
       "   'p@GO:0070033',\n",
       "   'p@GO:0000838',\n",
       "   'p@GO:0005787',\n",
       "   'p@GO:0098555',\n",
       "   'p@GO:0034666',\n",
       "   'p@GO:0098998',\n",
       "   'p@GO:0097381',\n",
       "   'p@GO:0071113',\n",
       "   'p@GO:0042653',\n",
       "   'p@GO:0071184',\n",
       "   'p@GO:0042825',\n",
       "   'p@GO:0030668',\n",
       "   'p@GO:1990673',\n",
       "   'p@GO:0099005',\n",
       "   'p@GO:0030127',\n",
       "   'p@GO:0071116',\n",
       "   'p@GO:0031362',\n",
       "   'p@GO:0034669',\n",
       "   'p@GO:0009572',\n",
       "   'p@GO:0036407',\n",
       "   'p@GO:0072546',\n",
       "   'p@GO:0030285',\n",
       "   'p@GO:0043192',\n",
       "   'p@GO:0031205',\n",
       "   'p@GO:0005889',\n",
       "   'p@GO:0033175',\n",
       "   'p@GO:0045270',\n",
       "   'p@GO:0031310',\n",
       "   'p@GO:1902712',\n",
       "   'p@GO:0071195',\n",
       "   'p@GO:0005789',\n",
       "   'p@GO:0009544',\n",
       "   'p@GO:0032842',\n",
       "   'p@GO:0038038',\n",
       "   'p@GO:0031226',\n",
       "   'p@GO:0034668',\n",
       "   'p@GO:0000814',\n",
       "   'p@GO:0005834',\n",
       "   'p@GO:0098573',\n",
       "   'p@GO:0071261',\n",
       "   'p@GO:0031245',\n",
       "   'p@GO:0031207',\n",
       "   'p@GO:0045255',\n",
       "   'p@GO:1990176',\n",
       "   'p@GO:1903349',\n",
       "   'p@GO:0031304',\n",
       "   'p@GO:0070764',\n",
       "   'p@GO:0048493',\n",
       "   'p@GO:0045286',\n",
       "   'p@GO:0012507',\n",
       "   'p@GO:0099055',\n",
       "   'p@GO:0099029',\n",
       "   'p@GO:0031309',\n",
       "   'p@GO:0031899',\n",
       "   'p@GO:0016190',\n",
       "   'p@GO:0071185',\n",
       "   'p@GO:0005750',\n",
       "   'p@GO:0097635',\n",
       "   'p@GO:0070083',\n",
       "   'p@GO:0071088',\n",
       "   'p@GO:1990197',\n",
       "   'p@GO:0070118',\n",
       "   'p@GO:0042651',\n",
       "   'p@GO:0030988',\n",
       "   'p@GO:0001891',\n",
       "   'p@GO:0099067',\n",
       "   'p@GO:0071132',\n",
       "   'p@GO:0071986',\n",
       "   'p@GO:0071121',\n",
       "   'p@GO:0034682',\n",
       "   'p@GO:0098800',\n",
       "   'p@GO:0030964',\n",
       "   'p@GO:0098946',\n",
       "   'p@GO:0046860',\n",
       "   'p@GO:0016010',\n",
       "   'p@GO:0071097',\n",
       "   'p@GO:0034687',\n",
       "   'p@GO:0032281',\n",
       "   'p@GO:0070066',\n",
       "   'p@GO:0097060',\n",
       "   'p@GO:0071123',\n",
       "   'p@GO:0099065',\n",
       "   'p@GO:0097586',\n",
       "   'p@GO:0005642',\n",
       "   'p@GO:0055052',\n",
       "   'p@GO:0070768',\n",
       "   'p@GO:0034679',\n",
       "   'p@GO:0071744',\n",
       "   'p@GO:0070334',\n",
       "   'p@GO:0000815',\n",
       "   'p@GO:0098952',\n",
       "   'p@GO:0034676',\n",
       "   'p@GO:0031897',\n",
       "   'p@GO:0030669',\n",
       "   'p@GO:0071094',\n",
       "   'p@GO:0016020',\n",
       "   'p@GO:0070435',\n",
       "   'p@GO:1990207',\n",
       "   'p@GO:0099501',\n",
       "   'p@GO:0031900',\n",
       "   'p@GO:0032590',\n",
       "   'p@GO:0012506',\n",
       "   'p@GO:0009528',\n",
       "   'p@GO:0031353',\n",
       "   'p@GO:0009517',\n",
       "   'p@GO:0042175',\n",
       "   'p@GO:1990014',\n",
       "   'p@GO:0035003',\n",
       "   'p@GO:0061464',\n",
       "   'p@GO:0097637',\n",
       "   'p@GO:1903143',\n",
       "   'p@GO:0070023',\n",
       "   'p@GO:0070621',\n",
       "   'p@GO:0045203',\n",
       "   'p@GO:0060201',\n",
       "   'p@GO:0070718',\n",
       "   'p@GO:0043913',\n",
       "   'p@GO:1903439',\n",
       "   'p@GO:0031305',\n",
       "   'p@GO:0045281',\n",
       "   'p@GO:0071199',\n",
       "   'p@GO:0097042',\n",
       "   'p@GO:0005900',\n",
       "   'p@GO:0031242',\n",
       "   'p@GO:0098589',\n",
       "   'p@GO:0031264',\n",
       "   'p@GO:0070619',\n",
       "   'p@GO:0030119',\n",
       "   'p@GO:0030315',\n",
       "   'p@GO:0070056',\n",
       "   'p@GO:0000837',\n",
       "   ...})}"
      ]
     },
     "execution_count": 22,
     "metadata": {},
     "output_type": "execute_result"
    }
   ],
   "source": [
    "pairs_dict"
   ]
  },
  {
   "cell_type": "code",
   "execution_count": 28,
   "metadata": {},
   "outputs": [],
   "source": [
    "merged_annotations = merged_annotations[:1]\n",
    "interaction_dataframe = interaction_dataframe[:1]"
   ]
  },
  {
   "cell_type": "code",
   "execution_count": 29,
   "metadata": {},
   "outputs": [
    {
     "name": "stdout",
     "output_type": "stream",
     "text": [
      "(1, 0, 0, 1, 1, 0, 1)\n"
     ]
    }
   ],
   "source": [
    "for pair, propagated_pair in pairs_dict.items():\n",
    "\n",
    "    pair_count, label_one_count_exclusive, label_two_count_exclusive, label_one_count, label_two_count, absent_count, total_count = pairwise.count_presences_propagated(\n",
    "                    propagated_pair, interaction_dataframe, column_A, column_B,\n",
    "                    merged_annotations)\n",
    "    print(pairwise.count_presences_propagated(\n",
    "                    propagated_pair, interaction_dataframe, column_A, column_B,\n",
    "                    merged_annotations))"
   ]
  },
  {
   "cell_type": "code",
   "execution_count": 30,
   "metadata": {},
   "outputs": [
    {
     "name": "stdout",
     "output_type": "stream",
     "text": [
      "1 0 0 0\n"
     ]
    }
   ],
   "source": [
    "print(pair_count, label_one_count_exclusive,label_two_count_exclusive, absent_count)"
   ]
  },
  {
   "cell_type": "code",
   "execution_count": 31,
   "metadata": {},
   "outputs": [],
   "source": [
    "def _calc_chi2(n11, n10, n01, n00):\n",
    "    print(n11, n10, n01, n00)\n",
    "    print(type(n11))\n",
    "    contingency_table = np.array([[n11, n01], [n10, n00]])\n",
    "\n",
    "    if 0 in contingency_table:\n",
    "        print(contingency_table)\n",
    "\n",
    "    chi2, p, df, ex = scipy.stats.chi2_contingency(\n",
    "        contingency_table, correction=False, lambda_=\"pearson\")\n",
    "    d = {'chi2': chi2, 'p-value': p, 'df': df, 'exp': ex}\n",
    "    return d"
   ]
  },
  {
   "cell_type": "code",
   "execution_count": 32,
   "metadata": {
    "scrolled": true
   },
   "outputs": [
    {
     "name": "stdout",
     "output_type": "stream",
     "text": [
      "1 0 0 0\n",
      "<class 'numpy.int64'>\n",
      "[[1 0]\n",
      " [0 0]]\n"
     ]
    },
    {
     "ename": "ValueError",
     "evalue": "The internally computed table of expected frequencies has a zero element at (0, 1).",
     "output_type": "error",
     "traceback": [
      "\u001b[0;31m---------------------------------------------------------------------------\u001b[0m",
      "\u001b[0;31mValueError\u001b[0m                                Traceback (most recent call last)",
      "\u001b[0;32m<ipython-input-32-f2359336588b>\u001b[0m in \u001b[0;36m<module>\u001b[0;34m()\u001b[0m\n\u001b[0;32m----> 1\u001b[0;31m \u001b[0mf\u001b[0m \u001b[0;34m=\u001b[0m \u001b[0m_calc_chi2\u001b[0m\u001b[0;34m(\u001b[0m\u001b[0mpair_count\u001b[0m\u001b[0;34m,\u001b[0m \u001b[0mlabel_one_count_exclusive\u001b[0m\u001b[0;34m,\u001b[0m\u001b[0mlabel_two_count_exclusive\u001b[0m\u001b[0;34m,\u001b[0m \u001b[0mabsent_count\u001b[0m\u001b[0;34m)\u001b[0m\u001b[0;34m\u001b[0m\u001b[0m\n\u001b[0m",
      "\u001b[0;32m<ipython-input-31-c95e245fc0fd>\u001b[0m in \u001b[0;36m_calc_chi2\u001b[0;34m(n11, n10, n01, n00)\u001b[0m\n\u001b[1;32m      8\u001b[0m \u001b[0;34m\u001b[0m\u001b[0m\n\u001b[1;32m      9\u001b[0m     chi2, p, df, ex = scipy.stats.chi2_contingency(\n\u001b[0;32m---> 10\u001b[0;31m         contingency_table, correction=False, lambda_=\"pearson\")\n\u001b[0m\u001b[1;32m     11\u001b[0m     \u001b[0md\u001b[0m \u001b[0;34m=\u001b[0m \u001b[0;34m{\u001b[0m\u001b[0;34m'chi2'\u001b[0m\u001b[0;34m:\u001b[0m \u001b[0mchi2\u001b[0m\u001b[0;34m,\u001b[0m \u001b[0;34m'p-value'\u001b[0m\u001b[0;34m:\u001b[0m \u001b[0mp\u001b[0m\u001b[0;34m,\u001b[0m \u001b[0;34m'df'\u001b[0m\u001b[0;34m:\u001b[0m \u001b[0mdf\u001b[0m\u001b[0;34m,\u001b[0m \u001b[0;34m'exp'\u001b[0m\u001b[0;34m:\u001b[0m \u001b[0mex\u001b[0m\u001b[0;34m}\u001b[0m\u001b[0;34m\u001b[0m\u001b[0m\n\u001b[1;32m     12\u001b[0m     \u001b[0;32mreturn\u001b[0m \u001b[0md\u001b[0m\u001b[0;34m\u001b[0m\u001b[0m\n",
      "\u001b[0;32m~/miniconda3/envs/hpi/lib/python3.6/site-packages/scipy/stats/contingency.py\u001b[0m in \u001b[0;36mchi2_contingency\u001b[0;34m(observed, correction, lambda_)\u001b[0m\n\u001b[1;32m    251\u001b[0m         \u001b[0mzeropos\u001b[0m \u001b[0;34m=\u001b[0m \u001b[0mlist\u001b[0m\u001b[0;34m(\u001b[0m\u001b[0mzip\u001b[0m\u001b[0;34m(\u001b[0m\u001b[0;34m*\u001b[0m\u001b[0mnp\u001b[0m\u001b[0;34m.\u001b[0m\u001b[0mwhere\u001b[0m\u001b[0;34m(\u001b[0m\u001b[0mexpected\u001b[0m \u001b[0;34m==\u001b[0m \u001b[0;36m0\u001b[0m\u001b[0;34m)\u001b[0m\u001b[0;34m)\u001b[0m\u001b[0;34m)\u001b[0m\u001b[0;34m[\u001b[0m\u001b[0;36m0\u001b[0m\u001b[0;34m]\u001b[0m\u001b[0;34m\u001b[0m\u001b[0m\n\u001b[1;32m    252\u001b[0m         raise ValueError(\"The internally computed table of expected \"\n\u001b[0;32m--> 253\u001b[0;31m                          \"frequencies has a zero element at %s.\" % (zeropos,))\n\u001b[0m\u001b[1;32m    254\u001b[0m \u001b[0;34m\u001b[0m\u001b[0m\n\u001b[1;32m    255\u001b[0m     \u001b[0;31m# The degrees of freedom\u001b[0m\u001b[0;34m\u001b[0m\u001b[0;34m\u001b[0m\u001b[0m\n",
      "\u001b[0;31mValueError\u001b[0m: The internally computed table of expected frequencies has a zero element at (0, 1)."
     ]
    }
   ],
   "source": [
    "f = _calc_chi2(pair_count, label_one_count_exclusive,label_two_count_exclusive, absent_count)"
   ]
  },
  {
   "cell_type": "code",
   "execution_count": 34,
   "metadata": {},
   "outputs": [
    {
     "name": "stdout",
     "output_type": "stream",
     "text": [
      "447228\n"
     ]
    }
   ],
   "source": [
    "print(len(pairs))"
   ]
  },
  {
   "cell_type": "code",
   "execution_count": 54,
   "metadata": {},
   "outputs": [],
   "source": [
    "d = {'chi2' : {'pair1' : {'chi2_p':1, 'chi2_df': 2}, 'pair2': {'chi2_p':3, 'chi2_df': 4}}, 'phi': {'pair1' : {'chi2_p':11, 'chi2_df': 22}, 'pair2': {'chi2_p':33, 'chi2_df': 44}}}"
   ]
  },
  {
   "cell_type": "code",
   "execution_count": 55,
   "metadata": {},
   "outputs": [
    {
     "data": {
      "text/html": [
       "<div>\n",
       "<style scoped>\n",
       "    .dataframe tbody tr th:only-of-type {\n",
       "        vertical-align: middle;\n",
       "    }\n",
       "\n",
       "    .dataframe tbody tr th {\n",
       "        vertical-align: top;\n",
       "    }\n",
       "\n",
       "    .dataframe thead th {\n",
       "        text-align: right;\n",
       "    }\n",
       "</style>\n",
       "<table border=\"1\" class=\"dataframe\">\n",
       "  <thead>\n",
       "    <tr style=\"text-align: right;\">\n",
       "      <th></th>\n",
       "      <th>chi2_chi2_p</th>\n",
       "      <th>chi2_chi2_df</th>\n",
       "      <th>phi_chi2_p</th>\n",
       "      <th>phi_chi2_df</th>\n",
       "    </tr>\n",
       "  </thead>\n",
       "  <tbody>\n",
       "    <tr>\n",
       "      <th>pair1</th>\n",
       "      <td>1</td>\n",
       "      <td>2</td>\n",
       "      <td>11</td>\n",
       "      <td>22</td>\n",
       "    </tr>\n",
       "    <tr>\n",
       "      <th>pair2</th>\n",
       "      <td>3</td>\n",
       "      <td>4</td>\n",
       "      <td>33</td>\n",
       "      <td>44</td>\n",
       "    </tr>\n",
       "  </tbody>\n",
       "</table>\n",
       "</div>"
      ],
      "text/plain": [
       "       chi2_chi2_p  chi2_chi2_df  phi_chi2_p  phi_chi2_df\n",
       "pair1            1             2          11           22\n",
       "pair2            3             4          33           44"
      ]
     },
     "execution_count": 55,
     "metadata": {},
     "output_type": "execute_result"
    }
   ],
   "source": [
    "pd.concat([pd.DataFrame.from_dict(d, orient='index').add_prefix(name + '_') for name, d in d.items()], axis=1)"
   ]
  },
  {
   "cell_type": "code",
   "execution_count": 56,
   "metadata": {},
   "outputs": [
    {
     "data": {
      "text/html": [
       "<div>\n",
       "<style scoped>\n",
       "    .dataframe tbody tr th:only-of-type {\n",
       "        vertical-align: middle;\n",
       "    }\n",
       "\n",
       "    .dataframe tbody tr th {\n",
       "        vertical-align: top;\n",
       "    }\n",
       "\n",
       "    .dataframe thead th {\n",
       "        text-align: right;\n",
       "    }\n",
       "</style>\n",
       "<table border=\"1\" class=\"dataframe\">\n",
       "  <thead>\n",
       "    <tr style=\"text-align: right;\">\n",
       "      <th></th>\n",
       "      <th>0</th>\n",
       "      <th>1</th>\n",
       "      <th>2</th>\n",
       "    </tr>\n",
       "  </thead>\n",
       "  <tbody>\n",
       "    <tr>\n",
       "      <th>pair1</th>\n",
       "      <td>1</td>\n",
       "      <td>2</td>\n",
       "      <td>3</td>\n",
       "    </tr>\n",
       "    <tr>\n",
       "      <th>pair2</th>\n",
       "      <td>4</td>\n",
       "      <td>5</td>\n",
       "      <td>6</td>\n",
       "    </tr>\n",
       "  </tbody>\n",
       "</table>\n",
       "</div>"
      ],
      "text/plain": [
       "       0  1  2\n",
       "pair1  1  2  3\n",
       "pair2  4  5  6"
      ]
     },
     "execution_count": 56,
     "metadata": {},
     "output_type": "execute_result"
    }
   ],
   "source": [
    "pd.DataFrame.from_dict({'pair1' : [1,2,3], 'pair2': [4,5,6]}, orient='index')"
   ]
  },
  {
   "cell_type": "code",
   "execution_count": 57,
   "metadata": {},
   "outputs": [],
   "source": [
    "d2 = {'pair1': {'chi2': {'chi2_p':1, 'chi2_df': 2}, 'phi': {'chi2_p':11, 'chi2_df': 22}}, 'pair2': {'chi2': {'chi2_p':3, 'chi2_df': 4}, 'phi': {'chi2_p':33, 'chi2_df': 44}}}"
   ]
  },
  {
   "cell_type": "code",
   "execution_count": 60,
   "metadata": {},
   "outputs": [
    {
     "data": {
      "text/plain": [
       "[      pair1_chi2_p  pair1_chi2_df\n",
       " chi2             1              2\n",
       " phi             11             22,       pair2_chi2_p  pair2_chi2_df\n",
       " chi2             3              4\n",
       " phi             33             44]"
      ]
     },
     "execution_count": 60,
     "metadata": {},
     "output_type": "execute_result"
    }
   ],
   "source": [
    "[pd.DataFrame.from_dict(d, orient='index').add_prefix(name + '_') for name, d in d2.items()]"
   ]
  },
  {
   "cell_type": "code",
   "execution_count": 62,
   "metadata": {},
   "outputs": [
    {
     "data": {
      "text/html": [
       "<div>\n",
       "<style scoped>\n",
       "    .dataframe tbody tr th:only-of-type {\n",
       "        vertical-align: middle;\n",
       "    }\n",
       "\n",
       "    .dataframe tbody tr th {\n",
       "        vertical-align: top;\n",
       "    }\n",
       "\n",
       "    .dataframe thead th {\n",
       "        text-align: right;\n",
       "    }\n",
       "</style>\n",
       "<table border=\"1\" class=\"dataframe\">\n",
       "  <thead>\n",
       "    <tr style=\"text-align: right;\">\n",
       "      <th></th>\n",
       "      <th>chi2</th>\n",
       "      <th>phi</th>\n",
       "    </tr>\n",
       "  </thead>\n",
       "  <tbody>\n",
       "    <tr>\n",
       "      <th>pair1</th>\n",
       "      <td>{'chi2_p': 1, 'chi2_df': 2}</td>\n",
       "      <td>{'chi2_p': 11, 'chi2_df': 22}</td>\n",
       "    </tr>\n",
       "    <tr>\n",
       "      <th>pair2</th>\n",
       "      <td>{'chi2_p': 3, 'chi2_df': 4}</td>\n",
       "      <td>{'chi2_p': 33, 'chi2_df': 44}</td>\n",
       "    </tr>\n",
       "  </tbody>\n",
       "</table>\n",
       "</div>"
      ],
      "text/plain": [
       "                              chi2                            phi\n",
       "pair1  {'chi2_p': 1, 'chi2_df': 2}  {'chi2_p': 11, 'chi2_df': 22}\n",
       "pair2  {'chi2_p': 3, 'chi2_df': 4}  {'chi2_p': 33, 'chi2_df': 44}"
      ]
     },
     "execution_count": 62,
     "metadata": {},
     "output_type": "execute_result"
    }
   ],
   "source": [
    "pd.DataFrame.from_dict(d, orient='columns')"
   ]
  },
  {
   "cell_type": "code",
   "execution_count": 63,
   "metadata": {},
   "outputs": [
    {
     "data": {
      "text/plain": [
       "('h@IPR008936', 'p@GO:0016020')"
      ]
     },
     "execution_count": 63,
     "metadata": {},
     "output_type": "execute_result"
    }
   ],
   "source": [
    "pair"
   ]
  },
  {
   "cell_type": "code",
   "execution_count": 66,
   "metadata": {},
   "outputs": [
    {
     "data": {
      "text/plain": [
       "1"
      ]
     },
     "execution_count": 66,
     "metadata": {},
     "output_type": "execute_result"
    }
   ],
   "source": [
    "go_dict['p@GO:0016020'[2:]].depth"
   ]
  },
  {
   "cell_type": "code",
   "execution_count": 73,
   "metadata": {},
   "outputs": [
    {
     "data": {
      "text/plain": [
       "{'protein_A': None, 'protein_B': 1}"
      ]
     },
     "execution_count": 73,
     "metadata": {},
     "output_type": "execute_result"
    }
   ],
   "source": [
    "{'protein_A': go_dict[pair[0][2:]].depth if 'GO' in pair[0] else None, 'protein_B': go_dict[pair[1][2:]].depth if 'GO' in pair[1] else None}"
   ]
  },
  {
   "cell_type": "code",
   "execution_count": 72,
   "metadata": {},
   "outputs": [
    {
     "data": {
      "text/plain": [
       "1"
      ]
     },
     "execution_count": 72,
     "metadata": {},
     "output_type": "execute_result"
    }
   ],
   "source": [
    "go_dict['GO:0016020'].depth"
   ]
  },
  {
   "cell_type": "code",
   "execution_count": null,
   "metadata": {},
   "outputs": [],
   "source": []
  }
 ],
 "metadata": {
  "kernelspec": {
   "display_name": "Python [conda env:hpi]",
   "language": "python",
   "name": "conda-env-hpi-py"
  },
  "language_info": {
   "codemirror_mode": {
    "name": "ipython",
    "version": 3
   },
   "file_extension": ".py",
   "mimetype": "text/x-python",
   "name": "python",
   "nbconvert_exporter": "python",
   "pygments_lexer": "ipython3",
   "version": "3.6.5"
  }
 },
 "nbformat": 4,
 "nbformat_minor": 2
}
