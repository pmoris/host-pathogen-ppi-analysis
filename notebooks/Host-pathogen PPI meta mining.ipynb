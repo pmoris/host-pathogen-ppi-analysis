{
 "cells": [
  {
   "cell_type": "raw",
   "metadata": {
    "hideCode": false,
    "hidePrompt": false
   },
   "source": [
    "<script>\n",
    "  jQuery(document).ready(function($) {  \n",
    "  \n",
    "  $(window).on('load', function(){\n",
    "    $('#preloader').fadeOut('slow',function(){$(this).remove();});\n",
    "  });\n",
    "  \n",
    "  });\n",
    "</script>\n",
    "\n",
    "<style type=\"text/css\">\n",
    "  div#preloader { position: fixed; \n",
    "      left: 0; \n",
    "      top: 0; \n",
    "      z-index: 999; \n",
    "      width: 100%; \n",
    "      height: 100%; \n",
    "      overflow: visible; \n",
    "      background: #fff url('http://preloaders.net/preloaders/720/Moving%20line.gif') no-repeat center center; \n",
    "  }\n",
    "\n",
    "</style>\n",
    "\n",
    "<div id=\"preloader\">\n",
    "\n",
    "</div>"
   ]
  },
  {
   "cell_type": "raw",
   "metadata": {
    "hideCode": false,
    "hidePrompt": false
   },
   "source": [
    "<script>\n",
    "  function code_toggle() {\n",
    "    if (code_shown){\n",
    "      $('div.input').hide('500');\n",
    "      $('#toggleButton').val('Show Code')\n",
    "    } else {\n",
    "      $('div.input').show('500');\n",
    "      $('#toggleButton').val('Hide Code')\n",
    "    }\n",
    "    code_shown = !code_shown\n",
    "  } \n",
    "  \n",
    "  $( document ).ready(function(){\n",
    "    code_shown=false; \n",
    "    $('div.input').hide()\n",
    "  });\n",
    "</script>\n",
    "<form action=\"javascript:code_toggle()\"><input type=\"submit\" id=\"toggleButton\" value=\"Show Code\"></form>"
   ]
  },
  {
   "cell_type": "markdown",
   "metadata": {
    "hideCode": false,
    "hidePrompt": false,
    "toc": true
   },
   "source": [
    "<h1>Table of Contents<span class=\"tocSkip\"></span></h1>\n",
    "<div class=\"toc\" style=\"margin-top: 1em;\"><ul class=\"toc-item\"><li><span><a href=\"#Mining-multiple-pathogen-host-protein-interactomes-for-the-detection-of-shared-patterns.\" data-toc-modified-id=\"Mining-multiple-pathogen-host-protein-interactomes-for-the-detection-of-shared-patterns.-1\"><span class=\"toc-item-num\">1&nbsp;&nbsp;</span>Mining multiple pathogen-host protein interactomes for the detection of shared patterns.</a></span><ul class=\"toc-item\"><li><span><a href=\"#Introduction\" data-toc-modified-id=\"Introduction-1.1\"><span class=\"toc-item-num\">1.1&nbsp;&nbsp;</span>Introduction</a></span></li></ul></li><li><span><a href=\"#Data-collection-and-exploration\" data-toc-modified-id=\"Data-collection-and-exploration-2\"><span class=\"toc-item-num\">2&nbsp;&nbsp;</span>Data collection and exploration</a></span><ul class=\"toc-item\"><li><span><a href=\"#Protein-protein-interaction-data-sources\" data-toc-modified-id=\"Protein-protein-interaction-data-sources-2.1\"><span class=\"toc-item-num\">2.1&nbsp;&nbsp;</span>Protein-protein interaction data sources</a></span><ul class=\"toc-item\"><li><span><a href=\"#Data-filtering-and-clean-up\" data-toc-modified-id=\"Data-filtering-and-clean-up-2.1.1\"><span class=\"toc-item-num\">2.1.1&nbsp;&nbsp;</span>Data filtering and clean-up</a></span></li><li><span><a href=\"#Quality-of-interactions\" data-toc-modified-id=\"Quality-of-interactions-2.1.2\"><span class=\"toc-item-num\">2.1.2&nbsp;&nbsp;</span>Quality of interactions</a></span></li><li><span><a href=\"#Taxonomic-diversity-of-data-set\" data-toc-modified-id=\"Taxonomic-diversity-of-data-set-2.1.3\"><span class=\"toc-item-num\">2.1.3&nbsp;&nbsp;</span>Taxonomic diversity of data set</a></span><ul class=\"toc-item\"><li><span><a href=\"#Inter-viral-interactions\" data-toc-modified-id=\"Inter-viral-interactions-2.1.3.1\"><span class=\"toc-item-num\">2.1.3.1&nbsp;&nbsp;</span>Inter-viral interactions</a></span></li></ul></li><li><span><a href=\"#Protein-diversity\" data-toc-modified-id=\"Protein-diversity-2.1.4\"><span class=\"toc-item-num\">2.1.4&nbsp;&nbsp;</span>Protein diversity</a></span></li></ul></li><li><span><a href=\"#Annotation-data\" data-toc-modified-id=\"Annotation-data-2.2\"><span class=\"toc-item-num\">2.2&nbsp;&nbsp;</span>Annotation data</a></span><ul class=\"toc-item\"><li><span><a href=\"#Gene-Ontology\" data-toc-modified-id=\"Gene-Ontology-2.2.1\"><span class=\"toc-item-num\">2.2.1&nbsp;&nbsp;</span>Gene Ontology</a></span></li><li><span><a href=\"#InterPro\" data-toc-modified-id=\"InterPro-2.2.2\"><span class=\"toc-item-num\">2.2.2&nbsp;&nbsp;</span>InterPro</a></span></li></ul></li><li><span><a href=\"#Examining-the-resulting-data\" data-toc-modified-id=\"Examining-the-resulting-data-2.3\"><span class=\"toc-item-num\">2.3&nbsp;&nbsp;</span>Examining the resulting data</a></span></li><li><span><a href=\"#Some-caveats...\" data-toc-modified-id=\"Some-caveats...-2.4\"><span class=\"toc-item-num\">2.4&nbsp;&nbsp;</span>Some caveats...</a></span></li><li><span><a href=\"#Potential-improvements-in-data-filtering-and-validation\" data-toc-modified-id=\"Potential-improvements-in-data-filtering-and-validation-2.5\"><span class=\"toc-item-num\">2.5&nbsp;&nbsp;</span>Potential improvements in data filtering and validation</a></span></li></ul></li><li><span><a href=\"#Frequent-item-set-mining\" data-toc-modified-id=\"Frequent-item-set-mining-3\"><span class=\"toc-item-num\">3&nbsp;&nbsp;</span>Frequent item set mining</a></span><ul class=\"toc-item\"><li><span><a href=\"#Creation-of-pairwise-sub-rules\" data-toc-modified-id=\"Creation-of-pairwise-sub-rules-3.1\"><span class=\"toc-item-num\">3.1&nbsp;&nbsp;</span>Creation of pairwise sub-rules</a></span></li><li><span><a href=\"#Visualisation-of-association-rules\" data-toc-modified-id=\"Visualisation-of-association-rules-3.2\"><span class=\"toc-item-num\">3.2&nbsp;&nbsp;</span>Visualisation of association rules</a></span></li></ul></li><li><span><a href=\"#Some-more-caveats\" data-toc-modified-id=\"Some-more-caveats-4\"><span class=\"toc-item-num\">4&nbsp;&nbsp;</span>Some more caveats</a></span></li><li><span><a href=\"#Some-more-unexplored-options\" data-toc-modified-id=\"Some-more-unexplored-options-5\"><span class=\"toc-item-num\">5&nbsp;&nbsp;</span>Some more unexplored options</a></span></li><li><span><a href=\"#References\" data-toc-modified-id=\"References-6\"><span class=\"toc-item-num\">6&nbsp;&nbsp;</span>References</a></span></li></ul></div>"
   ]
  },
  {
   "cell_type": "markdown",
   "metadata": {
    "hideCode": false,
    "hidePrompt": false
   },
   "source": [
    "# Mining multiple pathogen-host protein interactomes for the detection of shared patterns.\n",
    "## Introduction\n",
    "The interplay between intracellular pathogens and their hosts is mediated through intricate molecular interactions. Protein-protein interactions (PPI) make up a large part of this process and gaining a deeper insight into this facet of infectious diseases will help us in our fight against various pathogens.\n",
    "\n",
    "We set out to study the interactomes of *Herpesviridae* and their hosts by utilizing frequent item set mining and association rule mining. We aim to develop a generic methodology that can analyse host-pathogen networks with the goal of discovering and describing shared characteristics, pathogen strategies or host-pathogen relations at the protein level.\n",
    "\n",
    "**This is an informal report to briefly describe the methodology and results of this project.**"
   ]
  },
  {
   "cell_type": "markdown",
   "metadata": {
    "hideCode": false,
    "hidePrompt": false
   },
   "source": [
    "# Data collection and exploration"
   ]
  },
  {
   "cell_type": "code",
   "execution_count": 1,
   "metadata": {
    "hideCode": false,
    "hidePrompt": false
   },
   "outputs": [],
   "source": [
    "import os, sys\n",
    "# setup correct path to script files\n",
    "from pathlib import Path\n",
    "my_file = Path(\"main.py\")\n",
    "if not my_file.is_file():\n",
    "    import sys,os\n",
    "    os.chdir('../src/ppi_tools/')\n",
    "    sys.path.append('../src/')\n",
    "sys.path.append(os.path.abspath('..'))    \n",
    "\n",
    "import argparse\n",
    "import collections\n",
    "from pathlib import Path\n",
    "\n",
    "import matplotlib.pyplot as plt\n",
    "plt.style.use('ggplot')\n",
    "import numpy as np\n",
    "import pandas as pd\n",
    "from IPython.display import display, HTML # pretty tables\n",
    "from IPython.display import Image # local images\n",
    "from IPython.core.display import HTML \n",
    "\n",
    "import id_mapper\n",
    "import label_go\n",
    "import label_interpro\n",
    "import ppi_import\n",
    "from data_prep import retrieve_taxids\n",
    "from go_tools import gaf_parser\n",
    "from go_tools import obo_tools\n",
    "from main import *\n",
    "\n",
    "# run main script to annotate and convert PPI datasets into a format suitable for frequent item set mining.\n",
    "# and suppress output\n",
    "# %run main.py -d"
   ]
  },
  {
   "cell_type": "markdown",
   "metadata": {
    "hideCode": false,
    "hidePrompt": false
   },
   "source": [
    "## Protein-protein interaction data sources\n",
    "The protein-protein interaction (PPI) datasets were retrieved from the following sources.\n",
    "\n",
    "- The HPIDB 2.0 dataset was retrieved from: [http://www.agbase.msstate.edu/hpi/downloads/hpidb2.mitab.zip]. [^fn1]\n",
    "- The VirHostNet 2.0 dataset is available from: [http://virhostnet.prabi.fr/] (release January 2017).[^fn2]\n",
    "- The PHISTO dataset was obtained from [http://www.phisto.org/index.xhtml] by using the browse utility (Data update: January 19, 2017).[^fn3]\n",
    "- The PSI-MI ontology .obo file was downloaded from [http://ontologies.berkeleybop.org/mi.obo] (data-version: releases/2017-06-14).[^fn4]\n",
    "\n",
    "The different primary data sources in these databases are:"
   ]
  },
  {
   "cell_type": "code",
   "execution_count": 2,
   "metadata": {
    "hideCode": false,
    "hideOutput": false,
    "hidePrompt": false,
    "scrolled": true
   },
   "outputs": [
    {
     "name": "stdout",
     "output_type": "stream",
     "text": [
      "HPIDB2:\n",
      "ddbj/embl/genbank\n",
      "ensembl\n",
      "ensemblgenomes\n",
      "entrez gene/locuslink\n",
      "intact\n",
      "refseq\n",
      "uniprotkb\n",
      "\n",
      "VirHostNet:\n",
      "refseq\n",
      "uniprotkb\n",
      "\n",
      "IntAct:\n",
      "-\n",
      "chebi:\"CHEBI\n",
      "ddbj/embl/genbank\n",
      "dip\n",
      "intact\n",
      "refseq\n",
      "uniprotkb\n"
     ]
    }
   ],
   "source": [
    "%%bash\n",
    "printf 'HPIDB2:\\n'\n",
    "cat <(tail -n +2 ../../data/raw/ppi_data/hpidb2_March14_2017_mitab.txt | cut -f1) <(tail -n +2 ../../data/raw/ppi_data/hpidb2_March14_2017_mitab.txt | cut -f2) | sed -r 's/(^.*?):.*/\\1/g' | sort -u\n",
    "printf \"\\nVirHostNet:\\n\"\n",
    "cat <(tail -n +2 ../../data/raw/ppi_data/VirHostNet_January_2017.txt | cut -f1) <(tail -n +2 ../../data/raw/ppi_data/VirHostNet_January_2017.txt | cut -f2) | sed -r 's/(^.*?):.*/\\1/g' | sort -u\n",
    "printf \"\\nIntAct:\\n\"\n",
    "cat <(tail -n +2 ../../data/raw/ppi_data/intact_virus_2017_12_1.txt| cut -f1) <(tail -n +2 ../../data/raw/ppi_data/intact_virus_2017_12_1.txt | cut -f2) | sed -r 's/(^.*?):.*/\\1/g' | sort -u\n"
   ]
  },
  {
   "cell_type": "markdown",
   "metadata": {
    "hideCode": false,
    "hidePrompt": false
   },
   "source": [
    "- HPIDB2:\n",
    "    - ddbj/embl/genbank\n",
    "    - ensembl\n",
    "    - ensemblgenomes\n",
    "    - entrez gene/locuslink\n",
    "    - intact\n",
    "    - refseq\n",
    "    - uniprotkb\n",
    "- VirHostNet:\n",
    "    - refseq\n",
    "    - uniprotkb\n",
    "- IntAct:\n",
    "    - -\n",
    "    - chebi:\"CHEBI\n",
    "    - ddbj/embl/genbank\n",
    "    - dip\n",
    "    - intact\n",
    "    - refseq\n",
    "    - uniprotkb"
   ]
  },
  {
   "cell_type": "markdown",
   "metadata": {
    "hideCode": false,
    "hidePrompt": false
   },
   "source": [
    "More information about the MITAB format used by HPIDB2 and VirHostNet can be found at: https://psicquic.github.io/MITAB27Format.html."
   ]
  },
  {
   "cell_type": "markdown",
   "metadata": {
    "hideCode": false,
    "hidePrompt": false
   },
   "source": [
    "### Data filtering and clean-up"
   ]
  },
  {
   "cell_type": "markdown",
   "metadata": {
    "hideCode": false,
    "hidePrompt": false
   },
   "source": [
    "All PPIs pertaining to the Herpesviridae familiy were extracted from the above PPI datasets."
   ]
  },
  {
   "cell_type": "code",
   "execution_count": 3,
   "metadata": {
    "hideCode": false,
    "hidePrompt": false,
    "scrolled": false
   },
   "outputs": [],
   "source": [
    "%%capture\n",
    "\n",
    "# create taxid dictionary for Herpesviridae\n",
    "name2taxid, taxid2name = retrieve_taxids.parse_taxid_names(r'../../data/raw/taxdump/names.dmp')\n",
    "with Path(r'../../data/interim/child_taxids_of_10292.txt').open() as taxid_file:\n",
    "        herpes_taxids = [str('taxid:' + line.split('|')[0]) for line in taxid_file]\n",
    "\n",
    "# Import PPI datasets\n",
    "df_virhost = ppi_import.read_mitab_virhost(r'../../data/raw/ppi_data/VirHostNet_January_2017.txt')\n",
    "df_hpidb2 = ppi_import.read_psi_mi_tab(r'../../data/raw/ppi_data/hpidb2_March14_2017_mitab_plus.txt', 'hpidb2')\n",
    "df_phisto = ppi_import.read_mitab_phisto(r'../../data/raw/ppi_data/phisto_Jan19_2017.csv',\n",
    "                                         r'../../data/raw/ppi_data/mi.obo')\n",
    "df_intact = ppi_import.read_psi_mi_tab(r'../../data/raw/ppi_data/intact_virus_2017_12_1.txt', 'intact')\n",
    "df_concat = concat_interaction_datasets([df_hpidb2, df_virhost, df_phisto, df_intact])\n",
    "\n",
    "# filter on Herpesviridae\n",
    "df_herpes = df_concat.loc[(df_concat.taxid_A.isin(herpes_taxids)) | df_concat.taxid_B.isin(herpes_taxids)]\n",
    "df_herpes = df_herpes.reset_index(drop=True)\n",
    "\n",
    "# create combined identifier\n",
    "xref_partners_sorted_array = np.sort(np.stack((df_herpes.xref_A, df_herpes.xref_B), axis=1), axis=1)\n",
    "xref_partners_df = pd.DataFrame(xref_partners_sorted_array, columns=['A', 'B'])\n",
    "df_herpes['xref_partners_sorted'] = xref_partners_df['A'] + '%' + xref_partners_df['B']"
   ]
  },
  {
   "cell_type": "code",
   "execution_count": 4,
   "metadata": {},
   "outputs": [
    {
     "data": {
      "text/plain": [
       "origin\n",
       "PHISTO         7946\n",
       "VirHostNet2    5446\n",
       "hpidb2         8231\n",
       "intact         4529\n",
       "dtype: int64"
      ]
     },
     "metadata": {},
     "output_type": "display_data"
    }
   ],
   "source": [
    "display(df_herpes.groupby('origin').size())"
   ]
  },
  {
   "cell_type": "markdown",
   "metadata": {
    "hideCode": false,
    "hidePrompt": false
   },
   "source": [
    "Duplicated entries were removed. One example of duplicate PPI entries could be those for which the same two proteins interact, but which differ in pathogen sources (because strains share proteins), publication or experimental method. Whenever possible, the HPIDB2 entries were preferentially retained.\n",
    "\n",
    "Overall, these data sets also exhibit a substantial amount of overlap between them, since both the VirHostNet2 and PHISTO data sets were substantially reduced after this operation."
   ]
  },
  {
   "cell_type": "code",
   "execution_count": 6,
   "metadata": {},
   "outputs": [
    {
     "data": {
      "text/plain": [
       "origin\n",
       "PHISTO         7111\n",
       "VirHostNet2    4351\n",
       "hpidb2         1373\n",
       "intact         3104\n",
       "Name: origin, dtype: int64"
      ]
     },
     "metadata": {},
     "output_type": "display_data"
    },
    {
     "data": {
      "text/plain": [
       "origin\n",
       "PHISTO          835\n",
       "VirHostNet2    1095\n",
       "hpidb2         6858\n",
       "intact         1425\n",
       "Name: origin, dtype: int64"
      ]
     },
     "metadata": {},
     "output_type": "display_data"
    },
    {
     "ename": "NameError",
     "evalue": "name 'total' is not defined",
     "output_type": "error",
     "traceback": [
      "\u001b[0;31m---------------------------------------------------------------------------\u001b[0m",
      "\u001b[0;31mNameError\u001b[0m                                 Traceback (most recent call last)",
      "\u001b[0;32m<ipython-input-6-5f71f82e9480>\u001b[0m in \u001b[0;36m<module>\u001b[0;34m()\u001b[0m\n\u001b[1;32m      4\u001b[0m \u001b[0mdisplay\u001b[0m\u001b[0;34m(\u001b[0m\u001b[0muniques\u001b[0m\u001b[0;34m)\u001b[0m\u001b[0;34m\u001b[0m\u001b[0m\n\u001b[1;32m      5\u001b[0m \u001b[0mduplicates\u001b[0m\u001b[0;34m.\u001b[0m\u001b[0mindex\u001b[0m\u001b[0;34m\u001b[0m\u001b[0m\n\u001b[0;32m----> 6\u001b[0;31m \u001b[0mdisplay\u001b[0m\u001b[0;34m(\u001b[0m\u001b[0mtotal\u001b[0m\u001b[0;34m)\u001b[0m\u001b[0;34m\u001b[0m\u001b[0m\n\u001b[0m\u001b[1;32m      7\u001b[0m \u001b[0;34m\u001b[0m\u001b[0m\n",
      "\u001b[0;31mNameError\u001b[0m: name 'total' is not defined"
     ]
    }
   ],
   "source": [
    "duplicates = df_herpes.origin[df_herpes.duplicated(subset=['xref_partners_sorted'])].groupby(df_herpes.origin).size()\n",
    "uniques = df_herpes.origin[~df_herpes.duplicated(subset=['xref_partners_sorted'])].groupby(df_herpes.origin).size()\n",
    "display(duplicates)\n",
    "display(uniques)\n",
    "duplicates.index\n",
    "display(total)\n",
    "\n"
   ]
  },
  {
   "cell_type": "code",
   "execution_count": 7,
   "metadata": {},
   "outputs": [
    {
     "ename": "NameError",
     "evalue": "name 'height' is not defined",
     "output_type": "error",
     "traceback": [
      "\u001b[0;31m---------------------------------------------------------------------------\u001b[0m",
      "\u001b[0;31mNameError\u001b[0m                                 Traceback (most recent call last)",
      "\u001b[0;32m<ipython-input-7-5107fc8585e9>\u001b[0m in \u001b[0;36m<module>\u001b[0;34m()\u001b[0m\n\u001b[0;32m----> 1\u001b[0;31m \u001b[0mheight\u001b[0m\u001b[0;34m\u001b[0m\u001b[0m\n\u001b[0m",
      "\u001b[0;31mNameError\u001b[0m: name 'height' is not defined"
     ]
    }
   ],
   "source": [
    "height"
   ]
  },
  {
   "cell_type": "code",
   "execution_count": 8,
   "metadata": {},
   "outputs": [
    {
     "data": {
      "text/plain": [
       "origin\n",
       "PHISTO          835\n",
       "VirHostNet2    1095\n",
       "hpidb2         6858\n",
       "intact         1425\n",
       "Name: origin, dtype: int64"
      ]
     },
     "metadata": {},
     "output_type": "display_data"
    },
    {
     "data": {
      "text/plain": [
       "origin\n",
       "PHISTO         7946\n",
       "VirHostNet2    5446\n",
       "hpidb2         8231\n",
       "intact         4529\n",
       "Name: origin, dtype: int64"
      ]
     },
     "metadata": {},
     "output_type": "display_data"
    },
    {
     "data": {
      "image/png": "[encoded data removed]",
      "text/plain": [
       "<matplotlib.figure.Figure at 0x7f8202e98fd0>"
      ]
     },
     "metadata": {},
     "output_type": "display_data"
    }
   ],
   "source": [
    "duplicates = df_herpes.origin[df_herpes.duplicated(subset=['xref_partners_sorted'])].groupby(df_herpes.origin).size()\n",
    "uniques = df_herpes.origin[~df_herpes.duplicated(subset=['xref_partners_sorted'])].groupby(df_herpes.origin).size()\n",
    "total = df_herpes.origin.groupby(df_herpes.origin).size()\n",
    "\n",
    "display(uniques)\n",
    "display(total)\n",
    "\n",
    "# inter-intra plot\n",
    "height = [val for pair in zip(uniques, total) for val in pair]\n",
    "bars = [val for pair in zip(uniques.index, total.index) for val in pair]\n",
    "bars = ['IntAct', 'IntAct', 'HPIDB2', 'HPIDB2', 'VirHostNet', 'VirHostNet', 'PHISTO', 'PHISTO']\n",
    "y_pos = np.arange(len(bars))\n",
    "plt.barh(y_pos, height, color=('#ee953f', '#23373b')) # #ee953f orange #23373b teal\n",
    "plt.yticks(y_pos, bars)\n",
    "for i in range(len(y_pos)):\n",
    "    plt.text(x = height[i]+500 , y = y_pos[i], s = height[i], size = 10, fontweight = 'bold')\n",
    "plt.tight_layout(pad=0)\n",
    "plt.margins(0.2, 0.1)\n",
    "# plt.subplots_adjust(right=2.3)\n",
    "plt.title('Number of unique interactions per source')\n",
    "plt.xlabel('PPI count')\n",
    "import matplotlib.patches as mpatches\n",
    "u = mpatches.Patch(color='#ee953f', label='Unique interactions')\n",
    "t = mpatches.Patch(color='#23373b', label='Total interactions')\n",
    "plt.legend(handles=[t, u], loc=1)\n",
    "plt.savefig('../../data/processed/img/redundancy.pdf', facecolor='#fafafa', edgecolor='none', bbox_inches='tight')\n",
    "plt.show()\n"
   ]
  },
  {
   "cell_type": "code",
   "execution_count": 9,
   "metadata": {
    "hideCode": false,
    "hidePrompt": false
   },
   "outputs": [
    {
     "name": "stdout",
     "output_type": "stream",
     "text": [
      "15939 duplicated PPIs were removed.\n"
     ]
    },
    {
     "data": {
      "text/plain": [
       "origin\n",
       "PHISTO          835\n",
       "VirHostNet2    1095\n",
       "hpidb2         6858\n",
       "intact         1425\n",
       "dtype: int64"
      ]
     },
     "metadata": {},
     "output_type": "display_data"
    }
   ],
   "source": [
    "print(np.sum(df_herpes.duplicated(subset=['xref_partners_sorted'])), 'duplicated PPIs were removed.')\n",
    "df_herpes = df_herpes.drop_duplicates(subset=['xref_partners_sorted'], keep='first')\n",
    "df_herpes = df_herpes.reset_index(drop=True)\n",
    "display(df_herpes.groupby('origin').size())"
   ]
  },
  {
   "cell_type": "markdown",
   "metadata": {
    "hideCode": false,
    "hidePrompt": false
   },
   "source": [
    "Only inter-species PPIs were retained."
   ]
  },
  {
   "cell_type": "code",
   "execution_count": 10,
   "metadata": {
    "hideCode": false,
    "hidePrompt": false
   },
   "outputs": [
    {
     "name": "stdout",
     "output_type": "stream",
     "text": [
      "Original data set size: 10213 \n",
      "Only inter-species PPI: 8798 \n",
      "Number of removed PPIs: 1415\n"
     ]
    },
    {
     "data": {
      "image/png": "[encoded data removed]",
      "text/plain": [
       "<matplotlib.figure.Figure at 0x7f8203c94e48>"
      ]
     },
     "metadata": {},
     "output_type": "display_data"
    }
   ],
   "source": [
    "annotate_inter_intra(df_herpes)\n",
    "df_inter_intra = df_herpes.copy()\n",
    "df_herpes = df_herpes[df_herpes['inter-intra'] == 'inter-species']\n",
    "df_herpes = df_herpes.reset_index(drop=True)\n",
    "print('Original data set size:', df_inter_intra.shape[0], '\\nOnly inter-species PPI:', \n",
    "      df_herpes.shape[0], '\\nNumber of removed PPIs:', df_inter_intra.shape[0] - df_herpes.shape[0])\n",
    "\n",
    "# inter-intra plot\n",
    "height = df_inter_intra.groupby('inter-intra').size()\n",
    "bars = df_inter_intra.groupby('inter-intra').size().index\n",
    "y_pos = np.arange(len(bars))\n",
    "plt.barh(y_pos, height, color=('#ee953f', '#23373b')) # #ee953f orange #23373b teal\n",
    "plt.yticks(y_pos, bars)\n",
    "for i in range(len(y_pos)):\n",
    "    plt.text(x = height[i]+500 , y = y_pos[i], s = height[i], size = 10, fontweight = 'bold')\n",
    "# plt.tight_layout(pad=0)\n",
    "plt.margins(0.2, 0.1)\n",
    "# plt.subplots_adjust(right=2.3)\n",
    "plt.title('Number of PPIs within or between organisms')\n",
    "plt.xlabel('PPI count')\n",
    "plt.show()"
   ]
  },
  {
   "cell_type": "markdown",
   "metadata": {
    "hideCode": false,
    "hidePrompt": false
   },
   "source": [
    "All protein identifiers were mapped to `UniProtKB`s, except for a number of `intact:EBI`s, `entrez gene/locuslink`s  and `refseq`s for which no corresponding UniProtKB was found.\n",
    "\n",
    "88 + 167 additional PPIs were removed because a) no valid mapping to UniProt accession numbers were found or b) multiple mappings were found. Retaining the latter would artificially inflate counts during frequent item set mining. "
   ]
  },
  {
   "cell_type": "code",
   "execution_count": 11,
   "metadata": {
    "hideCode": false,
    "hidePrompt": false,
    "scrolled": false
   },
   "outputs": [
    {
     "name": "stdout",
     "output_type": "stream",
     "text": [
      "Converted all found identifiers to UniProt ACs.\n",
      "Omitted 167 PPIs due to the existance of multiple mappings.\n",
      "Unmapped proteins: 88\n"
     ]
    }
   ],
   "source": [
    "id_mapper.map2uniprot(df_herpes, filepath=r'../../data/interim/mappings/')\n",
    "df_herpes = id_mapper.remove_mult(df_herpes)\n",
    "\n",
    "## adding\n",
    "df_herpes.reset_index(inplace=True, drop=True)\n",
    "\n",
    "\n",
    "unmapped = df_herpes.loc[~(df_herpes['xref_A'].str.contains('uniprotkb:') &\n",
    "                           df_herpes['xref_B'].str.contains('uniprotkb:'))]\n",
    "print('Unmapped proteins:',unmapped.shape[0])\n",
    "df_herpes = df_herpes.loc[(df_herpes['xref_A'].str.contains('uniprotkb:') & # only select remapped entries\n",
    "                           df_herpes['xref_B'].str.contains('uniprotkb:'))] \n",
    "# TO THIS BEFORE CREATING\n",
    "df_herpes.reset_index(inplace=True, drop=True)\n",
    "# re-create combined identifier\n",
    "xref_partners_sorted_array = np.sort(np.stack((df_herpes.xref_A, df_herpes.xref_B), axis=1), axis=1)\n",
    "xref_partners_df = pd.DataFrame(xref_partners_sorted_array, columns=['A', 'B'])\n",
    "df_herpes['xref_partners_sorted'] = xref_partners_df['A'] + '%' + xref_partners_df['B']"
   ]
  },
  {
   "cell_type": "markdown",
   "metadata": {
    "hideCode": false,
    "hidePrompt": false
   },
   "source": [
    "Surprisingly, the re-mapping resulted in a number of new duplicates!"
   ]
  },
  {
   "cell_type": "code",
   "execution_count": 12,
   "metadata": {
    "hideCode": false,
    "hidePrompt": false
   },
   "outputs": [
    {
     "name": "stdout",
     "output_type": "stream",
     "text": [
      "295 duplicated PPIs were removed.\n"
     ]
    }
   ],
   "source": [
    "print(np.sum(df_herpes.duplicated(subset=['xref_partners_sorted'])), 'duplicated PPIs were removed.')\n",
    "df_herpes = df_herpes.drop_duplicates(subset=['xref_partners_sorted'], keep='first')\n",
    "df_herpes = df_herpes.reset_index(drop=True)"
   ]
  },
  {
   "cell_type": "markdown",
   "metadata": {
    "hideCode": false,
    "hidePrompt": false
   },
   "source": [
    "For example, the following interaction was catalogued once for _Human herpesvirus 8 strain GK18_ and once for the higher order _Human gammaherpesvirus 8_. These issues could be resolved by filtering on both PPI partners **and** their taxids."
   ]
  },
  {
   "cell_type": "code",
   "execution_count": 13,
   "metadata": {
    "hideCode": false,
    "hidePrompt": false,
    "scrolled": false
   },
   "outputs": [
    {
     "data": {
      "text/html": [
       "<div>\n",
       "<style scoped>\n",
       "    .dataframe tbody tr th:only-of-type {\n",
       "        vertical-align: middle;\n",
       "    }\n",
       "\n",
       "    .dataframe tbody tr th {\n",
       "        vertical-align: top;\n",
       "    }\n",
       "\n",
       "    .dataframe thead th {\n",
       "        text-align: right;\n",
       "    }\n",
       "</style>\n",
       "<table border=\"1\" class=\"dataframe\">\n",
       "  <thead>\n",
       "    <tr style=\"text-align: right;\">\n",
       "      <th></th>\n",
       "      <th>Annotation(s) interactor A</th>\n",
       "      <th>Annotation(s) interactor B</th>\n",
       "      <th>Biological role(s) interactor A</th>\n",
       "      <th>Biological role(s) interactor B</th>\n",
       "      <th>Checksum(s) interactor A</th>\n",
       "      <th>Checksum(s) interactor B</th>\n",
       "      <th>Creation date</th>\n",
       "      <th>Expansion method(s)</th>\n",
       "      <th>Experimental role(s) interactor A</th>\n",
       "      <th>Experimental role(s) interactor B</th>\n",
       "      <th>Feature(s) interactor A</th>\n",
       "      <th>Feature(s) interactor B</th>\n",
       "      <th>Host organism(s)</th>\n",
       "      <th>Identification method participant A</th>\n",
       "      <th>Identification method participant B</th>\n",
       "      <th>Interaction Checksum(s)</th>\n",
       "      <th>Interaction Xref(s)</th>\n",
       "      <th>Interaction annotation(s)</th>\n",
       "      <th>Interaction parameter(s)</th>\n",
       "      <th>Negative</th>\n",
       "      <th>Stoichiometry(s) interactor A</th>\n",
       "      <th>Stoichiometry(s) interactor B</th>\n",
       "      <th>Type(s) interactor A</th>\n",
       "      <th>Type(s) interactor B</th>\n",
       "      <th>Update date</th>\n",
       "      <th>Xref(s) interactor A</th>\n",
       "      <th>Xref(s) interactor B</th>\n",
       "      <th>aliases_A</th>\n",
       "      <th>aliases_B</th>\n",
       "      <th>alt_identifiers_A</th>\n",
       "      <th>alt_identifiers_B</th>\n",
       "      <th>author</th>\n",
       "      <th>confidence_score</th>\n",
       "      <th>detection_method</th>\n",
       "      <th>display_id_A</th>\n",
       "      <th>display_id_B</th>\n",
       "      <th>interaction_identifiers</th>\n",
       "      <th>interaction_type</th>\n",
       "      <th>origin</th>\n",
       "      <th>pathogen</th>\n",
       "      <th>protein_seq1</th>\n",
       "      <th>protein_seq2</th>\n",
       "      <th>protein_taxid_1_cat</th>\n",
       "      <th>protein_taxid_1_name</th>\n",
       "      <th>protein_taxid_2_cat</th>\n",
       "      <th>protein_taxid_2_name</th>\n",
       "      <th>protein_xref_1_display_id</th>\n",
       "      <th>protein_xref_1_unique</th>\n",
       "      <th>protein_xref_2_display_id</th>\n",
       "      <th>protein_xref_2_unique</th>\n",
       "      <th>publication</th>\n",
       "      <th>source_database</th>\n",
       "      <th>source_database_ids</th>\n",
       "      <th>taxid_A</th>\n",
       "      <th>taxid_B</th>\n",
       "      <th>xref_A</th>\n",
       "      <th>xref_B</th>\n",
       "      <th>xref_partners_sorted</th>\n",
       "      <th>inter-intra</th>\n",
       "    </tr>\n",
       "  </thead>\n",
       "  <tbody>\n",
       "    <tr>\n",
       "      <th>6</th>\n",
       "      <td>NaN</td>\n",
       "      <td>NaN</td>\n",
       "      <td>NaN</td>\n",
       "      <td>NaN</td>\n",
       "      <td>NaN</td>\n",
       "      <td>NaN</td>\n",
       "      <td>NaN</td>\n",
       "      <td>NaN</td>\n",
       "      <td>NaN</td>\n",
       "      <td>NaN</td>\n",
       "      <td>NaN</td>\n",
       "      <td>NaN</td>\n",
       "      <td>NaN</td>\n",
       "      <td>NaN</td>\n",
       "      <td>NaN</td>\n",
       "      <td>NaN</td>\n",
       "      <td>NaN</td>\n",
       "      <td>NaN</td>\n",
       "      <td>NaN</td>\n",
       "      <td>NaN</td>\n",
       "      <td>NaN</td>\n",
       "      <td>NaN</td>\n",
       "      <td>NaN</td>\n",
       "      <td>NaN</td>\n",
       "      <td>NaN</td>\n",
       "      <td>NaN</td>\n",
       "      <td>NaN</td>\n",
       "      <td>psi-mi:hdac1_human(display_long)|uniprotkb:HDAC1(gene name)|psi-mi:HDAC1(display_short)|uniprotkb:RPD3L1(gene name synonym)</td>\n",
       "      <td>psi-mi:kbzip_hhv8p(display_long)|uniprotkb:K8(gene name)|psi-mi:K8(display_short)</td>\n",
       "      <td>intact:EBI-301834|uniprotkb:Q92534</td>\n",
       "      <td>intact:EBI-9006943</td>\n",
       "      <td>Martínez et al. (2012)</td>\n",
       "      <td>intact-miscore:0.43</td>\n",
       "      <td>psi-mi:MI:0006(anti bait coimmunoprecipitation)</td>\n",
       "      <td>NaN</td>\n",
       "      <td>NaN</td>\n",
       "      <td>intact:EBI-9006990|imex:IM-21800-6</td>\n",
       "      <td>psi-mi:MI:0914(association)</td>\n",
       "      <td>hpidb2</td>\n",
       "      <td>NaN</td>\n",
       "      <td>MAQTQGTRRKVCYYYDGDVGNYYYGQGHPMKPHRIRMTHNLLLNYGLYRKMEIYRPHKANAEEMTKYHSDDYIKFLRSIRPDNMSEYSKQMQRFNVGEDCPVFDGLFEFCQLSTGGSVASAVKLNKQQTDIAVNWAGGLHHAKKSEASGFCYVNDIVLAILELLKYHQRVLYIDIDIHHGDGVEEAFYTTDRVMTV...</td>\n",
       "      <td>MPRMKDIPTKSSPGTDNSEKDEAVIEEDLSLNGQPFFTDNTDGGENEVSWTSSLLSTYVGCQPPAIPVCETVIDLTAPSQSGAPGDEHLPCSLNAETKFHIPDPSWTLSHTPPRGPHISQQLPTRRSKRRLHRKFEEERLCTKAKQGAGRPVPASVVKVGNITPHYGEELTRGDAVPAAPITPPYPRVQRPAQPTH...</td>\n",
       "      <td>ANIMAL</td>\n",
       "      <td>human|Homo sapiens</td>\n",
       "      <td>VIRUS</td>\n",
       "      <td>hhv8p|Human herpesvirus 8</td>\n",
       "      <td>HDAC1_HUMAN</td>\n",
       "      <td>UNIPROT_AC:Q13547</td>\n",
       "      <td>KBZIP_HHV8P</td>\n",
       "      <td>UNIPROT_AC:Q2HR82</td>\n",
       "      <td>pubmed:22416134|imex:IM-21800</td>\n",
       "      <td>UniProt</td>\n",
       "      <td>psi-mi:MI:0486(UniProt)</td>\n",
       "      <td>taxid:9606</td>\n",
       "      <td>taxid:868565</td>\n",
       "      <td>uniprotkb:Q13547</td>\n",
       "      <td>uniprotkb:Q2HR82</td>\n",
       "      <td>uniprotkb:Q13547%uniprotkb:Q2HR82</td>\n",
       "      <td>inter-species</td>\n",
       "    </tr>\n",
       "  </tbody>\n",
       "</table>\n",
       "</div>"
      ],
      "text/plain": [
       "  Annotation(s) interactor A Annotation(s) interactor B  \\\n",
       "6                        NaN                        NaN   \n",
       "\n",
       "  Biological role(s) interactor A Biological role(s) interactor B  \\\n",
       "6                             NaN                             NaN   \n",
       "\n",
       "  Checksum(s) interactor A Checksum(s) interactor B Creation date  \\\n",
       "6                      NaN                      NaN           NaN   \n",
       "\n",
       "  Expansion method(s) Experimental role(s) interactor A  \\\n",
       "6                 NaN                               NaN   \n",
       "\n",
       "  Experimental role(s) interactor B Feature(s) interactor A  \\\n",
       "6                               NaN                     NaN   \n",
       "\n",
       "  Feature(s) interactor B Host organism(s)  \\\n",
       "6                     NaN              NaN   \n",
       "\n",
       "  Identification method participant A Identification method participant B  \\\n",
       "6                                 NaN                                 NaN   \n",
       "\n",
       "  Interaction Checksum(s) Interaction Xref(s) Interaction annotation(s)  \\\n",
       "6                     NaN                 NaN                       NaN   \n",
       "\n",
       "  Interaction parameter(s) Negative Stoichiometry(s) interactor A  \\\n",
       "6                      NaN      NaN                           NaN   \n",
       "\n",
       "  Stoichiometry(s) interactor B Type(s) interactor A Type(s) interactor B  \\\n",
       "6                           NaN                  NaN                  NaN   \n",
       "\n",
       "  Update date Xref(s) interactor A Xref(s) interactor B  \\\n",
       "6         NaN                  NaN                  NaN   \n",
       "\n",
       "                                                                                                                     aliases_A  \\\n",
       "6  psi-mi:hdac1_human(display_long)|uniprotkb:HDAC1(gene name)|psi-mi:HDAC1(display_short)|uniprotkb:RPD3L1(gene name synonym)   \n",
       "\n",
       "                                                                           aliases_B  \\\n",
       "6  psi-mi:kbzip_hhv8p(display_long)|uniprotkb:K8(gene name)|psi-mi:K8(display_short)   \n",
       "\n",
       "                    alt_identifiers_A   alt_identifiers_B  \\\n",
       "6  intact:EBI-301834|uniprotkb:Q92534  intact:EBI-9006943   \n",
       "\n",
       "                   author     confidence_score  \\\n",
       "6  Martínez et al. (2012)  intact-miscore:0.43   \n",
       "\n",
       "                                  detection_method display_id_A display_id_B  \\\n",
       "6  psi-mi:MI:0006(anti bait coimmunoprecipitation)          NaN          NaN   \n",
       "\n",
       "              interaction_identifiers             interaction_type  origin  \\\n",
       "6  intact:EBI-9006990|imex:IM-21800-6  psi-mi:MI:0914(association)  hpidb2   \n",
       "\n",
       "  pathogen  \\\n",
       "6      NaN   \n",
       "\n",
       "                                                                                                                                                                                              protein_seq1  \\\n",
       "6  MAQTQGTRRKVCYYYDGDVGNYYYGQGHPMKPHRIRMTHNLLLNYGLYRKMEIYRPHKANAEEMTKYHSDDYIKFLRSIRPDNMSEYSKQMQRFNVGEDCPVFDGLFEFCQLSTGGSVASAVKLNKQQTDIAVNWAGGLHHAKKSEASGFCYVNDIVLAILELLKYHQRVLYIDIDIHHGDGVEEAFYTTDRVMTV...   \n",
       "\n",
       "                                                                                                                                                                                              protein_seq2  \\\n",
       "6  MPRMKDIPTKSSPGTDNSEKDEAVIEEDLSLNGQPFFTDNTDGGENEVSWTSSLLSTYVGCQPPAIPVCETVIDLTAPSQSGAPGDEHLPCSLNAETKFHIPDPSWTLSHTPPRGPHISQQLPTRRSKRRLHRKFEEERLCTKAKQGAGRPVPASVVKVGNITPHYGEELTRGDAVPAAPITPPYPRVQRPAQPTH...   \n",
       "\n",
       "  protein_taxid_1_cat protein_taxid_1_name protein_taxid_2_cat  \\\n",
       "6              ANIMAL   human|Homo sapiens               VIRUS   \n",
       "\n",
       "        protein_taxid_2_name protein_xref_1_display_id protein_xref_1_unique  \\\n",
       "6  hhv8p|Human herpesvirus 8               HDAC1_HUMAN     UNIPROT_AC:Q13547   \n",
       "\n",
       "  protein_xref_2_display_id protein_xref_2_unique  \\\n",
       "6               KBZIP_HHV8P     UNIPROT_AC:Q2HR82   \n",
       "\n",
       "                     publication source_database      source_database_ids  \\\n",
       "6  pubmed:22416134|imex:IM-21800         UniProt  psi-mi:MI:0486(UniProt)   \n",
       "\n",
       "      taxid_A       taxid_B            xref_A            xref_B  \\\n",
       "6  taxid:9606  taxid:868565  uniprotkb:Q13547  uniprotkb:Q2HR82   \n",
       "\n",
       "                xref_partners_sorted    inter-intra  \n",
       "6  uniprotkb:Q13547%uniprotkb:Q2HR82  inter-species  "
      ]
     },
     "metadata": {},
     "output_type": "display_data"
    },
    {
     "data": {
      "text/html": [
       "<div>\n",
       "<style scoped>\n",
       "    .dataframe tbody tr th:only-of-type {\n",
       "        vertical-align: middle;\n",
       "    }\n",
       "\n",
       "    .dataframe tbody tr th {\n",
       "        vertical-align: top;\n",
       "    }\n",
       "\n",
       "    .dataframe thead th {\n",
       "        text-align: right;\n",
       "    }\n",
       "</style>\n",
       "<table border=\"1\" class=\"dataframe\">\n",
       "  <thead>\n",
       "    <tr style=\"text-align: right;\">\n",
       "      <th></th>\n",
       "      <th>Annotation(s) interactor A</th>\n",
       "      <th>Annotation(s) interactor B</th>\n",
       "      <th>Biological role(s) interactor A</th>\n",
       "      <th>Biological role(s) interactor B</th>\n",
       "      <th>Checksum(s) interactor A</th>\n",
       "      <th>Checksum(s) interactor B</th>\n",
       "      <th>Creation date</th>\n",
       "      <th>Expansion method(s)</th>\n",
       "      <th>Experimental role(s) interactor A</th>\n",
       "      <th>Experimental role(s) interactor B</th>\n",
       "      <th>Feature(s) interactor A</th>\n",
       "      <th>Feature(s) interactor B</th>\n",
       "      <th>Host organism(s)</th>\n",
       "      <th>Identification method participant A</th>\n",
       "      <th>Identification method participant B</th>\n",
       "      <th>Interaction Checksum(s)</th>\n",
       "      <th>Interaction Xref(s)</th>\n",
       "      <th>Interaction annotation(s)</th>\n",
       "      <th>Interaction parameter(s)</th>\n",
       "      <th>Negative</th>\n",
       "      <th>Stoichiometry(s) interactor A</th>\n",
       "      <th>Stoichiometry(s) interactor B</th>\n",
       "      <th>Type(s) interactor A</th>\n",
       "      <th>Type(s) interactor B</th>\n",
       "      <th>Update date</th>\n",
       "      <th>Xref(s) interactor A</th>\n",
       "      <th>Xref(s) interactor B</th>\n",
       "      <th>aliases_A</th>\n",
       "      <th>aliases_B</th>\n",
       "      <th>alt_identifiers_A</th>\n",
       "      <th>alt_identifiers_B</th>\n",
       "      <th>author</th>\n",
       "      <th>confidence_score</th>\n",
       "      <th>detection_method</th>\n",
       "      <th>display_id_A</th>\n",
       "      <th>display_id_B</th>\n",
       "      <th>interaction_identifiers</th>\n",
       "      <th>interaction_type</th>\n",
       "      <th>origin</th>\n",
       "      <th>pathogen</th>\n",
       "      <th>protein_seq1</th>\n",
       "      <th>protein_seq2</th>\n",
       "      <th>protein_taxid_1_cat</th>\n",
       "      <th>protein_taxid_1_name</th>\n",
       "      <th>protein_taxid_2_cat</th>\n",
       "      <th>protein_taxid_2_name</th>\n",
       "      <th>protein_xref_1_display_id</th>\n",
       "      <th>protein_xref_1_unique</th>\n",
       "      <th>protein_xref_2_display_id</th>\n",
       "      <th>protein_xref_2_unique</th>\n",
       "      <th>publication</th>\n",
       "      <th>source_database</th>\n",
       "      <th>source_database_ids</th>\n",
       "      <th>taxid_A</th>\n",
       "      <th>taxid_B</th>\n",
       "      <th>xref_A</th>\n",
       "      <th>xref_B</th>\n",
       "    </tr>\n",
       "  </thead>\n",
       "  <tbody>\n",
       "    <tr>\n",
       "      <th>1775</th>\n",
       "      <td>NaN</td>\n",
       "      <td>NaN</td>\n",
       "      <td>NaN</td>\n",
       "      <td>NaN</td>\n",
       "      <td>NaN</td>\n",
       "      <td>NaN</td>\n",
       "      <td>NaN</td>\n",
       "      <td>NaN</td>\n",
       "      <td>NaN</td>\n",
       "      <td>NaN</td>\n",
       "      <td>NaN</td>\n",
       "      <td>NaN</td>\n",
       "      <td>NaN</td>\n",
       "      <td>NaN</td>\n",
       "      <td>NaN</td>\n",
       "      <td>NaN</td>\n",
       "      <td>NaN</td>\n",
       "      <td>NaN</td>\n",
       "      <td>NaN</td>\n",
       "      <td>NaN</td>\n",
       "      <td>NaN</td>\n",
       "      <td>NaN</td>\n",
       "      <td>NaN</td>\n",
       "      <td>NaN</td>\n",
       "      <td>NaN</td>\n",
       "      <td>NaN</td>\n",
       "      <td>NaN</td>\n",
       "      <td>entrez gene/locuslink:GON-10(gene name synonym)|entrez gene/locuslink:HD1(gene name synonym)|entrez gene/locuslink:RPD3(gene name synonym)|entrez gene/locuslink:RPD3L1(gene name synonym)</td>\n",
       "      <td>-</td>\n",
       "      <td>biogrid:109315|entrez gene/locuslink:HDAC1|entrez gene/locuslink:RP4-811H24.2</td>\n",
       "      <td>biogrid:1776965|entrez gene/locuslink:K8|entrez gene/locuslink:HHV8GK18_gp54</td>\n",
       "      <td>Martinez FP (2012)</td>\n",
       "      <td>-</td>\n",
       "      <td>psi-mi:MI:0004(affinity chromatography technology)</td>\n",
       "      <td>NaN</td>\n",
       "      <td>NaN</td>\n",
       "      <td>biogrid:669512</td>\n",
       "      <td>psi-mi:MI:0915(physical association)</td>\n",
       "      <td>hpidb2</td>\n",
       "      <td>NaN</td>\n",
       "      <td>MAQTQGTRRKVCYYYDGDVGNYYYGQGHPMKPHRIRMTHNLLLNYGLYRKMEIYRPHKANAEEMTKYHSDDYIKFLRSIRPDNMSEYSKQMQRFNVGEDCPVFDGLFEFCQLSTGGSVASAVKLNKQQTDIAVNWAGGLHHAKKSEASGFCYVNDIVLAILELLKYHQRVLYIDIDIHHGDGVEEAFYTTDRVMTV...</td>\n",
       "      <td>MPRMKDIPTKSSPGTDNSEKDEAVIEEDLSLNGQPFFTDNTDGGENEVSWTSSLLSTYVGCQPPAIPVCETVIDLTAPSQSGAPGDEHLPCSLNAETKFHIPDPSWTLSHTPPRGPHISQQLPTRRSKRRLHRKFEEERLCTKAKQGAGRPVPASVVKVGNITPHYGEELTRGDAVPAAPITPPYPRVQRPAQPTH...</td>\n",
       "      <td>ANIMAL</td>\n",
       "      <td>Homo sapiens</td>\n",
       "      <td>VIRUS</td>\n",
       "      <td>Human herpesvirus 8</td>\n",
       "      <td>HDAC1_HUMAN</td>\n",
       "      <td>UNIPROT_AC:Q13547</td>\n",
       "      <td>KBZIP_HHV8P</td>\n",
       "      <td>UNIPROT_AC:Q2HR82</td>\n",
       "      <td>pubmed:22416134</td>\n",
       "      <td>BioGRID</td>\n",
       "      <td>psi-mi:MI:0463(biogrid)</td>\n",
       "      <td>taxid:9606</td>\n",
       "      <td>taxid:37296</td>\n",
       "      <td>entrez gene/locuslink:3065</td>\n",
       "      <td>entrez gene/locuslink:4961462</td>\n",
       "    </tr>\n",
       "  </tbody>\n",
       "</table>\n",
       "</div>"
      ],
      "text/plain": [
       "     Annotation(s) interactor A Annotation(s) interactor B  \\\n",
       "1775                        NaN                        NaN   \n",
       "\n",
       "     Biological role(s) interactor A Biological role(s) interactor B  \\\n",
       "1775                             NaN                             NaN   \n",
       "\n",
       "     Checksum(s) interactor A Checksum(s) interactor B Creation date  \\\n",
       "1775                      NaN                      NaN           NaN   \n",
       "\n",
       "     Expansion method(s) Experimental role(s) interactor A  \\\n",
       "1775                 NaN                               NaN   \n",
       "\n",
       "     Experimental role(s) interactor B Feature(s) interactor A  \\\n",
       "1775                               NaN                     NaN   \n",
       "\n",
       "     Feature(s) interactor B Host organism(s)  \\\n",
       "1775                     NaN              NaN   \n",
       "\n",
       "     Identification method participant A Identification method participant B  \\\n",
       "1775                                 NaN                                 NaN   \n",
       "\n",
       "     Interaction Checksum(s) Interaction Xref(s) Interaction annotation(s)  \\\n",
       "1775                     NaN                 NaN                       NaN   \n",
       "\n",
       "     Interaction parameter(s) Negative Stoichiometry(s) interactor A  \\\n",
       "1775                      NaN      NaN                           NaN   \n",
       "\n",
       "     Stoichiometry(s) interactor B Type(s) interactor A Type(s) interactor B  \\\n",
       "1775                           NaN                  NaN                  NaN   \n",
       "\n",
       "     Update date Xref(s) interactor A Xref(s) interactor B  \\\n",
       "1775         NaN                  NaN                  NaN   \n",
       "\n",
       "                                                                                                                                                                                       aliases_A  \\\n",
       "1775  entrez gene/locuslink:GON-10(gene name synonym)|entrez gene/locuslink:HD1(gene name synonym)|entrez gene/locuslink:RPD3(gene name synonym)|entrez gene/locuslink:RPD3L1(gene name synonym)   \n",
       "\n",
       "     aliases_B  \\\n",
       "1775         -   \n",
       "\n",
       "                                                                  alt_identifiers_A  \\\n",
       "1775  biogrid:109315|entrez gene/locuslink:HDAC1|entrez gene/locuslink:RP4-811H24.2   \n",
       "\n",
       "                                                                 alt_identifiers_B  \\\n",
       "1775  biogrid:1776965|entrez gene/locuslink:K8|entrez gene/locuslink:HHV8GK18_gp54   \n",
       "\n",
       "                  author confidence_score  \\\n",
       "1775  Martinez FP (2012)                -   \n",
       "\n",
       "                                        detection_method display_id_A  \\\n",
       "1775  psi-mi:MI:0004(affinity chromatography technology)          NaN   \n",
       "\n",
       "     display_id_B interaction_identifiers  \\\n",
       "1775          NaN          biogrid:669512   \n",
       "\n",
       "                          interaction_type  origin pathogen  \\\n",
       "1775  psi-mi:MI:0915(physical association)  hpidb2      NaN   \n",
       "\n",
       "                                                                                                                                                                                                 protein_seq1  \\\n",
       "1775  MAQTQGTRRKVCYYYDGDVGNYYYGQGHPMKPHRIRMTHNLLLNYGLYRKMEIYRPHKANAEEMTKYHSDDYIKFLRSIRPDNMSEYSKQMQRFNVGEDCPVFDGLFEFCQLSTGGSVASAVKLNKQQTDIAVNWAGGLHHAKKSEASGFCYVNDIVLAILELLKYHQRVLYIDIDIHHGDGVEEAFYTTDRVMTV...   \n",
       "\n",
       "                                                                                                                                                                                                 protein_seq2  \\\n",
       "1775  MPRMKDIPTKSSPGTDNSEKDEAVIEEDLSLNGQPFFTDNTDGGENEVSWTSSLLSTYVGCQPPAIPVCETVIDLTAPSQSGAPGDEHLPCSLNAETKFHIPDPSWTLSHTPPRGPHISQQLPTRRSKRRLHRKFEEERLCTKAKQGAGRPVPASVVKVGNITPHYGEELTRGDAVPAAPITPPYPRVQRPAQPTH...   \n",
       "\n",
       "     protein_taxid_1_cat protein_taxid_1_name protein_taxid_2_cat  \\\n",
       "1775              ANIMAL         Homo sapiens               VIRUS   \n",
       "\n",
       "     protein_taxid_2_name protein_xref_1_display_id protein_xref_1_unique  \\\n",
       "1775  Human herpesvirus 8               HDAC1_HUMAN     UNIPROT_AC:Q13547   \n",
       "\n",
       "     protein_xref_2_display_id protein_xref_2_unique      publication  \\\n",
       "1775               KBZIP_HHV8P     UNIPROT_AC:Q2HR82  pubmed:22416134   \n",
       "\n",
       "     source_database      source_database_ids     taxid_A      taxid_B  \\\n",
       "1775         BioGRID  psi-mi:MI:0463(biogrid)  taxid:9606  taxid:37296   \n",
       "\n",
       "                          xref_A                         xref_B  \n",
       "1775  entrez gene/locuslink:3065  entrez gene/locuslink:4961462  "
      ]
     },
     "metadata": {},
     "output_type": "display_data"
    },
    {
     "data": {
      "text/html": [
       "<div>\n",
       "<style scoped>\n",
       "    .dataframe tbody tr th:only-of-type {\n",
       "        vertical-align: middle;\n",
       "    }\n",
       "\n",
       "    .dataframe tbody tr th {\n",
       "        vertical-align: top;\n",
       "    }\n",
       "\n",
       "    .dataframe thead th {\n",
       "        text-align: right;\n",
       "    }\n",
       "</style>\n",
       "<table border=\"1\" class=\"dataframe\">\n",
       "  <thead>\n",
       "    <tr style=\"text-align: right;\">\n",
       "      <th></th>\n",
       "      <th>Annotation(s) interactor A</th>\n",
       "      <th>Annotation(s) interactor B</th>\n",
       "      <th>Biological role(s) interactor A</th>\n",
       "      <th>Biological role(s) interactor B</th>\n",
       "      <th>Checksum(s) interactor A</th>\n",
       "      <th>Checksum(s) interactor B</th>\n",
       "      <th>Creation date</th>\n",
       "      <th>Expansion method(s)</th>\n",
       "      <th>Experimental role(s) interactor A</th>\n",
       "      <th>Experimental role(s) interactor B</th>\n",
       "      <th>Feature(s) interactor A</th>\n",
       "      <th>Feature(s) interactor B</th>\n",
       "      <th>Host organism(s)</th>\n",
       "      <th>Identification method participant A</th>\n",
       "      <th>Identification method participant B</th>\n",
       "      <th>Interaction Checksum(s)</th>\n",
       "      <th>Interaction Xref(s)</th>\n",
       "      <th>Interaction annotation(s)</th>\n",
       "      <th>Interaction parameter(s)</th>\n",
       "      <th>Negative</th>\n",
       "      <th>Stoichiometry(s) interactor A</th>\n",
       "      <th>Stoichiometry(s) interactor B</th>\n",
       "      <th>Type(s) interactor A</th>\n",
       "      <th>Type(s) interactor B</th>\n",
       "      <th>Update date</th>\n",
       "      <th>Xref(s) interactor A</th>\n",
       "      <th>Xref(s) interactor B</th>\n",
       "      <th>aliases_A</th>\n",
       "      <th>aliases_B</th>\n",
       "      <th>alt_identifiers_A</th>\n",
       "      <th>alt_identifiers_B</th>\n",
       "      <th>author</th>\n",
       "      <th>confidence_score</th>\n",
       "      <th>detection_method</th>\n",
       "      <th>display_id_A</th>\n",
       "      <th>display_id_B</th>\n",
       "      <th>interaction_identifiers</th>\n",
       "      <th>interaction_type</th>\n",
       "      <th>origin</th>\n",
       "      <th>pathogen</th>\n",
       "      <th>protein_seq1</th>\n",
       "      <th>protein_seq2</th>\n",
       "      <th>protein_taxid_1_cat</th>\n",
       "      <th>protein_taxid_1_name</th>\n",
       "      <th>protein_taxid_2_cat</th>\n",
       "      <th>protein_taxid_2_name</th>\n",
       "      <th>protein_xref_1_display_id</th>\n",
       "      <th>protein_xref_1_unique</th>\n",
       "      <th>protein_xref_2_display_id</th>\n",
       "      <th>protein_xref_2_unique</th>\n",
       "      <th>publication</th>\n",
       "      <th>source_database</th>\n",
       "      <th>source_database_ids</th>\n",
       "      <th>taxid_A</th>\n",
       "      <th>taxid_B</th>\n",
       "      <th>xref_A</th>\n",
       "      <th>xref_B</th>\n",
       "    </tr>\n",
       "  </thead>\n",
       "  <tbody>\n",
       "    <tr>\n",
       "      <th>106</th>\n",
       "      <td>NaN</td>\n",
       "      <td>NaN</td>\n",
       "      <td>NaN</td>\n",
       "      <td>NaN</td>\n",
       "      <td>NaN</td>\n",
       "      <td>NaN</td>\n",
       "      <td>NaN</td>\n",
       "      <td>NaN</td>\n",
       "      <td>NaN</td>\n",
       "      <td>NaN</td>\n",
       "      <td>NaN</td>\n",
       "      <td>NaN</td>\n",
       "      <td>NaN</td>\n",
       "      <td>NaN</td>\n",
       "      <td>NaN</td>\n",
       "      <td>NaN</td>\n",
       "      <td>NaN</td>\n",
       "      <td>NaN</td>\n",
       "      <td>NaN</td>\n",
       "      <td>NaN</td>\n",
       "      <td>NaN</td>\n",
       "      <td>NaN</td>\n",
       "      <td>NaN</td>\n",
       "      <td>NaN</td>\n",
       "      <td>NaN</td>\n",
       "      <td>NaN</td>\n",
       "      <td>NaN</td>\n",
       "      <td>psi-mi:hdac1_human(display_long)|uniprotkb:HDAC1(gene name)|psi-mi:HDAC1(display_short)|uniprotkb:RPD3L1(gene name synonym)</td>\n",
       "      <td>psi-mi:kbzip_hhv8p(display_long)|uniprotkb:K8(gene name)|psi-mi:K8(display_short)</td>\n",
       "      <td>intact:EBI-301834|uniprotkb:Q92534</td>\n",
       "      <td>intact:EBI-9006943</td>\n",
       "      <td>Martínez et al. (2012)</td>\n",
       "      <td>intact-miscore:0.43</td>\n",
       "      <td>psi-mi:MI:0006(anti bait coimmunoprecipitation)</td>\n",
       "      <td>NaN</td>\n",
       "      <td>NaN</td>\n",
       "      <td>intact:EBI-9006990|imex:IM-21800-6</td>\n",
       "      <td>psi-mi:MI:0914(association)</td>\n",
       "      <td>hpidb2</td>\n",
       "      <td>NaN</td>\n",
       "      <td>MAQTQGTRRKVCYYYDGDVGNYYYGQGHPMKPHRIRMTHNLLLNYGLYRKMEIYRPHKANAEEMTKYHSDDYIKFLRSIRPDNMSEYSKQMQRFNVGEDCPVFDGLFEFCQLSTGGSVASAVKLNKQQTDIAVNWAGGLHHAKKSEASGFCYVNDIVLAILELLKYHQRVLYIDIDIHHGDGVEEAFYTTDRVMTV...</td>\n",
       "      <td>MPRMKDIPTKSSPGTDNSEKDEAVIEEDLSLNGQPFFTDNTDGGENEVSWTSSLLSTYVGCQPPAIPVCETVIDLTAPSQSGAPGDEHLPCSLNAETKFHIPDPSWTLSHTPPRGPHISQQLPTRRSKRRLHRKFEEERLCTKAKQGAGRPVPASVVKVGNITPHYGEELTRGDAVPAAPITPPYPRVQRPAQPTH...</td>\n",
       "      <td>ANIMAL</td>\n",
       "      <td>human|Homo sapiens</td>\n",
       "      <td>VIRUS</td>\n",
       "      <td>hhv8p|Human herpesvirus 8</td>\n",
       "      <td>HDAC1_HUMAN</td>\n",
       "      <td>UNIPROT_AC:Q13547</td>\n",
       "      <td>KBZIP_HHV8P</td>\n",
       "      <td>UNIPROT_AC:Q2HR82</td>\n",
       "      <td>pubmed:22416134|imex:IM-21800</td>\n",
       "      <td>UniProt</td>\n",
       "      <td>psi-mi:MI:0486(UniProt)</td>\n",
       "      <td>taxid:9606</td>\n",
       "      <td>taxid:868565</td>\n",
       "      <td>uniprotkb:Q13547</td>\n",
       "      <td>uniprotkb:Q2HR82</td>\n",
       "    </tr>\n",
       "    <tr>\n",
       "      <th>108</th>\n",
       "      <td>NaN</td>\n",
       "      <td>NaN</td>\n",
       "      <td>NaN</td>\n",
       "      <td>NaN</td>\n",
       "      <td>NaN</td>\n",
       "      <td>NaN</td>\n",
       "      <td>NaN</td>\n",
       "      <td>NaN</td>\n",
       "      <td>NaN</td>\n",
       "      <td>NaN</td>\n",
       "      <td>NaN</td>\n",
       "      <td>NaN</td>\n",
       "      <td>NaN</td>\n",
       "      <td>NaN</td>\n",
       "      <td>NaN</td>\n",
       "      <td>NaN</td>\n",
       "      <td>NaN</td>\n",
       "      <td>NaN</td>\n",
       "      <td>NaN</td>\n",
       "      <td>NaN</td>\n",
       "      <td>NaN</td>\n",
       "      <td>NaN</td>\n",
       "      <td>NaN</td>\n",
       "      <td>NaN</td>\n",
       "      <td>NaN</td>\n",
       "      <td>NaN</td>\n",
       "      <td>NaN</td>\n",
       "      <td>psi-mi:hdac2_human(display_long)|uniprotkb:HDAC2(gene name)|psi-mi:HDAC2(display_short)</td>\n",
       "      <td>psi-mi:kbzip_hhv8p(display_long)|uniprotkb:K8(gene name)|psi-mi:K8(display_short)</td>\n",
       "      <td>intact:EBI-301821|uniprotkb:B4DL58|uniprotkb:E1P561|uniprotkb:B3KRS5|uniprotkb:Q5SRI8|uniprotkb:Q5SZ86|uniprotkb:Q8NEH4</td>\n",
       "      <td>intact:EBI-9006943</td>\n",
       "      <td>Martínez et al. (2012)</td>\n",
       "      <td>intact-miscore:0.54</td>\n",
       "      <td>psi-mi:MI:0006(anti bait coimmunoprecipitation)</td>\n",
       "      <td>NaN</td>\n",
       "      <td>NaN</td>\n",
       "      <td>intact:EBI-9006990|imex:IM-21800-6</td>\n",
       "      <td>psi-mi:MI:0914(association)</td>\n",
       "      <td>hpidb2</td>\n",
       "      <td>NaN</td>\n",
       "      <td>MAYSQGGGKKKVCYYYDGDIGNYYYGQGHPMKPHRIRMTHNLLLNYGLYRKMEIYRPHKATAEEMTKYHSDEYIKFLRSIRPDNMSEYSKQMQRFNVGEDCPVFDGLFEFCQLSTGGSVAGAVKLNRQQTDMAVNWAGGLHHAKKSEASGFCYVNDIVLAILELLKYHQRVLYIDIDIHHGDGVEEAFYTTDRVMT...</td>\n",
       "      <td>MPRMKDIPTKSSPGTDNSEKDEAVIEEDLSLNGQPFFTDNTDGGENEVSWTSSLLSTYVGCQPPAIPVCETVIDLTAPSQSGAPGDEHLPCSLNAETKFHIPDPSWTLSHTPPRGPHISQQLPTRRSKRRLHRKFEEERLCTKAKQGAGRPVPASVVKVGNITPHYGEELTRGDAVPAAPITPPYPRVQRPAQPTH...</td>\n",
       "      <td>ANIMAL</td>\n",
       "      <td>human|Homo sapiens</td>\n",
       "      <td>VIRUS</td>\n",
       "      <td>hhv8p|Human herpesvirus 8</td>\n",
       "      <td>HDAC2_HUMAN</td>\n",
       "      <td>UNIPROT_AC:Q92769</td>\n",
       "      <td>KBZIP_HHV8P</td>\n",
       "      <td>UNIPROT_AC:Q2HR82</td>\n",
       "      <td>pubmed:22416134|imex:IM-21800</td>\n",
       "      <td>UniProt</td>\n",
       "      <td>psi-mi:MI:0486(UniProt)</td>\n",
       "      <td>taxid:9606</td>\n",
       "      <td>taxid:868565</td>\n",
       "      <td>uniprotkb:Q92769</td>\n",
       "      <td>uniprotkb:Q2HR82</td>\n",
       "    </tr>\n",
       "  </tbody>\n",
       "</table>\n",
       "</div>"
      ],
      "text/plain": [
       "    Annotation(s) interactor A Annotation(s) interactor B  \\\n",
       "106                        NaN                        NaN   \n",
       "108                        NaN                        NaN   \n",
       "\n",
       "    Biological role(s) interactor A Biological role(s) interactor B  \\\n",
       "106                             NaN                             NaN   \n",
       "108                             NaN                             NaN   \n",
       "\n",
       "    Checksum(s) interactor A Checksum(s) interactor B Creation date  \\\n",
       "106                      NaN                      NaN           NaN   \n",
       "108                      NaN                      NaN           NaN   \n",
       "\n",
       "    Expansion method(s) Experimental role(s) interactor A  \\\n",
       "106                 NaN                               NaN   \n",
       "108                 NaN                               NaN   \n",
       "\n",
       "    Experimental role(s) interactor B Feature(s) interactor A  \\\n",
       "106                               NaN                     NaN   \n",
       "108                               NaN                     NaN   \n",
       "\n",
       "    Feature(s) interactor B Host organism(s)  \\\n",
       "106                     NaN              NaN   \n",
       "108                     NaN              NaN   \n",
       "\n",
       "    Identification method participant A Identification method participant B  \\\n",
       "106                                 NaN                                 NaN   \n",
       "108                                 NaN                                 NaN   \n",
       "\n",
       "    Interaction Checksum(s) Interaction Xref(s) Interaction annotation(s)  \\\n",
       "106                     NaN                 NaN                       NaN   \n",
       "108                     NaN                 NaN                       NaN   \n",
       "\n",
       "    Interaction parameter(s) Negative Stoichiometry(s) interactor A  \\\n",
       "106                      NaN      NaN                           NaN   \n",
       "108                      NaN      NaN                           NaN   \n",
       "\n",
       "    Stoichiometry(s) interactor B Type(s) interactor A Type(s) interactor B  \\\n",
       "106                           NaN                  NaN                  NaN   \n",
       "108                           NaN                  NaN                  NaN   \n",
       "\n",
       "    Update date Xref(s) interactor A Xref(s) interactor B  \\\n",
       "106         NaN                  NaN                  NaN   \n",
       "108         NaN                  NaN                  NaN   \n",
       "\n",
       "                                                                                                                       aliases_A  \\\n",
       "106  psi-mi:hdac1_human(display_long)|uniprotkb:HDAC1(gene name)|psi-mi:HDAC1(display_short)|uniprotkb:RPD3L1(gene name synonym)   \n",
       "108                                      psi-mi:hdac2_human(display_long)|uniprotkb:HDAC2(gene name)|psi-mi:HDAC2(display_short)   \n",
       "\n",
       "                                                                             aliases_B  \\\n",
       "106  psi-mi:kbzip_hhv8p(display_long)|uniprotkb:K8(gene name)|psi-mi:K8(display_short)   \n",
       "108  psi-mi:kbzip_hhv8p(display_long)|uniprotkb:K8(gene name)|psi-mi:K8(display_short)   \n",
       "\n",
       "                                                                                                           alt_identifiers_A  \\\n",
       "106                                                                                       intact:EBI-301834|uniprotkb:Q92534   \n",
       "108  intact:EBI-301821|uniprotkb:B4DL58|uniprotkb:E1P561|uniprotkb:B3KRS5|uniprotkb:Q5SRI8|uniprotkb:Q5SZ86|uniprotkb:Q8NEH4   \n",
       "\n",
       "      alt_identifiers_B                  author     confidence_score  \\\n",
       "106  intact:EBI-9006943  Martínez et al. (2012)  intact-miscore:0.43   \n",
       "108  intact:EBI-9006943  Martínez et al. (2012)  intact-miscore:0.54   \n",
       "\n",
       "                                    detection_method display_id_A  \\\n",
       "106  psi-mi:MI:0006(anti bait coimmunoprecipitation)          NaN   \n",
       "108  psi-mi:MI:0006(anti bait coimmunoprecipitation)          NaN   \n",
       "\n",
       "    display_id_B             interaction_identifiers  \\\n",
       "106          NaN  intact:EBI-9006990|imex:IM-21800-6   \n",
       "108          NaN  intact:EBI-9006990|imex:IM-21800-6   \n",
       "\n",
       "                interaction_type  origin pathogen  \\\n",
       "106  psi-mi:MI:0914(association)  hpidb2      NaN   \n",
       "108  psi-mi:MI:0914(association)  hpidb2      NaN   \n",
       "\n",
       "                                                                                                                                                                                                protein_seq1  \\\n",
       "106  MAQTQGTRRKVCYYYDGDVGNYYYGQGHPMKPHRIRMTHNLLLNYGLYRKMEIYRPHKANAEEMTKYHSDDYIKFLRSIRPDNMSEYSKQMQRFNVGEDCPVFDGLFEFCQLSTGGSVASAVKLNKQQTDIAVNWAGGLHHAKKSEASGFCYVNDIVLAILELLKYHQRVLYIDIDIHHGDGVEEAFYTTDRVMTV...   \n",
       "108  MAYSQGGGKKKVCYYYDGDIGNYYYGQGHPMKPHRIRMTHNLLLNYGLYRKMEIYRPHKATAEEMTKYHSDEYIKFLRSIRPDNMSEYSKQMQRFNVGEDCPVFDGLFEFCQLSTGGSVAGAVKLNRQQTDMAVNWAGGLHHAKKSEASGFCYVNDIVLAILELLKYHQRVLYIDIDIHHGDGVEEAFYTTDRVMT...   \n",
       "\n",
       "                                                                                                                                                                                                protein_seq2  \\\n",
       "106  MPRMKDIPTKSSPGTDNSEKDEAVIEEDLSLNGQPFFTDNTDGGENEVSWTSSLLSTYVGCQPPAIPVCETVIDLTAPSQSGAPGDEHLPCSLNAETKFHIPDPSWTLSHTPPRGPHISQQLPTRRSKRRLHRKFEEERLCTKAKQGAGRPVPASVVKVGNITPHYGEELTRGDAVPAAPITPPYPRVQRPAQPTH...   \n",
       "108  MPRMKDIPTKSSPGTDNSEKDEAVIEEDLSLNGQPFFTDNTDGGENEVSWTSSLLSTYVGCQPPAIPVCETVIDLTAPSQSGAPGDEHLPCSLNAETKFHIPDPSWTLSHTPPRGPHISQQLPTRRSKRRLHRKFEEERLCTKAKQGAGRPVPASVVKVGNITPHYGEELTRGDAVPAAPITPPYPRVQRPAQPTH...   \n",
       "\n",
       "    protein_taxid_1_cat protein_taxid_1_name protein_taxid_2_cat  \\\n",
       "106              ANIMAL   human|Homo sapiens               VIRUS   \n",
       "108              ANIMAL   human|Homo sapiens               VIRUS   \n",
       "\n",
       "          protein_taxid_2_name protein_xref_1_display_id  \\\n",
       "106  hhv8p|Human herpesvirus 8               HDAC1_HUMAN   \n",
       "108  hhv8p|Human herpesvirus 8               HDAC2_HUMAN   \n",
       "\n",
       "    protein_xref_1_unique protein_xref_2_display_id protein_xref_2_unique  \\\n",
       "106     UNIPROT_AC:Q13547               KBZIP_HHV8P     UNIPROT_AC:Q2HR82   \n",
       "108     UNIPROT_AC:Q92769               KBZIP_HHV8P     UNIPROT_AC:Q2HR82   \n",
       "\n",
       "                       publication source_database      source_database_ids  \\\n",
       "106  pubmed:22416134|imex:IM-21800         UniProt  psi-mi:MI:0486(UniProt)   \n",
       "108  pubmed:22416134|imex:IM-21800         UniProt  psi-mi:MI:0486(UniProt)   \n",
       "\n",
       "        taxid_A       taxid_B            xref_A            xref_B  \n",
       "106  taxid:9606  taxid:868565  uniprotkb:Q13547  uniprotkb:Q2HR82  \n",
       "108  taxid:9606  taxid:868565  uniprotkb:Q92769  uniprotkb:Q2HR82  "
      ]
     },
     "metadata": {},
     "output_type": "display_data"
    }
   ],
   "source": [
    "display(df_herpes.loc[df_herpes.xref_partners_sorted=='uniprotkb:Q13547%uniprotkb:Q2HR82'])\n",
    "display(df_concat.loc[df_concat.interaction_identifiers=='biogrid:669512'])\n",
    "display(df_concat.loc[df_concat.interaction_identifiers=='intact:EBI-9006990|imex:IM-21800-6'])"
   ]
  },
  {
   "cell_type": "markdown",
   "metadata": {
    "hideCode": false,
    "hidePrompt": false
   },
   "source": [
    "As a side-note: this also displays another discrepancy in the data set. The interaction `intact:EBI-9006990|imex:IM-21800-6` id is actually used for two separate PPIs, between _uniprotkb:Q13547_ & _uniprotkb:Q2HR82_ and between _uniprotkb:Q92769_ & _uniprotkb:Q2HR82_. The human proteins are Histone deacetylase 1/2 and the pathogen virus is a HHV-8 E3 SUMO-protein ligase. Due to our filtering on unique protein id - protein id pairs, this should not be an issue for us."
   ]
  },
  {
   "cell_type": "markdown",
   "metadata": {},
   "source": [
    "### Quality of interactions"
   ]
  },
  {
   "cell_type": "markdown",
   "metadata": {
    "hideCode": false,
    "hidePrompt": false
   },
   "source": [
    "The majority of PPI interactions are of the type (physical) association."
   ]
  },
  {
   "cell_type": "code",
   "execution_count": 14,
   "metadata": {
    "hideCode": false,
    "hidePrompt": false,
    "scrolled": false
   },
   "outputs": [
    {
     "data": {
      "image/png": "[encoded data removed]",
      "text/plain": [
       "<matplotlib.figure.Figure at 0x7f8203cfcc18>"
      ]
     },
     "metadata": {},
     "output_type": "display_data"
    }
   ],
   "source": [
    "height = df_herpes['interaction_type'].value_counts(dropna=False)\n",
    "bars = height.index\n",
    "y_pos = np.arange(len(bars))\n",
    "plt.barh(y_pos, height, color=('#ee953f'))\n",
    "plt.yticks(y_pos, bars)\n",
    "for i in range(len(y_pos)):\n",
    "    plt.text(x = height[i]+100 , y = y_pos[i], s = height[i], size = 10, fontweight = 'bold')\n",
    "plt.margins(0.2, 0.1)\n",
    "plt.title('Types of protein-protein interactions')\n",
    "plt.xlabel('PPI count')\n",
    "plt.savefig('../../data/processed/img/interaction-types.pdf', facecolor='#fafafa', edgecolor='none', bbox_inches='tight')\n",
    "plt.show()"
   ]
  },
  {
   "cell_type": "markdown",
   "metadata": {},
   "source": [
    "Less than half of all interactions have been assigned a confidence score."
   ]
  },
  {
   "cell_type": "code",
   "execution_count": 15,
   "metadata": {},
   "outputs": [
    {
     "data": {
      "text/plain": [
       "0.4742967992240543"
      ]
     },
     "execution_count": 15,
     "metadata": {},
     "output_type": "execute_result"
    }
   ],
   "source": [
    "df_herpes[df_herpes.confidence_score.str.contains('miscore', na=False)].shape[0] / df_herpes.shape[0]"
   ]
  },
  {
   "cell_type": "markdown",
   "metadata": {},
   "source": [
    "The possible values are:"
   ]
  },
  {
   "cell_type": "code",
   "execution_count": 16,
   "metadata": {},
   "outputs": [
    {
     "name": "stdout",
     "output_type": "stream",
     "text": [
      "['intact-miscore', '-', 'virhostnet-miscore', nan]\n"
     ]
    }
   ],
   "source": [
    "print([i for i in pd.unique(df_herpes.confidence_score.str.split(':').str.get(0))])"
   ]
  },
  {
   "cell_type": "markdown",
   "metadata": {},
   "source": [
    "Scores of the format `author score:3.57|intact-miscore:0.37` are also permitted by the PSI-MITAB format, but none of these were present for this specific subset."
   ]
  },
  {
   "cell_type": "code",
   "execution_count": 17,
   "metadata": {
    "scrolled": true
   },
   "outputs": [
    {
     "data": {
      "image/png": "[encoded data removed]",
      "text/plain": [
       "<matplotlib.figure.Figure at 0x7f8203041518>"
      ]
     },
     "metadata": {},
     "output_type": "display_data"
    }
   ],
   "source": [
    "pd.to_numeric(df_herpes.confidence_score.str.split(':').str.get(1).fillna(0)).plot(kind='hist', bins=30, color=('#ee953f', '#23373b'))\n",
    "plt.title('Distribution of mi-scores')\n",
    "plt.xlabel('PSI-MI score')\n",
    "plt.savefig('../../data/processed/img/mi-score-dist.pdf', facecolor='#fafafa', edgecolor='none', bbox_inches='tight')\n",
    "plt.show()"
   ]
  },
  {
   "cell_type": "markdown",
   "metadata": {
    "hideCode": false,
    "hidePrompt": false
   },
   "source": [
    "### Taxonomic diversity of data set"
   ]
  },
  {
   "cell_type": "markdown",
   "metadata": {
    "hideCode": false,
    "hidePrompt": false
   },
   "source": [
    "The final data set consists of 8248 unique PPI between Herpesviridae and the following hosts. As expected, human interaction make up the bulk of this data set (7494 out of the 8248 PPIs). The majority of hosts are only represented by one or two PPIs.\n",
    "Also, there seems to be one entry describing an interaction between *Arabidopsis* and Human Herpes Simplex Virus 1, which does not represent a naturally occurring interaction, but rather an experimental gene silencing method (https://www.ncbi.nlm.nih.gov/pubmed/25150167). "
   ]
  },
  {
   "cell_type": "code",
   "execution_count": 18,
   "metadata": {
    "hideCode": false,
    "hidePrompt": false,
    "scrolled": true
   },
   "outputs": [
    {
     "data": {
      "text/html": [
       "<div>\n",
       "<style scoped>\n",
       "    .dataframe tbody tr th:only-of-type {\n",
       "        vertical-align: middle;\n",
       "    }\n",
       "\n",
       "    .dataframe tbody tr th {\n",
       "        vertical-align: top;\n",
       "    }\n",
       "\n",
       "    .dataframe thead th {\n",
       "        text-align: right;\n",
       "    }\n",
       "</style>\n",
       "<table border=\"1\" class=\"dataframe\">\n",
       "  <thead>\n",
       "    <tr style=\"text-align: right;\">\n",
       "      <th></th>\n",
       "      <th>Count</th>\n",
       "      <th>Log count</th>\n",
       "      <th>Name</th>\n",
       "      <th>Taxid</th>\n",
       "    </tr>\n",
       "  </thead>\n",
       "  <tbody>\n",
       "    <tr>\n",
       "      <th>21</th>\n",
       "      <td>7494</td>\n",
       "      <td>3.874714</td>\n",
       "      <td>Homo sapiens</td>\n",
       "      <td>9606</td>\n",
       "    </tr>\n",
       "    <tr>\n",
       "      <th>1</th>\n",
       "      <td>58</td>\n",
       "      <td>1.763428</td>\n",
       "      <td>Rattus norvegicus</td>\n",
       "      <td>10116</td>\n",
       "    </tr>\n",
       "    <tr>\n",
       "      <th>0</th>\n",
       "      <td>29</td>\n",
       "      <td>1.462398</td>\n",
       "      <td>Mus musculus</td>\n",
       "      <td>10090</td>\n",
       "    </tr>\n",
       "    <tr>\n",
       "      <th>24</th>\n",
       "      <td>23</td>\n",
       "      <td>1.361728</td>\n",
       "      <td>Bos taurus</td>\n",
       "      <td>9913</td>\n",
       "    </tr>\n",
       "    <tr>\n",
       "      <th>7</th>\n",
       "      <td>9</td>\n",
       "      <td>0.954243</td>\n",
       "      <td>Janthinobacterium sp. Marseille</td>\n",
       "      <td>375286</td>\n",
       "    </tr>\n",
       "    <tr>\n",
       "      <th>16</th>\n",
       "      <td>7</td>\n",
       "      <td>0.845098</td>\n",
       "      <td>Gallus gallus</td>\n",
       "      <td>9031</td>\n",
       "    </tr>\n",
       "    <tr>\n",
       "      <th>10</th>\n",
       "      <td>6</td>\n",
       "      <td>0.778151</td>\n",
       "      <td>Lactobacillus crispatus ST1</td>\n",
       "      <td>748671</td>\n",
       "    </tr>\n",
       "    <tr>\n",
       "      <th>22</th>\n",
       "      <td>6</td>\n",
       "      <td>0.778151</td>\n",
       "      <td>Equus caballus</td>\n",
       "      <td>9796</td>\n",
       "    </tr>\n",
       "    <tr>\n",
       "      <th>23</th>\n",
       "      <td>4</td>\n",
       "      <td>0.602060</td>\n",
       "      <td>Sus scrofa</td>\n",
       "      <td>9823</td>\n",
       "    </tr>\n",
       "    <tr>\n",
       "      <th>20</th>\n",
       "      <td>4</td>\n",
       "      <td>0.602060</td>\n",
       "      <td>Pongo abelii</td>\n",
       "      <td>9601</td>\n",
       "    </tr>\n",
       "    <tr>\n",
       "      <th>13</th>\n",
       "      <td>4</td>\n",
       "      <td>0.602060</td>\n",
       "      <td>Escherichia coli K-12</td>\n",
       "      <td>83333</td>\n",
       "    </tr>\n",
       "    <tr>\n",
       "      <th>9</th>\n",
       "      <td>2</td>\n",
       "      <td>0.301030</td>\n",
       "      <td>Caenorhabditis elegans</td>\n",
       "      <td>6239</td>\n",
       "    </tr>\n",
       "    <tr>\n",
       "      <th>18</th>\n",
       "      <td>2</td>\n",
       "      <td>0.301030</td>\n",
       "      <td>Macaca fascicularis</td>\n",
       "      <td>9541</td>\n",
       "    </tr>\n",
       "    <tr>\n",
       "      <th>11</th>\n",
       "      <td>1</td>\n",
       "      <td>0.000000</td>\n",
       "      <td>Danio rerio</td>\n",
       "      <td>7955</td>\n",
       "    </tr>\n",
       "    <tr>\n",
       "      <th>12</th>\n",
       "      <td>1</td>\n",
       "      <td>0.000000</td>\n",
       "      <td>Ictalurus punctatus</td>\n",
       "      <td>7998</td>\n",
       "    </tr>\n",
       "    <tr>\n",
       "      <th>14</th>\n",
       "      <td>1</td>\n",
       "      <td>0.000000</td>\n",
       "      <td>Escherichia coli O157:H7</td>\n",
       "      <td>83334</td>\n",
       "    </tr>\n",
       "    <tr>\n",
       "      <th>15</th>\n",
       "      <td>1</td>\n",
       "      <td>0.000000</td>\n",
       "      <td>Xenopus tropicalis</td>\n",
       "      <td>8364</td>\n",
       "    </tr>\n",
       "    <tr>\n",
       "      <th>8</th>\n",
       "      <td>1</td>\n",
       "      <td>0.000000</td>\n",
       "      <td>Chlorocebus sabaeus</td>\n",
       "      <td>60711</td>\n",
       "    </tr>\n",
       "    <tr>\n",
       "      <th>17</th>\n",
       "      <td>1</td>\n",
       "      <td>0.000000</td>\n",
       "      <td>Chlorocebus aethiops</td>\n",
       "      <td>9534</td>\n",
       "    </tr>\n",
       "    <tr>\n",
       "      <th>19</th>\n",
       "      <td>1</td>\n",
       "      <td>0.000000</td>\n",
       "      <td>Pan troglodytes</td>\n",
       "      <td>9598</td>\n",
       "    </tr>\n",
       "    <tr>\n",
       "      <th>6</th>\n",
       "      <td>1</td>\n",
       "      <td>0.000000</td>\n",
       "      <td>Arabidopsis thaliana</td>\n",
       "      <td>3702</td>\n",
       "    </tr>\n",
       "    <tr>\n",
       "      <th>5</th>\n",
       "      <td>1</td>\n",
       "      <td>0.000000</td>\n",
       "      <td>Chinchilla lanigera</td>\n",
       "      <td>34839</td>\n",
       "    </tr>\n",
       "    <tr>\n",
       "      <th>4</th>\n",
       "      <td>1</td>\n",
       "      <td>0.000000</td>\n",
       "      <td>Rhodopseudomonas palustris CGA009</td>\n",
       "      <td>258594</td>\n",
       "    </tr>\n",
       "    <tr>\n",
       "      <th>3</th>\n",
       "      <td>1</td>\n",
       "      <td>0.000000</td>\n",
       "      <td>Human T-cell lymphotrophic virus type 1 (strain ATK)</td>\n",
       "      <td>11926</td>\n",
       "    </tr>\n",
       "    <tr>\n",
       "      <th>2</th>\n",
       "      <td>1</td>\n",
       "      <td>0.000000</td>\n",
       "      <td>Bacillus phage PBS2</td>\n",
       "      <td>10684</td>\n",
       "    </tr>\n",
       "    <tr>\n",
       "      <th>25</th>\n",
       "      <td>1</td>\n",
       "      <td>0.000000</td>\n",
       "      <td>Ovis aries</td>\n",
       "      <td>9940</td>\n",
       "    </tr>\n",
       "  </tbody>\n",
       "</table>\n",
       "</div>"
      ],
      "text/plain": [
       "    Count  Log count                                                  Name  \\\n",
       "21   7494   3.874714                                          Homo sapiens   \n",
       "1      58   1.763428                                     Rattus norvegicus   \n",
       "0      29   1.462398                                          Mus musculus   \n",
       "24     23   1.361728                                            Bos taurus   \n",
       "7       9   0.954243                       Janthinobacterium sp. Marseille   \n",
       "16      7   0.845098                                         Gallus gallus   \n",
       "10      6   0.778151                           Lactobacillus crispatus ST1   \n",
       "22      6   0.778151                                        Equus caballus   \n",
       "23      4   0.602060                                            Sus scrofa   \n",
       "20      4   0.602060                                          Pongo abelii   \n",
       "13      4   0.602060                                 Escherichia coli K-12   \n",
       "9       2   0.301030                                Caenorhabditis elegans   \n",
       "18      2   0.301030                                   Macaca fascicularis   \n",
       "11      1   0.000000                                           Danio rerio   \n",
       "12      1   0.000000                                   Ictalurus punctatus   \n",
       "14      1   0.000000                              Escherichia coli O157:H7   \n",
       "15      1   0.000000                                    Xenopus tropicalis   \n",
       "8       1   0.000000                                   Chlorocebus sabaeus   \n",
       "17      1   0.000000                                  Chlorocebus aethiops   \n",
       "19      1   0.000000                                       Pan troglodytes   \n",
       "6       1   0.000000                                  Arabidopsis thaliana   \n",
       "5       1   0.000000                                   Chinchilla lanigera   \n",
       "4       1   0.000000                     Rhodopseudomonas palustris CGA009   \n",
       "3       1   0.000000  Human T-cell lymphotrophic virus type 1 (strain ATK)   \n",
       "2       1   0.000000                                   Bacillus phage PBS2   \n",
       "25      1   0.000000                                            Ovis aries   \n",
       "\n",
       "     Taxid  \n",
       "21    9606  \n",
       "1    10116  \n",
       "0    10090  \n",
       "24    9913  \n",
       "7   375286  \n",
       "16    9031  \n",
       "10  748671  \n",
       "22    9796  \n",
       "23    9823  \n",
       "20    9601  \n",
       "13   83333  \n",
       "9     6239  \n",
       "18    9541  \n",
       "11    7955  \n",
       "12    7998  \n",
       "14   83334  \n",
       "15    8364  \n",
       "8    60711  \n",
       "17    9534  \n",
       "19    9598  \n",
       "6     3702  \n",
       "5    34839  \n",
       "4   258594  \n",
       "3    11926  \n",
       "2    10684  \n",
       "25    9940  "
      ]
     },
     "metadata": {},
     "output_type": "display_data"
    }
   ],
   "source": [
    "all_taxids = df_herpes['taxid_A'].append(df_herpes['taxid_B']).unique()\n",
    "host_taxids = list(np.setdiff1d(all_taxids, herpes_taxids))\n",
    "host_list = []\n",
    "for i in host_taxids:\n",
    "    taxid = i.split(':')[1]\n",
    "    count = df_herpes['xref_partners_sorted'].loc[(df_herpes['taxid_A'] == i) | (df_herpes['taxid_B'] == i)].shape[0]\n",
    "    host_list.append({'Taxid' : taxid, 'Name' : taxid2name[taxid], 'Count' : count, 'Log count' : np.log10(count)})\n",
    "host_df = pd.DataFrame(host_list).sort_values('Count', ascending=False)\n",
    "display(host_df)\n",
    "reorder_pathogen_host_entries(df_herpes, host_taxids)"
   ]
  },
  {
   "cell_type": "code",
   "execution_count": 25,
   "metadata": {
    "hideCode": false,
    "hidePrompt": false
   },
   "outputs": [
    {
     "data": {
      "image/png": "[encoded data removed]",
      "text/plain": [
       "<matplotlib.figure.Figure at 0x7f82032e8668>"
      ]
     },
     "metadata": {},
     "output_type": "display_data"
    }
   ],
   "source": [
    "host_df.sort_values('Log count').plot(x='Name',y='Count', kind=\"barh\", color=('#ee953f'), \n",
    "                                      legend=False, width=0.5,figsize=(8, 6), fontsize=11)\n",
    "# plt.tight_layout()\n",
    "plt.title('Number of PPIs per host organism')\n",
    "plt.xlabel(r'# PPIs')\n",
    "# plt.xlabel(r'$\\log$ (# PPIs)')\n",
    "plt.ylabel('')\n",
    "plt.savefig('../../data/processed/img/taxonomic-diversity.pdf', facecolor='#fafafa', edgecolor='none', bbox_inches='tight')\n",
    "plt.show()"
   ]
  },
  {
   "cell_type": "code",
   "execution_count": 26,
   "metadata": {
    "hideCode": false,
    "hidePrompt": false,
    "scrolled": true
   },
   "outputs": [
    {
     "data": {
      "text/html": [
       "<div>\n",
       "<style scoped>\n",
       "    .dataframe tbody tr th:only-of-type {\n",
       "        vertical-align: middle;\n",
       "    }\n",
       "\n",
       "    .dataframe tbody tr th {\n",
       "        vertical-align: top;\n",
       "    }\n",
       "\n",
       "    .dataframe thead th {\n",
       "        text-align: right;\n",
       "    }\n",
       "</style>\n",
       "<table border=\"1\" class=\"dataframe\">\n",
       "  <thead>\n",
       "    <tr style=\"text-align: right;\">\n",
       "      <th></th>\n",
       "      <th>Count</th>\n",
       "      <th>Name</th>\n",
       "      <th>Taxid</th>\n",
       "    </tr>\n",
       "  </thead>\n",
       "  <tbody>\n",
       "    <tr>\n",
       "      <th>25</th>\n",
       "      <td>2265</td>\n",
       "      <td>Human herpesvirus 4 strain B95-8</td>\n",
       "      <td>10377</td>\n",
       "    </tr>\n",
       "    <tr>\n",
       "      <th>50</th>\n",
       "      <td>2217</td>\n",
       "      <td>Epstein-barr virus strain ag876</td>\n",
       "      <td>82830</td>\n",
       "    </tr>\n",
       "    <tr>\n",
       "      <th>1</th>\n",
       "      <td>863</td>\n",
       "      <td>Herpes simplex virus (type 1 / strain 17)</td>\n",
       "      <td>10299</td>\n",
       "    </tr>\n",
       "    <tr>\n",
       "      <th>44</th>\n",
       "      <td>791</td>\n",
       "      <td>Human gammaherpesvirus 8</td>\n",
       "      <td>37296</td>\n",
       "    </tr>\n",
       "    <tr>\n",
       "      <th>24</th>\n",
       "      <td>518</td>\n",
       "      <td>Human gammaherpesvirus 4</td>\n",
       "      <td>10376</td>\n",
       "    </tr>\n",
       "    <tr>\n",
       "      <th>41</th>\n",
       "      <td>411</td>\n",
       "      <td>Murid gammaherpesvirus 4</td>\n",
       "      <td>33708</td>\n",
       "    </tr>\n",
       "    <tr>\n",
       "      <th>53</th>\n",
       "      <td>264</td>\n",
       "      <td>Human herpesvirus 8 strain GK18</td>\n",
       "      <td>868565</td>\n",
       "    </tr>\n",
       "    <tr>\n",
       "      <th>46</th>\n",
       "      <td>199</td>\n",
       "      <td>Human herpesvirus 8 type M</td>\n",
       "      <td>435895</td>\n",
       "    </tr>\n",
       "    <tr>\n",
       "      <th>20</th>\n",
       "      <td>177</td>\n",
       "      <td>Murid betaherpesvirus 1</td>\n",
       "      <td>10366</td>\n",
       "    </tr>\n",
       "    <tr>\n",
       "      <th>14</th>\n",
       "      <td>168</td>\n",
       "      <td>Human alphaherpesvirus 3</td>\n",
       "      <td>10335</td>\n",
       "    </tr>\n",
       "    <tr>\n",
       "      <th>42</th>\n",
       "      <td>162</td>\n",
       "      <td>Human herpesvirus 3 strain Oka vaccine</td>\n",
       "      <td>341980</td>\n",
       "    </tr>\n",
       "    <tr>\n",
       "      <th>21</th>\n",
       "      <td>156</td>\n",
       "      <td>Murine cytomegalovirus (strain Smith)</td>\n",
       "      <td>10367</td>\n",
       "    </tr>\n",
       "    <tr>\n",
       "      <th>0</th>\n",
       "      <td>149</td>\n",
       "      <td>Human alphaherpesvirus 1</td>\n",
       "      <td>10298</td>\n",
       "    </tr>\n",
       "    <tr>\n",
       "      <th>16</th>\n",
       "      <td>66</td>\n",
       "      <td>Suid alphaherpesvirus 1</td>\n",
       "      <td>10345</td>\n",
       "    </tr>\n",
       "    <tr>\n",
       "      <th>17</th>\n",
       "      <td>64</td>\n",
       "      <td>Human betaherpesvirus 5</td>\n",
       "      <td>10359</td>\n",
       "    </tr>\n",
       "    <tr>\n",
       "      <th>18</th>\n",
       "      <td>62</td>\n",
       "      <td>Human herpesvirus 5 strain AD169</td>\n",
       "      <td>10360</td>\n",
       "    </tr>\n",
       "    <tr>\n",
       "      <th>15</th>\n",
       "      <td>42</td>\n",
       "      <td>Human herpesvirus 3 strain Dumas</td>\n",
       "      <td>10338</td>\n",
       "    </tr>\n",
       "    <tr>\n",
       "      <th>33</th>\n",
       "      <td>40</td>\n",
       "      <td>Human herpesvirus 5 strain Merlin</td>\n",
       "      <td>295027</td>\n",
       "    </tr>\n",
       "    <tr>\n",
       "      <th>48</th>\n",
       "      <td>34</td>\n",
       "      <td>Murine cytomegalovirus (strain K181)</td>\n",
       "      <td>69156</td>\n",
       "    </tr>\n",
       "    <tr>\n",
       "      <th>19</th>\n",
       "      <td>21</td>\n",
       "      <td>Human herpesvirus 5 strain Towne</td>\n",
       "      <td>10363</td>\n",
       "    </tr>\n",
       "    <tr>\n",
       "      <th>29</th>\n",
       "      <td>19</td>\n",
       "      <td>Marek's disease herpesvirus type 1 strain MD5</td>\n",
       "      <td>10389</td>\n",
       "    </tr>\n",
       "    <tr>\n",
       "      <th>8</th>\n",
       "      <td>17</td>\n",
       "      <td>Bovine alphaherpesvirus 1</td>\n",
       "      <td>10320</td>\n",
       "    </tr>\n",
       "    <tr>\n",
       "      <th>7</th>\n",
       "      <td>12</td>\n",
       "      <td>Human herpesvirus 2 strain HG52</td>\n",
       "      <td>10315</td>\n",
       "    </tr>\n",
       "    <tr>\n",
       "      <th>49</th>\n",
       "      <td>9</td>\n",
       "      <td>Bovine herpesvirus type 1.1</td>\n",
       "      <td>79889</td>\n",
       "    </tr>\n",
       "    <tr>\n",
       "      <th>11</th>\n",
       "      <td>9</td>\n",
       "      <td>Equid alphaherpesvirus 1</td>\n",
       "      <td>10326</td>\n",
       "    </tr>\n",
       "    <tr>\n",
       "      <th>6</th>\n",
       "      <td>8</td>\n",
       "      <td>Human herpesvirus 2 strain 333</td>\n",
       "      <td>10313</td>\n",
       "    </tr>\n",
       "    <tr>\n",
       "      <th>9</th>\n",
       "      <td>7</td>\n",
       "      <td>Bovine herpesvirus type 1.1 (strain Cooper)</td>\n",
       "      <td>10323</td>\n",
       "    </tr>\n",
       "    <tr>\n",
       "      <th>12</th>\n",
       "      <td>7</td>\n",
       "      <td>Equine herpesvirus type 1 (strain Kentucky A)</td>\n",
       "      <td>10329</td>\n",
       "    </tr>\n",
       "    <tr>\n",
       "      <th>5</th>\n",
       "      <td>6</td>\n",
       "      <td>Human alphaherpesvirus 2</td>\n",
       "      <td>10310</td>\n",
       "    </tr>\n",
       "    <tr>\n",
       "      <th>32</th>\n",
       "      <td>6</td>\n",
       "      <td>Human herpesvirus 3 VZV-32</td>\n",
       "      <td>154633</td>\n",
       "    </tr>\n",
       "    <tr>\n",
       "      <th>36</th>\n",
       "      <td>6</td>\n",
       "      <td>Suid herpesvirus 1 (strain Indiana-Funkhauser / Becker)</td>\n",
       "      <td>31523</td>\n",
       "    </tr>\n",
       "    <tr>\n",
       "      <th>26</th>\n",
       "      <td>5</td>\n",
       "      <td>Herpesvirus saimiri (strain 11)</td>\n",
       "      <td>10383</td>\n",
       "    </tr>\n",
       "    <tr>\n",
       "      <th>30</th>\n",
       "      <td>5</td>\n",
       "      <td>Gallid alphaherpesvirus 2</td>\n",
       "      <td>10390</td>\n",
       "    </tr>\n",
       "    <tr>\n",
       "      <th>34</th>\n",
       "      <td>5</td>\n",
       "      <td>Bovine herpesvirus type 1.1 (strain Jura)</td>\n",
       "      <td>31518</td>\n",
       "    </tr>\n",
       "    <tr>\n",
       "      <th>2</th>\n",
       "      <td>4</td>\n",
       "      <td>Herpes simplex virus (type 1 / strain F)</td>\n",
       "      <td>10304</td>\n",
       "    </tr>\n",
       "    <tr>\n",
       "      <th>40</th>\n",
       "      <td>4</td>\n",
       "      <td>Suid herpesvirus 1 strain Kaplan</td>\n",
       "      <td>33703</td>\n",
       "    </tr>\n",
       "    <tr>\n",
       "      <th>51</th>\n",
       "      <td>4</td>\n",
       "      <td>Equid herpesvirus type 2 strain 86/87</td>\n",
       "      <td>82831</td>\n",
       "    </tr>\n",
       "    <tr>\n",
       "      <th>27</th>\n",
       "      <td>4</td>\n",
       "      <td>Herpesvirus saimiri (strain 488)</td>\n",
       "      <td>10384</td>\n",
       "    </tr>\n",
       "    <tr>\n",
       "      <th>37</th>\n",
       "      <td>4</td>\n",
       "      <td>Human herpesvirus 4 strain CAO</td>\n",
       "      <td>31525</td>\n",
       "    </tr>\n",
       "    <tr>\n",
       "      <th>31</th>\n",
       "      <td>4</td>\n",
       "      <td>Papiine gammaherpesvirus 1</td>\n",
       "      <td>106332</td>\n",
       "    </tr>\n",
       "    <tr>\n",
       "      <th>10</th>\n",
       "      <td>3</td>\n",
       "      <td>Bovine herpesvirus type 1.1 (strain P8-2)</td>\n",
       "      <td>10324</td>\n",
       "    </tr>\n",
       "    <tr>\n",
       "      <th>39</th>\n",
       "      <td>2</td>\n",
       "      <td>Human betaherpesvirus 6B</td>\n",
       "      <td>32604</td>\n",
       "    </tr>\n",
       "    <tr>\n",
       "      <th>35</th>\n",
       "      <td>2</td>\n",
       "      <td>Equine herpesvirus type 1 (strain AB4P)</td>\n",
       "      <td>31520</td>\n",
       "    </tr>\n",
       "    <tr>\n",
       "      <th>45</th>\n",
       "      <td>2</td>\n",
       "      <td>Wood mouse herpesvirus</td>\n",
       "      <td>432370</td>\n",
       "    </tr>\n",
       "    <tr>\n",
       "      <th>23</th>\n",
       "      <td>2</td>\n",
       "      <td>Human herpesvirus 6 (strain Uganda-1102)</td>\n",
       "      <td>10370</td>\n",
       "    </tr>\n",
       "    <tr>\n",
       "      <th>13</th>\n",
       "      <td>2</td>\n",
       "      <td>Equine herpesvirus type 4 (strain 1942)</td>\n",
       "      <td>10333</td>\n",
       "    </tr>\n",
       "    <tr>\n",
       "      <th>38</th>\n",
       "      <td>1</td>\n",
       "      <td>Human betaherpesvirus 6A</td>\n",
       "      <td>32603</td>\n",
       "    </tr>\n",
       "    <tr>\n",
       "      <th>43</th>\n",
       "      <td>1</td>\n",
       "      <td>Human herpesvirus 6 strain Z29</td>\n",
       "      <td>36351</td>\n",
       "    </tr>\n",
       "    <tr>\n",
       "      <th>4</th>\n",
       "      <td>1</td>\n",
       "      <td>Herpes simplex virus (type 1 / strain Patton)</td>\n",
       "      <td>10308</td>\n",
       "    </tr>\n",
       "    <tr>\n",
       "      <th>3</th>\n",
       "      <td>1</td>\n",
       "      <td>Human herpesvirus 1 strain KOS</td>\n",
       "      <td>10306</td>\n",
       "    </tr>\n",
       "    <tr>\n",
       "      <th>47</th>\n",
       "      <td>1</td>\n",
       "      <td>Elephantid herpesvirus 1 (isolate Kiba)</td>\n",
       "      <td>654902</td>\n",
       "    </tr>\n",
       "    <tr>\n",
       "      <th>28</th>\n",
       "      <td>1</td>\n",
       "      <td>Bovine gammaherpesvirus 4</td>\n",
       "      <td>10385</td>\n",
       "    </tr>\n",
       "    <tr>\n",
       "      <th>22</th>\n",
       "      <td>1</td>\n",
       "      <td>Human herpesvirus 6 (strain GS)</td>\n",
       "      <td>10369</td>\n",
       "    </tr>\n",
       "    <tr>\n",
       "      <th>52</th>\n",
       "      <td>1</td>\n",
       "      <td>Ateline gammaherpesvirus 3</td>\n",
       "      <td>85618</td>\n",
       "    </tr>\n",
       "  </tbody>\n",
       "</table>\n",
       "</div>"
      ],
      "text/plain": [
       "    Count                                                     Name   Taxid\n",
       "25   2265                         Human herpesvirus 4 strain B95-8   10377\n",
       "50   2217                          Epstein-barr virus strain ag876   82830\n",
       "1     863                Herpes simplex virus (type 1 / strain 17)   10299\n",
       "44    791                                 Human gammaherpesvirus 8   37296\n",
       "24    518                                 Human gammaherpesvirus 4   10376\n",
       "41    411                                 Murid gammaherpesvirus 4   33708\n",
       "53    264                          Human herpesvirus 8 strain GK18  868565\n",
       "46    199                               Human herpesvirus 8 type M  435895\n",
       "20    177                                  Murid betaherpesvirus 1   10366\n",
       "14    168                                 Human alphaherpesvirus 3   10335\n",
       "42    162                   Human herpesvirus 3 strain Oka vaccine  341980\n",
       "21    156                    Murine cytomegalovirus (strain Smith)   10367\n",
       "0     149                                 Human alphaherpesvirus 1   10298\n",
       "16     66                                  Suid alphaherpesvirus 1   10345\n",
       "17     64                                  Human betaherpesvirus 5   10359\n",
       "18     62                         Human herpesvirus 5 strain AD169   10360\n",
       "15     42                         Human herpesvirus 3 strain Dumas   10338\n",
       "33     40                        Human herpesvirus 5 strain Merlin  295027\n",
       "48     34                     Murine cytomegalovirus (strain K181)   69156\n",
       "19     21                         Human herpesvirus 5 strain Towne   10363\n",
       "29     19            Marek's disease herpesvirus type 1 strain MD5   10389\n",
       "8      17                                Bovine alphaherpesvirus 1   10320\n",
       "7      12                          Human herpesvirus 2 strain HG52   10315\n",
       "49      9                              Bovine herpesvirus type 1.1   79889\n",
       "11      9                                 Equid alphaherpesvirus 1   10326\n",
       "6       8                           Human herpesvirus 2 strain 333   10313\n",
       "9       7              Bovine herpesvirus type 1.1 (strain Cooper)   10323\n",
       "12      7            Equine herpesvirus type 1 (strain Kentucky A)   10329\n",
       "5       6                                 Human alphaherpesvirus 2   10310\n",
       "32      6                               Human herpesvirus 3 VZV-32  154633\n",
       "36      6  Suid herpesvirus 1 (strain Indiana-Funkhauser / Becker)   31523\n",
       "26      5                          Herpesvirus saimiri (strain 11)   10383\n",
       "30      5                                Gallid alphaherpesvirus 2   10390\n",
       "34      5                Bovine herpesvirus type 1.1 (strain Jura)   31518\n",
       "2       4                 Herpes simplex virus (type 1 / strain F)   10304\n",
       "40      4                         Suid herpesvirus 1 strain Kaplan   33703\n",
       "51      4                    Equid herpesvirus type 2 strain 86/87   82831\n",
       "27      4                         Herpesvirus saimiri (strain 488)   10384\n",
       "37      4                           Human herpesvirus 4 strain CAO   31525\n",
       "31      4                               Papiine gammaherpesvirus 1  106332\n",
       "10      3                Bovine herpesvirus type 1.1 (strain P8-2)   10324\n",
       "39      2                                 Human betaherpesvirus 6B   32604\n",
       "35      2                  Equine herpesvirus type 1 (strain AB4P)   31520\n",
       "45      2                                   Wood mouse herpesvirus  432370\n",
       "23      2                 Human herpesvirus 6 (strain Uganda-1102)   10370\n",
       "13      2                  Equine herpesvirus type 4 (strain 1942)   10333\n",
       "38      1                                 Human betaherpesvirus 6A   32603\n",
       "43      1                           Human herpesvirus 6 strain Z29   36351\n",
       "4       1            Herpes simplex virus (type 1 / strain Patton)   10308\n",
       "3       1                           Human herpesvirus 1 strain KOS   10306\n",
       "47      1                  Elephantid herpesvirus 1 (isolate Kiba)  654902\n",
       "28      1                                Bovine gammaherpesvirus 4   10385\n",
       "22      1                          Human herpesvirus 6 (strain GS)   10369\n",
       "52      1                               Ateline gammaherpesvirus 3   85618"
      ]
     },
     "metadata": {},
     "output_type": "display_data"
    }
   ],
   "source": [
    "herpes_taxids = list(np.setdiff1d(all_taxids, host_taxids))\n",
    "pathogen_list = []\n",
    "for i in herpes_taxids:\n",
    "    taxid = i.split(':')[1]\n",
    "    count = df_herpes['xref_partners_sorted'].loc[(df_herpes['taxid_A'] == i) | (df_herpes['taxid_B'] == i)].shape[0]\n",
    "    pathogen_list.append({'Taxid' : taxid, 'Name' : taxid2name[taxid], 'Count' : count})\n",
    "path_df = pd.DataFrame(pathogen_list).sort_values('Count', ascending=False)\n",
    "display(path_df)"
   ]
  },
  {
   "cell_type": "markdown",
   "metadata": {
    "hideCode": false,
    "hidePrompt": false
   },
   "source": [
    "The viruses were also mapped to a higher taxonomic grouping for clarity."
   ]
  },
  {
   "cell_type": "code",
   "execution_count": 27,
   "metadata": {
    "hideCode": false,
    "hidePrompt": false,
    "scrolled": true
   },
   "outputs": [],
   "source": [
    "taxid_nodes_path = Path(r'../../data/raw/taxdump/nodes.dmp')\n",
    "taxid2parent, taxid2rank = retrieve_taxids.parse_taxid_nodes(str(taxid_nodes_path))\n",
    "parent2child = retrieve_taxids.create_parent2child_dict(taxid2parent)\n",
    "pathogen_group_dict = {'bovine_ah1': '10320', 'bovine_hv1': '79889', 'epstein_barr': '10376', 'equid_av1': '10326',\n",
    "                       'equid_gv2': '12657', 'gallid_av2': '10390', 'human_hsv1': '10298', 'saimiri_gv2': '10381',\n",
    "                       'human_av2': '10310', 'human_av3': '10335', 'human_bv5': '10359', 'human_gv8': '37296',\n",
    "                       'human_bv6A': '32603', 'human_bv6B': '32604', 'murid_bv1': '10366', 'murid_gv4': '33708',\n",
    "                       'papiine_gv1': '106332', 'suid_av1': '10345', 'bovine_gv4': '10385', 'ateline_gv3': '85618', \n",
    "                       'elephantid_bv1': '146015'}\n",
    "\n",
    "for i, j in pathogen_group_dict.items():\n",
    "    pathogen_group_dict[i] = [j] + retrieve_taxids.get_children(j, parent2child)\n",
    "\n",
    "df_herpes['pathogen_groups'] = df_herpes.apply(lambda x: pathogen_group_mapper(x['taxid_B'].split(':')[1],\n",
    "                                                                               pathogen_group_dict), axis=1)"
   ]
  },
  {
   "cell_type": "code",
   "execution_count": 36,
   "metadata": {
    "hideCode": false,
    "hidePrompt": false,
    "scrolled": false
   },
   "outputs": [
    {
     "data": {
      "image/png": "[encoded data removed]",
      "text/plain": [
       "<matplotlib.figure.Figure at 0x7f8203fd19e8>"
      ]
     },
     "metadata": {},
     "output_type": "display_data"
    }
   ],
   "source": [
    "pathogen_higher_list = []\n",
    "for i in pathogen_group_dict:\n",
    "    taxid = pathogen_group_dict[i]\n",
    "    count = df_herpes['xref_partners_sorted'].loc[(df_herpes['pathogen_groups'] == i)].shape[0]\n",
    "    pathogen_higher_list.append({'Taxid' : taxid, 'Name' : i, 'Count' : count})\n",
    "pathogen_higher_df = pd.DataFrame(pathogen_higher_list).sort_values('Count', ascending=False)\n",
    "pathogen_higher_df.sort_values('Count').plot(x='Name',y='Count', color=('#23373b'), kind=\"barh\", \n",
    "                                             legend=False, width=0.5,figsize=(12, 9), fontsize=15)\n",
    "plt.tight_layout()\n",
    "plt.title('Number of PPIs per virus', fontsize=20)\n",
    "plt.xlabel('# PPIs', fontsize=16)\n",
    "# plt.ylabel('Herpes virus',fontsize=16)\n",
    "plt.ylabel('')\n",
    "plt.savefig('../../data/processed/img/pathogen-diversity.pdf', facecolor='#fafafa', edgecolor='none', bbox_inches='tight')\n",
    "plt.show()\n",
    "# https://stackoverflow.com/questions/12444716/how-do-i-set-the-figure-title-and-axes-labels-font-size-in-matplotlib"
   ]
  },
  {
   "cell_type": "markdown",
   "metadata": {
    "hideCode": false,
    "hidePrompt": false
   },
   "source": [
    "Lastly, it should be noted that the presence of a certain pathogen does not imply that its PPI partners originate from its natural host. For example, the single entry for the ateline gamme herpes virus 3 actually consists of an interaction with a human protein."
   ]
  },
  {
   "cell_type": "code",
   "execution_count": 29,
   "metadata": {
    "hideCode": false,
    "hidePrompt": false
   },
   "outputs": [
    {
     "data": {
      "text/html": [
       "<div>\n",
       "<style scoped>\n",
       "    .dataframe tbody tr th:only-of-type {\n",
       "        vertical-align: middle;\n",
       "    }\n",
       "\n",
       "    .dataframe tbody tr th {\n",
       "        vertical-align: top;\n",
       "    }\n",
       "\n",
       "    .dataframe thead th {\n",
       "        text-align: right;\n",
       "    }\n",
       "</style>\n",
       "<table border=\"1\" class=\"dataframe\">\n",
       "  <thead>\n",
       "    <tr style=\"text-align: right;\">\n",
       "      <th></th>\n",
       "      <th>Annotation(s) interactor A</th>\n",
       "      <th>Annotation(s) interactor B</th>\n",
       "      <th>Biological role(s) interactor A</th>\n",
       "      <th>Biological role(s) interactor B</th>\n",
       "      <th>Checksum(s) interactor A</th>\n",
       "      <th>Checksum(s) interactor B</th>\n",
       "      <th>Creation date</th>\n",
       "      <th>Expansion method(s)</th>\n",
       "      <th>Experimental role(s) interactor A</th>\n",
       "      <th>Experimental role(s) interactor B</th>\n",
       "      <th>Feature(s) interactor A</th>\n",
       "      <th>Feature(s) interactor B</th>\n",
       "      <th>Host organism(s)</th>\n",
       "      <th>Identification method participant A</th>\n",
       "      <th>Identification method participant B</th>\n",
       "      <th>Interaction Checksum(s)</th>\n",
       "      <th>Interaction Xref(s)</th>\n",
       "      <th>Interaction annotation(s)</th>\n",
       "      <th>Interaction parameter(s)</th>\n",
       "      <th>Negative</th>\n",
       "      <th>Stoichiometry(s) interactor A</th>\n",
       "      <th>Stoichiometry(s) interactor B</th>\n",
       "      <th>Type(s) interactor A</th>\n",
       "      <th>Type(s) interactor B</th>\n",
       "      <th>Update date</th>\n",
       "      <th>Xref(s) interactor A</th>\n",
       "      <th>Xref(s) interactor B</th>\n",
       "      <th>aliases_A</th>\n",
       "      <th>aliases_B</th>\n",
       "      <th>alt_identifiers_A</th>\n",
       "      <th>alt_identifiers_B</th>\n",
       "      <th>author</th>\n",
       "      <th>confidence_score</th>\n",
       "      <th>detection_method</th>\n",
       "      <th>display_id_A</th>\n",
       "      <th>display_id_B</th>\n",
       "      <th>interaction_identifiers</th>\n",
       "      <th>interaction_type</th>\n",
       "      <th>origin</th>\n",
       "      <th>pathogen</th>\n",
       "      <th>protein_seq1</th>\n",
       "      <th>protein_seq2</th>\n",
       "      <th>protein_taxid_1_cat</th>\n",
       "      <th>protein_taxid_1_name</th>\n",
       "      <th>protein_taxid_2_cat</th>\n",
       "      <th>protein_taxid_2_name</th>\n",
       "      <th>protein_xref_1_display_id</th>\n",
       "      <th>protein_xref_1_unique</th>\n",
       "      <th>protein_xref_2_display_id</th>\n",
       "      <th>protein_xref_2_unique</th>\n",
       "      <th>publication</th>\n",
       "      <th>source_database</th>\n",
       "      <th>source_database_ids</th>\n",
       "      <th>taxid_A</th>\n",
       "      <th>taxid_B</th>\n",
       "      <th>xref_A</th>\n",
       "      <th>xref_B</th>\n",
       "      <th>xref_partners_sorted</th>\n",
       "      <th>inter-intra</th>\n",
       "      <th>pathogen_groups</th>\n",
       "    </tr>\n",
       "  </thead>\n",
       "  <tbody>\n",
       "    <tr>\n",
       "      <th>1287</th>\n",
       "      <td>NaN</td>\n",
       "      <td>NaN</td>\n",
       "      <td>NaN</td>\n",
       "      <td>NaN</td>\n",
       "      <td>NaN</td>\n",
       "      <td>NaN</td>\n",
       "      <td>NaN</td>\n",
       "      <td>NaN</td>\n",
       "      <td>NaN</td>\n",
       "      <td>NaN</td>\n",
       "      <td>NaN</td>\n",
       "      <td>NaN</td>\n",
       "      <td>NaN</td>\n",
       "      <td>NaN</td>\n",
       "      <td>NaN</td>\n",
       "      <td>NaN</td>\n",
       "      <td>NaN</td>\n",
       "      <td>NaN</td>\n",
       "      <td>NaN</td>\n",
       "      <td>NaN</td>\n",
       "      <td>NaN</td>\n",
       "      <td>NaN</td>\n",
       "      <td>NaN</td>\n",
       "      <td>NaN</td>\n",
       "      <td>NaN</td>\n",
       "      <td>NaN</td>\n",
       "      <td>NaN</td>\n",
       "      <td>psi-mi:lck_human(display_long)|uniprotkb:Protein YT16(gene name synonym)|uniprotkb:Proto-oncogene Lck(gene name synonym)|uniprotkb:T cell-specific protein-tyrosine kinase(gene name synonym)|unipro...</td>\n",
       "      <td>psi-mi:tio_athv3(display_long)</td>\n",
       "      <td>intact:EBI-1348|uniprotkb:Q7RTZ3|uniprotkb:D3DPP8|uniprotkb:Q96DW4|uniprotkb:Q9NYT8|uniprotkb:P07100|uniprotkb:Q12850|uniprotkb:Q13152|uniprotkb:Q5TDH8|uniprotkb:Q5TDH9</td>\n",
       "      <td>intact:EBI-7709835|intact:MINT-7301078</td>\n",
       "      <td>Albrecht et al. (2005)</td>\n",
       "      <td>intact-miscore:0.40</td>\n",
       "      <td>psi-mi:MI:0007(anti tag coimmunoprecipitation)</td>\n",
       "      <td>NaN</td>\n",
       "      <td>NaN</td>\n",
       "      <td>intact:EBI-7709844|mint:MINT-7301088</td>\n",
       "      <td>psi-mi:MI:0915(physical association)</td>\n",
       "      <td>hpidb2</td>\n",
       "      <td>NaN</td>\n",
       "      <td>MGCGCSSHPEDDWMENIDVCENCHYPIVPLDGKGTLLIRNGSEVRDPLVTYEGSNPPASPLQDNLVIALHSYEPSHDGDLGFEKGEQLRILEQSGEWWKAQSLTTGQEGFIPFNFVAKANSLEPEPWFFKNLSRKDAERQLLAPGNTHGSFLIRESESTAGSFSLSVRDFDQNQGEVVKHYKIRNLDNGGFYISPR...</td>\n",
       "      <td>MANEPQEHEEGKPFFPPLGDSGEEGPPNIPQDPTPGTPPGPINSKNEDYPPPLENPGPNKSEGPPDGSGNSSPPVTMLVKNNGDRTKQDVSESGGNNSAPNSVESKHTSSSSSAGNGNETKCPDEQNTQECITTIYIPWEDAKPKLMGLVKLDSSDSEEERSPFNKYPKNYKKLRVDMGENWPPGIPPPQLPPRPA...</td>\n",
       "      <td>ANIMAL</td>\n",
       "      <td>human|Homo sapiens</td>\n",
       "      <td>VIRUS</td>\n",
       "      <td>athv-3|Ateline herpesvirus 3</td>\n",
       "      <td>LCK_HUMAN</td>\n",
       "      <td>UNIPROT_AC:P06239</td>\n",
       "      <td>TIO_ATHV3</td>\n",
       "      <td>UNIPROT_AC:Q9YJQ8</td>\n",
       "      <td>pubmed:16051843|mint:MINT-7216142|doi:10.1128/JVI.79.16.10507-10513.2005</td>\n",
       "      <td>MINT</td>\n",
       "      <td>psi-mi:MI:0471(MINT)</td>\n",
       "      <td>taxid:9606</td>\n",
       "      <td>taxid:85618</td>\n",
       "      <td>uniprotkb:P06239</td>\n",
       "      <td>uniprotkb:Q9YJQ8</td>\n",
       "      <td>uniprotkb:P06239%uniprotkb:Q9YJQ8</td>\n",
       "      <td>inter-species</td>\n",
       "      <td>ateline_gv3</td>\n",
       "    </tr>\n",
       "  </tbody>\n",
       "</table>\n",
       "</div>"
      ],
      "text/plain": [
       "     Annotation(s) interactor A Annotation(s) interactor B  \\\n",
       "1287                        NaN                        NaN   \n",
       "\n",
       "     Biological role(s) interactor A Biological role(s) interactor B  \\\n",
       "1287                             NaN                             NaN   \n",
       "\n",
       "     Checksum(s) interactor A Checksum(s) interactor B Creation date  \\\n",
       "1287                      NaN                      NaN           NaN   \n",
       "\n",
       "     Expansion method(s) Experimental role(s) interactor A  \\\n",
       "1287                 NaN                               NaN   \n",
       "\n",
       "     Experimental role(s) interactor B Feature(s) interactor A  \\\n",
       "1287                               NaN                     NaN   \n",
       "\n",
       "     Feature(s) interactor B Host organism(s)  \\\n",
       "1287                     NaN              NaN   \n",
       "\n",
       "     Identification method participant A Identification method participant B  \\\n",
       "1287                                 NaN                                 NaN   \n",
       "\n",
       "     Interaction Checksum(s) Interaction Xref(s) Interaction annotation(s)  \\\n",
       "1287                     NaN                 NaN                       NaN   \n",
       "\n",
       "     Interaction parameter(s) Negative Stoichiometry(s) interactor A  \\\n",
       "1287                      NaN      NaN                           NaN   \n",
       "\n",
       "     Stoichiometry(s) interactor B Type(s) interactor A Type(s) interactor B  \\\n",
       "1287                           NaN                  NaN                  NaN   \n",
       "\n",
       "     Update date Xref(s) interactor A Xref(s) interactor B  \\\n",
       "1287         NaN                  NaN                  NaN   \n",
       "\n",
       "                                                                                                                                                                                                    aliases_A  \\\n",
       "1287  psi-mi:lck_human(display_long)|uniprotkb:Protein YT16(gene name synonym)|uniprotkb:Proto-oncogene Lck(gene name synonym)|uniprotkb:T cell-specific protein-tyrosine kinase(gene name synonym)|unipro...   \n",
       "\n",
       "                           aliases_B  \\\n",
       "1287  psi-mi:tio_athv3(display_long)   \n",
       "\n",
       "                                                                                                                                                             alt_identifiers_A  \\\n",
       "1287  intact:EBI-1348|uniprotkb:Q7RTZ3|uniprotkb:D3DPP8|uniprotkb:Q96DW4|uniprotkb:Q9NYT8|uniprotkb:P07100|uniprotkb:Q12850|uniprotkb:Q13152|uniprotkb:Q5TDH8|uniprotkb:Q5TDH9   \n",
       "\n",
       "                           alt_identifiers_B                  author  \\\n",
       "1287  intact:EBI-7709835|intact:MINT-7301078  Albrecht et al. (2005)   \n",
       "\n",
       "         confidence_score                                detection_method  \\\n",
       "1287  intact-miscore:0.40  psi-mi:MI:0007(anti tag coimmunoprecipitation)   \n",
       "\n",
       "     display_id_A display_id_B               interaction_identifiers  \\\n",
       "1287          NaN          NaN  intact:EBI-7709844|mint:MINT-7301088   \n",
       "\n",
       "                          interaction_type  origin pathogen  \\\n",
       "1287  psi-mi:MI:0915(physical association)  hpidb2      NaN   \n",
       "\n",
       "                                                                                                                                                                                                 protein_seq1  \\\n",
       "1287  MGCGCSSHPEDDWMENIDVCENCHYPIVPLDGKGTLLIRNGSEVRDPLVTYEGSNPPASPLQDNLVIALHSYEPSHDGDLGFEKGEQLRILEQSGEWWKAQSLTTGQEGFIPFNFVAKANSLEPEPWFFKNLSRKDAERQLLAPGNTHGSFLIRESESTAGSFSLSVRDFDQNQGEVVKHYKIRNLDNGGFYISPR...   \n",
       "\n",
       "                                                                                                                                                                                                 protein_seq2  \\\n",
       "1287  MANEPQEHEEGKPFFPPLGDSGEEGPPNIPQDPTPGTPPGPINSKNEDYPPPLENPGPNKSEGPPDGSGNSSPPVTMLVKNNGDRTKQDVSESGGNNSAPNSVESKHTSSSSSAGNGNETKCPDEQNTQECITTIYIPWEDAKPKLMGLVKLDSSDSEEERSPFNKYPKNYKKLRVDMGENWPPGIPPPQLPPRPA...   \n",
       "\n",
       "     protein_taxid_1_cat protein_taxid_1_name protein_taxid_2_cat  \\\n",
       "1287              ANIMAL   human|Homo sapiens               VIRUS   \n",
       "\n",
       "              protein_taxid_2_name protein_xref_1_display_id  \\\n",
       "1287  athv-3|Ateline herpesvirus 3                 LCK_HUMAN   \n",
       "\n",
       "     protein_xref_1_unique protein_xref_2_display_id protein_xref_2_unique  \\\n",
       "1287     UNIPROT_AC:P06239                 TIO_ATHV3     UNIPROT_AC:Q9YJQ8   \n",
       "\n",
       "                                                                   publication  \\\n",
       "1287  pubmed:16051843|mint:MINT-7216142|doi:10.1128/JVI.79.16.10507-10513.2005   \n",
       "\n",
       "     source_database   source_database_ids     taxid_A      taxid_B  \\\n",
       "1287            MINT  psi-mi:MI:0471(MINT)  taxid:9606  taxid:85618   \n",
       "\n",
       "                xref_A            xref_B               xref_partners_sorted  \\\n",
       "1287  uniprotkb:P06239  uniprotkb:Q9YJQ8  uniprotkb:P06239%uniprotkb:Q9YJQ8   \n",
       "\n",
       "        inter-intra pathogen_groups  \n",
       "1287  inter-species     ateline_gv3  "
      ]
     },
     "execution_count": 29,
     "metadata": {},
     "output_type": "execute_result"
    }
   ],
   "source": [
    "df_herpes.loc[df_herpes.pathogen_groups=='ateline_gv3']"
   ]
  },
  {
   "cell_type": "markdown",
   "metadata": {
    "hideCode": false,
    "hidePrompt": false
   },
   "source": [
    "#### Inter-viral interactions"
   ]
  },
  {
   "cell_type": "markdown",
   "metadata": {
    "hideCode": false,
    "hidePrompt": false
   },
   "source": [
    "As was mentioned above, this data set only contains PPIs between different organisms, i.e. our intent was to collect host-pathogen interactions. To this end we merely filtered out interactions where both protein partners belonged to the same organism. However, 186 PPIs are actually interactions between two different viruses. Interestingly, the converse (PPIs between two hosts) never occurred."
   ]
  },
  {
   "cell_type": "code",
   "execution_count": null,
   "metadata": {
    "hideCode": false,
    "hidePrompt": false
   },
   "outputs": [],
   "source": [
    "print('Number of inter-viral PPIs:', df_herpes.loc[(df_herpes.taxid_A.isin(herpes_taxids) & df_herpes.taxid_B.isin(herpes_taxids)),:].shape[0])\n",
    "print('Number of inter-host PPIs:', df_herpes.loc[~(df_herpes.taxid_A.isin(herpes_taxids) | df_herpes.taxid_B.isin(herpes_taxids)),:].shape[0])"
   ]
  },
  {
   "cell_type": "markdown",
   "metadata": {},
   "source": [
    "This also means that there could be an overlap between the two columns of protein partners, and more importantly, partner A in each interaction isn't necessarily a host. Indeed, there seem to be 35 offending viral proteins in the A column. This was remedied by pruning any PPIs with viral taxids in both columns. "
   ]
  },
  {
   "cell_type": "code",
   "execution_count": null,
   "metadata": {},
   "outputs": [],
   "source": [
    "print('Combined count of both protein columns', len(df_herpes.xref_A.unique()) + len(df_herpes.xref_B.unique()))\n",
    "b = set(df_herpes.xref_A.unique())\n",
    "b.update(df_herpes.xref_B.unique())\n",
    "print('Unique proteins after aggregating', len(b))\n",
    "# print(len(np.unique(np.append(df_herpes.xref_A.values, df_herpes.xref_B.values))))\n",
    "selection = ~(df_herpes.taxid_A.isin(herpes_taxids) & df_herpes.taxid_B.isin(herpes_taxids))\n",
    "df_herpes = df_herpes.loc[selection]\n",
    "df_herpes.reset_index(inplace=True)"
   ]
  },
  {
   "cell_type": "markdown",
   "metadata": {
    "hideCode": false,
    "hidePrompt": false
   },
   "source": [
    "### Protein diversity"
   ]
  },
  {
   "cell_type": "code",
   "execution_count": null,
   "metadata": {
    "hideCode": false,
    "hidePrompt": false
   },
   "outputs": [],
   "source": [
    "# protein_set = set(df_herpes.xref_A.append(df_herpes.xref_B, ignore_index=True).str.extract('^.*:(\\w*)-?',expand=False).unique())\n",
    "# viral_protein_set = set(df_herpes.xref_A[df_herpes.taxid_A.isin(herpes_taxids)].append(df_herpes.xref_B[df_herpes.taxid_B.isin(herpes_taxids)], ignore_index=True).str.extract('^.*:(\\w*)-?',expand=False).unique())\n",
    "# host_protein_set = set(df_herpes.xref_A[df_herpes.taxid_A.isin(host_taxids)].append(df_herpes.xref_B[df_herpes.taxid_B.isin(host_taxids)], ignore_index=True).str.extract('^.*:(\\w*)-?',expand=False).unique())\n",
    "# height = [len(x) for x in [protein_set, viral_protein_set, host_protein_set]]\n",
    "# bars = ['Total','Viral','Host']\n",
    "# y_pos = np.arange(len(bars))\n",
    "# plt.barh(y_pos, height, color=('#ee953f'))\n",
    "# plt.yticks(y_pos, bars)\n",
    "# for i in range(len(y_pos)):\n",
    "#     plt.text(x = height[i]+100 , y = y_pos[i], s = height[i], size = 10, fontweight = 'bold')\n",
    "# plt.margins(0.2, 0.1)\n",
    "# plt.title('Total protein diversity')\n",
    "# plt.xlabel('# proteins')\n",
    "# plt.savefig('../../data/processed/img/protein-diversity.pdf', facecolor='#fafafa', edgecolor='none', bbox_inches='tight')\n",
    "# plt.show()\n",
    "\n",
    "protein_set = set(df_herpes.xref_A.append(df_herpes.xref_B, ignore_index=True).str.extract('^.*:(\\w*)-?',expand=False).unique())\n",
    "viral_protein_set = set(df_herpes.xref_A[df_herpes.taxid_A.isin(herpes_taxids)].append(df_herpes.xref_B[df_herpes.taxid_B.isin(herpes_taxids)], ignore_index=True).str.extract('^.*:(\\w*)-?',expand=False).unique())\n",
    "host_protein_set = set(df_herpes.xref_A[df_herpes.taxid_A.isin(host_taxids)].append(df_herpes.xref_B[df_herpes.taxid_B.isin(host_taxids)], ignore_index=True).str.extract('^.*:(\\w*)-?',expand=False).unique())\n",
    "height = [len(x) for x in [viral_protein_set, host_protein_set]]\n",
    "bars = ['Viral','Host']\n",
    "y_pos = np.arange(len(bars))\n",
    "plt.barh(y_pos, height, color=('#ee953f', '#23373b'))\n",
    "plt.yticks(y_pos, bars)\n",
    "for i in range(len(y_pos)):\n",
    "    plt.text(x = height[i]+100 , y = y_pos[i], s = height[i], size = 10, fontweight = 'bold')\n",
    "plt.margins(0.2, 0.1)\n",
    "plt.title('Total protein diversity')\n",
    "plt.xlabel('# proteins')\n",
    "plt.savefig('../../data/processed/img/protein-diversity.pdf', facecolor='#fafafa', edgecolor='none', bbox_inches='tight')\n",
    "plt.show()"
   ]
  },
  {
   "cell_type": "markdown",
   "metadata": {
    "hideCode": false,
    "hidePrompt": false
   },
   "source": [
    "## Annotation data"
   ]
  },
  {
   "cell_type": "markdown",
   "metadata": {
    "hideCode": false,
    "hidePrompt": false
   },
   "source": [
    "All of the PPIs were labeled with two types of meta-data, which will be used for the subsequent frequent item set mining methods later in the analysis. The annotation data that was used for the labeling was Gene Ontology (GO) and InterPro domain information for both partners in a PPI."
   ]
  },
  {
   "cell_type": "markdown",
   "metadata": {
    "hideCode": false,
    "hidePrompt": false
   },
   "source": [
    "### Gene Ontology"
   ]
  },
  {
   "cell_type": "markdown",
   "metadata": {
    "hideCode": false,
    "hidePrompt": false
   },
   "source": [
    "Each protein in the PPI data set was labeled with its GO terms. All three namespaces were used: _biological process_, _molecular function_ and _cellular component_."
   ]
  },
  {
   "cell_type": "code",
   "execution_count": null,
   "metadata": {
    "hideCode": false,
    "hidePrompt": false
   },
   "outputs": [],
   "source": [
    "%%capture\n",
    "go_dict = obo_tools.importOBO(r'../../data/raw/go_data/go.obo')\n",
    "obo_tools.buildGOtree(go_dict, root_nodes=['GO:0008150', 'GO:0005575', 'GO:0003674'])\n",
    "protein_set = set(df_herpes.xref_A.append(df_herpes.xref_B, ignore_index=True).str.extract('^.*:(\\w*)-?',expand=False).unique())\n",
    "gaf_dict = gaf_parser.importGAF(r'../../data/raw/go_data/gene_association_hosts_10292.goa', protein_set)\n",
    "label_go.annotate_GO(df_herpes, gaf_dict)"
   ]
  },
  {
   "cell_type": "markdown",
   "metadata": {
    "hideCode": false,
    "hidePrompt": false
   },
   "source": [
    "114 proteins lacked any GO terms, the majority of which were viral (84), which was to be expected."
   ]
  },
  {
   "cell_type": "code",
   "execution_count": null,
   "metadata": {
    "hideCode": false,
    "hidePrompt": false
   },
   "outputs": [],
   "source": [
    "not_annotated = [i for i in protein_set if i not in gaf_dict]\n",
    "print(len(not_annotated), 'proteins lacked GO terms.')\n",
    "a_multiset = collections.Counter(not_annotated)\n",
    "b_multiset = collections.Counter(viral_protein_set)\n",
    "overlap = list((a_multiset & b_multiset).elements())\n",
    "print(len(overlap), 'proteins were of viral origin.')"
   ]
  },
  {
   "cell_type": "markdown",
   "metadata": {
    "hideCode": false,
    "hidePrompt": false
   },
   "source": [
    "To reduce redundancy, all GO terms were remapped upwards to a specific depth. I.e. terms were made less specific to reduce the amount of unique terms. This *lower resolution* makes sense in this context because our ultimate goal was to find general similarities between various PPIs. If extremely specific labels were considered, very few frequently co-occurring terms would be found during the item set mining step of this analysis.\n",
    "\n",
    "The following depths were selected, while excluding a number of terms that were deemed *too general*. We understand that this selection of terms seems arbitrary, but unfortunately the nature of the GO hierarchy does not lend itself to strict cut-offs. Indeed, the semantic content of a term with a depth of 4 in one branch, might be much higher than a term with depth 6 in another branch. Moreover, terms can have different depths depending on which branch is considered.\n",
    "\n",
    "Note: the minimal depth was always assigned here. The depth of the root node was set to zero.\n",
    "\n",
    "    A more nuanced approach would be to look at the information content of nodes to decide whether or not they should be included or excluded. See Alterovitz et al. (2007) and Mazandu & Mulder (2014) for more information. "
   ]
  },
  {
   "cell_type": "code",
   "execution_count": null,
   "metadata": {
    "hideCode": false,
    "hidePrompt": false
   },
   "outputs": [],
   "source": [
    "%%capture\n",
    "test_set_not = []\n",
    "test_set_in = []\n",
    "depth = {'biological_process': 2, 'molecular_function': 1, 'cellular_component': 1}\n",
    "exclusion = {'GO:0005623': 'cell', 'GO:0005488': 'binding', 'GO:0043226': 'organelle',\n",
    "                 'GO:0044422': 'organelle part', 'GO:0044464': 'cell part', 'GO:0033643': 'host cell part',\n",
    "                 'GO:0033646': 'host intracellular part', 'GO:0043656': 'intracellular region of host',\n",
    "                 'GO:0043657': 'host cell', 'GO:0018995': 'host', 'GO:0044424': 'intracellular part',\n",
    "                 'GO:0016032': 'viral process', 'GO:0019058': 'viral life cycle',\n",
    "                 'GO:0044215': 'other organism',\n",
    "                 'GO:0050789': 'regulation of biological process', 'GO:0005515': 'protein binding',\n",
    "                 'GO:0009987': 'cellular process',\n",
    "                 'GO:0052173': 'response to defenses of other organism involved in symbiotic interaction'}\n",
    "label_go.remap_GO_depth(df_herpes, depth, go_dict, test_set_not, test_set_in, list(exclusion))\n",
    "label_host_pathogen(df_herpes, herpes_taxids, columns=['xref_A_GO', 'xref_B_GO'],taxid_columns=['taxid_A', 'taxid_B'])"
   ]
  },
  {
   "cell_type": "markdown",
   "metadata": {
    "hideCode": false,
    "hidePrompt": false
   },
   "source": [
    "### InterPro"
   ]
  },
  {
   "cell_type": "markdown",
   "metadata": {
    "hideCode": false,
    "hidePrompt": false
   },
   "source": [
    "In addition to the GO labels, InterPro functional information was appended to the data. This includes: `homologous superfamilies`, `families`, `domains`, `repeats` and `sites`."
   ]
  },
  {
   "cell_type": "code",
   "execution_count": null,
   "metadata": {
    "hideCode": false,
    "hidePrompt": false
   },
   "outputs": [],
   "source": [
    "unique_ac = set(pd.unique(df_herpes['xref_B'].str.extract('^.*:(\\w*)-?', expand=False).append(df_herpes['xref_A'].str.extract('^.*:(\\w*)-?', expand=False), ignore_index=True)))\n",
    "uniprot2interpro = label_interpro.create_uniprot2interpro_dict(unique_ac, filepath=r'../../data/interim/interpro_data/protein2ipr_filtered.txt')\n",
    "label_interpro.annotate_interpro(df_herpes, uniprot2interpro)\n",
    "label_host_pathogen(df_herpes, herpes_taxids, columns=['interpro_A', 'interpro_B'], taxid_columns=['taxid_A', 'taxid_B'])"
   ]
  },
  {
   "cell_type": "markdown",
   "metadata": {
    "hideCode": false,
    "hidePrompt": false
   },
   "source": [
    "## Examining the resulting data\n",
    "\n",
    "The final data set had the following format. It is a transaction-like format commonly used for frequent item set mining. Each _transaction_ (protein-protein interaction) consists of several _items_ (GO and InterPro terms). Note that a prefix-marker indicates to which partner in the interaction the annotation label is referring to."
   ]
  },
  {
   "cell_type": "code",
   "execution_count": null,
   "metadata": {
    "hideCode": false,
    "hidePrompt": false,
    "scrolled": true
   },
   "outputs": [],
   "source": [
    "df_herpes[['xref_A', 'xref_B', 'pathogen_groups', 'xref_A_GO', 'xref_B_GO', 'interpro_A', 'interpro_B']].head(6)"
   ]
  },
  {
   "cell_type": "markdown",
   "metadata": {
    "hideCode": false,
    "hidePrompt": false
   },
   "source": [
    "We can visualise the average annotation level across the different viral groups by counting the number of distinct GO and InterPro terms per PPI and averaging them. It is immediately obvious that the host proteins are described more thoroughly than the viral ones. The GO information is also more extensive than InterPro."
   ]
  },
  {
   "cell_type": "code",
   "execution_count": null,
   "metadata": {
    "hideCode": false,
    "hidePrompt": false,
    "scrolled": false
   },
   "outputs": [],
   "source": [
    "def get_annotation_size(df, column):\n",
    "    size = df[column].str.split(',')\n",
    "    size[size.notna()] = size[size.notna()].apply(lambda x: len(x))\n",
    "    size = size.fillna(0)\n",
    "    return size\n",
    "\n",
    "df_herpes['xref_A_GO_size'] = get_annotation_size(df_herpes, 'xref_A_GO')\n",
    "df_herpes['xref_B_GO_size'] = get_annotation_size(df_herpes, 'xref_B_GO')\n",
    "df_herpes['interpro_A_size'] = get_annotation_size(df_herpes, 'interpro_A')\n",
    "df_herpes['interpro_B_size'] = get_annotation_size(df_herpes, 'interpro_B')\n",
    "df_herpes['total_label_size'] = df_herpes['xref_A_GO_size'] + df_herpes['xref_B_GO_size'] + df_herpes['interpro_A_size'] + df_herpes['interpro_B_size']\n",
    "\n",
    "df_size = df_herpes[['xref_A_GO_size', 'xref_B_GO_size', 'interpro_A_size', 'interpro_B_size']]\n",
    "df_size.columns=['Host GO', 'Virus GO', 'Host InterPro', 'Virus InterPro']\n",
    "df_size.mean().plot(kind='barh',color=('#ee953f'))\n",
    "plt.tight_layout()\n",
    "plt.title('Average number of GO and InterPro annotations for human and viral proteins.')\n",
    "plt.xlabel('Number of annotations')\n",
    "plt.savefig('../../data/processed/img/annotation-diversity1.pdf', facecolor='#fafafa', edgecolor='none', bbox_inches='tight')\n",
    "\n",
    "plt.show()\n",
    "\n",
    "df_herpes.groupby('pathogen_groups')['total_label_size'].mean().plot(kind='barh',width=0.5,figsize=(10, 5),color=('#ee953f'))\n",
    "plt.tight_layout()\n",
    "plt.title('Average number of combined annotations for all PPIs across viral groups.')\n",
    "plt.xlabel('Number of annotations')\n",
    "plt.ylabel('')\n",
    "plt.savefig('../../data/processed/img/annotation-diversity2.pdf', facecolor='#fafafa', edgecolor='none', bbox_inches='tight')\n",
    "plt.show()"
   ]
  },
  {
   "cell_type": "markdown",
   "metadata": {},
   "source": [
    "There are a total of 4704 unique values using this remapping."
   ]
  },
  {
   "cell_type": "code",
   "execution_count": null,
   "metadata": {},
   "outputs": [],
   "source": [
    "pd.unique(df_herpes[['xref_A_GO', 'xref_B_GO', 'interpro_A', 'interpro_B']].values.ravel()).shape"
   ]
  },
  {
   "cell_type": "markdown",
   "metadata": {
    "hideCode": false,
    "hidePrompt": false
   },
   "source": [
    "## Some caveats...\n",
    "\n",
    "- **Redundancy**: GO annotation is often based on InterPro data (https://www.ebi.ac.uk/interpro/about.html).\n",
    "- **Data imbalance**: both in distribution of hosts and viruses.\n",
    "- **Breadth of inference**: only binary interactions are considered, i.e. the bigger scope, such as complexes or pathways/chains of interactors, is ignored.\n",
    "- **Primary data accuracy**: PPIs are notorious for false positives. Many different experimental methods are combined. Some databases split information about protein complexes into inferred binary associations while this might not be the case. Etc.\n",
    "- The **remapping of GO terms** might be a bit crude:\n",
    "    - Semi-arbitrary exclusion list.\n",
    "    - Different approaches for remapping: map everything to same depth, but keep lower depth if already there. Map everything to same depth AND lower depth? Will lead to enrichment of lower terms...\n",
    "    - Aren't retrieved GO terms redundant already in some cases?\n",
    "    - Only _is a_ relations were considered, but _part of_ might be better. This would complicate the mapping across namespaces though.\n",
    "\n",
    "## Potential improvements in data filtering and validation\n",
    "\n",
    "A number of PSI-MI controlled vocabulary terms could be used for more stringent data filtering, however, not all of these are available for the PHISTO dataset (although this might not be a large problem due to how much it overlaps with the other datasets).\n",
    "\n",
    "- Interaction confidence score (https://www.ebi.ac.uk/ols/ontologies/MI/terms?obo_id=MI:1064)\n",
    "- Interaction detection method (https://www.ebi.ac.uk/ols/ontologies/MI/terms?obo_id=MI:0001)\n",
    "- Interaction type (https://www.ebi.ac.uk/ols/ontologies/MI/terms?obo_id=MI:0190)\n",
    "\n",
    "See also: \n",
    "- https://www.ncbi.nlm.nih.gov/pmc/articles/PMC4316181/\n",
    "- https://www.ncbi.nlm.nih.gov/pmc/articles/PMC3394291/"
   ]
  },
  {
   "cell_type": "markdown",
   "metadata": {
    "hideCode": false,
    "hidePrompt": false
   },
   "source": [
    "# Frequent item set mining"
   ]
  },
  {
   "cell_type": "markdown",
   "metadata": {
    "hideCode": false,
    "hidePrompt": false
   },
   "source": [
    "After collecting and preparing the data, a frequent item set mining algorithm was employed to generate association rules. The most important topic to highlight here, is the fact that only association rules with *uniform* antecedents and consequents. By this we mean that the set of items on either side of the rule must be completely made up of one type of label, either host or viral. E.g. rules were of the type `viral, viral -> host, host, host` or `host -> viral`.\n",
    "\n",
    "**Whether this is the best choice is hard to prove**, although by restricting the rules to this subset, the biological meaning becomes easier to grasp. Indeed, these rules will describe patterns intrinsically part of the interplay between the hosts and pathogens."
   ]
  },
  {
   "cell_type": "markdown",
   "metadata": {
    "hideCode": false,
    "hidePrompt": false
   },
   "source": [
    "**TODO: Add some information about the algorithm here...likely apriori?**"
   ]
  },
  {
   "cell_type": "markdown",
   "metadata": {},
   "source": [
    "The other mining parameters were as follows:\n",
    "\n",
    "- minimum support: 1%\n",
    "- minimum confidence: 70%\n",
    "- maximum transaction size: 3\n",
    "\n",
    "Due to memory limitations, the item set mining had to be restricted to items of size 3. Increasing this to 4 took over 12 hours on the HPC facility and the job was terminated. Another run with a minimum item set size of 5 required more than the 60 GB that was available."
   ]
  },
  {
   "cell_type": "markdown",
   "metadata": {},
   "source": [
    "For each rule, the *confidence* and *lift* measures were calculated:\n",
    "\n",
    "$\\mathrm{conf}(X \\Rightarrow Y) = \\frac{\\mathrm{supp}(X \\cup Y)}{\\mathrm{supp}(X)}$ \n",
    "\n",
    "$ \\mathrm{lift}(X\\Rightarrow Y) = \\frac{ \\mathrm{supp}(X \\cup Y)}{ \\mathrm{supp}(X) \\times \\mathrm{supp}(Y) } $ "
   ]
  },
  {
   "cell_type": "markdown",
   "metadata": {},
   "source": [
    "## Creation of pairwise sub-rules\n",
    "\n",
    "All the generated association rules were condensed into their constituting *pairwise sub-rules*. \n",
    "\n",
    "For example, a rule such as \n",
    "\n",
    "`v@GO0033644,v@GO0033655>h@GO0043227;0.7925608011444921;0.6410228315611889`\n",
    "\n",
    "was split into the pairwise rules \n",
    "\n",
    "`v@GO0033644>h@GO0043227` and `v@GO0033655>h@GO0043227`.\n",
    "\n",
    "During this process the mean and maximum confidence and lift were stored for each sub-rule."
   ]
  },
  {
   "cell_type": "markdown",
   "metadata": {},
   "source": [
    "## Visualisation of association rules\n",
    "\n",
    "The following network summarises all pairwise sub-rules, after removal of uninformative generic terms. These rules represent frequent (support > 3%) patterns in the properties of PPIs between *Herpesviridae* and their hosts. For a larger figure, [click here](https://raw.githubusercontent.com/pmoris/host-pathogen-ppi-fim/restructure/poster/graph_rules_600dpi_5.png)."
   ]
  },
  {
   "cell_type": "code",
   "execution_count": null,
   "metadata": {
    "hideCode": false,
    "hidePrompt": false,
    "scrolled": true
   },
   "outputs": [],
   "source": [
    "display(Image(filename=\"../../poster/graph_rules_600dpi_5.png\", width=900, height=1500, unconfined=True))"
   ]
  },
  {
   "cell_type": "markdown",
   "metadata": {
    "hideCode": false,
    "hidePrompt": false
   },
   "source": [
    "# Some more caveats\n",
    "\n",
    "- The association rule mining only considered rules going from a pure viral/host item set to another one. Perhaps allowing mixed item sets as well.\n",
    "- Parameter tweaks for confidence, maximum item set size and frequency might improve/change the results.\n",
    "- **Reducing the association rules back to binary interactions seems a bit counter-productive!**\n",
    "    - Moreover, the manner in which this is done might be hard to justify. I.e. we associate the maximum confidence found among a sub-set of rules, with the derived binary rule.\n",
    "- Removal of uninformative pairwise-sub rules is a bit arbitrary. "
   ]
  },
  {
   "cell_type": "markdown",
   "metadata": {
    "hideCode": true
   },
   "source": [
    "# Some more unexplored options\n",
    "\n",
    "- Tweaking support / confidence thresholds\n",
    "- Repeat for distinct groups e.g. Epstein-Barr, HSV-1, HGV8\n",
    "- Also do GO enrichment (comparable to [Durmuş & Ülgen 2017](http://onlinelibrary.wiley.com/doi/10.1002/2211-5463.12167))\n",
    "- Subgraph mining\n"
   ]
  },
  {
   "cell_type": "markdown",
   "metadata": {
    "collapsed": true,
    "hideCode": false,
    "hidePrompt": false
   },
   "source": [
    "# References\n",
    "- Ammari, Mais G., Cathy R. Gresham, Fiona M. McCarthy, and Bindu Nanduri. 2016. \"HPIDB 2.0: A Curated Database For Host–Pathogen Interactions\". Database 2016: baw103. doi:10.1093/database/baw103.\n",
    "- Guirimand, T., S. Delmotte, and V. Navratil. 2014. \"Virhostnet 2.0: Surfing On The Web Of Virus/Host Molecular Interactions Data\". Nucleic Acids Research 43 (D1): D583-D587. doi:10.1093/nar/gku1121.\n",
    "- Durmuş Tekir, Saliha, Tunahan Çakır, Emre Ardıç, Ali Semih Sayılırbaş, Gökhan Konuk, Mithat Konuk, and Hasret Sarıyer et al. 2013. \"PHISTO: Pathogen–Host Interaction Search Tool\". Bioinformatics 29 (10): 1357-1358. doi:10.1093/bioinformatics/btt137.\n",
    "- Smith, Barry, Michael Ashburner, Cornelius Rosse, Jonathan Bard, William Bug, Werner Ceusters, and Louis J Goldberg et al. 2007. \"The OBO Foundry: Coordinated Evolution Of Ontologies To Support Biomedical Data Integration\". Nature Biotechnology 25 (11): 1251-1255. doi:10.1038/nbt1346.\n",
    "- Alterovitz, Gil, Michael Xiang, Mamta Mohan, and Marco F. Ramoni. 2006. \"GO Pad: The Gene Ontology Partition Database\". Nucleic Acids Research 35 (suppl_1): D322-D327. doi:10.1093/nar/gkl799.\n",
    "- Mazandu, Gaston K., and Nicola J. Mulder. 2014. \"Information Content-Based Gene Ontology Functional Similarity Measures: Which One To Use For A Given Biological Data Type?\". Plos ONE 9 (12): e113859. doi:10.1371/journal.pone.0113859."
   ]
  },
  {
   "cell_type": "code",
   "execution_count": null,
   "metadata": {},
   "outputs": [],
   "source": []
  },
  {
   "cell_type": "code",
   "execution_count": null,
   "metadata": {},
   "outputs": [],
   "source": []
  },
  {
   "cell_type": "code",
   "execution_count": null,
   "metadata": {},
   "outputs": [],
   "source": []
  },
  {
   "cell_type": "code",
   "execution_count": null,
   "metadata": {},
   "outputs": [],
   "source": [
    "import requests, sys, json\n",
    "\n",
    "requestURL = \"https://www.ebi.ac.uk/proteins/api/proteins?offset=0&size=100&reviewed=true&taxid=10298%2C946522%2C10299%2C10300%2C10301%2C10302%2C37106%2C10304%2C744249%2C10303%2C10305%2C10306%2C37107%2C10307%2C10308%2C36345%2C36346%2C10309\"\n",
    "r = requests.get(requestURL, headers={ \"Accept\" : \"application/json\"})\n",
    "\n",
    "if not r.ok:\n",
    "  r.raise_for_status()\n",
    "  sys.exit()\n",
    "\n",
    "responseBody = r.text\n",
    "j = json.loads(responseBody)"
   ]
  },
  {
   "cell_type": "code",
   "execution_count": null,
   "metadata": {},
   "outputs": [],
   "source": [
    "len(j)"
   ]
  },
  {
   "cell_type": "code",
   "execution_count": null,
   "metadata": {},
   "outputs": [],
   "source": [
    "j[0].keys()"
   ]
  },
  {
   "cell_type": "code",
   "execution_count": null,
   "metadata": {},
   "outputs": [],
   "source": []
  }
 ],
 "metadata": {
  "celltoolbar": "Hide code",
  "hide_code_all_hidden": false,
  "kernelspec": {
   "display_name": "Python [default]",
   "language": "python",
   "name": "python3"
  },
  "language_info": {
   "codemirror_mode": {
    "name": "ipython",
    "version": 3
   },
   "file_extension": ".py",
   "mimetype": "text/x-python",
   "name": "python",
   "nbconvert_exporter": "python",
   "pygments_lexer": "ipython3",
   "version": "3.6.5"
  },
  "toc": {
   "nav_menu": {
    "height": "261px",
    "width": "410px"
   },
   "number_sections": true,
   "sideBar": true,
   "skip_h1_title": false,
   "toc_cell": true,
   "toc_position": {
    "height": "843px",
    "left": "0px",
    "right": "1475px",
    "top": "111px",
    "width": "273px"
   },
   "toc_section_display": "block",
   "toc_window_display": true
  }
 },
 "nbformat": 4,
 "nbformat_minor": 2
}
